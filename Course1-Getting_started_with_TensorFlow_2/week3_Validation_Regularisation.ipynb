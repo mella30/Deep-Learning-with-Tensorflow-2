{
  "nbformat": 4,
  "nbformat_minor": 0,
  "metadata": {
    "kernelspec": {
      "display_name": "Python 3",
      "language": "python",
      "name": "python3"
    },
    "language_info": {
      "codemirror_mode": {
        "name": "ipython",
        "version": 3
      },
      "file_extension": ".py",
      "mimetype": "text/x-python",
      "name": "python",
      "nbconvert_exporter": "python",
      "pygments_lexer": "ipython3",
      "version": "3.7.1"
    },
    "colab": {
      "name": "Kopie von Coding Tutorial.ipynb",
      "provenance": [],
      "collapsed_sections": [],
      "include_colab_link": true
    }
  },
  "cells": [
    {
      "cell_type": "markdown",
      "metadata": {
        "id": "view-in-github",
        "colab_type": "text"
      },
      "source": [
        "<a href=\"https://colab.research.google.com/github/mella30/Deep-Learning-with-Tensorflow-2/blob/main/Course1-Getting_started_with_TensorFlow_2/week3_Validation_Regularisation.ipynb\" target=\"_parent\"><img src=\"https://colab.research.google.com/assets/colab-badge.svg\" alt=\"Open In Colab\"/></a>"
      ]
    },
    {
      "cell_type": "code",
      "metadata": {
        "scrolled": true,
        "id": "qgr4bh7zNBXW",
        "colab": {
          "base_uri": "https://localhost:8080/"
        },
        "outputId": "b60c334b-e9ef-4b56-e528-c5ace04b10e8"
      },
      "source": [
        "import tensorflow as tf\n",
        "print(tf.__version__)"
      ],
      "execution_count": null,
      "outputs": [
        {
          "output_type": "stream",
          "text": [
            "2.5.0\n"
          ],
          "name": "stdout"
        }
      ]
    },
    {
      "cell_type": "markdown",
      "metadata": {
        "id": "z0uRo1aoNBXZ"
      },
      "source": [
        "# Validation, regularisation and callbacks"
      ]
    },
    {
      "cell_type": "markdown",
      "metadata": {
        "id": "2b5dkHDtNBXa"
      },
      "source": [
        " ## Coding tutorials\n",
        " #### [1. Validation sets](#coding_tutorial_1)\n",
        " #### [2. Model regularisation](#coding_tutorial_2)\n",
        " #### [3. Introduction to callbacks](#coding_tutorial_3)\n",
        " #### [4. Early stopping / patience](#coding_tutorial_4)"
      ]
    },
    {
      "cell_type": "markdown",
      "metadata": {
        "id": "Zyfvu-LXNBXb"
      },
      "source": [
        "***\n",
        "<a id=\"coding_tutorial_1\"></a>\n",
        "## Validation sets"
      ]
    },
    {
      "cell_type": "markdown",
      "metadata": {
        "id": "BBOaFryFNBXb"
      },
      "source": [
        "#### Load the data"
      ]
    },
    {
      "cell_type": "code",
      "metadata": {
        "id": "AvLcCuNINBXc",
        "colab": {
          "base_uri": "https://localhost:8080/"
        },
        "outputId": "b0d16e85-1066-427d-a7e1-b0eb6f7d3ab4"
      },
      "source": [
        "# Load the diabetes dataset\n",
        "\n",
        "from sklearn.datasets import load_diabetes\n",
        "\n",
        "diabetes_dataset = load_diabetes()\n",
        "print(diabetes_dataset['DESCR'])"
      ],
      "execution_count": 115,
      "outputs": [
        {
          "output_type": "stream",
          "text": [
            ".. _diabetes_dataset:\n",
            "\n",
            "Diabetes dataset\n",
            "----------------\n",
            "\n",
            "Ten baseline variables, age, sex, body mass index, average blood\n",
            "pressure, and six blood serum measurements were obtained for each of n =\n",
            "442 diabetes patients, as well as the response of interest, a\n",
            "quantitative measure of disease progression one year after baseline.\n",
            "\n",
            "**Data Set Characteristics:**\n",
            "\n",
            "  :Number of Instances: 442\n",
            "\n",
            "  :Number of Attributes: First 10 columns are numeric predictive values\n",
            "\n",
            "  :Target: Column 11 is a quantitative measure of disease progression one year after baseline\n",
            "\n",
            "  :Attribute Information:\n",
            "      - Age\n",
            "      - Sex\n",
            "      - Body mass index\n",
            "      - Average blood pressure\n",
            "      - S1\n",
            "      - S2\n",
            "      - S3\n",
            "      - S4\n",
            "      - S5\n",
            "      - S6\n",
            "\n",
            "Note: Each of these 10 feature variables have been mean centered and scaled by the standard deviation times `n_samples` (i.e. the sum of squares of each column totals 1).\n",
            "\n",
            "Source URL:\n",
            "https://www4.stat.ncsu.edu/~boos/var.select/diabetes.html\n",
            "\n",
            "For more information see:\n",
            "Bradley Efron, Trevor Hastie, Iain Johnstone and Robert Tibshirani (2004) \"Least Angle Regression,\" Annals of Statistics (with discussion), 407-499.\n",
            "(https://web.stanford.edu/~hastie/Papers/LARS/LeastAngle_2002.pdf)\n"
          ],
          "name": "stdout"
        }
      ]
    },
    {
      "cell_type": "code",
      "metadata": {
        "id": "zk67jz9VNBXd",
        "colab": {
          "base_uri": "https://localhost:8080/"
        },
        "outputId": "89407c24-c386-43ab-c71d-5e62b63199db"
      },
      "source": [
        "# Save the input and target variables\n",
        "\n",
        "print(diabetes_dataset.keys())\n",
        "\n",
        "data = diabetes_dataset[\"data\"]\n",
        "targets = diabetes_dataset[\"target\"]"
      ],
      "execution_count": 116,
      "outputs": [
        {
          "output_type": "stream",
          "text": [
            "dict_keys(['data', 'target', 'DESCR', 'feature_names', 'data_filename', 'target_filename'])\n"
          ],
          "name": "stdout"
        }
      ]
    },
    {
      "cell_type": "code",
      "metadata": {
        "id": "pIb4AA9gNBXd"
      },
      "source": [
        "# Normalise the target data (this will make clearer training curves)\n",
        "\n",
        "targets = (targets - targets.mean(axis=0)) / targets.std()"
      ],
      "execution_count": 117,
      "outputs": []
    },
    {
      "cell_type": "code",
      "metadata": {
        "id": "N-4FwDUZNBXe",
        "colab": {
          "base_uri": "https://localhost:8080/"
        },
        "outputId": "64c16797-0a39-4706-880e-c6e64891c3ae"
      },
      "source": [
        "# Split the data into train and test sets\n",
        "\n",
        "from sklearn.model_selection import train_test_split\n",
        "\n",
        "train_data, test_data, train_targets, test_targets = train_test_split(data, targets, test_size=0.1)\n",
        "print(train_data.shape)\n",
        "print(test_data.shape)\n",
        "print(train_targets.shape)\n",
        "print(test_targets.shape)"
      ],
      "execution_count": 118,
      "outputs": [
        {
          "output_type": "stream",
          "text": [
            "(397, 10)\n",
            "(45, 10)\n",
            "(397,)\n",
            "(45,)\n"
          ],
          "name": "stdout"
        }
      ]
    },
    {
      "cell_type": "markdown",
      "metadata": {
        "id": "RoIyJUqSNBXe"
      },
      "source": [
        "#### Train a feedforward neural network model"
      ]
    },
    {
      "cell_type": "code",
      "metadata": {
        "id": "Ucb-jWuaNBXf"
      },
      "source": [
        "# Build the model\n",
        "\n",
        "from tensorflow.keras.models import Sequential\n",
        "from tensorflow.keras.layers import Dense\n",
        "\n",
        "def get_model():\n",
        "  model = Sequential([\n",
        "                      Dense(128, activation='relu', input_shape=(train_data.shape[1],)),\n",
        "                      Dense(128, activation='relu'),\n",
        "                      Dense(128, activation='relu'),\n",
        "                      Dense(128, activation='relu'),\n",
        "                      Dense(128, activation='relu'),\n",
        "                      Dense(128, activation='relu'),\n",
        "                      Dense(1)\n",
        "  ])\n",
        "  return model\n",
        "\n",
        "model = get_model()"
      ],
      "execution_count": 119,
      "outputs": []
    },
    {
      "cell_type": "code",
      "metadata": {
        "id": "KeFNclhJNBXg",
        "colab": {
          "base_uri": "https://localhost:8080/"
        },
        "outputId": "fcea2d69-380d-40aa-8c89-ceae6add887a"
      },
      "source": [
        "# Print the model summary\n",
        "\n",
        "model.summary()"
      ],
      "execution_count": 120,
      "outputs": [
        {
          "output_type": "stream",
          "text": [
            "Model: \"sequential_14\"\n",
            "_________________________________________________________________\n",
            "Layer (type)                 Output Shape              Param #   \n",
            "=================================================================\n",
            "dense_98 (Dense)             (None, 128)               1408      \n",
            "_________________________________________________________________\n",
            "dense_99 (Dense)             (None, 128)               16512     \n",
            "_________________________________________________________________\n",
            "dense_100 (Dense)            (None, 128)               16512     \n",
            "_________________________________________________________________\n",
            "dense_101 (Dense)            (None, 128)               16512     \n",
            "_________________________________________________________________\n",
            "dense_102 (Dense)            (None, 128)               16512     \n",
            "_________________________________________________________________\n",
            "dense_103 (Dense)            (None, 128)               16512     \n",
            "_________________________________________________________________\n",
            "dense_104 (Dense)            (None, 1)                 129       \n",
            "=================================================================\n",
            "Total params: 84,097\n",
            "Trainable params: 84,097\n",
            "Non-trainable params: 0\n",
            "_________________________________________________________________\n"
          ],
          "name": "stdout"
        }
      ]
    },
    {
      "cell_type": "code",
      "metadata": {
        "id": "e4SM8K_KNBXh"
      },
      "source": [
        "# Compile the model\n",
        "\n",
        "model.compile(\n",
        "    optimizer='adam',\n",
        "    loss='mse',\n",
        "    metrics=['mae']\n",
        ")"
      ],
      "execution_count": 121,
      "outputs": []
    },
    {
      "cell_type": "code",
      "metadata": {
        "id": "aRbrkFScNBXi"
      },
      "source": [
        "# Train the model, with some of the data reserved for validation\n",
        "\n",
        "history = model.fit(train_data, train_targets, epochs=100, validation_split=0.15, batch_size=64, verbose=False)"
      ],
      "execution_count": 122,
      "outputs": []
    },
    {
      "cell_type": "code",
      "metadata": {
        "id": "oAIngPn1NBXi",
        "colab": {
          "base_uri": "https://localhost:8080/"
        },
        "outputId": "12645e7e-8207-4f46-b3e8-ee35e1198537"
      },
      "source": [
        "# Evaluate the model on the test set\n",
        "\n",
        "model.evaluate(test_data, test_targets)"
      ],
      "execution_count": 123,
      "outputs": [
        {
          "output_type": "stream",
          "text": [
            "2/2 [==============================] - 0s 5ms/step - loss: 0.9938 - mae: 0.7509\n"
          ],
          "name": "stdout"
        },
        {
          "output_type": "execute_result",
          "data": {
            "text/plain": [
              "[0.9938017725944519, 0.7509468793869019]"
            ]
          },
          "metadata": {
            "tags": []
          },
          "execution_count": 123
        }
      ]
    },
    {
      "cell_type": "markdown",
      "metadata": {
        "id": "zjziu-4SNBXj"
      },
      "source": [
        "#### Plot the learning curves"
      ]
    },
    {
      "cell_type": "code",
      "metadata": {
        "id": "VaSxxFZINBXj"
      },
      "source": [
        "import matplotlib.pyplot as plt\n",
        "%matplotlib inline"
      ],
      "execution_count": null,
      "outputs": []
    },
    {
      "cell_type": "code",
      "metadata": {
        "colab": {
          "base_uri": "https://localhost:8080/",
          "height": 295
        },
        "id": "DT5ojhxl3iIS",
        "outputId": "f90db357-44e5-4366-c3e4-8f47dca5ff34"
      },
      "source": [
        "# Plot the training and validation loss\n",
        "\n",
        "plt.plot(history.history['loss'])\n",
        "plt.plot(history.history['val_loss'])\n",
        "plt.title('Loss vs. epochs')\n",
        "plt.ylabel('Loss')\n",
        "plt.xlabel('Epoch')\n",
        "plt.legend(['Training', 'Validation'], loc='upper right')\n",
        "plt.show()"
      ],
      "execution_count": 124,
      "outputs": [
        {
          "output_type": "display_data",
          "data": {
            "image/png": "[encoded data removed]",
            "text/plain": [
              "<Figure size 432x288 with 1 Axes>"
            ]
          },
          "metadata": {
            "tags": [],
            "needs_background": "light"
          }
        }
      ]
    },
    {
      "cell_type": "markdown",
      "metadata": {
        "id": "fnyISVVWNBXk"
      },
      "source": [
        "***\n",
        "<a id=\"coding_tutorial_2\"></a>\n",
        "## Model regularisation"
      ]
    },
    {
      "cell_type": "markdown",
      "metadata": {
        "id": "iGoMS_oPNBXk"
      },
      "source": [
        "#### Adding regularisation with weight decay and dropout"
      ]
    },
    {
      "cell_type": "code",
      "metadata": {
        "id": "tOAK005tNBXk"
      },
      "source": [
        "from tensorflow.keras.layers import Dropout\n",
        "from tensorflow.keras import regularizers"
      ],
      "execution_count": null,
      "outputs": []
    },
    {
      "cell_type": "code",
      "metadata": {
        "id": "4slOXJbdNBXk"
      },
      "source": [
        "def get_regularised_model(wd, rate):\n",
        "    model = Sequential([\n",
        "        Dense(128, kernel_regularizer=regularizers.l2(wd), activation=\"relu\", input_shape=(train_data.shape[1],)),\n",
        "        Dropout(rate),\n",
        "        Dense(128, kernel_regularizer=regularizers.l2(wd), activation=\"relu\"),\n",
        "        Dropout(rate),\n",
        "        Dense(128, kernel_regularizer=regularizers.l2(wd), activation=\"relu\"),\n",
        "        Dropout(rate),\n",
        "        Dense(128, kernel_regularizer=regularizers.l2(wd), activation=\"relu\"),\n",
        "        Dropout(rate),\n",
        "        Dense(128, kernel_regularizer=regularizers.l2(wd), activation=\"relu\"),\n",
        "        Dropout(rate),\n",
        "        Dense(128, kernel_regularizer=regularizers.l2(wd), activation=\"relu\"),\n",
        "        Dropout(rate),\n",
        "        Dense(1)\n",
        "    ])\n",
        "    return model"
      ],
      "execution_count": null,
      "outputs": []
    },
    {
      "cell_type": "code",
      "metadata": {
        "id": "RcLFHbReNBXl"
      },
      "source": [
        "# Re-build the model with weight decay and dropout layers\n",
        "\n",
        "model = get_regularised_model(wd=1e-5, rate=0.3)"
      ],
      "execution_count": null,
      "outputs": []
    },
    {
      "cell_type": "code",
      "metadata": {
        "id": "2XrF_6d6NBXl"
      },
      "source": [
        "# Compile the model\n",
        "\n",
        "model.compile(optimizer='adam', loss='mse', metrics=['mae'])"
      ],
      "execution_count": null,
      "outputs": []
    },
    {
      "cell_type": "code",
      "metadata": {
        "id": "ZE-qqEOqNBXl"
      },
      "source": [
        "# Train the model, with some of the data reserved for validation\n",
        "\n",
        "history = model.fit(train_data, train_targets, epochs=100, validation_split=0.15, batch_size=64, verbose=False)"
      ],
      "execution_count": null,
      "outputs": []
    },
    {
      "cell_type": "code",
      "metadata": {
        "id": "Hdv-JifpNBXm",
        "colab": {
          "base_uri": "https://localhost:8080/"
        },
        "outputId": "225f2501-7de4-4022-8b15-003ee56b9c68"
      },
      "source": [
        "# Evaluate the model on the test set\n",
        "\n",
        "model.evaluate(test_data, test_targets)"
      ],
      "execution_count": null,
      "outputs": [
        {
          "output_type": "stream",
          "text": [
            "2/2 [==============================] - 0s 5ms/step - loss: 0.5363 - mae: 0.5745\n"
          ],
          "name": "stdout"
        },
        {
          "output_type": "execute_result",
          "data": {
            "text/plain": [
              "[0.5363113284111023, 0.5744779706001282]"
            ]
          },
          "metadata": {
            "tags": []
          },
          "execution_count": 99
        }
      ]
    },
    {
      "cell_type": "markdown",
      "metadata": {
        "id": "BtHAcp__NBXm"
      },
      "source": [
        "#### Plot the learning curves"
      ]
    },
    {
      "cell_type": "code",
      "metadata": {
        "id": "lBei4OebNBXm",
        "colab": {
          "base_uri": "https://localhost:8080/",
          "height": 295
        },
        "outputId": "768eda18-3446-4c26-dc98-7f23d81642d1"
      },
      "source": [
        "# Plot the training and validation loss\n",
        "\n",
        "import matplotlib.pyplot as plt\n",
        "\n",
        "plt.plot(history.history['loss'])\n",
        "plt.plot(history.history['val_loss'])\n",
        "plt.title('Loss vs. epochs')\n",
        "plt.ylabel('Loss')\n",
        "plt.xlabel('Epoch')\n",
        "plt.legend(['Training', 'Validation'], loc='upper right')\n",
        "plt.show()"
      ],
      "execution_count": null,
      "outputs": [
        {
          "output_type": "display_data",
          "data": {
            "image/png": "[encoded data removed]",
            "text/plain": [
              "<Figure size 432x288 with 1 Axes>"
            ]
          },
          "metadata": {
            "tags": [],
            "needs_background": "light"
          }
        }
      ]
    },
    {
      "cell_type": "markdown",
      "metadata": {
        "id": "_TeoJRMrNBXn"
      },
      "source": [
        "***\n",
        "<a id=\"coding_tutorial_3\"></a>\n",
        "## Introduction to callbacks"
      ]
    },
    {
      "cell_type": "markdown",
      "metadata": {
        "id": "QxxB19CuNBXn"
      },
      "source": [
        "#### Example training callback"
      ]
    },
    {
      "cell_type": "code",
      "metadata": {
        "id": "QB-URohCNBXn"
      },
      "source": [
        "# Write a custom callback\n",
        "\n",
        "from tensorflow.keras.callbacks import Callback\n",
        "\n",
        "class TrainingCallback(Callback):\n",
        "\n",
        "  def on_train_begin(self, logs=None):\n",
        "    print (\"Starting training...\")\n",
        "\n",
        "  def on_epoch_begin(self, epoch, logs=None):\n",
        "    print(f\"Starting epoch {epoch}\")\n",
        "\n",
        "  def on_train_batch_begin(self, batch, logs=None):\n",
        "    print(f\"Training: Starting batch {batch}\")\n",
        "\n",
        "  def on_train_batch_end(self, batch, logs=None):\n",
        "    print(f\"Training: Finished batch {batch}\")\n",
        "  \n",
        "  def on_epoch_end(self, epoch, logs=None):\n",
        "    print(f\"Finished epoch {epoch}\")\n",
        "\n",
        "  def on_train_end(self, logs=None):\n",
        "    print(\"Finished training!\")\n",
        "\n",
        "class TestingCallback(Callback):\n",
        "  \n",
        "  def on_test_begin(self, logs=None):\n",
        "    print (\"Starting testing...\")\n",
        "\n",
        "  def on_test_batch_begin(self, batch, logs=None):\n",
        "    print(f\"Testing: Starting batch {batch}\")\n",
        "\n",
        "  def on_test_batch_end(self, batch, logs=None):\n",
        "    print(f\"Testing: Finished batch {batch}\")\n",
        "\n",
        "  def on_test_end(self, logs=None):\n",
        "    print(\"Testing training!\")\n",
        "\n",
        "class PredictionCallback(Callback):\n",
        "  \n",
        "  def on_predict_begin(self, logs=None):\n",
        "    print (\"Starting prediction...\")\n",
        "\n",
        "  def on_predict_batch_begin(self, batch, logs=None):\n",
        "    print(f\"Prediction: Starting batch {batch}\")\n",
        "\n",
        "  def on_predict_batch_end(self, batch, logs=None):\n",
        "    print(f\"Prediction: Finished batch {batch}\")\n",
        "\n",
        "  def on_predict_end(self, logs=None):\n",
        "    print(\"Testing prediction!\")"
      ],
      "execution_count": 135,
      "outputs": []
    },
    {
      "cell_type": "code",
      "metadata": {
        "id": "mW0JyeYqNBXn"
      },
      "source": [
        "# Re-build the model\n",
        "\n",
        "model = get_regularised_model(1e-5, 0.3)"
      ],
      "execution_count": 128,
      "outputs": []
    },
    {
      "cell_type": "code",
      "metadata": {
        "id": "6-NOY3nUNBXo"
      },
      "source": [
        "# Compile the model\n",
        "\n",
        "model.compile(optimizer='adam', loss='mse')"
      ],
      "execution_count": 129,
      "outputs": []
    },
    {
      "cell_type": "markdown",
      "metadata": {
        "id": "43mvsT5dNBXp"
      },
      "source": [
        "#### Train the model with the callback"
      ]
    },
    {
      "cell_type": "code",
      "metadata": {
        "id": "2pkH-zNCNBXp",
        "colab": {
          "base_uri": "https://localhost:8080/"
        },
        "outputId": "0dd59072-c32e-48d3-89e8-da7e51994b5f"
      },
      "source": [
        "# Train the model, with some of the data reserved for validation\n",
        "\n",
        "model.fit(train_data, train_targets, epochs=3, batch_size=128, verbose=False, callbacks=[TrainingCallback()])"
      ],
      "execution_count": 133,
      "outputs": [
        {
          "output_type": "stream",
          "text": [
            "Starting training...\n",
            "Starting epoch 0\n",
            "Training: Starting batch 0\n",
            "Training: Finished batch 0\n",
            "Training: Starting batch 1\n",
            "Training: Finished batch 1\n",
            "Training: Starting batch 2\n",
            "Training: Finished batch 2\n",
            "Training: Starting batch 3\n",
            "Training: Finished batch 3\n",
            "Finished epoch 0\n",
            "Starting epoch 1\n",
            "Training: Starting batch 0\n",
            "Training: Finished batch 0\n",
            "Training: Starting batch 1\n",
            "Training: Finished batch 1\n",
            "Training: Starting batch 2\n",
            "Training: Finished batch 2\n",
            "Training: Starting batch 3\n",
            "Training: Finished batch 3\n",
            "Finished epoch 1\n",
            "Starting epoch 2\n",
            "Training: Starting batch 0\n",
            "Training: Finished batch 0\n",
            "Training: Starting batch 1\n",
            "Training: Finished batch 1\n",
            "Training: Starting batch 2\n",
            "Training: Finished batch 2\n",
            "Training: Starting batch 3\n",
            "Training: Finished batch 3\n",
            "Finished epoch 2\n",
            "Finished training!\n"
          ],
          "name": "stdout"
        },
        {
          "output_type": "execute_result",
          "data": {
            "text/plain": [
              "<tensorflow.python.keras.callbacks.History at 0x7f674d44b950>"
            ]
          },
          "metadata": {
            "tags": []
          },
          "execution_count": 133
        }
      ]
    },
    {
      "cell_type": "code",
      "metadata": {
        "id": "E98HWwZhNBXp",
        "colab": {
          "base_uri": "https://localhost:8080/"
        },
        "outputId": "53bd45c1-6c55-4e50-d829-e1c6e0a638f5"
      },
      "source": [
        "# Evaluate the model\n",
        "\n",
        "model.evaluate(test_data, test_targets, verbose=False, callbacks=[TestingCallback()])"
      ],
      "execution_count": 134,
      "outputs": [
        {
          "output_type": "stream",
          "text": [
            "Starting testing...\n",
            "Testing: Starting batch 0\n",
            "Testing: Finished batch 0\n",
            "Testing: Starting batch 1\n",
            "Testing: Finished batch 1\n",
            "Testing training!\n"
          ],
          "name": "stdout"
        },
        {
          "output_type": "execute_result",
          "data": {
            "text/plain": [
              "0.5385255217552185"
            ]
          },
          "metadata": {
            "tags": []
          },
          "execution_count": 134
        }
      ]
    },
    {
      "cell_type": "code",
      "metadata": {
        "id": "6KgO9EXgNBXq",
        "colab": {
          "base_uri": "https://localhost:8080/"
        },
        "outputId": "60d18a1e-b5ad-4613-c83c-9a99957b4fff"
      },
      "source": [
        "# Make predictions with the model\n",
        "\n",
        "model.predict(test_data, verbose=False, callbacks=[PredictionCallback()])"
      ],
      "execution_count": 136,
      "outputs": [
        {
          "output_type": "stream",
          "text": [
            "Starting prediction...\n",
            "Prediction: Starting batch 0\n",
            "Prediction: Finished batch 0\n",
            "Prediction: Starting batch 1\n",
            "Prediction: Finished batch 1\n",
            "Testing prediction!\n"
          ],
          "name": "stdout"
        },
        {
          "output_type": "execute_result",
          "data": {
            "text/plain": [
              "array([[-0.7243193 ],\n",
              "       [ 0.77043706],\n",
              "       [-0.5515081 ],\n",
              "       [ 0.26907623],\n",
              "       [-0.44181693],\n",
              "       [ 1.0084205 ],\n",
              "       [-0.11321896],\n",
              "       [-0.67986465],\n",
              "       [-0.61056906],\n",
              "       [ 0.19714478],\n",
              "       [-0.7241114 ],\n",
              "       [-0.9408017 ],\n",
              "       [ 0.51098055],\n",
              "       [-0.26864368],\n",
              "       [ 0.89457643],\n",
              "       [ 1.2433892 ],\n",
              "       [ 0.89157504],\n",
              "       [ 0.28252766],\n",
              "       [-0.1060192 ],\n",
              "       [-0.5758515 ],\n",
              "       [ 0.34279886],\n",
              "       [-0.72656006],\n",
              "       [-0.24867167],\n",
              "       [-0.52860755],\n",
              "       [-0.8034151 ],\n",
              "       [-0.9382    ],\n",
              "       [-0.8156522 ],\n",
              "       [-0.8607798 ],\n",
              "       [-0.65740913],\n",
              "       [ 0.8519082 ],\n",
              "       [ 0.20383506],\n",
              "       [ 0.9315334 ],\n",
              "       [ 0.57739633],\n",
              "       [ 0.7545868 ],\n",
              "       [-0.64918554],\n",
              "       [ 0.5698307 ],\n",
              "       [-0.705365  ],\n",
              "       [-0.5720597 ],\n",
              "       [ 0.9909786 ],\n",
              "       [ 0.23486455],\n",
              "       [-0.7752699 ],\n",
              "       [-0.768039  ],\n",
              "       [-0.7622524 ],\n",
              "       [-0.4267943 ],\n",
              "       [-0.80206233]], dtype=float32)"
            ]
          },
          "metadata": {
            "tags": []
          },
          "execution_count": 136
        }
      ]
    },
    {
      "cell_type": "markdown",
      "metadata": {
        "id": "fINXOQaWNBXq"
      },
      "source": [
        "***\n",
        "<a id=\"coding_tutorial_4\"></a>\n",
        "## Early stopping / patience"
      ]
    },
    {
      "cell_type": "markdown",
      "metadata": {
        "id": "OJW66iv_NBXq"
      },
      "source": [
        "#### Re-train the models with early stopping"
      ]
    },
    {
      "cell_type": "code",
      "metadata": {
        "id": "kJ4y0m-9NBXq"
      },
      "source": [
        "# Re-train the unregularised model\n",
        "\n",
        "unregularized_model = get_model()\n",
        "unregularized_model.compile(optimizer='adam', loss='mse')\n",
        "unreg_history = unregularized_model.fit(train_data, train_targets, epochs=100,\n",
        "                                        validation_split=0.15, batch_size=64, verbose=False,\n",
        "                                        callbacks=[tf.keras.callbacks.EarlyStopping(patience=2)])"
      ],
      "execution_count": 155,
      "outputs": []
    },
    {
      "cell_type": "code",
      "metadata": {
        "id": "-GruzXmfNBXr",
        "colab": {
          "base_uri": "https://localhost:8080/"
        },
        "outputId": "192ae0fe-f277-4d62-9ded-7d19697741a4"
      },
      "source": [
        "# Evaluate the model on the test set\n",
        "\n",
        "unregularized_model.evaluate(test_data, test_targets, verbose=2)"
      ],
      "execution_count": 156,
      "outputs": [
        {
          "output_type": "stream",
          "text": [
            "2/2 - 0s - loss: 0.4952\n"
          ],
          "name": "stdout"
        },
        {
          "output_type": "execute_result",
          "data": {
            "text/plain": [
              "0.4951954782009125"
            ]
          },
          "metadata": {
            "tags": []
          },
          "execution_count": 156
        }
      ]
    },
    {
      "cell_type": "code",
      "metadata": {
        "id": "aElqLYHpNBXr"
      },
      "source": [
        "# Re-train the regularised model\n",
        "\n",
        "regularized_model = get_regularised_model(1e-5, 0.2)\n",
        "regularized_model.compile(optimizer='adam', loss='mse')\n",
        "reg_history = regularized_model.fit(train_data, train_targets, epochs=100,\n",
        "                                    validation_split=0.15, batch_size=64, verbose=False,\n",
        "                                    callbacks=[tf.keras.callbacks.EarlyStopping(patience=2)])"
      ],
      "execution_count": 157,
      "outputs": []
    },
    {
      "cell_type": "code",
      "metadata": {
        "id": "cVsYrqzINBXr",
        "colab": {
          "base_uri": "https://localhost:8080/"
        },
        "outputId": "e6023834-4514-42d1-fddf-11615c1ecb2f"
      },
      "source": [
        "# Evaluate the model on the test set\n",
        "\n",
        "regularized_model.evaluate(test_data, test_targets, verbose=2)"
      ],
      "execution_count": 158,
      "outputs": [
        {
          "output_type": "stream",
          "text": [
            "2/2 - 0s - loss: 0.6342\n"
          ],
          "name": "stdout"
        },
        {
          "output_type": "execute_result",
          "data": {
            "text/plain": [
              "0.6341540813446045"
            ]
          },
          "metadata": {
            "tags": []
          },
          "execution_count": 158
        }
      ]
    },
    {
      "cell_type": "markdown",
      "metadata": {
        "id": "-91UxKmfNBXs"
      },
      "source": [
        "#### Plot the learning curves"
      ]
    },
    {
      "cell_type": "code",
      "metadata": {
        "id": "aO7iU7YCNBXs",
        "colab": {
          "base_uri": "https://localhost:8080/",
          "height": 350
        },
        "outputId": "5acbda18-69e4-4c48-b926-b89148b1fafa"
      },
      "source": [
        "# Plot the training and validation loss\n",
        "\n",
        "import matplotlib.pyplot as plt\n",
        "\n",
        "fig = plt.figure(figsize=(12, 5))\n",
        "\n",
        "fig.add_subplot(121)\n",
        "\n",
        "plt.plot(unreg_history.history['loss'])\n",
        "plt.plot(unreg_history.history['val_loss'])\n",
        "plt.title('Unregularised model: loss vs. epochs')\n",
        "plt.ylabel('Loss')\n",
        "plt.xlabel('Epoch')\n",
        "plt.legend(['Training', 'Validation'], loc='upper right')\n",
        "\n",
        "fig.add_subplot(122)\n",
        "\n",
        "plt.plot(reg_history.history['loss'])\n",
        "plt.plot(reg_history.history['val_loss'])\n",
        "plt.title('Regularised model: loss vs. epochs')\n",
        "plt.ylabel('Loss')\n",
        "plt.xlabel('Epoch')\n",
        "plt.legend(['Training', 'Validation'], loc='upper right')\n",
        "\n",
        "plt.show()"
      ],
      "execution_count": 159,
      "outputs": [
        {
          "output_type": "display_data",
          "data": {
            "image/png": "[encoded data removed]",
            "text/plain": [
              "<Figure size 864x360 with 2 Axes>"
            ]
          },
          "metadata": {
            "tags": [],
            "needs_background": "light"
          }
        }
      ]
    }
  ]
}