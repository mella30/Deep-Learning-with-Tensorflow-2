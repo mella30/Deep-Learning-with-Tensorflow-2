{
  "nbformat": 4,
  "nbformat_minor": 0,
  "metadata": {
    "coursera": {
      "course_slug": "tensor-flow-2-1",
      "graded_item_id": "JaRY0",
      "launcher_item_id": "mJ8fg"
    },
    "kernelspec": {
      "display_name": "Python 3",
      "language": "python",
      "name": "python3"
    },
    "language_info": {
      "codemirror_mode": {
        "name": "ipython",
        "version": 3
      },
      "file_extension": ".py",
      "mimetype": "text/x-python",
      "name": "python",
      "nbconvert_exporter": "python",
      "pygments_lexer": "ipython3",
      "version": "3.7.1"
    },
    "colab": {
      "name": "Kopie von Week 4 Programming Assignment.ipynb",
      "provenance": [],
      "collapsed_sections": [],
      "include_colab_link": true
    }
  },
  "cells": [
    {
      "cell_type": "markdown",
      "metadata": {
        "id": "view-in-github",
        "colab_type": "text"
      },
      "source": [
        "<a href=\"https://colab.research.google.com/github/mella30/Deep-Learning-with-Tensorflow-2/blob/main/Course1-Getting_started_with_TensorFlow_2/week4_Programming_Assignment.ipynb\" target=\"_parent\"><img src=\"https://colab.research.google.com/assets/colab-badge.svg\" alt=\"Open In Colab\"/></a>"
      ]
    },
    {
      "cell_type": "markdown",
      "metadata": {
        "id": "j-l3gabVzlB-"
      },
      "source": [
        "# Programming Assignment\n",
        "\n",
        "## Saving and loading models, with application to the EuroSat dataset\n",
        "\n",
        "### Instructions\n",
        "\n",
        "In this notebook, you will create a neural network that classifies land uses and land covers from satellite imagery. You will save your model using Tensorflow's callbacks and reload it later. You will also load in a pre-trained neural network classifier and compare performance with it. \n",
        "\n",
        "Some code cells are provided for you in the notebook. You should avoid editing provided code, and make sure to execute the cells in order to avoid unexpected errors. Some cells begin with the line: \n",
        "\n",
        "`#### GRADED CELL ####`\n",
        "\n",
        "Don't move or edit this first line - this is what the automatic grader looks for to recognise graded cells. These cells require you to write your own code to complete them, and are automatically graded when you submit the notebook. Don't edit the function name or signature provided in these cells, otherwise the automatic grader might not function properly. Inside these graded cells, you can use any functions or classes that are imported below, but make sure you don't use any variables that are outside the scope of the function.\n",
        "\n",
        "### How to submit\n",
        "\n",
        "Complete all the tasks you are asked for in the worksheet. When you have finished and are happy with your code, press the **Submit Assignment** button at the top of this notebook.\n",
        "\n",
        "### Let's get started!\n",
        "\n",
        "We'll start running some imports, and loading the dataset. Do not edit the existing imports in the following cell. If you would like to make further Tensorflow imports, you should add them here."
      ]
    },
    {
      "cell_type": "code",
      "metadata": {
        "id": "TtZFzBJTzlCC"
      },
      "source": [
        "#### PACKAGE IMPORTS ####\n",
        "\n",
        "# Run this cell first to import all required packages. Do not make any imports elsewhere in the notebook\n",
        "\n",
        "import tensorflow as tf\n",
        "from tensorflow.keras.preprocessing.image import load_img, img_to_array\n",
        "from tensorflow.keras.models import Sequential, load_model\n",
        "from tensorflow.keras.layers import Dense, Flatten, Conv2D, MaxPooling2D\n",
        "from tensorflow.keras.callbacks import ModelCheckpoint, EarlyStopping\n",
        "import os\n",
        "import numpy as np\n",
        "import pandas as pd\n",
        "\n",
        "# If you would like to make further imports from tensorflow, add them here\n",
        "\n"
      ],
      "execution_count": 1,
      "outputs": []
    },
    {
      "cell_type": "markdown",
      "metadata": {
        "id": "qUYE18LozlCG"
      },
      "source": [
        "#### The EuroSAT dataset\n",
        "\n",
        "In this assignment, you will use the [EuroSAT dataset](https://github.com/phelber/EuroSAT). It consists of 27000 labelled Sentinel-2 satellite images of different land uses: residential, industrial, highway, river, forest, pasture, herbaceous vegetation, annual crop, permanent crop and sea/lake. For a reference, see the following papers:\n",
        "- Eurosat: A novel dataset and deep learning benchmark for land use and land cover classification. Patrick Helber, Benjamin Bischke, Andreas Dengel, Damian Borth. IEEE Journal of Selected Topics in Applied Earth Observations and Remote Sensing, 2019.\n",
        "- Introducing EuroSAT: A Novel Dataset and Deep Learning Benchmark for Land Use and Land Cover Classification. Patrick Helber, Benjamin Bischke, Andreas Dengel. 2018 IEEE International Geoscience and Remote Sensing Symposium, 2018.\n",
        "\n",
        "Your goal is to construct a neural network that classifies a satellite image into one of these 10 classes, as well as applying some of the saving and loading techniques you have learned in the previous sessions."
      ]
    },
    {
      "cell_type": "markdown",
      "metadata": {
        "id": "jgcHEE-HzlCH"
      },
      "source": [
        "#### Import the data\n",
        "\n",
        "The dataset you will train your model on is a subset of the total data, with 4000 training images and 1000 testing images, with roughly equal numbers of each class. \n",
        "The train and test datasets required for this project can be downloaded from the following links:\n",
        "\n",
        "`x_train`: https://drive.google.com/open?id=1cUaIEd9-MLJHFGjLz5QziNvfBtYygplX\n",
        "\n",
        "`y_train`: https://drive.google.com/open?id=1hv24Ufiio9rBeSqgnNoM3dr5sVGwOmBy\n",
        "\n",
        "`x_test`: https://drive.google.com/open?id=1AH9lKHT5P2oQLz8SGMRPWs_M9wIM2ZRH\n",
        "\n",
        "`y_test`: https://drive.google.com/open?id=1i4_azocSDuU3TcDf3OSHO1vF0D5-xMU6\n",
        "\n",
        "You should store these files in Drive for use in this Colab notebook."
      ]
    },
    {
      "cell_type": "code",
      "metadata": {
        "id": "vOR1caL86NHI",
        "colab": {
          "base_uri": "https://localhost:8080/"
        },
        "outputId": "90a2faaa-0c7d-4bdf-cf2c-cd92723c91a7"
      },
      "source": [
        "# Run this cell to connect to your Drive folder\n",
        "\n",
        "from google.colab import drive\n",
        "drive.mount('/content/gdrive')"
      ],
      "execution_count": 2,
      "outputs": [
        {
          "output_type": "stream",
          "text": [
            "Mounted at /content/gdrive\n"
          ],
          "name": "stdout"
        }
      ]
    },
    {
      "cell_type": "code",
      "metadata": {
        "id": "EqQfoHd-zlCI"
      },
      "source": [
        "# Import the Eurosat data from your Drive folder\n",
        "\n",
        "def load_eurosat_data():\n",
        "    x_train = np.load('/content/gdrive/MyDrive/Colab_Notebooks/x_train.npy')\n",
        "    y_train = np.load('/content/gdrive/MyDrive/Colab_Notebooks/y_train.npy')\n",
        "    x_test  = np.load('/content/gdrive/MyDrive/Colab_Notebooks/x_test.npy')\n",
        "    y_test  = np.load('/content/gdrive/MyDrive/Colab_Notebooks/y_test.npy')\n",
        "    return (x_train, y_train), (x_test, y_test)\n",
        "\n",
        "(x_train, y_train), (x_test, y_test) = load_eurosat_data()\n",
        "x_train = x_train / 255.0\n",
        "x_test = x_test / 255.0"
      ],
      "execution_count": 4,
      "outputs": []
    },
    {
      "cell_type": "markdown",
      "metadata": {
        "id": "afGjcvB3zlCL"
      },
      "source": [
        "#### Build the neural network model"
      ]
    },
    {
      "cell_type": "markdown",
      "metadata": {
        "id": "Qv0kHsBozlCM"
      },
      "source": [
        "You can now construct a model to fit to the data. Using the Sequential API, build your model according to the following specifications:\n",
        "\n",
        "* The model should use the input_shape in the function argument to set the input size in the first layer.\n",
        "* The first layer should be a Conv2D layer with 16 filters, a 3x3 kernel size, a ReLU activation function and 'SAME' padding. Name this layer 'conv_1'.\n",
        "* The second layer should also be a Conv2D layer with 8 filters, a 3x3 kernel size, a ReLU activation function and 'SAME' padding. Name this layer 'conv_2'.\n",
        "* The third layer should be a MaxPooling2D layer with a pooling window size of 8x8. Name this layer 'pool_1'.\n",
        "* The fourth layer should be a Flatten layer, named 'flatten'.\n",
        "* The fifth layer should be a Dense layer with 32 units, a ReLU activation. Name this layer 'dense_1'.\n",
        "* The sixth and final layer should be a Dense layer with 10 units and softmax activation. Name this layer 'dense_2'.\n",
        "\n",
        "In total, the network should have 6 layers."
      ]
    },
    {
      "cell_type": "code",
      "metadata": {
        "id": "H84-I9P5zlCN"
      },
      "source": [
        "#### GRADED CELL ####\n",
        "\n",
        "# Complete the following function. \n",
        "# Make sure to not change the function name or arguments.\n",
        "\n",
        "def get_new_model(input_shape):\n",
        "    \"\"\"\n",
        "    This function should build a Sequential model according to the above specification. Ensure the \n",
        "    weights are initialised by providing the input_shape argument in the first layer, given by the\n",
        "    function argument.\n",
        "    Your function should also compile the model with the Adam optimiser, sparse categorical cross\n",
        "    entropy loss function, and a single accuracy metric.\n",
        "    \"\"\"\n",
        "    \n",
        "    model = Sequential([\n",
        "                        Conv2D(16, 3, padding='same', activation='relu', input_shape=input_shape, name='conv_1'),\n",
        "                        Conv2D(8, 3, padding='same', activation='relu', input_shape=input_shape, name='conv_2'),\n",
        "                        MaxPooling2D(8, name='pool_1'),\n",
        "                        Flatten(name='flatten'),\n",
        "                        Dense(32, activation='relu', name='dense_1'),\n",
        "                        Dense(10, activation='softmax', name='dense_2')\n",
        "    ])\n",
        "    model.compile(optimizer='adam', loss='sparse_categorical_crossentropy', metrics=['accuracy'])\n",
        "\n",
        "    return model\n",
        "    \n",
        "    "
      ],
      "execution_count": 5,
      "outputs": []
    },
    {
      "cell_type": "markdown",
      "metadata": {
        "id": "tx6dXvwOzlCQ"
      },
      "source": [
        "#### Compile and evaluate the model"
      ]
    },
    {
      "cell_type": "code",
      "metadata": {
        "id": "5BHOQzT5zlCR"
      },
      "source": [
        "# Run your function to create the model\n",
        "\n",
        "model = get_new_model(x_train[0].shape)"
      ],
      "execution_count": 6,
      "outputs": []
    },
    {
      "cell_type": "code",
      "metadata": {
        "id": "--aE05n8zlCV"
      },
      "source": [
        "# Run this cell to define a function to evaluate a model's test accuracy\n",
        "\n",
        "def get_test_accuracy(model, x_test, y_test):\n",
        "    \"\"\"Test model classification accuracy\"\"\"\n",
        "    test_loss, test_acc = model.evaluate(x=x_test, y=y_test, verbose=0)\n",
        "    print('accuracy: {acc:0.3f}'.format(acc=test_acc))"
      ],
      "execution_count": 7,
      "outputs": []
    },
    {
      "cell_type": "code",
      "metadata": {
        "id": "4ezcwMrNzlCd",
        "colab": {
          "base_uri": "https://localhost:8080/"
        },
        "outputId": "ded73048-981b-45bf-fef6-e762a7fbb8dc"
      },
      "source": [
        "# Print the model summary and calculate its initialised test accuracy\n",
        "\n",
        "model.summary()\n",
        "get_test_accuracy(model, x_test, y_test)"
      ],
      "execution_count": 8,
      "outputs": [
        {
          "output_type": "stream",
          "text": [
            "Model: \"sequential\"\n",
            "_________________________________________________________________\n",
            "Layer (type)                 Output Shape              Param #   \n",
            "=================================================================\n",
            "conv_1 (Conv2D)              (None, 64, 64, 16)        448       \n",
            "_________________________________________________________________\n",
            "conv_2 (Conv2D)              (None, 64, 64, 8)         1160      \n",
            "_________________________________________________________________\n",
            "pool_1 (MaxPooling2D)        (None, 8, 8, 8)           0         \n",
            "_________________________________________________________________\n",
            "flatten (Flatten)            (None, 512)               0         \n",
            "_________________________________________________________________\n",
            "dense_1 (Dense)              (None, 32)                16416     \n",
            "_________________________________________________________________\n",
            "dense_2 (Dense)              (None, 10)                330       \n",
            "=================================================================\n",
            "Total params: 18,354\n",
            "Trainable params: 18,354\n",
            "Non-trainable params: 0\n",
            "_________________________________________________________________\n",
            "accuracy: 0.104\n"
          ],
          "name": "stdout"
        }
      ]
    },
    {
      "cell_type": "markdown",
      "metadata": {
        "id": "pfIdxbQWzlCg"
      },
      "source": [
        "#### Create checkpoints to save model during training, with a criterion\n",
        "\n",
        "You will now create three callbacks:\n",
        "- `checkpoint_every_epoch`: checkpoint that saves the model weights every epoch during training\n",
        "- `checkpoint_best_only`: checkpoint that saves only the weights with the highest validation accuracy. Use the testing data as the validation data.\n",
        "- `early_stopping`: early stopping object that ends training if the validation accuracy has not improved in 3 epochs."
      ]
    },
    {
      "cell_type": "code",
      "metadata": {
        "id": "ccQU2HMGzlCh"
      },
      "source": [
        "#### GRADED CELL ####\n",
        "\n",
        "# Complete the following functions. \n",
        "# Make sure to not change the function names or arguments.\n",
        "\n",
        "def get_checkpoint_every_epoch():\n",
        "    \"\"\"\n",
        "    This function should return a ModelCheckpoint object that:\n",
        "    - saves the weights only at the end of every epoch\n",
        "    - saves into a directory called 'checkpoints_every_epoch' inside the current working directory\n",
        "    - generates filenames in that directory like 'checkpoint_XXX' where\n",
        "      XXX is the epoch number formatted to have three digits, e.g. 001, 002, 003, etc.\n",
        "    \"\"\"\n",
        "    checkpoint = ModelCheckpoint(filepath='./checkpoints_every_epoch/checkpoint_{epoch:04d}', \n",
        "                                 save_weights_only=True,\n",
        "                                 frequency='epoch',\n",
        "                                 verbose=1)\n",
        "    \n",
        "    return checkpoint\n",
        "    \n",
        "\n",
        "\n",
        "def get_checkpoint_best_only():\n",
        "    \"\"\"\n",
        "    This function should return a ModelCheckpoint object that:\n",
        "    - saves only the weights that generate the highest validation (testing) accuracy\n",
        "    - saves into a directory called 'checkpoints_best_only' inside the current working directory\n",
        "    - generates a file called 'checkpoints_best_only/checkpoint' \n",
        "    \"\"\"\n",
        "    checkpoint = ModelCheckpoint(filepath='./checkpoints_best_only/checkpoint', \n",
        "                                 monitor='val_accuracy',\n",
        "                                 save_weights_only=True,\n",
        "                                 frequency='epoch',\n",
        "                                 save_best_only=True,\n",
        "                                 verbose=1)\n",
        "    \n",
        "    return checkpoint\n",
        "    \n",
        "    "
      ],
      "execution_count": 13,
      "outputs": []
    },
    {
      "cell_type": "code",
      "metadata": {
        "id": "RjYKmcXMzlCj"
      },
      "source": [
        "#### GRADED CELL ####\n",
        "\n",
        "# Complete the following function. \n",
        "# Make sure to not change the function name or arguments.\n",
        "\n",
        "def get_early_stopping():\n",
        "    \"\"\"\n",
        "    This function should return an EarlyStopping callback that stops training when\n",
        "    the validation (testing) accuracy has not improved in the last 3 epochs.\n",
        "    HINT: use the EarlyStopping callback with the correct 'monitor' and 'patience'\n",
        "    \"\"\"\n",
        "    checkpoint = EarlyStopping(monitor='val_accuracy', patience=3)\n",
        "    \n",
        "    return checkpoint\n",
        "    \n",
        "    "
      ],
      "execution_count": 14,
      "outputs": []
    },
    {
      "cell_type": "code",
      "metadata": {
        "id": "jplngS9izlCn"
      },
      "source": [
        "# Run this cell to create the callbacks\n",
        "\n",
        "checkpoint_every_epoch = get_checkpoint_every_epoch()\n",
        "checkpoint_best_only = get_checkpoint_best_only()\n",
        "early_stopping = get_early_stopping()"
      ],
      "execution_count": 15,
      "outputs": []
    },
    {
      "cell_type": "markdown",
      "metadata": {
        "id": "m8DdH7hdzlCp"
      },
      "source": [
        "#### Train model using the callbacks\n",
        "\n",
        "Now, you will train the model using the three callbacks you created. If you created the callbacks correctly, three things should happen:\n",
        "- At the end of every epoch, the model weights are saved into a directory called `checkpoints_every_epoch`\n",
        "- At the end of every epoch, the model weights are saved into a directory called `checkpoints_best_only` **only** if those weights lead to the highest test accuracy\n",
        "- Training stops when the testing accuracy has not improved in three epochs.\n",
        "\n",
        "You should then have two directories:\n",
        "- A directory called `checkpoints_every_epoch` containing filenames that include `checkpoint_001`, `checkpoint_002`, etc with the `001`, `002` corresponding to the epoch\n",
        "- A directory called `checkpoints_best_only` containing filenames that include `checkpoint`, which contain only the weights leading to the highest testing accuracy"
      ]
    },
    {
      "cell_type": "code",
      "metadata": {
        "id": "IG329dBszlCq",
        "colab": {
          "base_uri": "https://localhost:8080/"
        },
        "outputId": "4109f642-66c2-4080-854b-c3c88094ef47"
      },
      "source": [
        "# Train model using the callbacks you just created\n",
        "\n",
        "callbacks = [checkpoint_every_epoch, checkpoint_best_only, early_stopping]\n",
        "model.fit(x_train, y_train, epochs=50, validation_data=(x_test, y_test), callbacks=callbacks)"
      ],
      "execution_count": 16,
      "outputs": [
        {
          "output_type": "stream",
          "text": [
            "Epoch 1/50\n",
            "125/125 [==============================] - 19s 153ms/step - loss: 1.8109 - accuracy: 0.3077 - val_loss: 1.5901 - val_accuracy: 0.3900\n",
            "\n",
            "Epoch 00001: saving model to ./checkpoints_every_epoch/checkpoint_0001\n",
            "\n",
            "Epoch 00001: val_accuracy improved from -inf to 0.39000, saving model to ./checkpoints_best_only/checkpoint\n",
            "Epoch 2/50\n",
            "125/125 [==============================] - 19s 154ms/step - loss: 1.4570 - accuracy: 0.4350 - val_loss: 1.3677 - val_accuracy: 0.4380\n",
            "\n",
            "Epoch 00002: saving model to ./checkpoints_every_epoch/checkpoint_0002\n",
            "\n",
            "Epoch 00002: val_accuracy improved from 0.39000 to 0.43800, saving model to ./checkpoints_best_only/checkpoint\n",
            "Epoch 3/50\n",
            "125/125 [==============================] - 19s 154ms/step - loss: 1.2942 - accuracy: 0.5073 - val_loss: 1.3011 - val_accuracy: 0.5210\n",
            "\n",
            "Epoch 00003: saving model to ./checkpoints_every_epoch/checkpoint_0003\n",
            "\n",
            "Epoch 00003: val_accuracy improved from 0.43800 to 0.52100, saving model to ./checkpoints_best_only/checkpoint\n",
            "Epoch 4/50\n",
            "125/125 [==============================] - 19s 155ms/step - loss: 1.2306 - accuracy: 0.5375 - val_loss: 1.2175 - val_accuracy: 0.5510\n",
            "\n",
            "Epoch 00004: saving model to ./checkpoints_every_epoch/checkpoint_0004\n",
            "\n",
            "Epoch 00004: val_accuracy improved from 0.52100 to 0.55100, saving model to ./checkpoints_best_only/checkpoint\n",
            "Epoch 5/50\n",
            "125/125 [==============================] - 19s 154ms/step - loss: 1.1597 - accuracy: 0.5755 - val_loss: 1.1889 - val_accuracy: 0.5780\n",
            "\n",
            "Epoch 00005: saving model to ./checkpoints_every_epoch/checkpoint_0005\n",
            "\n",
            "Epoch 00005: val_accuracy improved from 0.55100 to 0.57800, saving model to ./checkpoints_best_only/checkpoint\n",
            "Epoch 6/50\n",
            "125/125 [==============================] - 19s 152ms/step - loss: 1.0899 - accuracy: 0.6035 - val_loss: 1.1434 - val_accuracy: 0.5270\n",
            "\n",
            "Epoch 00006: saving model to ./checkpoints_every_epoch/checkpoint_0006\n",
            "\n",
            "Epoch 00006: val_accuracy did not improve from 0.57800\n",
            "Epoch 7/50\n",
            "125/125 [==============================] - 19s 153ms/step - loss: 1.0146 - accuracy: 0.6305 - val_loss: 1.0326 - val_accuracy: 0.6240\n",
            "\n",
            "Epoch 00007: saving model to ./checkpoints_every_epoch/checkpoint_0007\n",
            "\n",
            "Epoch 00007: val_accuracy improved from 0.57800 to 0.62400, saving model to ./checkpoints_best_only/checkpoint\n",
            "Epoch 8/50\n",
            "125/125 [==============================] - 19s 153ms/step - loss: 0.9732 - accuracy: 0.6378 - val_loss: 1.0685 - val_accuracy: 0.6220\n",
            "\n",
            "Epoch 00008: saving model to ./checkpoints_every_epoch/checkpoint_0008\n",
            "\n",
            "Epoch 00008: val_accuracy did not improve from 0.62400\n",
            "Epoch 9/50\n",
            "125/125 [==============================] - 19s 153ms/step - loss: 0.9443 - accuracy: 0.6532 - val_loss: 0.9703 - val_accuracy: 0.6550\n",
            "\n",
            "Epoch 00009: saving model to ./checkpoints_every_epoch/checkpoint_0009\n",
            "\n",
            "Epoch 00009: val_accuracy improved from 0.62400 to 0.65500, saving model to ./checkpoints_best_only/checkpoint\n",
            "Epoch 10/50\n",
            "125/125 [==============================] - 19s 154ms/step - loss: 0.9094 - accuracy: 0.6708 - val_loss: 0.9687 - val_accuracy: 0.6510\n",
            "\n",
            "Epoch 00010: saving model to ./checkpoints_every_epoch/checkpoint_0010\n",
            "\n",
            "Epoch 00010: val_accuracy did not improve from 0.65500\n",
            "Epoch 11/50\n",
            "125/125 [==============================] - 19s 154ms/step - loss: 0.8497 - accuracy: 0.6942 - val_loss: 0.8907 - val_accuracy: 0.6800\n",
            "\n",
            "Epoch 00011: saving model to ./checkpoints_every_epoch/checkpoint_0011\n",
            "\n",
            "Epoch 00011: val_accuracy improved from 0.65500 to 0.68000, saving model to ./checkpoints_best_only/checkpoint\n",
            "Epoch 12/50\n",
            "125/125 [==============================] - 19s 153ms/step - loss: 0.8512 - accuracy: 0.6865 - val_loss: 0.8788 - val_accuracy: 0.7010\n",
            "\n",
            "Epoch 00012: saving model to ./checkpoints_every_epoch/checkpoint_0012\n",
            "\n",
            "Epoch 00012: val_accuracy improved from 0.68000 to 0.70100, saving model to ./checkpoints_best_only/checkpoint\n",
            "Epoch 13/50\n",
            "125/125 [==============================] - 19s 153ms/step - loss: 0.8070 - accuracy: 0.7067 - val_loss: 0.8841 - val_accuracy: 0.6620\n",
            "\n",
            "Epoch 00013: saving model to ./checkpoints_every_epoch/checkpoint_0013\n",
            "\n",
            "Epoch 00013: val_accuracy did not improve from 0.70100\n",
            "Epoch 14/50\n",
            "125/125 [==============================] - 19s 154ms/step - loss: 0.7710 - accuracy: 0.7175 - val_loss: 0.9999 - val_accuracy: 0.6650\n",
            "\n",
            "Epoch 00014: saving model to ./checkpoints_every_epoch/checkpoint_0014\n",
            "\n",
            "Epoch 00014: val_accuracy did not improve from 0.70100\n",
            "Epoch 15/50\n",
            "125/125 [==============================] - 19s 154ms/step - loss: 0.7584 - accuracy: 0.7140 - val_loss: 0.8641 - val_accuracy: 0.7080\n",
            "\n",
            "Epoch 00015: saving model to ./checkpoints_every_epoch/checkpoint_0015\n",
            "\n",
            "Epoch 00015: val_accuracy improved from 0.70100 to 0.70800, saving model to ./checkpoints_best_only/checkpoint\n",
            "Epoch 16/50\n",
            "125/125 [==============================] - 19s 154ms/step - loss: 0.7390 - accuracy: 0.7340 - val_loss: 0.8000 - val_accuracy: 0.7150\n",
            "\n",
            "Epoch 00016: saving model to ./checkpoints_every_epoch/checkpoint_0016\n",
            "\n",
            "Epoch 00016: val_accuracy improved from 0.70800 to 0.71500, saving model to ./checkpoints_best_only/checkpoint\n",
            "Epoch 17/50\n",
            "125/125 [==============================] - 19s 155ms/step - loss: 0.7250 - accuracy: 0.7347 - val_loss: 0.7935 - val_accuracy: 0.7210\n",
            "\n",
            "Epoch 00017: saving model to ./checkpoints_every_epoch/checkpoint_0017\n",
            "\n",
            "Epoch 00017: val_accuracy improved from 0.71500 to 0.72100, saving model to ./checkpoints_best_only/checkpoint\n",
            "Epoch 18/50\n",
            "125/125 [==============================] - 19s 154ms/step - loss: 0.7295 - accuracy: 0.7347 - val_loss: 0.9253 - val_accuracy: 0.6730\n",
            "\n",
            "Epoch 00018: saving model to ./checkpoints_every_epoch/checkpoint_0018\n",
            "\n",
            "Epoch 00018: val_accuracy did not improve from 0.72100\n",
            "Epoch 19/50\n",
            "125/125 [==============================] - 19s 153ms/step - loss: 0.6880 - accuracy: 0.7492 - val_loss: 0.8140 - val_accuracy: 0.7250\n",
            "\n",
            "Epoch 00019: saving model to ./checkpoints_every_epoch/checkpoint_0019\n",
            "\n",
            "Epoch 00019: val_accuracy improved from 0.72100 to 0.72500, saving model to ./checkpoints_best_only/checkpoint\n",
            "Epoch 20/50\n",
            "125/125 [==============================] - 19s 154ms/step - loss: 0.6683 - accuracy: 0.7600 - val_loss: 0.8016 - val_accuracy: 0.7330\n",
            "\n",
            "Epoch 00020: saving model to ./checkpoints_every_epoch/checkpoint_0020\n",
            "\n",
            "Epoch 00020: val_accuracy improved from 0.72500 to 0.73300, saving model to ./checkpoints_best_only/checkpoint\n",
            "Epoch 21/50\n",
            "125/125 [==============================] - 19s 154ms/step - loss: 0.6838 - accuracy: 0.7517 - val_loss: 0.8525 - val_accuracy: 0.6890\n",
            "\n",
            "Epoch 00021: saving model to ./checkpoints_every_epoch/checkpoint_0021\n",
            "\n",
            "Epoch 00021: val_accuracy did not improve from 0.73300\n",
            "Epoch 22/50\n",
            "125/125 [==============================] - 19s 154ms/step - loss: 0.6724 - accuracy: 0.7525 - val_loss: 0.7874 - val_accuracy: 0.7230\n",
            "\n",
            "Epoch 00022: saving model to ./checkpoints_every_epoch/checkpoint_0022\n",
            "\n",
            "Epoch 00022: val_accuracy did not improve from 0.73300\n",
            "Epoch 23/50\n",
            "125/125 [==============================] - 19s 155ms/step - loss: 0.6584 - accuracy: 0.7585 - val_loss: 0.7644 - val_accuracy: 0.7310\n",
            "\n",
            "Epoch 00023: saving model to ./checkpoints_every_epoch/checkpoint_0023\n",
            "\n",
            "Epoch 00023: val_accuracy did not improve from 0.73300\n"
          ],
          "name": "stdout"
        },
        {
          "output_type": "execute_result",
          "data": {
            "text/plain": [
              "<tensorflow.python.keras.callbacks.History at 0x7f9d58197710>"
            ]
          },
          "metadata": {
            "tags": []
          },
          "execution_count": 16
        }
      ]
    },
    {
      "cell_type": "markdown",
      "metadata": {
        "id": "tKEb0lQ9zlCt"
      },
      "source": [
        "#### Create new instance of model and load on both sets of weights\n",
        "\n",
        "Now you will use the weights you just saved in a fresh model. You should create two functions, both of which take a freshly instantiated model instance:\n",
        "- `model_last_epoch` should contain the weights from the latest saved epoch\n",
        "- `model_best_epoch` should contain the weights from the saved epoch with the highest testing accuracy\n",
        "\n",
        "_Hint: use the_ `tf.train.latest_checkpoint` _function to get the filename of the latest saved checkpoint file. Check the docs_ [_here_](https://www.tensorflow.org/api_docs/python/tf/train/latest_checkpoint)."
      ]
    },
    {
      "cell_type": "code",
      "metadata": {
        "id": "nokhxEntzlCu"
      },
      "source": [
        "#### GRADED CELL ####\n",
        "\n",
        "# Complete the following functions. \n",
        "# Make sure to not change the function name or arguments.\n",
        "\n",
        "def get_model_last_epoch(model):\n",
        "    \"\"\"\n",
        "    This function should create a new instance of the CNN you created earlier,\n",
        "    load on the weights from the last training epoch, and return this model.\n",
        "    \"\"\"\n",
        "    path = tf.train.latest_checkpoint('./checkpoints_every_epoch/')\n",
        "    model.load_weights(path)\n",
        "    \n",
        "    return model\n",
        "    \n",
        "    \n",
        "    \n",
        "    \n",
        "def get_model_best_epoch(model):\n",
        "    \"\"\"\n",
        "    This function should create a new instance of the CNN you created earlier, load \n",
        "    on the weights leading to the highest validation accuracy, and return this model.\n",
        "    \"\"\"\n",
        "    model.load_weights('./checkpoints_best_only/checkpoint')\n",
        "    \n",
        "    return model\n",
        "    "
      ],
      "execution_count": 17,
      "outputs": []
    },
    {
      "cell_type": "code",
      "metadata": {
        "id": "N0BEAOZYzlCx",
        "colab": {
          "base_uri": "https://localhost:8080/"
        },
        "outputId": "f826bd44-4312-417e-9dae-9103b8e3e177"
      },
      "source": [
        "# Run this cell to create two models: one with the weights from the last training\n",
        "# epoch, and one wiht the weights leading to the highest validation (testing) accuracy.\n",
        "# Verify that the second has a higher validation (testing) accuarcy.\n",
        "\n",
        "model_last_epoch = get_model_last_epoch(get_new_model(x_train[0].shape))\n",
        "model_best_epoch = get_model_best_epoch(get_new_model(x_train[0].shape))\n",
        "print('Model with last epoch weights:')\n",
        "get_test_accuracy(model_last_epoch, x_test, y_test)\n",
        "print('')\n",
        "print('Model with best epoch weights:')\n",
        "get_test_accuracy(model_best_epoch, x_test, y_test)"
      ],
      "execution_count": 18,
      "outputs": [
        {
          "output_type": "stream",
          "text": [
            "Model with last epoch weights:\n",
            "accuracy: 0.731\n",
            "\n",
            "Model with best epoch weights:\n",
            "accuracy: 0.733\n"
          ],
          "name": "stdout"
        }
      ]
    },
    {
      "cell_type": "markdown",
      "metadata": {
        "id": "5AESpayizlC1"
      },
      "source": [
        "#### Load, from scratch, a model trained on the EuroSat dataset.\n",
        "\n",
        "In your workspace, you will find another model trained on the `EuroSAT` dataset in `.h5` format. This model is trained on a larger subset of the EuroSAT dataset and has a more complex architecture. The path to the model is `models/EuroSatNet.h5`. See how its testing accuracy compares to your model!"
      ]
    },
    {
      "cell_type": "code",
      "metadata": {
        "id": "KiUKJYebzlC2"
      },
      "source": [
        "#### GRADED CELL ####\n",
        "\n",
        "# Complete the following functions. \n",
        "# Make sure to not change the function name or arguments.\n",
        "\n",
        "def get_model_eurosatnet():\n",
        "    \"\"\"\n",
        "    This function should return the pretrained EuroSatNet.h5 model.\n",
        "    \"\"\"\n",
        "    \n",
        "    loaded_h5model = load_model('models/EuroSatNet.h5')\n",
        "    return loaded_h5model\n",
        "    "
      ],
      "execution_count": 20,
      "outputs": []
    },
    {
      "cell_type": "code",
      "metadata": {
        "id": "EEzAQ3yRzlC6"
      },
      "source": [
        "# Run this cell to print a summary of the EuroSatNet model, along with its validation accuracy.\n",
        "\n",
        "model_eurosatnet = get_model_eurosatnet()\n",
        "model_eurosatnet.summary()\n",
        "get_test_accuracy(model_eurosatnet, x_test, y_test)"
      ],
      "execution_count": null,
      "outputs": []
    },
    {
      "cell_type": "markdown",
      "metadata": {
        "id": "P9vIBFVWzlC-"
      },
      "source": [
        "Congratulations for completing this programming assignment! You're now ready to move on to the capstone project for this course."
      ]
    }
  ]
}