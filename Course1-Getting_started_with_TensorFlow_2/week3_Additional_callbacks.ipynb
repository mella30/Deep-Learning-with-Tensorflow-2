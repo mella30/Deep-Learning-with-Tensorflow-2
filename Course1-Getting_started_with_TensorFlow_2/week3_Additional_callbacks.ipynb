{
  "nbformat": 4,
  "nbformat_minor": 0,
  "metadata": {
    "kernelspec": {
      "display_name": "Python 3",
      "language": "python",
      "name": "python3"
    },
    "language_info": {
      "codemirror_mode": {
        "name": "ipython",
        "version": 3
      },
      "file_extension": ".py",
      "mimetype": "text/x-python",
      "name": "python",
      "nbconvert_exporter": "python",
      "pygments_lexer": "ipython3",
      "version": "3.7.1"
    },
    "colab": {
      "name": "Additional callbacks.ipynb",
      "provenance": [],
      "include_colab_link": true
    }
  },
  "cells": [
    {
      "cell_type": "markdown",
      "metadata": {
        "id": "view-in-github",
        "colab_type": "text"
      },
      "source": [
        "<a href=\"https://colab.research.google.com/github/mella30/Deep-Learning-with-Tensorflow-2/blob/main/Course1-Getting_started_with_TensorFlow_2/week3_Additional_callbacks.ipynb\" target=\"_parent\"><img src=\"https://colab.research.google.com/assets/colab-badge.svg\" alt=\"Open In Colab\"/></a>"
      ]
    },
    {
      "cell_type": "markdown",
      "metadata": {
        "id": "2V8H3ElJGkgA"
      },
      "source": [
        "# Additional callbacks\n",
        "\n",
        "In this reading we'll be looking at more of the inbuilt callbacks available in Keras."
      ]
    },
    {
      "cell_type": "code",
      "metadata": {
        "id": "9cDO9xjDGkgD",
        "outputId": "ce471e72-e229-43f1-cd85-9f437cb11005",
        "colab": {
          "base_uri": "https://localhost:8080/"
        }
      },
      "source": [
        "import tensorflow as tf\n",
        "print(tf.__version__)"
      ],
      "execution_count": 1,
      "outputs": [
        {
          "output_type": "stream",
          "text": [
            "2.5.0\n"
          ],
          "name": "stdout"
        }
      ]
    },
    {
      "cell_type": "markdown",
      "metadata": {
        "id": "wHaL3WVYGkgE"
      },
      "source": [
        "We will again be using the sklearn diabetes dataset to demonstrate these callbacks."
      ]
    },
    {
      "cell_type": "code",
      "metadata": {
        "id": "jrAH1Tf8GkgF"
      },
      "source": [
        "# Load the diabetes dataset\n",
        "\n",
        "from sklearn.datasets import load_diabetes\n",
        "\n",
        "diabetes_dataset = load_diabetes()"
      ],
      "execution_count": 2,
      "outputs": []
    },
    {
      "cell_type": "code",
      "metadata": {
        "id": "zTSJlIYyGkgF"
      },
      "source": [
        "# Save the input and target variables\n",
        "\n",
        "from sklearn.model_selection import train_test_split\n",
        "\n",
        "data = diabetes_dataset['data']\n",
        "targets = diabetes_dataset['target']"
      ],
      "execution_count": 3,
      "outputs": []
    },
    {
      "cell_type": "code",
      "metadata": {
        "id": "k5sO9JIZGkgG"
      },
      "source": [
        "# Split the data set into training and test sets\n",
        "\n",
        "train_data, test_data, train_targets, test_targets = train_test_split(data, targets, test_size=0.1)"
      ],
      "execution_count": 4,
      "outputs": []
    },
    {
      "cell_type": "markdown",
      "metadata": {
        "id": "lQCqpVwcGkgG"
      },
      "source": [
        "Let's also build a simple model to fit to the data with our callbacks."
      ]
    },
    {
      "cell_type": "code",
      "metadata": {
        "id": "qmp463FXGkgH"
      },
      "source": [
        "# Build the model\n",
        "\n",
        "from tensorflow.keras.models import Sequential\n",
        "from tensorflow.keras.layers import Dense\n",
        "\n",
        "model = tf.keras.Sequential([\n",
        "    Dense(128, activation='relu', input_shape=(train_data.shape[1],)),\n",
        "    Dense(64, activation='relu'),\n",
        "    Dense(64, activation='relu'),\n",
        "    Dense(64, activation='relu'),\n",
        "    Dense(1)        \n",
        "])"
      ],
      "execution_count": 5,
      "outputs": []
    },
    {
      "cell_type": "code",
      "metadata": {
        "id": "uQ9mtNDMGkgH"
      },
      "source": [
        "# Compile the model\n",
        "\n",
        "model.compile(loss='mse',\n",
        "                optimizer=\"adam\",metrics=[\"mse\",\"mae\"])"
      ],
      "execution_count": 6,
      "outputs": []
    },
    {
      "cell_type": "markdown",
      "metadata": {
        "id": "Pdy8JCMSGkgJ"
      },
      "source": [
        "Now onto the callbacks!"
      ]
    },
    {
      "cell_type": "markdown",
      "metadata": {
        "id": "zhUBvXLkGkgJ"
      },
      "source": [
        "## Learning rate scheduler\n",
        "\n",
        "**Usage:** `tf.keras.callbacks.LearningRateScheduler(schedule, verbose=0)`\n",
        "\n",
        "The learning rate scheduler that we implemented in the previous reading as a custom callback is also available as a built in callback. \n",
        "\n",
        "As in our custom callback, the `LearningRateScheduler` in Keras takes a function `schedule` as an argument. \n",
        "\n",
        "This function `schedule` should take two arguments:\n",
        "* The current epoch (as an integer), and\n",
        "* The current learning rate,\n",
        "\n",
        "and return new learning rate for that epoch. \n",
        "\n",
        "The `LearningRateScheduler` also has an optional `verbose` argument, which prints information about the learning rate if it is set to 1.\n",
        "\n",
        "Let's see a simple example."
      ]
    },
    {
      "cell_type": "code",
      "metadata": {
        "id": "n6Mv5JtMGkgK"
      },
      "source": [
        "# Define the learning rate schedule function\n",
        "\n",
        "def lr_function(epoch, lr):\n",
        "    if epoch % 2 == 0:\n",
        "        return lr\n",
        "    else:\n",
        "        return lr + epoch/1000"
      ],
      "execution_count": 7,
      "outputs": []
    },
    {
      "cell_type": "code",
      "metadata": {
        "id": "Es9roTBdGkgK",
        "outputId": "2db9f25b-0036-4e2a-e0b9-85d38bed211e",
        "colab": {
          "base_uri": "https://localhost:8080/"
        }
      },
      "source": [
        "# Train the model\n",
        "\n",
        "history = model.fit(train_data, train_targets, epochs=10,\n",
        "                    callbacks=[tf.keras.callbacks.LearningRateScheduler(lr_function, verbose=1)], verbose=False)"
      ],
      "execution_count": 8,
      "outputs": [
        {
          "output_type": "stream",
          "text": [
            "\n",
            "Epoch 00001: LearningRateScheduler reducing learning rate to 0.0010000000474974513.\n",
            "\n",
            "Epoch 00002: LearningRateScheduler reducing learning rate to 0.0020000000474974513.\n",
            "\n",
            "Epoch 00003: LearningRateScheduler reducing learning rate to 0.0020000000949949026.\n",
            "\n",
            "Epoch 00004: LearningRateScheduler reducing learning rate to 0.005000000094994903.\n",
            "\n",
            "Epoch 00005: LearningRateScheduler reducing learning rate to 0.004999999888241291.\n",
            "\n",
            "Epoch 00006: LearningRateScheduler reducing learning rate to 0.009999999888241292.\n",
            "\n",
            "Epoch 00007: LearningRateScheduler reducing learning rate to 0.009999999776482582.\n",
            "\n",
            "Epoch 00008: LearningRateScheduler reducing learning rate to 0.01699999977648258.\n",
            "\n",
            "Epoch 00009: LearningRateScheduler reducing learning rate to 0.016999999061226845.\n",
            "\n",
            "Epoch 00010: LearningRateScheduler reducing learning rate to 0.025999999061226846.\n"
          ],
          "name": "stdout"
        }
      ]
    },
    {
      "cell_type": "markdown",
      "metadata": {
        "id": "yRPMsg1UGkgK"
      },
      "source": [
        "You can also use lambda functions to define your `schedule` given an epoch."
      ]
    },
    {
      "cell_type": "code",
      "metadata": {
        "id": "Oz0RkbGyGkgK",
        "outputId": "a50825b3-39b6-4540-c05d-883160022cd6",
        "colab": {
          "base_uri": "https://localhost:8080/"
        }
      },
      "source": [
        "# Train the model with a difference schedule\n",
        "\n",
        "history = model.fit(train_data, train_targets, epochs=10,\n",
        "                    callbacks=[tf.keras.callbacks.LearningRateScheduler(lambda x:1/(3+5*x), verbose=1)], \n",
        "                    verbose=False)"
      ],
      "execution_count": 9,
      "outputs": [
        {
          "output_type": "stream",
          "text": [
            "\n",
            "Epoch 00001: LearningRateScheduler reducing learning rate to 0.3333333333333333.\n",
            "\n",
            "Epoch 00002: LearningRateScheduler reducing learning rate to 0.125.\n",
            "\n",
            "Epoch 00003: LearningRateScheduler reducing learning rate to 0.07692307692307693.\n",
            "\n",
            "Epoch 00004: LearningRateScheduler reducing learning rate to 0.05555555555555555.\n",
            "\n",
            "Epoch 00005: LearningRateScheduler reducing learning rate to 0.043478260869565216.\n",
            "\n",
            "Epoch 00006: LearningRateScheduler reducing learning rate to 0.03571428571428571.\n",
            "\n",
            "Epoch 00007: LearningRateScheduler reducing learning rate to 0.030303030303030304.\n",
            "\n",
            "Epoch 00008: LearningRateScheduler reducing learning rate to 0.02631578947368421.\n",
            "\n",
            "Epoch 00009: LearningRateScheduler reducing learning rate to 0.023255813953488372.\n",
            "\n",
            "Epoch 00010: LearningRateScheduler reducing learning rate to 0.020833333333333332.\n"
          ],
          "name": "stdout"
        }
      ]
    },
    {
      "cell_type": "markdown",
      "metadata": {
        "id": "Qz64e2dVGkgK"
      },
      "source": [
        "## CSV logger\n",
        "**Usage** `tf.keras.callbacks.CSVLogger(filename, separator=',', append=False)`\n",
        "\n",
        "This callback streams the results from each epoch into a CSV file.\n",
        "The first line of the CSV file will be the names of pieces of information recorded on each subsequent line, beginning with the epoch and loss value. The values of metrics at the end of each epoch will also be recorded.\n",
        "\n",
        "The only compulsory argument is the `filename` for the log to be streamed to. This could also be a filepath.\n",
        "\n",
        "You can also specify the `separator` to be used between entries on each line.\n",
        "\n",
        "The `append` argument allows you the option to append your results to an existing file with the same name. This can be particularly useful if you are continuing training.\n",
        "\n",
        "Let's see an example."
      ]
    },
    {
      "cell_type": "code",
      "metadata": {
        "id": "LXFR3oAHGkgL"
      },
      "source": [
        "# Train the model with a CSV logger\n",
        "\n",
        "history = model.fit(train_data, train_targets, epochs=10,\n",
        "                    callbacks=[tf.keras.callbacks.CSVLogger(\"results.csv\")], verbose=False)"
      ],
      "execution_count": 10,
      "outputs": []
    },
    {
      "cell_type": "markdown",
      "metadata": {
        "id": "WkUTVODgGkgL"
      },
      "source": [
        "Let's view the information in the CSV file we have created using `pandas`."
      ]
    },
    {
      "cell_type": "code",
      "metadata": {
        "id": "wSLQBm8BGkgL",
        "outputId": "6bcd9426-5794-4c8c-a957-7b58c8c01a82",
        "colab": {
          "base_uri": "https://localhost:8080/",
          "height": 394
        }
      },
      "source": [
        "# Load the CSV\n",
        "\n",
        "import pandas as pd\n",
        "\n",
        "pd.read_csv(\"results.csv\", index_col='epoch')"
      ],
      "execution_count": 11,
      "outputs": [
        {
          "output_type": "execute_result",
          "data": {
            "text/html": [
              "<div>\n",
              "<style scoped>\n",
              "    .dataframe tbody tr th:only-of-type {\n",
              "        vertical-align: middle;\n",
              "    }\n",
              "\n",
              "    .dataframe tbody tr th {\n",
              "        vertical-align: top;\n",
              "    }\n",
              "\n",
              "    .dataframe thead th {\n",
              "        text-align: right;\n",
              "    }\n",
              "</style>\n",
              "<table border=\"1\" class=\"dataframe\">\n",
              "  <thead>\n",
              "    <tr style=\"text-align: right;\">\n",
              "      <th></th>\n",
              "      <th>loss</th>\n",
              "      <th>mae</th>\n",
              "      <th>mse</th>\n",
              "    </tr>\n",
              "    <tr>\n",
              "      <th>epoch</th>\n",
              "      <th></th>\n",
              "      <th></th>\n",
              "      <th></th>\n",
              "    </tr>\n",
              "  </thead>\n",
              "  <tbody>\n",
              "    <tr>\n",
              "      <th>0</th>\n",
              "      <td>2910.226318</td>\n",
              "      <td>43.857288</td>\n",
              "      <td>2910.226318</td>\n",
              "    </tr>\n",
              "    <tr>\n",
              "      <th>1</th>\n",
              "      <td>2879.398682</td>\n",
              "      <td>43.533592</td>\n",
              "      <td>2879.398682</td>\n",
              "    </tr>\n",
              "    <tr>\n",
              "      <th>2</th>\n",
              "      <td>3017.821533</td>\n",
              "      <td>44.333797</td>\n",
              "      <td>3017.821533</td>\n",
              "    </tr>\n",
              "    <tr>\n",
              "      <th>3</th>\n",
              "      <td>2868.605713</td>\n",
              "      <td>43.248100</td>\n",
              "      <td>2868.605713</td>\n",
              "    </tr>\n",
              "    <tr>\n",
              "      <th>4</th>\n",
              "      <td>2868.773193</td>\n",
              "      <td>43.272736</td>\n",
              "      <td>2868.773193</td>\n",
              "    </tr>\n",
              "    <tr>\n",
              "      <th>5</th>\n",
              "      <td>2881.557373</td>\n",
              "      <td>43.212631</td>\n",
              "      <td>2881.557373</td>\n",
              "    </tr>\n",
              "    <tr>\n",
              "      <th>6</th>\n",
              "      <td>2850.813721</td>\n",
              "      <td>42.914398</td>\n",
              "      <td>2850.813721</td>\n",
              "    </tr>\n",
              "    <tr>\n",
              "      <th>7</th>\n",
              "      <td>2852.441162</td>\n",
              "      <td>42.932339</td>\n",
              "      <td>2852.441162</td>\n",
              "    </tr>\n",
              "    <tr>\n",
              "      <th>8</th>\n",
              "      <td>2872.240479</td>\n",
              "      <td>43.103359</td>\n",
              "      <td>2872.240479</td>\n",
              "    </tr>\n",
              "    <tr>\n",
              "      <th>9</th>\n",
              "      <td>2874.974121</td>\n",
              "      <td>43.251476</td>\n",
              "      <td>2874.974121</td>\n",
              "    </tr>\n",
              "  </tbody>\n",
              "</table>\n",
              "</div>"
            ],
            "text/plain": [
              "              loss        mae          mse\n",
              "epoch                                     \n",
              "0      2910.226318  43.857288  2910.226318\n",
              "1      2879.398682  43.533592  2879.398682\n",
              "2      3017.821533  44.333797  3017.821533\n",
              "3      2868.605713  43.248100  2868.605713\n",
              "4      2868.773193  43.272736  2868.773193\n",
              "5      2881.557373  43.212631  2881.557373\n",
              "6      2850.813721  42.914398  2850.813721\n",
              "7      2852.441162  42.932339  2852.441162\n",
              "8      2872.240479  43.103359  2872.240479\n",
              "9      2874.974121  43.251476  2874.974121"
            ]
          },
          "metadata": {
            "tags": []
          },
          "execution_count": 11
        }
      ]
    },
    {
      "cell_type": "markdown",
      "metadata": {
        "id": "MYx5ljDsGkgM"
      },
      "source": [
        "## Lambda callbacks\n",
        "**Usage** `tf.keras.callbacks.LambdaCallback(\n",
        "        on_epoch_begin=None, on_epoch_end=None, \n",
        "        on_batch_begin=None, on_batch_end=None, \n",
        "        on_train_begin=None, on_train_end=None)`\n",
        "\n",
        "Lambda callbacks are used to quickly define simple custom callbacks with the use of lambda functions.\n",
        "\n",
        "Each of the functions require some positional arguments.\n",
        "* `on_epoch_begin` and `on_epoch_end` expect two arguments: `epoch` and `logs`,\n",
        "* `on_batch_begin` and `on_batch_end` expect two arguments: `batch` and `logs` and\n",
        "* `on_train_begin` and `on_train_end` expect one argument: `logs`.\n",
        "\n",
        "Let's see an example of this in practice."
      ]
    },
    {
      "cell_type": "code",
      "metadata": {
        "id": "vwTBQPkRGkgM"
      },
      "source": [
        "# Print the epoch number at the beginning of each epoch\n",
        "\n",
        "epoch_callback = tf.keras.callbacks.LambdaCallback(\n",
        "    on_epoch_begin=lambda epoch,logs: print('Starting Epoch {}!'.format(epoch+1)))"
      ],
      "execution_count": 12,
      "outputs": []
    },
    {
      "cell_type": "code",
      "metadata": {
        "id": "yZyCMDpnGkgM"
      },
      "source": [
        "# Print the loss at the end of each batch\n",
        "\n",
        "batch_loss_callback = tf.keras.callbacks.LambdaCallback(\n",
        "    on_batch_end=lambda batch,logs: print('\\n After batch {}, the loss is {:7.2f}.'.format(batch, logs['loss'])))"
      ],
      "execution_count": 13,
      "outputs": []
    },
    {
      "cell_type": "code",
      "metadata": {
        "id": "6V8Y0bt8GkgM"
      },
      "source": [
        "# Inform that training is finished\n",
        "\n",
        "train_finish_callback = tf.keras.callbacks.LambdaCallback(\n",
        "    on_train_end=lambda logs: print('Training finished!'))"
      ],
      "execution_count": 14,
      "outputs": []
    },
    {
      "cell_type": "code",
      "metadata": {
        "id": "woZjyjyRGkgN",
        "outputId": "276b1954-3ed4-4708-ef8a-8a09d5b70249",
        "colab": {
          "base_uri": "https://localhost:8080/"
        }
      },
      "source": [
        "# Train the model with the lambda callbacks\n",
        "\n",
        "history = model.fit(train_data, train_targets, epochs=5, batch_size=100,\n",
        "                    callbacks=[epoch_callback, batch_loss_callback,train_finish_callback], verbose=False)"
      ],
      "execution_count": 15,
      "outputs": [
        {
          "output_type": "stream",
          "text": [
            "Starting Epoch 1!\n",
            "\n",
            " After batch 0, the loss is 2247.75.\n",
            "\n",
            " After batch 1, the loss is 2658.23.\n",
            "\n",
            " After batch 2, the loss is 2983.84.\n",
            "\n",
            " After batch 3, the loss is 2841.65.\n",
            "Starting Epoch 2!\n",
            "\n",
            " After batch 0, the loss is 3264.47.\n",
            "\n",
            " After batch 1, the loss is 2816.38.\n",
            "\n",
            " After batch 2, the loss is 2918.99.\n",
            "\n",
            " After batch 3, the loss is 2831.07.\n",
            "Starting Epoch 3!\n",
            "\n",
            " After batch 0, the loss is 2911.30.\n",
            "\n",
            " After batch 1, the loss is 2857.40.\n",
            "\n",
            " After batch 2, the loss is 2947.55.\n",
            "\n",
            " After batch 3, the loss is 2830.54.\n",
            "Starting Epoch 4!\n",
            "\n",
            " After batch 0, the loss is 3076.82.\n",
            "\n",
            " After batch 1, the loss is 2882.22.\n",
            "\n",
            " After batch 2, the loss is 2813.86.\n",
            "\n",
            " After batch 3, the loss is 2830.05.\n",
            "Starting Epoch 5!\n",
            "\n",
            " After batch 0, the loss is 3408.28.\n",
            "\n",
            " After batch 1, the loss is 2911.16.\n",
            "\n",
            " After batch 2, the loss is 2827.54.\n",
            "\n",
            " After batch 3, the loss is 2823.45.\n",
            "Training finished!\n"
          ],
          "name": "stdout"
        }
      ]
    },
    {
      "cell_type": "markdown",
      "metadata": {
        "id": "_Mx_vwUaGkgN"
      },
      "source": [
        "## Reduce learning rate on plateau\n",
        "**Usage** `tf.keras.callbacks.ReduceLROnPlateau(\n",
        "            monitor='val_loss', \n",
        "            factor=0.1, \n",
        "            patience=10, \n",
        "            verbose=0, \n",
        "            mode='auto', \n",
        "            min_delta=0.0001, \n",
        "            cooldown=0, \n",
        "            min_lr=0)`\n",
        "\n",
        "The `ReduceLROnPlateau` callback allows reduction of the learning rate when a metric has stopped improving. \n",
        "The arguments are similar to those used in the `EarlyStopping` callback.\n",
        "* The argument `monitor` is used to specify which metric to base the callback on.\n",
        "* The `factor` is the factor by which the learning rate decreases i.e., new_lr=factor*old_lr.\n",
        "* The `patience` is the number of epochs where there is no improvement on the monitored metric before the learning rate is reduced.\n",
        "* The `verbose` argument will produce progress messages when set to 1.\n",
        "* The `mode` determines whether the learning rate will decrease when the monitored quantity stops increasing (`max`) or decreasing (`min`). The `auto` setting causes the callback to infer the mode from the monitored quantity.\n",
        "* The `min_delta` is the smallest change in the monitored quantity to be deemed an improvement.\n",
        "* The `cooldown` is the number of epochs to wait after the learning rate is changed before the callback resumes normal operation.\n",
        "* The `min_lr` is a lower bound on the learning rate that the callback will produce.\n",
        "\n",
        "Let's examine a final example."
      ]
    },
    {
      "cell_type": "code",
      "metadata": {
        "id": "qdWFoiIAGkgO",
        "outputId": "3d58bada-346a-459e-81ee-c9668fbbb6ca",
        "colab": {
          "base_uri": "https://localhost:8080/"
        }
      },
      "source": [
        "# Train the model with the ReduceLROnPlateau callback\n",
        "\n",
        "history = model.fit(train_data, train_targets, epochs=100, batch_size=100,\n",
        "                    callbacks=[tf.keras.callbacks.ReduceLROnPlateau(\n",
        "                        monitor=\"loss\",factor=0.2, verbose=1)], verbose=False)"
      ],
      "execution_count": 16,
      "outputs": [
        {
          "output_type": "stream",
          "text": [
            "\n",
            "Epoch 00034: ReduceLROnPlateau reducing learning rate to 0.00416666679084301.\n",
            "\n",
            "Epoch 00085: ReduceLROnPlateau reducing learning rate to 0.0008333333767950535.\n"
          ],
          "name": "stdout"
        }
      ]
    },
    {
      "cell_type": "markdown",
      "metadata": {
        "id": "lGKE4_fqGkgP"
      },
      "source": [
        "### Further reading and resources\n",
        "* https://keras.io/callbacks/\n",
        "* https://www.tensorflow.org/api_docs/python/tf/keras/callbacks/LearningRateScheduler\n",
        "* https://www.tensorflow.org/api_docs/python/tf/keras/callbacks/CSVLogger\n",
        "* https://www.tensorflow.org/api_docs/python/tf/keras/callbacks/LambdaCallback"
      ]
    }
  ]
}