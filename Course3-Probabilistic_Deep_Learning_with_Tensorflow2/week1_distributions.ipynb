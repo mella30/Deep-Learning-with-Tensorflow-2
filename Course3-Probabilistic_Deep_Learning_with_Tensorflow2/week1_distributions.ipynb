{
  "nbformat": 4,
  "nbformat_minor": 0,
  "metadata": {
    "colab": {
      "name": "Kopie von Kopie von Untitled0.ipynb",
      "provenance": [],
      "collapsed_sections": [],
      "authorship_tag": "ABX9TyNlFLGH1WHA6zB633UMUfXi",
      "include_colab_link": true
    },
    "kernelspec": {
      "name": "python3",
      "display_name": "Python 3"
    },
    "language_info": {
      "name": "python"
    }
  },
  "cells": [
    {
      "cell_type": "markdown",
      "metadata": {
        "id": "view-in-github",
        "colab_type": "text"
      },
      "source": [
        "<a href=\"https://colab.research.google.com/github/mella30/Deep-Learning-with-Tensorflow-2/blob/main/Course3-Probabilistic_Deep_Learning_with_Tensorflow2/week1_distributions.ipynb\" target=\"_parent\"><img src=\"https://colab.research.google.com/assets/colab-badge.svg\" alt=\"Open In Colab\"/></a>"
      ]
    },
    {
      "cell_type": "code",
      "metadata": {
        "colab": {
          "base_uri": "https://localhost:8080/"
        },
        "id": "ID3vu9apOcJq",
        "outputId": "709f8d66-081b-4f69-fb68-093cda263894"
      },
      "source": [
        "import tensorflow as tf\n",
        "import tensorflow_probability as tfp\n",
        "tfd = tfp.distributions\n",
        "\n",
        "print(\"TF version:\", tf.__version__)\n",
        "print(\"TFP version:\", tfp.__version__)"
      ],
      "execution_count": 1,
      "outputs": [
        {
          "output_type": "stream",
          "name": "stdout",
          "text": [
            "TF version: 2.6.0\n",
            "TFP version: 0.13.0\n"
          ]
        }
      ]
    },
    {
      "cell_type": "code",
      "metadata": {
        "id": "2BCnSNUSOf5-"
      },
      "source": [
        "s# Additional imports and setting fixed random seed to have reproducibility\n",
        "\n",
        "import matplotlib.pyplot as plt\n",
        "import numpy as np\n",
        "tf.random.set_seed(123)"
      ],
      "execution_count": 2,
      "outputs": []
    },
    {
      "cell_type": "markdown",
      "metadata": {
        "id": "5Zc-ActGOg_q"
      },
      "source": [
        "## Coding Tutorials\n",
        "#### 1. [Univariate Distributions](#univariate_distributions)\n",
        "#### 2. [Multivariate Distributions](#multivariate_distributions)\n",
        "#### 3. [The Independent Distribution](#the_independent_distribution)\n",
        "#### 4. [Sampling and log probs](#sampling_and_log_probs)\n",
        "#### 5. [Trainable Distributions](#trainable_distributions)"
      ]
    },
    {
      "cell_type": "code",
      "metadata": {
        "colab": {
          "base_uri": "https://localhost:8080/"
        },
        "id": "7t6wPef-OinM",
        "outputId": "8265260b-5cfb-432a-d292-c296bbc82143"
      },
      "source": [
        "# Create a normal distribution from Tensorflow Distributions\n",
        "\n",
        "normal = tfd.Normal(loc=0, scale=1)\n",
        "normal"
      ],
      "execution_count": null,
      "outputs": [
        {
          "output_type": "execute_result",
          "data": {
            "text/plain": [
              "<tfp.distributions.Normal 'Normal' batch_shape=[] event_shape=[] dtype=float32>"
            ]
          },
          "metadata": {},
          "execution_count": 115
        }
      ]
    },
    {
      "cell_type": "code",
      "metadata": {
        "colab": {
          "base_uri": "https://localhost:8080/"
        },
        "id": "pqlqlWJMOj5X",
        "outputId": "d5cf3889-9a1e-4663-aec1-2c41b027d308"
      },
      "source": [
        "# Sample from the chosen distribution...\n",
        "\n",
        "normal.sample()"
      ],
      "execution_count": null,
      "outputs": [
        {
          "output_type": "execute_result",
          "data": {
            "text/plain": [
              "<tf.Tensor: shape=(), dtype=float32, numpy=-0.8980837>"
            ]
          },
          "metadata": {},
          "execution_count": 116
        }
      ]
    },
    {
      "cell_type": "code",
      "metadata": {
        "colab": {
          "base_uri": "https://localhost:8080/"
        },
        "id": "faCNt5yUOk3A",
        "outputId": "c4f2a0ee-9f45-4284-a1c2-f943c858bca4"
      },
      "source": [
        "# ... or sample multiple times\n",
        "\n",
        "normal.sample(10)"
      ],
      "execution_count": null,
      "outputs": [
        {
          "output_type": "execute_result",
          "data": {
            "text/plain": [
              "<tf.Tensor: shape=(10,), dtype=float32, numpy=\n",
              "array([ 0.33875433,  0.3449861 , -0.6605785 , -0.2854994 ,  0.43852386,\n",
              "        0.8288566 , -0.53591555, -0.5353483 , -1.0324248 , -2.942705  ],\n",
              "      dtype=float32)>"
            ]
          },
          "metadata": {},
          "execution_count": 117
        }
      ]
    },
    {
      "cell_type": "code",
      "metadata": {
        "colab": {
          "base_uri": "https://localhost:8080/"
        },
        "id": "ztDdCgA7On-M",
        "outputId": "3c23516d-f9c4-4bce-d49f-182c2812030e"
      },
      "source": [
        "# Obtain value of probability's density\n",
        "\n",
        "normal.prob(0)"
      ],
      "execution_count": null,
      "outputs": [
        {
          "output_type": "execute_result",
          "data": {
            "text/plain": [
              "<tf.Tensor: shape=(), dtype=float32, numpy=0.3989423>"
            ]
          },
          "metadata": {},
          "execution_count": 118
        }
      ]
    },
    {
      "cell_type": "code",
      "metadata": {
        "colab": {
          "base_uri": "https://localhost:8080/"
        },
        "id": "ljxSFC26OoD0",
        "outputId": "3b2c77d4-8dc6-4210-9716-19e246d0a3e8"
      },
      "source": [
        "# Obtain value of logprobability\n",
        "\n",
        "normal.log_prob(0)"
      ],
      "execution_count": null,
      "outputs": [
        {
          "output_type": "execute_result",
          "data": {
            "text/plain": [
              "<tf.Tensor: shape=(), dtype=float32, numpy=-0.9189385>"
            ]
          },
          "metadata": {},
          "execution_count": 119
        }
      ]
    },
    {
      "cell_type": "code",
      "metadata": {
        "colab": {
          "base_uri": "https://localhost:8080/"
        },
        "id": "aq-mNGd3OqJy",
        "outputId": "8e2d50f5-b71e-44ae-edcf-f31229357a68"
      },
      "source": [
        "# Verify that this really is the log of the probability\n",
        "\n",
        "np.log(normal.prob(0))"
      ],
      "execution_count": null,
      "outputs": [
        {
          "output_type": "execute_result",
          "data": {
            "text/plain": [
              "-0.9189385"
            ]
          },
          "metadata": {},
          "execution_count": 120
        }
      ]
    },
    {
      "cell_type": "code",
      "metadata": {
        "colab": {
          "base_uri": "https://localhost:8080/",
          "height": 265
        },
        "id": "xRp5WAflOqLv",
        "outputId": "8044b231-e512-4f5e-b4a6-c97c31ab417f"
      },
      "source": [
        "# Plot a histogram, approximating the density\n",
        "\n",
        "plt.hist(normal.sample(10000), bins=50, density=True)\n",
        "plt.show()"
      ],
      "execution_count": null,
      "outputs": [
        {
          "output_type": "display_data",
          "data": {
            "image/png": "[encoded data removed]",
            "text/plain": [
              "<Figure size 432x288 with 1 Axes>"
            ]
          },
          "metadata": {
            "needs_background": "light"
          }
        }
      ]
    },
    {
      "cell_type": "code",
      "metadata": {
        "colab": {
          "base_uri": "https://localhost:8080/",
          "height": 265
        },
        "id": "w_dedRWaOqNk",
        "outputId": "5111f082-333e-40a1-8172-ddad95ed3648"
      },
      "source": [
        "# Do the same for the exponential distribution\n",
        "\n",
        "exponential = tfd.Exponential(rate=1)\n",
        "plt.hist(exponential.sample(10000), bins=50, density=True)\n",
        "plt.show()"
      ],
      "execution_count": null,
      "outputs": [
        {
          "output_type": "display_data",
          "data": {
            "image/png": "[encoded data removed]",
            "text/plain": [
              "<Figure size 432x288 with 1 Axes>"
            ]
          },
          "metadata": {
            "needs_background": "light"
          }
        }
      ]
    },
    {
      "cell_type": "code",
      "metadata": {
        "colab": {
          "base_uri": "https://localhost:8080/"
        },
        "id": "qHE4-be3OqPf",
        "outputId": "8e55dddb-52a8-4603-e5b1-c0732e8f74fb"
      },
      "source": [
        "# Sample as before\n",
        "\n",
        "exponential.sample(10)"
      ],
      "execution_count": null,
      "outputs": [
        {
          "output_type": "execute_result",
          "data": {
            "text/plain": [
              "<tf.Tensor: shape=(10,), dtype=float32, numpy=\n",
              "array([0.31796157, 0.9595855 , 0.6190708 , 1.3738598 , 1.6796894 ,\n",
              "       0.40142855, 1.6830153 , 1.78942   , 0.38126466, 0.55283946],\n",
              "      dtype=float32)>"
            ]
          },
          "metadata": {},
          "execution_count": 123
        }
      ]
    },
    {
      "cell_type": "code",
      "metadata": {
        "colab": {
          "base_uri": "https://localhost:8080/"
        },
        "id": "KLkjWJRGOqRm",
        "outputId": "b570d052-91f1-4581-aad3-daadced812f0"
      },
      "source": [
        "# Create a Bernoulli distribution (discrete)\n",
        "\n",
        "bernoulli = tfd.Bernoulli(probs=0.8)\n",
        "bernoulli.sample(20)"
      ],
      "execution_count": null,
      "outputs": [
        {
          "output_type": "execute_result",
          "data": {
            "text/plain": [
              "<tf.Tensor: shape=(20,), dtype=int32, numpy=\n",
              "array([0, 1, 1, 0, 0, 1, 1, 0, 1, 1, 1, 0, 1, 1, 1, 0, 1, 0, 1, 1],\n",
              "      dtype=int32)>"
            ]
          },
          "metadata": {},
          "execution_count": 124
        }
      ]
    },
    {
      "cell_type": "markdown",
      "metadata": {
        "id": "UEAf3E99OzPB"
      },
      "source": [
        "#### A word of caution on discrete distributions"
      ]
    },
    {
      "cell_type": "markdown",
      "metadata": {
        "id": "7cswuN0uShwj"
      },
      "source": [
        "TensorFlow will evaluate the probability mass function of a Bernoulli at points which are not zero or one. This can get some unexpected results if you're not careful. To show this, let's pass in four points to `.prob`, two of which 0.5 and minus one will give odd-looking results as a probability mass function is only defined at zero and one. To find out what's going on, let's take a closer look at how the probability mass function is evaluated. We'll make our own function called `my_bernoulli`. What we're doing here is evaluating a Bernoulli by taking the probability of the outcome being equal to one to the power\n",
        "of k and multiplying that by the probability of the outcome being equal to zero to the power of one minus k. If we pass in the same values into our function,\n",
        "we see that the results are the same. "
      ]
    },
    {
      "cell_type": "code",
      "metadata": {
        "colab": {
          "base_uri": "https://localhost:8080/"
        },
        "id": "_-JH851kOxTE",
        "outputId": "5ef65d1c-043f-46c3-d36c-7727729dbeb2"
      },
      "source": [
        "# Calculate Bernoulli prob and see that 0.5 and -1 do not give the correct probability!\n",
        "\n",
        "for k in [0,0.5,1,-1]:\n",
        "    print('prob result {} for k = {} '.format(bernoulli.prob(k), k))"
      ],
      "execution_count": null,
      "outputs": [
        {
          "output_type": "stream",
          "name": "stdout",
          "text": [
            "prob result 0.19999998807907104 for k = 0 \n",
            "prob result 0.3999999761581421 for k = 0.5 \n",
            "prob result 0.800000011920929 for k = 1 \n",
            "prob result 0.04999999701976776 for k = -1 \n"
          ]
        }
      ]
    },
    {
      "cell_type": "code",
      "metadata": {
        "id": "e28kENu1OxVL"
      },
      "source": [
        "# Replicate the scores to see what is occurring under the hood\n",
        "\n",
        "def my_bernoulli(p_success, k):\n",
        "    return np.power(p_success,k)*np.power((1-p_success),(1-k))"
      ],
      "execution_count": null,
      "outputs": []
    },
    {
      "cell_type": "code",
      "metadata": {
        "colab": {
          "base_uri": "https://localhost:8080/"
        },
        "id": "xcS0aAycOxXS",
        "outputId": "39584b9b-ee68-4c5e-9971-d856e49c0d09"
      },
      "source": [
        "# Evaluate it as before\n",
        "\n",
        "for k in [0,0.5,1,-1]:\n",
        "    print('prob result {} for k = {} '.format(bernoulli.prob(k), k))"
      ],
      "execution_count": null,
      "outputs": [
        {
          "output_type": "stream",
          "name": "stdout",
          "text": [
            "prob result 0.19999998807907104 for k = 0 \n",
            "prob result 0.3999999761581421 for k = 0.5 \n",
            "prob result 0.800000011920929 for k = 1 \n",
            "prob result 0.04999999701976776 for k = -1 \n"
          ]
        }
      ]
    },
    {
      "cell_type": "markdown",
      "metadata": {
        "id": "7DBMkTBcO8di"
      },
      "source": [
        "#### Work with batch distributions"
      ]
    },
    {
      "cell_type": "code",
      "metadata": {
        "colab": {
          "base_uri": "https://localhost:8080/"
        },
        "id": "H1Mrf5TFOxZf",
        "outputId": "8f36bf55-9d1f-4458-d8e9-b7362ee37442"
      },
      "source": [
        "# Create a batched Bernoulli distribution\n",
        "\n",
        "bernoulli_batch = tfd.Bernoulli(probs=[0.1, 0.25, 0.5, 0.75, 0.9])\n",
        "bernoulli_batch"
      ],
      "execution_count": null,
      "outputs": [
        {
          "output_type": "execute_result",
          "data": {
            "text/plain": [
              "<tfp.distributions.Bernoulli 'Bernoulli' batch_shape=[5] event_shape=[] dtype=int32>"
            ]
          },
          "metadata": {},
          "execution_count": 128
        }
      ]
    },
    {
      "cell_type": "code",
      "metadata": {
        "colab": {
          "base_uri": "https://localhost:8080/"
        },
        "id": "DDRdMUpcOxbt",
        "outputId": "980e8cfb-521e-4232-ba5d-2717a3cd7541"
      },
      "source": [
        "# Sample from it, noting the shape (5x5)\n",
        "\n",
        "bernoulli_batch.sample(5)"
      ],
      "execution_count": null,
      "outputs": [
        {
          "output_type": "execute_result",
          "data": {
            "text/plain": [
              "<tf.Tensor: shape=(5, 5), dtype=int32, numpy=\n",
              "array([[0, 0, 0, 1, 1],\n",
              "       [0, 1, 0, 1, 1],\n",
              "       [0, 0, 1, 1, 1],\n",
              "       [0, 0, 0, 1, 1],\n",
              "       [0, 0, 0, 1, 1]], dtype=int32)>"
            ]
          },
          "metadata": {},
          "execution_count": 129
        }
      ]
    },
    {
      "cell_type": "code",
      "metadata": {
        "colab": {
          "base_uri": "https://localhost:8080/"
        },
        "id": "PYJXZALsOxdk",
        "outputId": "ab7092ed-30eb-4f22-f80e-4f30ed16cca7"
      },
      "source": [
        "# Use a batch shape with higher rank\n",
        "\n",
        "probs = [[[0.5, 0.5], \n",
        "          [0.8, 0.3], \n",
        "          [0.25, 0.75]]]\n",
        "bernoulli_batch_2D = tfd.Bernoulli(probs=probs)\n",
        "bernoulli_batch_2D"
      ],
      "execution_count": null,
      "outputs": [
        {
          "output_type": "execute_result",
          "data": {
            "text/plain": [
              "<tfp.distributions.Bernoulli 'Bernoulli' batch_shape=[1, 3, 2] event_shape=[] dtype=int32>"
            ]
          },
          "metadata": {},
          "execution_count": 130
        }
      ]
    },
    {
      "cell_type": "code",
      "metadata": {
        "colab": {
          "base_uri": "https://localhost:8080/"
        },
        "id": "yDtXefAdOxfo",
        "outputId": "8973978d-2880-4d9d-985d-4112f53adb86"
      },
      "source": [
        "# Sample from this batch of distributions\n",
        "\n",
        "bernoulli_batch_2D.sample(5)"
      ],
      "execution_count": null,
      "outputs": [
        {
          "output_type": "execute_result",
          "data": {
            "text/plain": [
              "<tf.Tensor: shape=(5, 1, 3, 2), dtype=int32, numpy=\n",
              "array([[[[0, 0],\n",
              "         [1, 1],\n",
              "         [0, 1]]],\n",
              "\n",
              "\n",
              "       [[[0, 0],\n",
              "         [1, 0],\n",
              "         [0, 1]]],\n",
              "\n",
              "\n",
              "       [[[1, 0],\n",
              "         [1, 1],\n",
              "         [0, 1]]],\n",
              "\n",
              "\n",
              "       [[[1, 0],\n",
              "         [0, 0],\n",
              "         [0, 1]]],\n",
              "\n",
              "\n",
              "       [[[0, 1],\n",
              "         [1, 1],\n",
              "         [1, 0]]]], dtype=int32)>"
            ]
          },
          "metadata": {},
          "execution_count": 131
        }
      ]
    },
    {
      "cell_type": "code",
      "metadata": {
        "colab": {
          "base_uri": "https://localhost:8080/"
        },
        "id": "Wm3i19IfPArF",
        "outputId": "e6e99975-653b-4eed-ece5-f6285645c052"
      },
      "source": [
        "# Determine probabilities from this batch distribution\n",
        "\n",
        "bernoulli_batch_2D.prob([[[1, 0], \n",
        "                         [0, 0], \n",
        "                         [1, 1]]])"
      ],
      "execution_count": null,
      "outputs": [
        {
          "output_type": "execute_result",
          "data": {
            "text/plain": [
              "<tf.Tensor: shape=(1, 3, 2), dtype=float32, numpy=\n",
              "array([[[0.5       , 0.5       ],\n",
              "        [0.19999999, 0.7       ],\n",
              "        [0.25      , 0.75      ]]], dtype=float32)>"
            ]
          },
          "metadata": {},
          "execution_count": 132
        }
      ]
    },
    {
      "cell_type": "markdown",
      "metadata": {
        "id": "RzK7a811PDQu"
      },
      "source": [
        "***\n",
        "<a id='multivariate_distributions'></a>\n",
        "## Multivariate Distributions\n"
      ]
    },
    {
      "cell_type": "markdown",
      "metadata": {
        "id": "CEuFcBHePD4U"
      },
      "source": [
        "#### Basic multivariate distributions"
      ]
    },
    {
      "cell_type": "code",
      "metadata": {
        "colab": {
          "base_uri": "https://localhost:8080/"
        },
        "id": "QKRf5wcXPAtN",
        "outputId": "1369b87e-b1f5-4eae-880b-775e0c4adca7"
      },
      "source": [
        "# Define 2D multivariate Gaussian with diagonal covariance matrix\n",
        "\n",
        "normal_diag = tfd.MultivariateNormalDiag(loc=[0,1], scale_diag=[1,2])\n",
        "normal_diag"
      ],
      "execution_count": null,
      "outputs": [
        {
          "output_type": "execute_result",
          "data": {
            "text/plain": [
              "<tfp.distributions.MultivariateNormalDiag 'MultivariateNormalDiag' batch_shape=[] event_shape=[2] dtype=float32>"
            ]
          },
          "metadata": {},
          "execution_count": 135
        }
      ]
    },
    {
      "cell_type": "code",
      "metadata": {
        "colab": {
          "base_uri": "https://localhost:8080/"
        },
        "id": "TWfgQlI5PAvP",
        "outputId": "cb518da0-36af-4e11-cd41-c12127e71a7c"
      },
      "source": [
        "# Sample from it\n",
        "# shape is nr of samples x number of random variables (event shape)\n",
        "\n",
        "normal_diag.sample(10)"
      ],
      "execution_count": null,
      "outputs": [
        {
          "output_type": "execute_result",
          "data": {
            "text/plain": [
              "<tf.Tensor: shape=(10, 2), dtype=float32, numpy=\n",
              "array([[-0.48958328,  2.889566  ],\n",
              "       [-0.50546694,  0.9930791 ],\n",
              "       [ 1.300877  ,  1.770391  ],\n",
              "       [-2.9889584 ,  2.2526274 ],\n",
              "       [-0.8891398 ,  1.9469274 ],\n",
              "       [-1.5844265 , -1.2503903 ],\n",
              "       [-1.0179803 ,  1.302659  ],\n",
              "       [-0.09586073,  1.3923955 ],\n",
              "       [-0.3122441 ,  2.9065297 ],\n",
              "       [ 0.39839435,  0.40829754]], dtype=float32)>"
            ]
          },
          "metadata": {},
          "execution_count": 136
        }
      ]
    },
    {
      "cell_type": "code",
      "metadata": {
        "colab": {
          "base_uri": "https://localhost:8080/",
          "height": 265
        },
        "id": "AK9wk9ayPAxY",
        "outputId": "b0281662-47b4-4b2f-bb99-fc1e24ef643a"
      },
      "source": [
        "# Make a plot\n",
        "\n",
        "plt_sample = normal_diag.sample(10000)\n",
        "plt.scatter(plt_sample[:, 0], plt_sample[:, 1], marker='.', alpha=0.05)\n",
        "plt.axis('equal')\n",
        "plt.show()"
      ],
      "execution_count": null,
      "outputs": [
        {
          "output_type": "display_data",
          "data": {
            "image/png": "[encoded data removed]",
            "text/plain": [
              "<Figure size 432x288 with 1 Axes>"
            ]
          },
          "metadata": {
            "needs_background": "light"
          }
        }
      ]
    },
    {
      "cell_type": "markdown",
      "metadata": {
        "id": "iKAsXCO4PL1a"
      },
      "source": [
        "#### Batches of multivariate distributions"
      ]
    },
    {
      "cell_type": "code",
      "metadata": {
        "colab": {
          "base_uri": "https://localhost:8080/"
        },
        "id": "VACzj9uLPAzt",
        "outputId": "222b1037-808d-4403-ad6d-b5ba9482547e"
      },
      "source": [
        "# Create three \"batches\" of multivariate normals\n",
        "\n",
        "normal_diag_batch = tfd.MultivariateNormalDiag(loc=[[0,0], [0,0], [0,0]],\n",
        "                                               scale_diag=[[1,2], [2,1], [2,2]])\n",
        "normal_diag_batch"
      ],
      "execution_count": null,
      "outputs": [
        {
          "output_type": "execute_result",
          "data": {
            "text/plain": [
              "<tfp.distributions.MultivariateNormalDiag 'MultivariateNormalDiag' batch_shape=[3] event_shape=[2] dtype=float32>"
            ]
          },
          "metadata": {},
          "execution_count": 144
        }
      ]
    },
    {
      "cell_type": "code",
      "metadata": {
        "colab": {
          "base_uri": "https://localhost:8080/"
        },
        "id": "1z6zD1JlPNDC",
        "outputId": "5eceff2f-1323-4079-be90-1d80a3db65fc"
      },
      "source": [
        "# Sample from it\n",
        "# shape is number of samples x batch size x event shape (number of random variables)\n",
        "\n",
        "samples = normal_diag_batch.sample(5)\n",
        "samples"
      ],
      "execution_count": null,
      "outputs": [
        {
          "output_type": "execute_result",
          "data": {
            "text/plain": [
              "<tf.Tensor: shape=(5, 3, 2), dtype=float32, numpy=\n",
              "array([[[ 0.29961362,  1.1648543 ],\n",
              "        [ 0.9561108 , -0.05747294],\n",
              "        [-1.854802  ,  2.1274722 ]],\n",
              "\n",
              "       [[ 0.1547592 , -1.3092546 ],\n",
              "        [-1.1497984 , -0.03509409],\n",
              "        [-3.043224  , -1.449043  ]],\n",
              "\n",
              "       [[-1.300846  , -1.8879085 ],\n",
              "        [ 1.4802053 , -0.5850459 ],\n",
              "        [-1.841367  , -5.250524  ]],\n",
              "\n",
              "       [[-0.9080883 ,  0.5145316 ],\n",
              "        [-0.0360918 ,  1.5906875 ],\n",
              "        [ 1.4850668 ,  1.9667028 ]],\n",
              "\n",
              "       [[-0.6103264 ,  1.2452672 ],\n",
              "        [-0.18394378,  1.2608575 ],\n",
              "        [-1.1042159 ,  4.270896  ]]], dtype=float32)>"
            ]
          },
          "metadata": {},
          "execution_count": 145
        }
      ]
    },
    {
      "cell_type": "code",
      "metadata": {
        "colab": {
          "base_uri": "https://localhost:8080/"
        },
        "id": "tWzomiLdPNFY",
        "outputId": "6adc4c8f-bd7d-41c2-ae03-8523b4e0d1d9"
      },
      "source": [
        "# Compute log probs\n",
        "# shape is nr of samples x batch size \n",
        "\n",
        "normal_diag_batch.log_prob(samples)"
      ],
      "execution_count": null,
      "outputs": [
        {
          "output_type": "execute_result",
          "data": {
            "text/plain": [
              "<tf.Tensor: shape=(5, 3), dtype=float32, numpy=\n",
              "array([[-2.7455192, -2.6469443, -4.219975 ],\n",
              "       [-2.757268 , -2.6968946, -4.6442885],\n",
              "       [-3.8226492, -2.9760394, -7.094001 ],\n",
              "       [-2.9764292, -3.7963305, -3.9833393],\n",
              "       [-2.9111097, -3.3301344, -5.656652 ]], dtype=float32)>"
            ]
          },
          "metadata": {},
          "execution_count": 146
        }
      ]
    },
    {
      "cell_type": "code",
      "metadata": {
        "colab": {
          "base_uri": "https://localhost:8080/"
        },
        "id": "DZ0y3_3kPNHN",
        "outputId": "50a0a48b-bf67-4d93-fd13-5d0e78f07086"
      },
      "source": [
        "# Create a sample for a plot -- notice the shape\n",
        "# shape is number of samples x batch size x event shape\n",
        "\n",
        "plt_sample_batch = normal_diag_batch.sample(1000)\n",
        "plt_sample_batch.shape\n"
      ],
      "execution_count": null,
      "outputs": [
        {
          "output_type": "execute_result",
          "data": {
            "text/plain": [
              "TensorShape([1000, 3, 2])"
            ]
          },
          "metadata": {},
          "execution_count": 147
        }
      ]
    },
    {
      "cell_type": "code",
      "metadata": {
        "colab": {
          "base_uri": "https://localhost:8080/",
          "height": 227
        },
        "id": "s99xTIh9PNJG",
        "outputId": "b1ef5f70-8e66-47d5-d42d-29bbd0d19f92"
      },
      "source": [
        "# Plot samples from the batched multivariate Gaussian\n",
        "\n",
        "fig, axs = (plt.subplots(1, 3, sharex=True, sharey=True, figsize=(10, 3)))\n",
        "titles = ['cov_diag=[1, 2]','cov_diag=[2, 1]', 'cov_diag=[2, 2]']\n",
        "\n",
        "for i, (ax, title) in enumerate(zip(axs,titles)):\n",
        "    samples = plt_sample_batch[:,i,:] #take the ith batch [samples x event_shape]\n",
        "    ax.scatter(samples[:, 0], samples[:, 1], marker='.', alpha=0.05)\n",
        "    ax.set_title(title)\n",
        "plt.show()"
      ],
      "execution_count": null,
      "outputs": [
        {
          "output_type": "display_data",
          "data": {
            "image/png": "[encoded data removed]",
            "text/plain": [
              "<Figure size 720x216 with 3 Axes>"
            ]
          },
          "metadata": {
            "needs_background": "light"
          }
        }
      ]
    },
    {
      "cell_type": "markdown",
      "metadata": {
        "id": "GD7OKdrPPR9e"
      },
      "source": [
        "***\n",
        "<a id='the_independent_distribution'></a>\n",
        "## The Independent Distribution"
      ]
    },
    {
      "cell_type": "code",
      "metadata": {
        "id": "Z3OapFgTPNLY"
      },
      "source": [
        "# Start by defining a batch of two univariate Gaussians, \n",
        "# then combine them into a bivariate Gaussian with independent components \n",
        "# (the Independent class allows us to turn batches of univariate distributions into multivariate one)\n",
        "\n",
        "locs = [-1., 1]  # means\n",
        "scales = [0.5, 1]  # covs\n",
        "batch_of_normals = tfd.Normal(loc=locs, scale=scales)"
      ],
      "execution_count": null,
      "outputs": []
    },
    {
      "cell_type": "code",
      "metadata": {
        "id": "6odaPSwRPA1q",
        "colab": {
          "base_uri": "https://localhost:8080/",
          "height": 279
        },
        "outputId": "ee52ff60-780c-414b-bb7f-efaf851589bf"
      },
      "source": [
        "# Univariate density functions\n",
        "\n",
        "import seaborn as sns\n",
        "\n",
        "t = np.linspace(-4, 4, 10000)\n",
        "densities = batch_of_normals.prob(np.repeat(t[:, np.newaxis], 2, axis=1)) # each column is a vector of densities for one distn\n",
        "\n",
        "sns.lineplot(x=t, y=densities[:, 0], label='loc={}, scale={}'.format(locs[0], scales[0]))\n",
        "sns.lineplot(x=t, y=densities[:, 1], label='loc={}, scale={}'.format(locs[1], scales[1]))\n",
        "plt.ylabel('Probability density')\n",
        "plt.xlabel('Value')\n",
        "plt.legend()\n",
        "plt.show()"
      ],
      "execution_count": null,
      "outputs": [
        {
          "output_type": "display_data",
          "data": {
            "image/png": "[encoded data removed]",
            "text/plain": [
              "<Figure size 432x288 with 1 Axes>"
            ]
          },
          "metadata": {
            "needs_background": "light"
          }
        }
      ]
    },
    {
      "cell_type": "code",
      "metadata": {
        "id": "SH_9k9kyOxhz",
        "colab": {
          "base_uri": "https://localhost:8080/"
        },
        "outputId": "65301431-4fe8-4387-87d7-4cd4e83f4d8e"
      },
      "source": [
        "# Check their batch_shape and event_shape\n",
        "\n",
        "batch_of_normals"
      ],
      "execution_count": null,
      "outputs": [
        {
          "output_type": "execute_result",
          "data": {
            "text/plain": [
              "<tfp.distributions.Normal 'Normal' batch_shape=[2] event_shape=[] dtype=float32>"
            ]
          },
          "metadata": {},
          "execution_count": 151
        }
      ]
    },
    {
      "cell_type": "code",
      "metadata": {
        "id": "3CbqUV3tPVcC"
      },
      "source": [
        "# Use Independent to convert the batch shape to the event shape\n",
        "# (turn batches of separate distributions into a single joint density) \n",
        "# reinterpreted_batch_ndims = how many of the rightmost batch dimensions will be regarded as events in the new distribution. \n",
        "\n",
        "bivariate_normal_from_Independent = tfd.Independent(batch_of_normals, reinterpreted_batch_ndims=1)"
      ],
      "execution_count": null,
      "outputs": []
    },
    {
      "cell_type": "code",
      "metadata": {
        "id": "_PxjC_8mPVeL",
        "colab": {
          "base_uri": "https://localhost:8080/"
        },
        "outputId": "5b2df331-d1f3-4840-9b2f-aaaeacd2586e"
      },
      "source": [
        "# Note that dimension from batch_shape has shifted to event_shape\n",
        "\n",
        "bivariate_normal_from_Independent"
      ],
      "execution_count": null,
      "outputs": [
        {
          "output_type": "execute_result",
          "data": {
            "text/plain": [
              "<tfp.distributions.Independent 'IndependentNormal' batch_shape=[] event_shape=[2] dtype=float32>"
            ]
          },
          "metadata": {},
          "execution_count": 153
        }
      ]
    },
    {
      "cell_type": "code",
      "metadata": {
        "id": "S5RyhBp1PVf-",
        "colab": {
          "base_uri": "https://localhost:8080/",
          "height": 459
        },
        "outputId": "acdc28f9-862d-4bc4-905a-500e90eb1c54"
      },
      "source": [
        "# Create a plot showing joint density contours and marginal density functions\n",
        "# joint distribution in the middle and marginal distributions on the edges \n",
        "\n",
        "samples = bivariate_normal_from_Independent.sample(10000)\n",
        "x1 = samples[:, 0]\n",
        "x2 = samples[:, 1]\n",
        "sns.jointplot(x=x1, y=x2, kind=\"kde\", space=0, color='b', xlim=[-4, 4], ylim=[-4, 4])"
      ],
      "execution_count": null,
      "outputs": [
        {
          "output_type": "execute_result",
          "data": {
            "text/plain": [
              "<seaborn.axisgrid.JointGrid at 0x7f43f0195fd0>"
            ]
          },
          "metadata": {},
          "execution_count": 154
        },
        {
          "output_type": "display_data",
          "data": {
            "image/png": "[encoded data removed]",
            "text/plain": [
              "<Figure size 432x432 with 3 Axes>"
            ]
          },
          "metadata": {
            "needs_background": "light"
          }
        }
      ]
    },
    {
      "cell_type": "code",
      "metadata": {
        "id": "KvjneyOpPViH"
      },
      "source": [
        "# Use MultivariateNormalDiag to create the equivalent distribution\n",
        "# Note that diagonal covariance matrix => no correlation => independence (for the multivariate normal distribution)\n",
        "\n",
        "bivariate_normal_from_Multivariate = tfd.MultivariateNormalDiag(loc=locs, scale_diag=scales)"
      ],
      "execution_count": null,
      "outputs": []
    },
    {
      "cell_type": "code",
      "metadata": {
        "id": "sAISSIm_PVmC",
        "colab": {
          "base_uri": "https://localhost:8080/",
          "height": 459
        },
        "outputId": "2a9a7591-ba34-407e-e48a-29b0d40e19c6"
      },
      "source": [
        "# Plot the joint density function of bivariate_normal_from_Independent\n",
        "# Refer back to bivariate_normal_from_Independent to show that the plot is the same\n",
        "# Summarise how Independent has been used\n",
        "\n",
        "samples = bivariate_normal_from_Multivariate.sample(10000)\n",
        "x1 = samples[:, 0]\n",
        "x2 = samples[:, 1]\n",
        "sns.jointplot(x=x1, y=x2, kind=\"kde\", space=0, color='b', xlim=[-4, 4], ylim=[-4, 4])"
      ],
      "execution_count": null,
      "outputs": [
        {
          "output_type": "execute_result",
          "data": {
            "text/plain": [
              "<seaborn.axisgrid.JointGrid at 0x7f43effa4c50>"
            ]
          },
          "metadata": {},
          "execution_count": 156
        },
        {
          "output_type": "display_data",
          "data": {
            "image/png": "[encoded data removed]",
            "text/plain": [
              "<Figure size 432x432 with 3 Axes>"
            ]
          },
          "metadata": {
            "needs_background": "light"
          }
        }
      ]
    },
    {
      "cell_type": "markdown",
      "metadata": {
        "id": "kBmJTflFPgX8"
      },
      "source": [
        "#### Shifting batch dimensions to event dimensions using \n",
        "`reinterpreted_batch_ndims`"
      ]
    },
    {
      "cell_type": "code",
      "metadata": {
        "id": "3ElUh7ooPVoT"
      },
      "source": [
        "# Demonstrate use of reinterpreted_batch_ndims\n",
        "# By default all batch dims except the first are transferred to event dims\n",
        "\n",
        "# 3 gaussians each with 2 dims\n",
        "loc_grid = [[-100., -100.],\n",
        "            [100., 100.],\n",
        "            [0., 0.]]\n",
        "scale_grid = [[1., 10.],\n",
        "              [1., 10.],\n",
        "              [1., 1.]]\n",
        "\n",
        "normals_batch_3by2_event_1 = tfd.Normal(loc=loc_grid, scale=scale_grid)"
      ],
      "execution_count": null,
      "outputs": []
    },
    {
      "cell_type": "code",
      "metadata": {
        "id": "UW076VI1PVqX",
        "colab": {
          "base_uri": "https://localhost:8080/"
        },
        "outputId": "92ea269d-e781-4bd4-b144-7f41e9b5039b"
      },
      "source": [
        "# Highlight batch_shape\n",
        "# by default, independent will reinterpret all dimensions, except the first, as events \n",
        "\n",
        "normals_batch_3by2_event_1"
      ],
      "execution_count": null,
      "outputs": [
        {
          "output_type": "execute_result",
          "data": {
            "text/plain": [
              "<tfp.distributions.Normal 'Normal' batch_shape=[3, 2] event_shape=[] dtype=float32>"
            ]
          },
          "metadata": {},
          "execution_count": 158
        }
      ]
    },
    {
      "cell_type": "code",
      "metadata": {
        "id": "snxii1-1PjDh",
        "colab": {
          "base_uri": "https://localhost:8080/"
        },
        "outputId": "9b2a6ed3-7ed5-49e4-c3bc-46f81de235a4"
      },
      "source": [
        "# We now have a batch of 3 bivariate normal distributions,\n",
        "# each parametrised by a column of our original parameter grid\n",
        "\n",
        "normals_batch_2_event_2 = tfd.Independent(normals_batch_3by2_event_1)\n",
        "normals_batch_2_event_2"
      ],
      "execution_count": null,
      "outputs": [
        {
          "output_type": "execute_result",
          "data": {
            "text/plain": [
              "<tfp.distributions.Independent 'IndependentNormal' batch_shape=[3] event_shape=[2] dtype=float32>"
            ]
          },
          "metadata": {},
          "execution_count": 159
        }
      ]
    },
    {
      "cell_type": "code",
      "metadata": {
        "id": "oYRK8aJRPjFn",
        "colab": {
          "base_uri": "https://localhost:8080/"
        },
        "outputId": "2f35a7dd-4a3c-4570-99c7-94ab828630b5"
      },
      "source": [
        "# Evaluate log_prob\n",
        "\n",
        "normals_batch_2_event_2.log_prob(value=[[-10., 10.],\n",
        "                                        [100., 100.],\n",
        "                                        [1., 1.]])"
      ],
      "execution_count": null,
      "outputs": [
        {
          "output_type": "execute_result",
          "data": {
            "text/plain": [
              "<tf.Tensor: shape=(3,), dtype=float32, numpy=array([-4.1146406e+03, -4.1404624e+00, -2.8378770e+00], dtype=float32)>"
            ]
          },
          "metadata": {},
          "execution_count": 160
        }
      ]
    },
    {
      "cell_type": "code",
      "metadata": {
        "id": "-TEOyYpGPjHt",
        "colab": {
          "base_uri": "https://localhost:8080/"
        },
        "outputId": "aa63284d-ba69-48be-8cdf-f9089cade086"
      },
      "source": [
        "# Can reinterpret _all_ batch dimensions as event dimensions\n",
        "\n",
        "normals_batch_1_event_2by3 = tfd.Independent(normals_batch_3by2_event_1, reinterpreted_batch_ndims=2)\n",
        "normals_batch_1_event_2by3"
      ],
      "execution_count": null,
      "outputs": [
        {
          "output_type": "execute_result",
          "data": {
            "text/plain": [
              "<tfp.distributions.Independent 'IndependentNormal' batch_shape=[] event_shape=[3, 2] dtype=float32>"
            ]
          },
          "metadata": {},
          "execution_count": 161
        }
      ]
    },
    {
      "cell_type": "code",
      "metadata": {
        "id": "srhRE9_OPjJy",
        "colab": {
          "base_uri": "https://localhost:8080/"
        },
        "outputId": "83074734-f497-4c5d-e7e0-26d49b8bcd77"
      },
      "source": [
        "# Take log_probs \n",
        "\n",
        "normals_batch_1_event_2by3.log_prob(value=[[-10., 10.],\n",
        "                                        [100., 100.],\n",
        "                                        [1., 1.]])"
      ],
      "execution_count": null,
      "outputs": [
        {
          "output_type": "execute_result",
          "data": {
            "text/plain": [
              "<tf.Tensor: shape=(), dtype=float32, numpy=-4121.619>"
            ]
          },
          "metadata": {},
          "execution_count": 162
        }
      ]
    },
    {
      "cell_type": "markdown",
      "metadata": {
        "id": "uJT4aGThPo3N"
      },
      "source": [
        "#### Using `Independent` to build a Naive Bayes classifier"
      ]
    },
    {
      "cell_type": "markdown",
      "metadata": {
        "id": "eQHYYxvjPo5R"
      },
      "source": [
        "#### Introduction to `newsgroups` data set"
      ]
    },
    {
      "cell_type": "markdown",
      "metadata": {
        "id": "_kMutHLBPo7H"
      },
      "source": [
        "In this tutorial, just load the dataset, fetch train/test splits, probably choose a subset of the data.\n",
        "\n",
        "Construct the class conditional feature distribution (with Independent, using the Naive Bayes assumption) and sample from it.\n",
        "\n",
        "We can just use the ML estimates for parameters, in later tutorials we will learn them."
      ]
    },
    {
      "cell_type": "code",
      "metadata": {
        "id": "ytOsZU-tPjLr"
      },
      "source": [
        "# Convenience function for retrieving the 20 newsgroups data set\n",
        "\n",
        "# Usenet was a forerunner to modern internet forums\n",
        "# Users could post and read articles\n",
        "# Newsgroup corresponded to a topic\n",
        "# Example topics in this data set: IBM computer hardware, baseball\n",
        "# Our objective is to use an article's contents to predict its newsgroup,\n",
        "# a 20-class classification problem.\n",
        "\n",
        "# 18000 newsgroups, posts on 20 topics\n",
        "from sklearn.datasets import fetch_20newsgroups\n",
        "from sklearn.feature_extraction.text import CountVectorizer"
      ],
      "execution_count": null,
      "outputs": []
    },
    {
      "cell_type": "code",
      "metadata": {
        "id": "4yWVxu26Pt6p"
      },
      "source": [
        "# Get the train data\n",
        "\n",
        "newsgroup_data = fetch_20newsgroups(data_home='20_Newsgroup_Data/', subset='train')"
      ],
      "execution_count": null,
      "outputs": []
    },
    {
      "cell_type": "code",
      "metadata": {
        "id": "1npKmQr3Pt9A",
        "colab": {
          "base_uri": "https://localhost:8080/"
        },
        "outputId": "e77314d0-4338-4560-d477-6fe544d06b26"
      },
      "source": [
        "# More information about the data set\n",
        "\n",
        "print(newsgroup_data['DESCR'])"
      ],
      "execution_count": null,
      "outputs": [
        {
          "output_type": "stream",
          "name": "stdout",
          "text": [
            ".. _20newsgroups_dataset:\n",
            "\n",
            "The 20 newsgroups text dataset\n",
            "------------------------------\n",
            "\n",
            "The 20 newsgroups dataset comprises around 18000 newsgroups posts on\n",
            "20 topics split in two subsets: one for training (or development)\n",
            "and the other one for testing (or for performance evaluation). The split\n",
            "between the train and test set is based upon a messages posted before\n",
            "and after a specific date.\n",
            "\n",
            "This module contains two loaders. The first one,\n",
            ":func:`sklearn.datasets.fetch_20newsgroups`,\n",
            "returns a list of the raw texts that can be fed to text feature\n",
            "extractors such as :class:`sklearn.feature_extraction.text.CountVectorizer`\n",
            "with custom parameters so as to extract feature vectors.\n",
            "The second one, :func:`sklearn.datasets.fetch_20newsgroups_vectorized`,\n",
            "returns ready-to-use features, i.e., it is not necessary to use a feature\n",
            "extractor.\n",
            "\n",
            "**Data Set Characteristics:**\n",
            "\n",
            "    =================   ==========\n",
            "    Classes                     20\n",
            "    Samples total            18846\n",
            "    Dimensionality               1\n",
            "    Features                  text\n",
            "    =================   ==========\n",
            "\n",
            "Usage\n",
            "~~~~~\n",
            "\n",
            "The :func:`sklearn.datasets.fetch_20newsgroups` function is a data\n",
            "fetching / caching functions that downloads the data archive from\n",
            "the original `20 newsgroups website`_, extracts the archive contents\n",
            "in the ``~/scikit_learn_data/20news_home`` folder and calls the\n",
            ":func:`sklearn.datasets.load_files` on either the training or\n",
            "testing set folder, or both of them::\n",
            "\n",
            "  >>> from sklearn.datasets import fetch_20newsgroups\n",
            "  >>> newsgroups_train = fetch_20newsgroups(subset='train')\n",
            "\n",
            "  >>> from pprint import pprint\n",
            "  >>> pprint(list(newsgroups_train.target_names))\n",
            "  ['alt.atheism',\n",
            "   'comp.graphics',\n",
            "   'comp.os.ms-windows.misc',\n",
            "   'comp.sys.ibm.pc.hardware',\n",
            "   'comp.sys.mac.hardware',\n",
            "   'comp.windows.x',\n",
            "   'misc.forsale',\n",
            "   'rec.autos',\n",
            "   'rec.motorcycles',\n",
            "   'rec.sport.baseball',\n",
            "   'rec.sport.hockey',\n",
            "   'sci.crypt',\n",
            "   'sci.electronics',\n",
            "   'sci.med',\n",
            "   'sci.space',\n",
            "   'soc.religion.christian',\n",
            "   'talk.politics.guns',\n",
            "   'talk.politics.mideast',\n",
            "   'talk.politics.misc',\n",
            "   'talk.religion.misc']\n",
            "\n",
            "The real data lies in the ``filenames`` and ``target`` attributes. The target\n",
            "attribute is the integer index of the category::\n",
            "\n",
            "  >>> newsgroups_train.filenames.shape\n",
            "  (11314,)\n",
            "  >>> newsgroups_train.target.shape\n",
            "  (11314,)\n",
            "  >>> newsgroups_train.target[:10]\n",
            "  array([ 7,  4,  4,  1, 14, 16, 13,  3,  2,  4])\n",
            "\n",
            "It is possible to load only a sub-selection of the categories by passing the\n",
            "list of the categories to load to the\n",
            ":func:`sklearn.datasets.fetch_20newsgroups` function::\n",
            "\n",
            "  >>> cats = ['alt.atheism', 'sci.space']\n",
            "  >>> newsgroups_train = fetch_20newsgroups(subset='train', categories=cats)\n",
            "\n",
            "  >>> list(newsgroups_train.target_names)\n",
            "  ['alt.atheism', 'sci.space']\n",
            "  >>> newsgroups_train.filenames.shape\n",
            "  (1073,)\n",
            "  >>> newsgroups_train.target.shape\n",
            "  (1073,)\n",
            "  >>> newsgroups_train.target[:10]\n",
            "  array([0, 1, 1, 1, 0, 1, 1, 0, 0, 0])\n",
            "\n",
            "Converting text to vectors\n",
            "~~~~~~~~~~~~~~~~~~~~~~~~~~\n",
            "\n",
            "In order to feed predictive or clustering models with the text data,\n",
            "one first need to turn the text into vectors of numerical values suitable\n",
            "for statistical analysis. This can be achieved with the utilities of the\n",
            "``sklearn.feature_extraction.text`` as demonstrated in the following\n",
            "example that extract `TF-IDF`_ vectors of unigram tokens\n",
            "from a subset of 20news::\n",
            "\n",
            "  >>> from sklearn.feature_extraction.text import TfidfVectorizer\n",
            "  >>> categories = ['alt.atheism', 'talk.religion.misc',\n",
            "  ...               'comp.graphics', 'sci.space']\n",
            "  >>> newsgroups_train = fetch_20newsgroups(subset='train',\n",
            "  ...                                       categories=categories)\n",
            "  >>> vectorizer = TfidfVectorizer()\n",
            "  >>> vectors = vectorizer.fit_transform(newsgroups_train.data)\n",
            "  >>> vectors.shape\n",
            "  (2034, 34118)\n",
            "\n",
            "The extracted TF-IDF vectors are very sparse, with an average of 159 non-zero\n",
            "components by sample in a more than 30000-dimensional space\n",
            "(less than .5% non-zero features)::\n",
            "\n",
            "  >>> vectors.nnz / float(vectors.shape[0])\n",
            "  159.01327...\n",
            "\n",
            ":func:`sklearn.datasets.fetch_20newsgroups_vectorized` is a function which \n",
            "returns ready-to-use token counts features instead of file names.\n",
            "\n",
            ".. _`20 newsgroups website`: http://people.csail.mit.edu/jrennie/20Newsgroups/\n",
            ".. _`TF-IDF`: https://en.wikipedia.org/wiki/Tf-idf\n",
            "\n",
            "\n",
            "Filtering text for more realistic training\n",
            "~~~~~~~~~~~~~~~~~~~~~~~~~~~~~~~~~~~~~~~~~~\n",
            "\n",
            "It is easy for a classifier to overfit on particular things that appear in the\n",
            "20 Newsgroups data, such as newsgroup headers. Many classifiers achieve very\n",
            "high F-scores, but their results would not generalize to other documents that\n",
            "aren't from this window of time.\n",
            "\n",
            "For example, let's look at the results of a multinomial Naive Bayes classifier,\n",
            "which is fast to train and achieves a decent F-score::\n",
            "\n",
            "  >>> from sklearn.naive_bayes import MultinomialNB\n",
            "  >>> from sklearn import metrics\n",
            "  >>> newsgroups_test = fetch_20newsgroups(subset='test',\n",
            "  ...                                      categories=categories)\n",
            "  >>> vectors_test = vectorizer.transform(newsgroups_test.data)\n",
            "  >>> clf = MultinomialNB(alpha=.01)\n",
            "  >>> clf.fit(vectors, newsgroups_train.target)\n",
            "  MultinomialNB(alpha=0.01, class_prior=None, fit_prior=True)\n",
            "\n",
            "  >>> pred = clf.predict(vectors_test)\n",
            "  >>> metrics.f1_score(newsgroups_test.target, pred, average='macro')\n",
            "  0.88213...\n",
            "\n",
            "(The example :ref:`sphx_glr_auto_examples_text_plot_document_classification_20newsgroups.py` shuffles\n",
            "the training and test data, instead of segmenting by time, and in that case\n",
            "multinomial Naive Bayes gets a much higher F-score of 0.88. Are you suspicious\n",
            "yet of what's going on inside this classifier?)\n",
            "\n",
            "Let's take a look at what the most informative features are:\n",
            "\n",
            "  >>> import numpy as np\n",
            "  >>> def show_top10(classifier, vectorizer, categories):\n",
            "  ...     feature_names = np.asarray(vectorizer.get_feature_names())\n",
            "  ...     for i, category in enumerate(categories):\n",
            "  ...         top10 = np.argsort(classifier.coef_[i])[-10:]\n",
            "  ...         print(\"%s: %s\" % (category, \" \".join(feature_names[top10])))\n",
            "  ...\n",
            "  >>> show_top10(clf, vectorizer, newsgroups_train.target_names)\n",
            "  alt.atheism: edu it and in you that is of to the\n",
            "  comp.graphics: edu in graphics it is for and of to the\n",
            "  sci.space: edu it that is in and space to of the\n",
            "  talk.religion.misc: not it you in is that and to of the\n",
            "\n",
            "\n",
            "You can now see many things that these features have overfit to:\n",
            "\n",
            "- Almost every group is distinguished by whether headers such as\n",
            "  ``NNTP-Posting-Host:`` and ``Distribution:`` appear more or less often.\n",
            "- Another significant feature involves whether the sender is affiliated with\n",
            "  a university, as indicated either by their headers or their signature.\n",
            "- The word \"article\" is a significant feature, based on how often people quote\n",
            "  previous posts like this: \"In article [article ID], [name] <[e-mail address]>\n",
            "  wrote:\"\n",
            "- Other features match the names and e-mail addresses of particular people who\n",
            "  were posting at the time.\n",
            "\n",
            "With such an abundance of clues that distinguish newsgroups, the classifiers\n",
            "barely have to identify topics from text at all, and they all perform at the\n",
            "same high level.\n",
            "\n",
            "For this reason, the functions that load 20 Newsgroups data provide a\n",
            "parameter called **remove**, telling it what kinds of information to strip out\n",
            "of each file. **remove** should be a tuple containing any subset of\n",
            "``('headers', 'footers', 'quotes')``, telling it to remove headers, signature\n",
            "blocks, and quotation blocks respectively.\n",
            "\n",
            "  >>> newsgroups_test = fetch_20newsgroups(subset='test',\n",
            "  ...                                      remove=('headers', 'footers', 'quotes'),\n",
            "  ...                                      categories=categories)\n",
            "  >>> vectors_test = vectorizer.transform(newsgroups_test.data)\n",
            "  >>> pred = clf.predict(vectors_test)\n",
            "  >>> metrics.f1_score(pred, newsgroups_test.target, average='macro')\n",
            "  0.77310...\n",
            "\n",
            "This classifier lost over a lot of its F-score, just because we removed\n",
            "metadata that has little to do with topic classification.\n",
            "It loses even more if we also strip this metadata from the training data:\n",
            "\n",
            "  >>> newsgroups_train = fetch_20newsgroups(subset='train',\n",
            "  ...                                       remove=('headers', 'footers', 'quotes'),\n",
            "  ...                                       categories=categories)\n",
            "  >>> vectors = vectorizer.fit_transform(newsgroups_train.data)\n",
            "  >>> clf = MultinomialNB(alpha=.01)\n",
            "  >>> clf.fit(vectors, newsgroups_train.target)\n",
            "  MultinomialNB(alpha=0.01, class_prior=None, fit_prior=True)\n",
            "\n",
            "  >>> vectors_test = vectorizer.transform(newsgroups_test.data)\n",
            "  >>> pred = clf.predict(vectors_test)\n",
            "  >>> metrics.f1_score(newsgroups_test.target, pred, average='macro')\n",
            "  0.76995...\n",
            "\n",
            "Some other classifiers cope better with this harder version of the task. Try\n",
            "running :ref:`sphx_glr_auto_examples_model_selection_grid_search_text_feature_extraction.py` with and without\n",
            "the ``--filter`` option to compare the results.\n",
            "\n",
            ".. topic:: Recommendation\n",
            "\n",
            "  When evaluating text classifiers on the 20 Newsgroups data, you\n",
            "  should strip newsgroup-related metadata. In scikit-learn, you can do this by\n",
            "  setting ``remove=('headers', 'footers', 'quotes')``. The F-score will be\n",
            "  lower because it is more realistic.\n",
            "\n",
            ".. topic:: Examples\n",
            "\n",
            "   * :ref:`sphx_glr_auto_examples_model_selection_grid_search_text_feature_extraction.py`\n",
            "\n",
            "   * :ref:`sphx_glr_auto_examples_text_plot_document_classification_20newsgroups.py`\n",
            "\n"
          ]
        }
      ]
    },
    {
      "cell_type": "code",
      "metadata": {
        "id": "MVgQyRC-Pt_H",
        "colab": {
          "base_uri": "https://localhost:8080/"
        },
        "outputId": "c03416af-b4fb-4d99-be14-cf3764248be8"
      },
      "source": [
        "# Example article\n",
        "\n",
        "print(newsgroup_data['data'][0])"
      ],
      "execution_count": null,
      "outputs": [
        {
          "output_type": "stream",
          "name": "stdout",
          "text": [
            "From: lerxst@wam.umd.edu (where's my thing)\n",
            "Subject: WHAT car is this!?\n",
            "Nntp-Posting-Host: rac3.wam.umd.edu\n",
            "Organization: University of Maryland, College Park\n",
            "Lines: 15\n",
            "\n",
            " I was wondering if anyone out there could enlighten me on this car I saw\n",
            "the other day. It was a 2-door sports car, looked to be from the late 60s/\n",
            "early 70s. It was called a Bricklin. The doors were really small. In addition,\n",
            "the front bumper was separate from the rest of the body. This is \n",
            "all I know. If anyone can tellme a model name, engine specs, years\n",
            "of production, where this car is made, history, or whatever info you\n",
            "have on this funky looking car, please e-mail.\n",
            "\n",
            "Thanks,\n",
            "- IL\n",
            "   ---- brought to you by your neighborhood Lerxst ----\n",
            "\n",
            "\n",
            "\n",
            "\n",
            "\n"
          ]
        }
      ]
    },
    {
      "cell_type": "code",
      "metadata": {
        "id": "N12sN025PuBP",
        "colab": {
          "base_uri": "https://localhost:8080/"
        },
        "outputId": "ccc909f0-18d8-4f06-b57d-6f3f6b1e9c21"
      },
      "source": [
        "# Associated label\n",
        "\n",
        "newsgroup_data['target'][0]"
      ],
      "execution_count": null,
      "outputs": [
        {
          "output_type": "execute_result",
          "data": {
            "text/plain": [
              "7"
            ]
          },
          "metadata": {},
          "execution_count": 167
        }
      ]
    },
    {
      "cell_type": "code",
      "metadata": {
        "id": "4IgcL3sfPuDM",
        "colab": {
          "base_uri": "https://localhost:8080/",
          "height": 36
        },
        "outputId": "586a8214-3b92-40d1-bdb0-0593520afd2c"
      },
      "source": [
        "# Name of label\n",
        "\n",
        "newsgroup_data['target_names'][7]"
      ],
      "execution_count": null,
      "outputs": [
        {
          "output_type": "execute_result",
          "data": {
            "application/vnd.google.colaboratory.intrinsic+json": {
              "type": "string"
            },
            "text/plain": [
              "'rec.autos'"
            ]
          },
          "metadata": {},
          "execution_count": 168
        }
      ]
    },
    {
      "cell_type": "code",
      "metadata": {
        "id": "b8BNuadpPjON"
      },
      "source": [
        "# Preprocessing boilerplate\n",
        "\n",
        "n_documents = len(newsgroup_data['data'])\n",
        "\n",
        "count_vectorizer = CountVectorizer(input='content', binary=True,\n",
        "                                   max_df=0.25, min_df=1.01/n_documents) # ignore common words, words that appear once\n",
        "binary_bag_of_words = count_vectorizer.fit_transform(newsgroup_data['data']) # input is a list of strings\n"
      ],
      "execution_count": null,
      "outputs": []
    },
    {
      "cell_type": "code",
      "metadata": {
        "id": "-kL7t1OJPzSn",
        "colab": {
          "base_uri": "https://localhost:8080/"
        },
        "outputId": "271c65e9-abf1-47ee-8862-b91d97ca114b"
      },
      "source": [
        "# Check shape\n",
        "\n",
        "binary_bag_of_words.shape"
      ],
      "execution_count": null,
      "outputs": [
        {
          "output_type": "execute_result",
          "data": {
            "text/plain": [
              "(11314, 56365)"
            ]
          },
          "metadata": {},
          "execution_count": 170
        }
      ]
    },
    {
      "cell_type": "code",
      "metadata": {
        "id": "iMGMBBybPzUk",
        "colab": {
          "base_uri": "https://localhost:8080/"
        },
        "outputId": "1ec420a2-23ef-4a48-b555-5cffe62c71ac"
      },
      "source": [
        "# Check that the fit has been successful\n",
        "\n",
        "count_vectorizer.inverse_transform(binary_bag_of_words[0,:])"
      ],
      "execution_count": null,
      "outputs": [
        {
          "output_type": "execute_result",
          "data": {
            "text/plain": [
              "[array(['lerxst', 'wam', 'umd', 'where', 'thing', 'car', 'rac3',\n",
              "        'maryland', 'college', 'park', '15', 'wondering', 'anyone',\n",
              "        'could', 'enlighten', 'saw', 'day', 'door', 'sports', 'looked',\n",
              "        'late', '60s', 'early', '70s', 'called', 'bricklin', 'doors',\n",
              "        'were', 'really', 'small', 'addition', 'front', 'bumper',\n",
              "        'separate', 'rest', 'body', 'tellme', 'model', 'name', 'engine',\n",
              "        'specs', 'years', 'production', 'made', 'history', 'whatever',\n",
              "        'info', 'funky', 'looking', 'please', 'mail', 'thanks', 'il',\n",
              "        'brought', 'neighborhood'], dtype='<U80')]"
            ]
          },
          "metadata": {},
          "execution_count": 171
        }
      ]
    },
    {
      "cell_type": "code",
      "metadata": {
        "id": "TT3Ez5moPzWg"
      },
      "source": [
        "# Dict that will be useful later \n",
        "\n",
        "inv_vocabulary = {value:key for key, value in count_vectorizer.vocabulary_.items()}"
      ],
      "execution_count": null,
      "outputs": []
    },
    {
      "cell_type": "markdown",
      "metadata": {
        "id": "wBPbucoeP3Ku"
      },
      "source": [
        "#### A Naive Bayes classifier for `newsgroup`"
      ]
    },
    {
      "cell_type": "markdown",
      "metadata": {
        "id": "aHQ-wEpvP3M3"
      },
      "source": [
        "Each feature vector $x$ is a list of indicators for whether a word appears in the article. $x_i$ is 1 if the $i$th word appears, and 0 otherwise. `inv_vocabulary` matches word indices $i$ to words.\n",
        "\n",
        "Each label $y$ is a value in $0, 1, \\ldots, 19$.\n",
        "\n",
        "The parts of a naive Bayes classifier for this problem can be summarised as:  \n",
        "\n",
        "\n",
        "- A probability distribution for the feature vector by class, $p(x|y = j)$ for each $j = 0, 1, \\ldots, 19$. These probability distributions are assumed to have independent components: we can factorize the joint probability as a product of marginal probabilities\n",
        "\\begin{equation}\n",
        "    p(x|y = j) = \\prod_{i=1}^d p(x_i|y = j)\n",
        "\\end{equation}\n",
        "These marginal probability distributions are Bernoulli distributions, each of which has a single parameter $\\theta_{ji} := p(x_i = 1|y = j)$. This parameter is the probability of observing word $i$ in an article of class $j$. \n",
        "\n",
        "- We will use the Laplace smoothed maximum likelihood estimate to compute these parameters. Laplace smoothing involves adding small counts to every feature for each class. Else, if a feature did not appear in the training set of a class, but then we observed it in our test data the log probability would be undefined.\n",
        "\n",
        "- A collection of class prior probabilities $p(y = j)$. These will be set by computing the class base rates in the training set.  \n",
        "\n",
        "\n",
        "- A function for computing the probability of class membership via Bayes' theorem:  \n",
        "\n",
        "\\begin{equation}\n",
        "    p(y = j|x) = \\frac{p(x|y = j)p(y = j)}{p(x)}\n",
        "\\end{equation}"
      ]
    },
    {
      "cell_type": "code",
      "metadata": {
        "id": "d5c67vQ-PzYo"
      },
      "source": [
        "# Compute the parameter estimates (adjusted fraction of documents in class that contain word)\n",
        "\n",
        "n_classes = newsgroup_data['target'].max() + 1\n",
        "y = newsgroup_data['target']\n",
        "n_words = binary_bag_of_words.shape[1]\n",
        "\n",
        "alpha = 1e-6 # parameters for Laplace smoothing\n",
        "\n",
        "theta = np.zeros([n_classes, n_words]) # stores parameter values - prob. word given class\n",
        "for c_k in range(n_classes): # 0, 1, ..., 19\n",
        "    class_mask = (y == c_k)\n",
        "    N = class_mask.sum() # number of articles in class\n",
        "    theta[c_k, :] = (binary_bag_of_words[class_mask, :].sum(axis=0) + alpha)/(N + alpha*2)"
      ],
      "execution_count": null,
      "outputs": []
    },
    {
      "cell_type": "code",
      "metadata": {
        "id": "xYHOh8X8Pzas",
        "colab": {
          "base_uri": "https://localhost:8080/"
        },
        "outputId": "b29aa94e-a9ac-4ee0-962f-56a6ce73e32a"
      },
      "source": [
        "# Check whether the most probable word in each class is reasonable\n",
        "\n",
        "most_probable_word_ix = theta.argmax(axis=1) # most probable word for each class\n",
        "\n",
        "for j, ix in enumerate(most_probable_word_ix):\n",
        "    print('Most probable word in class {} is \"{}\".'.format(newsgroup_data['target_names'][j],\n",
        "                                                           inv_vocabulary[ix]))"
      ],
      "execution_count": null,
      "outputs": [
        {
          "output_type": "stream",
          "name": "stdout",
          "text": [
            "Most probable word in class alt.atheism is \"people\".\n",
            "Most probable word in class comp.graphics is \"graphics\".\n",
            "Most probable word in class comp.os.ms-windows.misc is \"windows\".\n",
            "Most probable word in class comp.sys.ibm.pc.hardware is \"thanks\".\n",
            "Most probable word in class comp.sys.mac.hardware is \"mac\".\n",
            "Most probable word in class comp.windows.x is \"window\".\n",
            "Most probable word in class misc.forsale is \"sale\".\n",
            "Most probable word in class rec.autos is \"car\".\n",
            "Most probable word in class rec.motorcycles is \"dod\".\n",
            "Most probable word in class rec.sport.baseball is \"he\".\n",
            "Most probable word in class rec.sport.hockey is \"ca\".\n",
            "Most probable word in class sci.crypt is \"clipper\".\n",
            "Most probable word in class sci.electronics is \"use\".\n",
            "Most probable word in class sci.med is \"reply\".\n",
            "Most probable word in class sci.space is \"space\".\n",
            "Most probable word in class soc.religion.christian is \"god\".\n",
            "Most probable word in class talk.politics.guns is \"people\".\n",
            "Most probable word in class talk.politics.mideast is \"people\".\n",
            "Most probable word in class talk.politics.misc is \"people\".\n",
            "Most probable word in class talk.religion.misc is \"he\".\n"
          ]
        }
      ]
    },
    {
      "cell_type": "code",
      "metadata": {
        "id": "ZMAcztK9P8u7",
        "colab": {
          "base_uri": "https://localhost:8080/"
        },
        "outputId": "fa8b20e6-12db-4b14-b2d7-032a5f561fa1"
      },
      "source": [
        "# Define a distribution for each class (20 distributions for 20 classes)\n",
        "\n",
        "batch_of_bernoullis = tfd.Bernoulli(probs=theta)\n",
        "p_x_given_y = tfd.Independent(batch_of_bernoullis, reinterpreted_batch_ndims=1)\n",
        "p_x_given_y"
      ],
      "execution_count": null,
      "outputs": [
        {
          "output_type": "execute_result",
          "data": {
            "text/plain": [
              "<tfp.distributions.Independent 'IndependentBernoulli' batch_shape=[20] event_shape=[56365] dtype=int32>"
            ]
          },
          "metadata": {},
          "execution_count": 175
        }
      ]
    },
    {
      "cell_type": "code",
      "metadata": {
        "id": "TXbIr9ANP8xE",
        "colab": {
          "base_uri": "https://localhost:8080/"
        },
        "outputId": "c169b807-193b-4106-914f-d6310302493e"
      },
      "source": [
        "# Take a sample of words from each class\n",
        "\n",
        "n_samples = 10\n",
        "sample = p_x_given_y.sample(n_samples)\n",
        "sample.shape  # nr of samples x nr of classes x vocab size"
      ],
      "execution_count": null,
      "outputs": [
        {
          "output_type": "execute_result",
          "data": {
            "text/plain": [
              "TensorShape([10, 20, 56365])"
            ]
          },
          "metadata": {},
          "execution_count": 176
        }
      ]
    },
    {
      "cell_type": "code",
      "metadata": {
        "id": "T7lRL2wfP8zN",
        "colab": {
          "base_uri": "https://localhost:8080/",
          "height": 36
        },
        "outputId": "2cdfed6c-9835-47d0-fd5c-c4d5768197aa"
      },
      "source": [
        "# Choose a class\n",
        "\n",
        "chosen_class = 15\n",
        "newsgroup_data['target_names'][chosen_class]"
      ],
      "execution_count": null,
      "outputs": [
        {
          "output_type": "execute_result",
          "data": {
            "application/vnd.google.colaboratory.intrinsic+json": {
              "type": "string"
            },
            "text/plain": [
              "'soc.religion.christian'"
            ]
          },
          "metadata": {},
          "execution_count": 177
        }
      ]
    },
    {
      "cell_type": "code",
      "metadata": {
        "id": "J0wxylK0P81S",
        "colab": {
          "base_uri": "https://localhost:8080/"
        },
        "outputId": "41eea808-177d-4383-f72b-071f1e9faa62"
      },
      "source": [
        "# Indicators for words that appear in the sample\n",
        "\n",
        "class_sample = sample[:, chosen_class, :]\n",
        "class_sample"
      ],
      "execution_count": null,
      "outputs": [
        {
          "output_type": "execute_result",
          "data": {
            "text/plain": [
              "<tf.Tensor: shape=(10, 56365), dtype=int32, numpy=\n",
              "array([[1, 0, 0, ..., 0, 0, 0],\n",
              "       [0, 0, 0, ..., 0, 0, 0],\n",
              "       [0, 0, 0, ..., 0, 0, 0],\n",
              "       ...,\n",
              "       [0, 0, 0, ..., 0, 0, 0],\n",
              "       [0, 0, 0, ..., 0, 0, 0],\n",
              "       [0, 0, 0, ..., 0, 0, 0]], dtype=int32)>"
            ]
          },
          "metadata": {},
          "execution_count": 178
        }
      ]
    },
    {
      "cell_type": "code",
      "metadata": {
        "id": "Bl93GH14P83X",
        "colab": {
          "base_uri": "https://localhost:8080/"
        },
        "outputId": "06853fa8-2ef5-46b9-dfec-5585635f1e93"
      },
      "source": [
        "# Perform inverse transform to test quality of fit\n",
        "\n",
        "count_vectorizer.inverse_transform(class_sample)"
      ],
      "execution_count": null,
      "outputs": [
        {
          "output_type": "execute_result",
          "data": {
            "text/plain": [
              "[array(['00', '03', '05', '14', '1989', '2a', 'aaron', 'absolutely',\n",
              "        'accepted', 'actually', 'alastair', 'alle', 'ancient', 'apart',\n",
              "        'ask', 'association', 'bass', 'bbn', 'because', 'becoming', 'been',\n",
              "        'before', 'being', 'believe', 'bible', 'big', 'bind', 'bit',\n",
              "        'brainwashed', 'called', 'came', 'check', 'christian',\n",
              "        'christians', 'cited', 'commandments', 'committed',\n",
              "        'contradictory', 'conveys', 'cooperate', 'csd', 'cup', 'death',\n",
              "        'define', 'definitely', 'describing', 'did', 'die', 'discovering',\n",
              "        'discussion', 'dispute', 'disputes', 'does', 'either', 'emphasis',\n",
              "        'end', 'even', 'every', 'evidence', 'excellent', 'explicit',\n",
              "        'eyes', 'following', 'found', 'generally', 'god', 'going', 'greek',\n",
              "        'groups', 'happen', 'happening', 'he', 'help', 'holds',\n",
              "        'hypothesis', 'insists', 'intended', 'introductory', 'jews', 'joy',\n",
              "        'let', 'lifestyle', 'live', 'losing', 'lukewarm', 'maintains',\n",
              "        'making', 'man', 'matter', 'may', 'met', 'moral', 'movie', 'never',\n",
              "        'new', 'non', 'now', 'okay', 'over', 'overseas', 'passages',\n",
              "        'past', 'people', 'person', 'pity', 'plurality', 'praying',\n",
              "        'probably', 'promised', 'question', 'radio', 'rapacity', 'reason',\n",
              "        'refrain', 'related', 'reliability', 'remind', 'reread',\n",
              "        'responding', 'right', 'rutgers', 'salt', 'same', 'service', 'sil',\n",
              "        'society', 'specifically', 'spiritual', 'ssd', 'stephen', 'steven',\n",
              "        'stronger', 'such', 'take', 'talking', 'temporal', 'testimony',\n",
              "        'tests', 'their', 'them', 'then', 'these', 'thing', 'those',\n",
              "        'through', 'thrust', 'timing', 'tom', 'too', 'towards', 'true',\n",
              "        'trust', 'two', 'urbana', 'use', 'uu', 'viewed', 'way', 'why',\n",
              "        'woman', 'worship', 'write'], dtype='<U80'),\n",
              " array(['18669', '19', '1950', '1993', '22102', 'aaron', 'above',\n",
              "        'actions', 'address', 'again', 'always', 'atheists', 'athos',\n",
              "        'atoned', 'authority', 'bear', 'been', 'being', 'bill', 'board',\n",
              "        'born', 'breastplate', 'causes', 'changed', 'choices', 'christ',\n",
              "        'church', 'claim', 'clare', 'college', 'comment', 'conspiracy',\n",
              "        'context', 'continues', 'correct', 'course', 'cu', 'definitely',\n",
              "        'desire', 'desired', 'deviations', 'discover', 'dogmatism', 'down',\n",
              "        'dreams', 'eternal', 'europe', 'evensont', 'fear', 'fi', 'find',\n",
              "        'finds', 'fisher', 'flourished', 'formal', 'found', 'fully',\n",
              "        'geneva', 'gmi', 'god', 'good', 'gospel', 'governments', 'greater',\n",
              "        'gregory', 'ground', 'guess', 'heard', 'heaven', 'hence',\n",
              "        'historical', 'holy', 'hope', 'james', 'jayne', 'jesus', 'junior',\n",
              "        'knowlege', 'koresh', 'later', 'lewis', 'lifetime', 'lot', 'lpa',\n",
              "        'maintain', 'man', 'many', 'marriage', 'maybe', 'mmh', 'modern',\n",
              "        'moon', 'mosque', 'most', 'must', 'myself', 'nature',\n",
              "        'nebuchadnezzar', 'need', 'now', 'okay', 'once', 'pastor',\n",
              "        'people', 'personal', 'personally', 'phrase', 'please', 'points',\n",
              "        'posted', 'prism', 'programs', 'promoting', 'question', 'rarely',\n",
              "        'really', 'rebellion', 'received', 'rest', 'return', 'revelation',\n",
              "        'right', 'said', 'same', 'saved', 'seconds', 'sentence', 'show',\n",
              "        'sins', 'sometimes', 'standing', 'stores', 'straws', 'stupid',\n",
              "        'suggest', 'suspect', 'talk', 'teachings', 'tell', 'thee', 'these',\n",
              "        'things', 'think', 'third', 'thou', 'time', 'together', 'told',\n",
              "        'too', 'try', 'unbelievable', 'understanding', 'uni', 'using',\n",
              "        'various', 'vaxc', 'very', 'weight', 'why', 'without', 'world',\n",
              "        'york'], dtype='<U80'),\n",
              " array(['09', '19', '1993', '23', 'allows', 'amount', 'answer', 'anyone',\n",
              "        'apr', 'assembled', 'attribute', 'back', 'basic', 'because',\n",
              "        'been', 'biblical', 'brimstone', 'canon', 'carolina', 'case',\n",
              "        'christians', 'cristo', 'dead', 'denial', 'difficulty', 'drew',\n",
              "        'ecn', 'encounter', 'encyclopedia', 'entire', 'faith', 'finger',\n",
              "        'form', 'found', 'further', 'gather', 'general', 'gives', 'guards',\n",
              "        'he', 'here', 'hidden', 'him', 'himself', 'his', 'honest', 'humor',\n",
              "        'immediately', 'important', 'inherit', 'introduction', 'jude',\n",
              "        'known', 'labs', 'letter', 'log', 'longer', 'made', 'magazine',\n",
              "        'marry', 'meaning', 'member', 'messiahs', 'might', 'nearly',\n",
              "        'need', 'needs', 'negative', 'never', 'normally', 'now', 'order',\n",
              "        'parts', 'people', 'period', 'persecuted', 'person', 'praise',\n",
              "        'probably', 'problem', 'processes', 'prophet', 'publicly',\n",
              "        'reason', 'received', 'recommend', 'recommended', 'redemption',\n",
              "        'request', 'right', 'satanic', 'seen', 'send', 'sending',\n",
              "        'severly', 'simply', 'small', 'someday', 'sometimes', 'statement',\n",
              "        'statements', 'student', 'supposed', 'teneis', 'than', 'their',\n",
              "        'them', 'these', 'things', 'those', 'through', 'times', 'tiring',\n",
              "        'together', 'tone', 'treat', 'under', 'valid', 'veiled', 'were',\n",
              "        'whatever', 'whereby', 'while', 'why', 'woman', 'work'],\n",
              "       dtype='<U80'),\n",
              " array(['05', '213', '25', '30602', '59', '66', 'accurate', 'acs',\n",
              "        'albrecht', 'arrogance', 'ask', 'association', 'awfully', 'bad',\n",
              "        'being', 'below', 'boredom', 'both', 'bps', 'brimstone', 'ca',\n",
              "        'caused', 'christ', 'christian', 'church', 'clh', 'collosions',\n",
              "        'commands', 'conclusion', 'coupled', 'cross', 'crossan', 'darius',\n",
              "        'david', 'dead', 'decided', 'discard', 'discussion', 'effect',\n",
              "        'embrase', 'enough', 'ere', 'eternal', 'excellent', 'far', 'fold',\n",
              "        'free', 'general', 'going', 'got', 'gov', 'grace', 'greatest',\n",
              "        'he', 'hence', 'him', 'his', 'important', 'impression',\n",
              "        'indescribably', 'indications', 'internal', 'interpretation',\n",
              "        'invited', 'jemurray', 'jews', 'jh', 'judge', 'leads', 'lies',\n",
              "        'life', 'lot', 'lots', 'many', 'mark', 'mary', 'maybe', 'means',\n",
              "        'mind', 'modern', 'moses', 'moslem', 'most', 'northwestern',\n",
              "        'nothing', 'order', 'part', 'pogrom', 'point', 'process', 'proof',\n",
              "        'punish', 'put', 'rather', 'react', 'reading', 'real', 'reasoning',\n",
              "        'resurrection', 'right', 'rolfe', 'rsteele', 'saying',\n",
              "        'scriptures', 'should', 'society', 'store', 'suffer', 'suggest',\n",
              "        'tell', 'thanks', 'then', 'things', 'think', 'threatened',\n",
              "        'through', 'throughout', 'tibet', 'trying', 'turned', 'videotapes',\n",
              "        'way', 'ways', 'while', 'whole', 'withheld', 'work'], dtype='<U80'),\n",
              " array(['01', '02', '0358', '11', '19', '21', '28445', '64', '8029',\n",
              "        '9760', 'also', 'amusing', 'analogy', 'angry', 'appears', 'aren',\n",
              "        'assembled', 'attracts', 'because', 'been', 'being', 'believe',\n",
              "        'bgsu', 'body', 'born', 'box', 'breakup', 'buddhist', 'carnegie',\n",
              "        'century', 'checked', 'claim', 'claiming', 'come', 'condemnation',\n",
              "        'courageously', 'detail', 'didn', 'died', 'diety', 'different',\n",
              "        'does', 'drawing', 'easter', 'ever', 'every', 'excuse', 'exists',\n",
              "        'expectation', 'explicitly', 'fabrication', 'fall', 'fiat', 'find',\n",
              "        'gave', 'general', 'gifts', 'god', 'great', 'group', 'groups',\n",
              "        'he', 'hear', 'heaven', 'held', 'help', 'him', 'history',\n",
              "        'interpretation', 'jesus', 'jimmy', 'lake', 'last', 'least',\n",
              "        'legislate', 'let', 'lift', 'male', 'mary', 'might', 'mussack',\n",
              "        'natural', 'night', 'older', 'opinions', 'organizational', 'oulu',\n",
              "        'our', 'over', 'people', 'provided', 'ran', 'religions',\n",
              "        'removing', 'representative', 'rest', 'rev', 'riches', 'road',\n",
              "        'rushing', 'sake', 'saving', 'see', 'send', 'sin', 'solar',\n",
              "        'something', 'spelling', 'sps', 'suggest', 'sure', 'surrounding',\n",
              "        'textbooks', 'think', 'through', 'tolerate', 'too', 'transfer',\n",
              "        'true', 'truths', 'uchicago', 'undergraduate', 'upenn', 'usually',\n",
              "        'utterly', 'version', 'vic', 'view', 'welch', 'whereas', 'without',\n",
              "        'wrong', 'yes'], dtype='<U80'),\n",
              " array(['01', '02', '09', '16', '41', '72', 'able', 'accepting', 'ahmadi',\n",
              "        'also', 'anderson', 'answer', 'appearances', 'assuming',\n",
              "        'atheists', 'au', 'away', 'band', 'being', 'believe', 'billh',\n",
              "        'body', 'changes', 'chanted', 'children', 'christians', 'clh',\n",
              "        'college', 'compuserve', 'conclusion', 'convert', 'coordinated',\n",
              "        'could', 'courage', 'crying', 'debated', 'deficiencies',\n",
              "        'definition', 'doctrine', 'earliest', 'entered', 'escape',\n",
              "        'eternal', 'events', 'exist', 'form', 'former', 'forth',\n",
              "        'freshman', 'grace', 'greek', 'had', 'hardly', 'heard', 'here',\n",
              "        'home', 'immediately', 'impossibility', 'impression',\n",
              "        'invitations', 'involving', 'isn', 'its', 'itself', 'jesus',\n",
              "        'jewish', 'jews', 'johnson', 'kingdom', 'lady', 'least', 'los',\n",
              "        'many', 'mark', 'materialists', 'may', 'motive', 'murray',\n",
              "        'nature', 'new', 'next', 'non', 'nothing', 'often', 'ogden',\n",
              "        'once', 'opinion', 'order', 'part', 'particular', 'parts', 'paul',\n",
              "        'personal', 'poster', 'principle', 'product', 'promise', 'public',\n",
              "        'ready', 'reasonable', 'refrain', 'region', 'religion', 'remember',\n",
              "        'rooted', 'say', 'sciences', 'second', 'seeing', 'site', 'society',\n",
              "        'songs', 'spirit', 'steve', 'studying', 'such', 'sure',\n",
              "        'teachings', 'their', 'these', 'think', 'thomas', 'throughout',\n",
              "        'tone', 'trojan', 'trying', 'unnecessary', 'us', 'useful',\n",
              "        'validity', 'verbal', 'violate', 'war', 'well', 'were',\n",
              "        'wittgenstein', 'wrongly', 'wrote', 'york', 'yours'], dtype='<U80'),\n",
              " array(['01', '0358', '13', '20', '44', '54', 'account', 'accounts',\n",
              "        'acts', 'actually', 'again', 'am', 'angels', 'assumption',\n",
              "        'authority', 'awarded', 'basis', 'because', 'been', 'behavior',\n",
              "        'believers', 'bible', 'bulls', 'called', 'cc', 'certain', 'christ',\n",
              "        'christian', 'church', 'claims', 'cloak', 'clock', 'colorado',\n",
              "        'commendation', 'con', 'crusades', 'cult', 'current', 'dayton',\n",
              "        'dear', 'demanded', 'disagreement', 'division', 'double', 'each',\n",
              "        'effects', 'either', 'equally', 'etc', 'ever', 'everything',\n",
              "        'expression', 'fact', 'family', 'festival', 'follows', 'fraser',\n",
              "        'fsu', 'fundamental', 'general', 'granted', 'greatest', 'greeks',\n",
              "        'having', 'hebrew', 'heresey', 'him', 'hot', 'however', 'iu',\n",
              "        'jesus', 'kingdom', 'later', 'leads', 'lifetime', 'listened',\n",
              "        'liturgical', 'look', 'looks', 'marry', 'model', 'most', 'moved',\n",
              "        'much', 'natural', 'newsletter', 'non', 'now', 'occasion', 'off',\n",
              "        'operates', 'optimistic', 'pain', 'participants', 'penetration',\n",
              "        'people', 'point', 'presents', 'primarily', 'probably', 'question',\n",
              "        'quo', 'rampant', 'realize', 'relevant', 'religion', 'said',\n",
              "        'salvation', 'same', 'selfish', 'series', 'serious', 'service',\n",
              "        'sexes', 'should', 'soc', 'someone', 'st', 'stick', 'such',\n",
              "        'suggested', 'talks', 'taught', 'terrible', 'then', 'thing',\n",
              "        'think', 'thought', 'toledo', 'topic', 'trinity', 'true',\n",
              "        'trunking_fixed', 'trying', 'two', 'uniwa', 'unix', 'via',\n",
              "        'wanted', 'wasn', 'way', 'whole', 'wished', 'worse'], dtype='<U80'),\n",
              " array(['03', '13', '19', '1993', '24', '30', '592682', 'absolute',\n",
              "        'abstinence', 'ac', 'again', 'animals', 'apparently', 'asked',\n",
              "        'assumptions', 'basics', 'bed', 'begin', 'being', 'believe',\n",
              "        'blame', 'box', 'brings', 'came', 'cannot', 'carried', 'chris',\n",
              "        'christendom', 'christian', 'christians', 'claim', 'completely',\n",
              "        'computer', 'confirmed', 'confusion', 'consecration', 'could',\n",
              "        'covers', 'created', 'defined', 'deny', 'descent', 'determination',\n",
              "        'dies', 'disciples', 'done', 'early', 'engaged', 'esteem', 'even',\n",
              "        'ever', 'falsely', 'fellowship', 'form', 'further', 'general',\n",
              "        'gentile', 'give', 'god', 'happen', 'he', 'held', 'himself', 'his',\n",
              "        'imagine', 'interpretation', 'ishtar', 'john', 'judge', 'judged',\n",
              "        'knowing', 'led', 'let', 'life', 'ling', 'little', 'make',\n",
              "        'marched', 'michael', 'moderate', 'moreover', 'mormon', 'never',\n",
              "        'new', 'nice', 'nyx', 'often', 'old', 'order', 'organisms',\n",
              "        'people', 'peter', 'pihatie', 'pihko', 'point', 'president',\n",
              "        'proved', 'punishable', 'reading', 'recent', 'resurection', 'same',\n",
              "        'see', 'seperated', 'several', 'share', 'should', 'show', 'sig',\n",
              "        'smoldering', 'spoke', 'stood', 'styles', 'such', 'systems',\n",
              "        'talking', 'than', 'then', 'therefore', 'toward', 'traditional',\n",
              "        'training', 'tull', 'us', 'uth', 'very', 'wage', 'weak', 'woman',\n",
              "        'world'], dtype='<U80'),\n",
              " array(['10', '16', '20', '5of5', '62', '68', '706', 'account', 'acs',\n",
              "        'ages', 'also', 'am', 'amazing', 'among', 'anyone', 'apostles',\n",
              "        'approaching', 'athena', 'bears', 'because', 'biblical',\n",
              "        'blessings', 'body', 'book', 'ca', 'call', 'called', 'capable',\n",
              "        'cease', 'center', 'charge', 'china', 'christians', 'civil',\n",
              "        'claims', 'cleanse', 'company', 'day', 'dead', 'decided', 'dept',\n",
              "        'did', 'disobedience', 'disproves', 'due', 'duty', 'eternal',\n",
              "        'evangelicals', 'everything', 'evidence', 'fairly', 'faith',\n",
              "        'find', 'fire', 'forms', 'front', 'fundamentalist', 'gets', 'god',\n",
              "        'got', 'gov', 'gut', 'haya', 'he', 'hell', 'his', 'incarnate',\n",
              "        'indeed', 'infonode', 'instead', 'involving', 'limit', 'literal',\n",
              "        'longer', 'mankind', 'meantime', 'might', 'minds', 'near', 'never',\n",
              "        'new', 'news', 'nobody', 'normally', 'now', 'objects', 'offer',\n",
              "        'okay', 'openly', 'opinion', 'own', 'people', 'percieved',\n",
              "        'perfect', 'phone', 'pointed', 'position', 'possible', 'post',\n",
              "        'presence', 'probably', 'problem', 'question', 'randy', 'read',\n",
              "        'refusal', 'regards', 'remarked', 'sad', 'same', 'say', 'science',\n",
              "        'scientist', 'seminary', 'sense', 'share', 'sight', 'signs',\n",
              "        'silence', 'sin', 'since', 'slave', 'somebody', 'statements',\n",
              "        'states', 'sunday', 'suspend', 'tell', 'than', 'them', 'though',\n",
              "        'through', 'times', 'troi', 'unisa', 'urge', 'us', 'utterly',\n",
              "        'very', 'weekly', 'well', 'without', 'woman', 'working', 'written'],\n",
              "       dtype='<U80'),\n",
              " array(['06', '100', '111', '16', '17', '90', 'absure', 'actually',\n",
              "        'africa', 'african', 'ago', 'ah', 'allowed', 'along', 'anyone',\n",
              "        'anything', 'apr', 'areas', 'associate', 'associated', 'bask',\n",
              "        'because', 'before', 'behind', 'being', 'better', 'children',\n",
              "        'christ', 'claim', 'clean', 'clear', 'collection', 'come',\n",
              "        'coming', 'contorting', 'creator', 'cruel', 'defy', 'difficult',\n",
              "        'digress', 'discipline', 'earthly', 'else', 'enacted',\n",
              "        'enlightenment', 'everyone', 'example', 'favor', 'fell', 'firstly',\n",
              "        'fortunately', 'general', 'gippsland', 'gives', 'goat', 'group',\n",
              "        'he', 'heard', 'helps', 'himself', 'hinduism', 'insist',\n",
              "        'interventionists', 'involved', 'jeezus', 'judgment', 'kind',\n",
              "        'kulikauskas', 'larsen', 'lois', 'lost', 'many', 'medicine', 'met',\n",
              "        'mine', 'moment', 'much', 'must', 'newness', 'nietzsche', 'non',\n",
              "        'nothing', 'opinion', 'original', 'otherwise', 'paganism',\n",
              "        'particular', 'peter', 'proof', 'provoking', 'punched', 'really',\n",
              "        'refers', 'relativism', 'religions', 'revelation', 'rutgers',\n",
              "        'sackcloth', 'safety', 'say', 'seemed', 'seems', 'separation',\n",
              "        'sept', 'shanti', 'since', 'specifically', 'strongly', 'takes',\n",
              "        'than', 'theological', 'therefore', 'thing', 'things', 'tolerate',\n",
              "        'trinity', 'trying', 'unbiblical', 'uncertainty', 'until', 'us',\n",
              "        'uw', 'very', 'wbt', 'were', 'whose', 'witness', 'words', 'works',\n",
              "        'world', 'wouldn', 'year'], dtype='<U80')]"
            ]
          },
          "metadata": {},
          "execution_count": 179
        }
      ]
    },
    {
      "cell_type": "markdown",
      "metadata": {
        "id": "lqg6pMS9QF4i"
      },
      "source": [
        "***\n",
        "<a id='sampling_and_log_probs'></a>\n",
        "## Sampling and log probs"
      ]
    },
    {
      "cell_type": "code",
      "metadata": {
        "id": "wrS-GrXUP85V",
        "colab": {
          "base_uri": "https://localhost:8080/"
        },
        "outputId": "c8d72183-b557-422b-a070-c07dc6860d28"
      },
      "source": [
        "# Make Multivariate Distribution\n",
        "\n",
        "normal_distributions = tfd.MultivariateNormalDiag(loc=[[0.5, 1], [0.1, 0], [0, 0.2]],\n",
        "                                 scale_diag=[[2, 3], [1, 3], [4, 4]])\n",
        "normal_distributions"
      ],
      "execution_count": 18,
      "outputs": [
        {
          "output_type": "execute_result",
          "data": {
            "text/plain": [
              "<tfp.distributions.MultivariateNormalDiag 'MultivariateNormalDiag' batch_shape=[3] event_shape=[2] dtype=float32>"
            ]
          },
          "metadata": {},
          "execution_count": 18
        }
      ]
    },
    {
      "cell_type": "code",
      "metadata": {
        "id": "LmmaOFfvQHne",
        "colab": {
          "base_uri": "https://localhost:8080/"
        },
        "outputId": "9ac1768b-89dd-488d-fb58-1dcf17676043"
      },
      "source": [
        "# Sample\n",
        "\n",
        "normal_distributions.sample(5)"
      ],
      "execution_count": 19,
      "outputs": [
        {
          "output_type": "execute_result",
          "data": {
            "text/plain": [
              "<tf.Tensor: shape=(5, 3, 2), dtype=float32, numpy=\n",
              "array([[[-1.2961674 , -3.4648843 ],\n",
              "        [-1.7259144 , -2.356639  ],\n",
              "        [-1.7776723 ,  0.9847862 ]],\n",
              "\n",
              "       [[ 0.8520931 ,  3.0043614 ],\n",
              "        [-1.4252505 ,  4.269158  ],\n",
              "        [ 2.541176  ,  0.38246575]],\n",
              "\n",
              "       [[ 0.0661459 ,  0.64083046],\n",
              "        [-1.6084905 , -3.1842263 ],\n",
              "        [ 2.0696645 , -1.9636502 ]],\n",
              "\n",
              "       [[ 0.6721385 ,  2.5767398 ],\n",
              "        [-1.1781933 , -0.02150659],\n",
              "        [-1.5799453 , -3.6013174 ]],\n",
              "\n",
              "       [[-1.9095645 , -0.96390367],\n",
              "        [ 0.1170806 , -1.9153602 ],\n",
              "        [ 0.15956835,  4.828182  ]]], dtype=float32)>"
            ]
          },
          "metadata": {},
          "execution_count": 19
        }
      ]
    },
    {
      "cell_type": "code",
      "metadata": {
        "id": "6uz63pvfQHpu",
        "colab": {
          "base_uri": "https://localhost:8080/"
        },
        "outputId": "b5eab933-200f-4562-b33d-1607f686bc43"
      },
      "source": [
        "# Multivariate Normal batched Distribution\n",
        "# We are broadcasting batch shapes of `loc` and `scal_diag` \n",
        "# against each other\n",
        "\n",
        "loc = [[[0.3, 1.5, 1.], [0.2, 0.4, 2.8]],\n",
        "        [[2., 2.3, 8], [1.4, 1, 1.3]]]\n",
        "scale_diag = [0.4, 1., 0.7]\n",
        "normal_distributions = tfd.MultivariateNormalDiag(loc=loc, scale_diag=scale_diag)\n",
        "normal_distributions"
      ],
      "execution_count": 20,
      "outputs": [
        {
          "output_type": "execute_result",
          "data": {
            "text/plain": [
              "<tfp.distributions.MultivariateNormalDiag 'MultivariateNormalDiag' batch_shape=[2, 2] event_shape=[3] dtype=float32>"
            ]
          },
          "metadata": {},
          "execution_count": 20
        }
      ]
    },
    {
      "cell_type": "code",
      "metadata": {
        "id": "QDLYNK1aQHsE",
        "colab": {
          "base_uri": "https://localhost:8080/"
        },
        "outputId": "59601b12-e898-4e38-9c37-96ea0f22285e"
      },
      "source": [
        "# Use independent to move part of the batch shape\n",
        "\n",
        "ind_normal_distributions = tfd.Independent(normal_distributions, reinterpreted_batch_ndims=1)\n",
        "ind_normal_distributions"
      ],
      "execution_count": 21,
      "outputs": [
        {
          "output_type": "execute_result",
          "data": {
            "text/plain": [
              "<tfp.distributions.Independent 'IndependentMultivariateNormalDiag' batch_shape=[2] event_shape=[2, 3] dtype=float32>"
            ]
          },
          "metadata": {},
          "execution_count": 21
        }
      ]
    },
    {
      "cell_type": "code",
      "metadata": {
        "id": "xwsxlafmPzcm",
        "colab": {
          "base_uri": "https://localhost:8080/"
        },
        "outputId": "809be1c2-08db-45f4-d786-d2cf4d6a6e8f"
      },
      "source": [
        "# Draw some samples\n",
        "\n",
        "samples = ind_normal_distributions.sample(5)\n",
        "samples.shape"
      ],
      "execution_count": 22,
      "outputs": [
        {
          "output_type": "execute_result",
          "data": {
            "text/plain": [
              "TensorShape([5, 2, 2, 3])"
            ]
          },
          "metadata": {},
          "execution_count": 22
        }
      ]
    },
    {
      "cell_type": "code",
      "metadata": {
        "id": "i4jIuegXPze8",
        "colab": {
          "base_uri": "https://localhost:8080/"
        },
        "outputId": "8ef25534-bf9a-4b1c-ef09-e9bb94c8b8f9"
      },
      "source": [
        "# `[B, E]` shaped input\n",
        "\n",
        "inp = tf.random.uniform((2, 2, 3))\n",
        "ind_normal_distributions.log_prob(inp)"
      ],
      "execution_count": 23,
      "outputs": [
        {
          "output_type": "execute_result",
          "data": {
            "text/plain": [
              "<tf.Tensor: shape=(2,), dtype=float32, numpy=array([-10.683702, -70.85609 ], dtype=float32)>"
            ]
          },
          "metadata": {},
          "execution_count": 23
        }
      ]
    },
    {
      "cell_type": "code",
      "metadata": {
        "id": "sA5DKxWpPzg1",
        "colab": {
          "base_uri": "https://localhost:8080/"
        },
        "outputId": "04e9d370-9ad0-4185-86cf-107420e722ea"
      },
      "source": [
        "# `[E]` shaped input (broadcasting over batch size)\n",
        "\n",
        "inp = tf.random.uniform((2, 3))\n",
        "ind_normal_distributions.log_prob(inp)"
      ],
      "execution_count": 24,
      "outputs": [
        {
          "output_type": "execute_result",
          "data": {
            "text/plain": [
              "<tf.Tensor: shape=(2,), dtype=float32, numpy=array([ -9.249443, -75.61279 ], dtype=float32)>"
            ]
          },
          "metadata": {},
          "execution_count": 24
        }
      ]
    },
    {
      "cell_type": "code",
      "metadata": {
        "id": "G9-yB6bnQNBi",
        "colab": {
          "base_uri": "https://localhost:8080/"
        },
        "outputId": "c28ba9c3-c80f-4533-fd01-12d064d1276f"
      },
      "source": [
        "#`[S, B, E]` shaped input (broadcasting over samples)\n",
        "\n",
        "inp = tf.random.uniform((9, 2, 2, 3))\n",
        "ind_normal_distributions.log_prob(inp)"
      ],
      "execution_count": 25,
      "outputs": [
        {
          "output_type": "execute_result",
          "data": {
            "text/plain": [
              "<tf.Tensor: shape=(9, 2), dtype=float32, numpy=\n",
              "array([[-12.21836 , -70.394684],\n",
              "       [ -7.264469, -85.92087 ],\n",
              "       [ -7.722307, -77.85683 ],\n",
              "       [-10.986505, -77.435074],\n",
              "       [-11.681156, -67.48659 ],\n",
              "       [ -9.741246, -68.502914],\n",
              "       [ -9.467726, -76.27688 ],\n",
              "       [-11.667308, -75.85168 ],\n",
              "       [-10.043331, -82.41718 ]], dtype=float32)>"
            ]
          },
          "metadata": {},
          "execution_count": 25
        }
      ]
    },
    {
      "cell_type": "code",
      "metadata": {
        "id": "pKu_q5pzQNDh",
        "colab": {
          "base_uri": "https://localhost:8080/"
        },
        "outputId": "1bf3dc00-8d96-4cc8-8a8c-13440143cd3b"
      },
      "source": [
        "# `[S, b, e]` shaped input, where [b, e] is broadcastable over [B, E]\n",
        "\n",
        "inp = tf.random.uniform((5, 1, 2, 1))\n",
        "ind_normal_distributions.log_prob(inp)"
      ],
      "execution_count": 26,
      "outputs": [
        {
          "output_type": "stream",
          "name": "stdout",
          "text": [
            "WARNING: Nested component \"MultivariateNormalDiag_scale_matvec_linear_operator\" in composition \"MultivariateNormalDiag_chain_of_MultivariateNormalDiag_shift_of_MultivariateNormalDiag_scale_matvec_linear_operator\" operates on inputs with increased degrees of freedom. This may result in an incorrect log_det_jacobian.\n"
          ]
        },
        {
          "output_type": "execute_result",
          "data": {
            "text/plain": [
              "<tf.Tensor: shape=(5, 2), dtype=float32, numpy=\n",
              "array([[ -9.131046, -70.296005],\n",
              "       [-10.460278, -83.73175 ],\n",
              "       [-11.657809, -80.00502 ],\n",
              "       [-11.055916, -67.27801 ],\n",
              "       [-10.54241 , -82.90212 ]], dtype=float32)>"
            ]
          },
          "metadata": {},
          "execution_count": 26
        }
      ]
    },
    {
      "cell_type": "markdown",
      "metadata": {
        "id": "tKsg4WhKQRQl"
      },
      "source": [
        "#### Naive Bayes example\n",
        "\n",
        "Lets now use what we have learned and continue the Naive Bayes classifier we were building last tutorial."
      ]
    },
    {
      "cell_type": "code",
      "metadata": {
        "id": "e48PWcpvQNFZ"
      },
      "source": [
        "from sklearn.datasets import fetch_20newsgroups\n",
        "from sklearn.feature_extraction.text import CountVectorizer\n",
        "from sklearn.naive_bayes import BernoulliNB\n",
        "from sklearn.metrics import f1_score"
      ],
      "execution_count": 27,
      "outputs": []
    },
    {
      "cell_type": "code",
      "metadata": {
        "id": "acPLRMaJQNHc"
      },
      "source": [
        "# Making a function get_data which:\n",
        "#   1) Fetches the 20 newsgroup dataset\n",
        "#   2) Performs a word count on the articles and binarizes the result\n",
        "#   3) Returns the data as a numpy matrix with the labels\n",
        "\n",
        "def get_data(categories):\n",
        "    \n",
        "    newsgroups_train_data = fetch_20newsgroups(data_home='20_Newsgroup_Data/',\n",
        "                                               subset='train', categories=categories)\n",
        "    newsgroups_test_data = fetch_20newsgroups(data_home='20_Newsgroup_Data/',\n",
        "                                              subset='test', categories=categories)\n",
        "\n",
        "    n_documents = len(newsgroups_train_data['data'])\n",
        "    count_vectorizer = CountVectorizer(input='content', binary=True,max_df=0.25, min_df=1.01/n_documents)\n",
        "    \n",
        "    train_binary_bag_of_words = count_vectorizer.fit_transform(newsgroups_train_data['data'])\n",
        "    test_binary_bag_of_words = count_vectorizer.transform(newsgroups_test_data['data']) \n",
        "\n",
        "    return (train_binary_bag_of_words.todense(), newsgroups_train_data['target']),  (test_binary_bag_of_words.todense(), newsgroups_test_data['target'])"
      ],
      "execution_count": 29,
      "outputs": []
    },
    {
      "cell_type": "code",
      "metadata": {
        "id": "MUL00XtOQNJP"
      },
      "source": [
        "# Defining a function to conduct Laplace smoothing. This adds a base level of probability for a given feature\n",
        "# to occur in every class.\n",
        "\n",
        "def laplace_smoothing(labels, binary_data, n_classes):\n",
        "    # Compute the parameter estimates (adjusted fraction of documents in class that contain word)\n",
        "    n_words = binary_data.shape[1]\n",
        "    alpha = 1 # parameters for Laplace smoothing\n",
        "    theta = np.zeros([n_classes, n_words]) # stores parameter values - prob. word given class\n",
        "    for c_k in range(n_classes): # 0, 1, ..., 19\n",
        "        class_mask = (labels == c_k)\n",
        "        N = class_mask.sum() # number of articles in class\n",
        "        theta[c_k, :] = (binary_data[class_mask, :].sum(axis=0) + alpha)/(N + alpha*2)\n",
        "\n",
        "    return theta"
      ],
      "execution_count": 30,
      "outputs": []
    },
    {
      "cell_type": "code",
      "metadata": {
        "id": "MhVz70LSQNLT"
      },
      "source": [
        "# Getting a subset of the 20 newsgroup dataset\n",
        "\n",
        "categories = ['alt.atheism', 'talk.religion.misc', 'comp.graphics', 'sci.space']\n",
        "\n",
        "(train_data, train_labels), (test_data, test_labels) = get_data(categories=categories)\n",
        "smoothed_counts = laplace_smoothing(labels=train_labels, binary_data=train_data, n_classes=len(categories))"
      ],
      "execution_count": 31,
      "outputs": []
    },
    {
      "cell_type": "markdown",
      "metadata": {
        "id": "6S4a0bBNQW_V"
      },
      "source": [
        "To now make our NB classifier we need to build three functions:\n",
        "* Compute the class priors\n",
        "* Build our class conditional distributions\n",
        "* Put it all together and classify our data"
      ]
    },
    {
      "cell_type": "code",
      "metadata": {
        "id": "aZd8dqgPQNNQ"
      },
      "source": [
        "# Function which computes the prior probability of every class based on frequency of occurence in \n",
        "# the dataset\n",
        "\n",
        "def class_priors(n_classes, labels):\n",
        "    counts = np.zeros(n_classes)\n",
        "    for c_k in range(n_classes):\n",
        "        counts[c_k] = np.sum(np.where(labels==c_k, 1, 0))\n",
        "    priors = counts / np.sum(counts)\n",
        "    print('The class priors are {}'.format(priors))\n",
        "    return priors"
      ],
      "execution_count": 35,
      "outputs": []
    },
    {
      "cell_type": "code",
      "metadata": {
        "id": "jOgjPBqIQZ8i",
        "colab": {
          "base_uri": "https://localhost:8080/"
        },
        "outputId": "24e8a095-c645-44f5-e24f-5be4e5166527"
      },
      "source": [
        "# Run the function \n",
        "\n",
        "priors = class_priors(n_classes=len(categories), labels=train_labels)"
      ],
      "execution_count": 36,
      "outputs": [
        {
          "output_type": "stream",
          "name": "stdout",
          "text": [
            "The class priors are [0.2359882  0.28711898 0.29154376 0.18534907]\n"
          ]
        }
      ]
    },
    {
      "cell_type": "code",
      "metadata": {
        "id": "Kz-rb9xgQZ-r"
      },
      "source": [
        "# Now we will do a function that given the feature occurence counts returns a Bernoulli distribution of \n",
        "# batch_shape=number of classes and event_shape=number of features.\n",
        "\n",
        "def make_distribution(probs):\n",
        "  batch_of_bernoullis = tfd.Bernoulli(probs=probs)  # shape (n_classes, n_words)\n",
        "  dist = tfd.Independent(batch_of_bernoullis, reinterpreted_batch_ndims=1)\n",
        "  return dist\n",
        "\n",
        "tf_dist = make_distribution(smoothed_counts)"
      ],
      "execution_count": 37,
      "outputs": []
    },
    {
      "cell_type": "code",
      "metadata": {
        "id": "AkIRPMztQaAj"
      },
      "source": [
        "# The final function predict_sample which given the distribution, a test sample, and the class priors:\n",
        "#   1) Computes the class conditional probabilities given the sample\n",
        "#   2) Forms the joint likelihood\n",
        "#   3) Normalises the joint likelihood and returns the log prob\n",
        "\n",
        "def predict_sample(dist, sample, priors):\n",
        "  cond_probs = dist.log_prob(sample)\n",
        "  joint_likelihood = tf.add(tf.cast(np.log(priors), tf.float32), cond_probs)\n",
        "  # this has to be normalized to result in probabilities\n",
        "  # easiest way is to stay in log space\n",
        "  norm_factor = tf.math.reduce_logsumexp(joint_likelihood, axis=-1, keepdims=True)\n",
        "  log_prob = joint_likelihood - norm_factor\n",
        "  return log_prob\n"
      ],
      "execution_count": 64,
      "outputs": []
    },
    {
      "cell_type": "markdown",
      "metadata": {
        "id": "rZJ0mNtJQdnF"
      },
      "source": [
        "#### Computing log_probs"
      ]
    },
    {
      "cell_type": "code",
      "metadata": {
        "id": "c5zR6CMjQaCs",
        "colab": {
          "base_uri": "https://localhost:8080/"
        },
        "outputId": "d134846e-e0cb-44af-c2c6-1a69d2c19e40"
      },
      "source": [
        "# Predicting one example from our test data\n",
        "\n",
        "log_probs = predict_sample(tf_dist, test_data[0], priors)\n",
        "log_probs"
      ],
      "execution_count": 41,
      "outputs": [
        {
          "output_type": "execute_result",
          "data": {
            "text/plain": [
              "<tf.Tensor: shape=(4,), dtype=float32, numpy=\n",
              "array([-6.17363739e+01, -1.52587891e-05, -1.16197815e+01, -6.33276672e+01],\n",
              "      dtype=float32)>"
            ]
          },
          "metadata": {},
          "execution_count": 41
        }
      ]
    },
    {
      "cell_type": "code",
      "metadata": {
        "id": "qFkiEv9eQfSy",
        "colab": {
          "base_uri": "https://localhost:8080/"
        },
        "outputId": "7bf94f6e-9e46-48d4-e6a0-70dbd9b11e00"
      },
      "source": [
        "# Loop over our test data and classify.\n",
        "\n",
        "probabilities = []\n",
        "for sample, label in zip(test_data, test_labels):\n",
        "    probabilities.append(tf.exp(predict_sample(tf_dist, sample, priors)))\n",
        "\n",
        "probabilities = np.asarray(probabilities)\n",
        "predicted_classes = np.argmax(probabilities, axis =-1)\n",
        "print('f1 ', f1_score(test_labels, predicted_classes, average='macro'))"
      ],
      "execution_count": 42,
      "outputs": [
        {
          "output_type": "stream",
          "name": "stdout",
          "text": [
            "f1  0.7848499112849504\n"
          ]
        }
      ]
    },
    {
      "cell_type": "code",
      "metadata": {
        "id": "8xIAQskkQfUu",
        "colab": {
          "base_uri": "https://localhost:8080/"
        },
        "outputId": "3ca12387-549f-42ee-d14b-7b923ffa0c53"
      },
      "source": [
        "# Make a Bernoulli Naive Bayes classifier using sklearn with another level of alpha smoothing. \n",
        "\n",
        "clf = BernoulliNB(alpha=0.1)\n",
        "clf.fit(train_data, train_labels)\n",
        "pred = clf.predict(test_data)\n",
        "print('f1 from sklean ', f1_score(test_labels, pred, average='macro'))"
      ],
      "execution_count": 43,
      "outputs": [
        {
          "output_type": "stream",
          "name": "stdout",
          "text": [
            "f1 from sklean  0.8496961488207146\n"
          ]
        }
      ]
    },
    {
      "cell_type": "markdown",
      "metadata": {
        "id": "HCvDRT1SQiRH"
      },
      "source": [
        "***\n",
        "<a id='trainable_distributions'></a>\n",
        "## Trainable Distributions"
      ]
    },
    {
      "cell_type": "code",
      "metadata": {
        "id": "M06XNh0sQfWy"
      },
      "source": [
        "from sklearn.datasets import fetch_20newsgroups\n",
        "from sklearn.feature_extraction.text import CountVectorizer\n",
        "from sklearn.naive_bayes import BernoulliNB\n",
        "from sklearn.metrics import f1_score"
      ],
      "execution_count": 44,
      "outputs": []
    },
    {
      "cell_type": "code",
      "metadata": {
        "id": "5rmHnquLQfYv"
      },
      "source": [
        "# Define an exponential distribution\n",
        "\n",
        "exponential = tfd.Exponential(rate=0.3, name='exp')"
      ],
      "execution_count": 45,
      "outputs": []
    },
    {
      "cell_type": "code",
      "metadata": {
        "id": "FA5y16uEQfa9",
        "colab": {
          "base_uri": "https://localhost:8080/",
          "height": 267
        },
        "outputId": "960225ff-085f-414e-93d6-a13ac591473e"
      },
      "source": [
        "# Plot\n",
        "\n",
        "plt.hist(exponential.sample(5000), bins=100, density=True)\n",
        "plt.show()"
      ],
      "execution_count": 46,
      "outputs": [
        {
          "output_type": "display_data",
          "data": {
            "image/png": "[encoded data removed]",
            "text/plain": [
              "<Figure size 432x288 with 1 Axes>"
            ]
          },
          "metadata": {
            "needs_background": "light"
          }
        }
      ]
    },
    {
      "cell_type": "code",
      "metadata": {
        "id": "uXh9orj-QaEr"
      },
      "source": [
        "# Define an exponential distribution with a trainable rate parameter\n",
        "\n",
        "exp_train = tfd.Exponential(rate=tf.Variable(1., name='rate'), name='exp_train')"
      ],
      "execution_count": 47,
      "outputs": []
    },
    {
      "cell_type": "code",
      "metadata": {
        "id": "fw8hnmSEOxkI"
      },
      "source": [
        "# Define the negative log likelihood\n",
        "\n",
        "def nll(x_train, dist):\n",
        "  # mean log probability of getting the training data from the distribution with its current parameters \n",
        "  return -tf.reduce_mean(dist.log_prob(x_train))"
      ],
      "execution_count": 48,
      "outputs": []
    },
    {
      "cell_type": "code",
      "metadata": {
        "id": "U9-cig3qQncx"
      },
      "source": [
        "# Define a function to compute the loss and gradients\n",
        "\n",
        "@tf.function\n",
        "def get_loss_and_grads(x_train, dist):\n",
        "  with tf.GradientTape() as tape:\n",
        "    # watch the distribution's rate as trainable (optimizable) variable \n",
        "    tape.watch(dist.trainable_variables)\n",
        "    loss = nll(x_train, dist)\n",
        "    grads = tape.gradient(loss, dist.trainable_variables)\n",
        "  return loss, grads"
      ],
      "execution_count": 49,
      "outputs": []
    },
    {
      "cell_type": "code",
      "metadata": {
        "id": "1Z4TgL9DQnfB"
      },
      "source": [
        "# Optimize\n",
        "\n",
        "def exponential_dist_optimisation(data, distribution):\n",
        "\n",
        "    # Keep results for plotting\n",
        "    train_loss_results = []\n",
        "    train_rate_results = []\n",
        "    \n",
        "    optimizer = tf.keras.optimizers.SGD(learning_rate=0.05)\n",
        "\n",
        "    num_steps = 10\n",
        "\n",
        "    for i in range(num_steps):\n",
        "        loss, grads = get_loss_and_grads(data, distribution)\n",
        "        # apply optimized gradient to trainable distribution rate\n",
        "        optimizer.apply_gradients(zip(grads, distribution.trainable_variables))\n",
        "\n",
        "        rate_value = distribution.rate.value()\n",
        "        train_loss_results.append(loss)\n",
        "        train_rate_results.append(rate_value)\n",
        "\n",
        "        print(\"Step {:03d}: Loss: {:.3f}: Rate: {:.3f}\".format(i, loss, rate_value))\n",
        "        \n",
        "    return train_loss_results, train_rate_results"
      ],
      "execution_count": 50,
      "outputs": []
    },
    {
      "cell_type": "code",
      "metadata": {
        "id": "zapcsz3OQng5",
        "colab": {
          "base_uri": "https://localhost:8080/"
        },
        "outputId": "8b974f2e-461c-4ee3-cecb-82bcbe29705b"
      },
      "source": [
        "# Get some data and train\n",
        "\n",
        "sampled_data = exponential.sample(5000)  # GT\n",
        "train_loss_results, train_rate_results = exponential_dist_optimisation(data=sampled_data, distribution=exp_train)"
      ],
      "execution_count": 51,
      "outputs": [
        {
          "output_type": "stream",
          "name": "stdout",
          "text": [
            "Step 000: Loss: 3.387: Rate: 0.881\n",
            "Step 001: Loss: 3.110: Rate: 0.768\n",
            "Step 002: Loss: 2.865: Rate: 0.664\n",
            "Step 003: Loss: 2.658: Rate: 0.570\n",
            "Step 004: Loss: 2.492: Rate: 0.488\n",
            "Step 005: Loss: 2.371: Rate: 0.421\n",
            "Step 006: Loss: 2.291: Rate: 0.371\n",
            "Step 007: Loss: 2.248: Rate: 0.336\n",
            "Step 008: Loss: 2.229: Rate: 0.316\n",
            "Step 009: Loss: 2.222: Rate: 0.305\n"
          ]
        }
      ]
    },
    {
      "cell_type": "code",
      "metadata": {
        "id": "e6Ni9I9pQnjE",
        "colab": {
          "base_uri": "https://localhost:8080/"
        },
        "outputId": "aaf63b1d-165a-4852-f140-e9fc43b5cbae"
      },
      "source": [
        "# Predicted value for the rate parameter\n",
        "\n",
        "pred_value = exp_train.rate.numpy()\n",
        "exact_value = exponential.rate.numpy()\n",
        "\n",
        "print(\"Exact rate: \", exact_value)\n",
        "print(\"Pred rate:  \", pred_value)"
      ],
      "execution_count": 52,
      "outputs": [
        {
          "output_type": "stream",
          "name": "stdout",
          "text": [
            "Exact rate:  0.3\n",
            "Pred rate:   0.3046331\n"
          ]
        }
      ]
    },
    {
      "cell_type": "code",
      "metadata": {
        "id": "NvXLc6z7QnlK",
        "colab": {
          "base_uri": "https://localhost:8080/",
          "height": 558
        },
        "outputId": "157bb7a3-521f-4997-bb48-233085beb2d5"
      },
      "source": [
        "# Plot to see the convergence of the estimated and true parameters\n",
        "\n",
        "tensor_exact_value = tf.constant(exact_value, shape=[len(train_rate_results)])\n",
        "\n",
        "fig, axes = plt.subplots(2, sharex=True, figsize=(12, 8))\n",
        "fig.suptitle('Convergence')\n",
        "\n",
        "axes[0].set_ylabel(\"Loss\", fontsize=14)\n",
        "axes[0].plot(train_loss_results)\n",
        "\n",
        "axes[1].set_ylabel(\"Rate\", fontsize=14)\n",
        "axes[1].set_xlabel(\"Epoch\", fontsize=14)\n",
        "axes[1].plot(train_rate_results, label='trainable rate variable')\n",
        "axes[1].plot(tensor_exact_value, label='exact rate')\n",
        "axes[1].legend()\n",
        "plt.show()"
      ],
      "execution_count": 53,
      "outputs": [
        {
          "output_type": "display_data",
          "data": {
            "image/png": "[encoded data removed]",
            "text/plain": [
              "<Figure size 864x576 with 2 Axes>"
            ]
          },
          "metadata": {
            "needs_background": "light"
          }
        }
      ]
    },
    {
      "cell_type": "code",
      "metadata": {
        "id": "BBRvPiEoQno_"
      },
      "source": [
        "# Making a function get_data which:\n",
        "#   1) Fetches the 20 newsgroup dataset\n",
        "#   2) Performs a word count on the articles and binarizes the result\n",
        "#   3) Returns the data as a numpy matrix with the labels\n",
        "\n",
        "def get_data(categories):\n",
        "\n",
        "    newsgroups_train_data = fetch_20newsgroups(data_home='20_Newsgroup_Data/',\n",
        "                                               subset='train', categories=categories)\n",
        "    newsgroups_test_data = fetch_20newsgroups(data_home='20_Newsgroup_Data/',\n",
        "                                              subset='test', categories=categories)\n",
        "\n",
        "    n_documents = len(newsgroups_train_data['data'])\n",
        "    count_vectorizer = CountVectorizer(input='content', binary=True,max_df=0.25, min_df=1.01/n_documents) \n",
        "    train_binary_bag_of_words = count_vectorizer.fit_transform(newsgroups_train_data['data']) \n",
        "    test_binary_bag_of_words = count_vectorizer.transform(newsgroups_test_data['data']) \n",
        "\n",
        "    return (train_binary_bag_of_words.todense(), newsgroups_train_data['target']),  (test_binary_bag_of_words.todense(), newsgroups_test_data['target'])\n"
      ],
      "execution_count": 54,
      "outputs": []
    },
    {
      "cell_type": "code",
      "metadata": {
        "id": "oX63bCfMQnrI"
      },
      "source": [
        "# Defining a function to conduct laplace smoothing. This adds a base level of probability for a given feature\n",
        "# to occur in every class.\n",
        "\n",
        "def laplace_smoothing(labels, binary_data, n_classes):\n",
        "    # Compute the parameter estimates (adjusted fraction of documents in class that contain word)\n",
        "    n_words = binary_data.shape[1]\n",
        "    alpha = 1 # parameters for Laplace smoothing\n",
        "    theta = np.zeros([n_classes, n_words]) # stores parameter values - prob. word given class\n",
        "    for c_k in range(n_classes): # 0, 1, ..., 19\n",
        "        class_mask = (labels == c_k)\n",
        "        N = class_mask.sum() # number of articles in class\n",
        "        theta[c_k, :] = (binary_data[class_mask, :].sum(axis=0) + alpha)/(N + alpha*2)\n",
        "\n",
        "    return theta"
      ],
      "execution_count": 55,
      "outputs": []
    },
    {
      "cell_type": "code",
      "metadata": {
        "id": "Lo_E6eJIQvVc"
      },
      "source": [
        "# Function which computes the prior probability of every class based on frequency of occurence in \n",
        "# the dataset\n",
        "\n",
        "def class_priors(n_classes, labels):\n",
        "    counts = np.zeros(n_classes)\n",
        "    for c_k in range(n_classes):\n",
        "        counts[c_k] = np.sum(np.where(labels==c_k, 1, 0))\n",
        "    priors = counts / np.sum(counts)\n",
        "    print('The class priors are {}'.format(priors))\n",
        "    return priors"
      ],
      "execution_count": 56,
      "outputs": []
    },
    {
      "cell_type": "code",
      "metadata": {
        "id": "YkuYnl6FpPMr"
      },
      "source": [
        "# Define function to get loss and grads\n",
        "\n",
        "@tf.function\n",
        "def get_loss_and_grads(x_train, dist):\n",
        "  with tf.GradientTape() as tape:\n",
        "    # watch the distribution's rate as trainable (optimizable) variable \n",
        "    tape.watch(dist.trainable_variables)\n",
        "    loss = nll(x_train, dist)\n",
        "    grads = tape.gradient(loss, dist.trainable_variables)\n",
        "  return loss, grads"
      ],
      "execution_count": 58,
      "outputs": []
    },
    {
      "cell_type": "code",
      "metadata": {
        "id": "Img60H5LQvZd"
      },
      "source": [
        "# Now we learn the distribution using gradient tape\n",
        "\n",
        "def make_distribution_withGT(data, labels, nb_classes):\n",
        "\n",
        "    class_data = []\n",
        "    train_vars = []\n",
        "    distributions = []\n",
        "    for c in range(nb_classes):\n",
        "        train_vars.append(tf.Variable(initial_value=np.random.uniform(low=0.01, high =0.1, size=data.shape[-1])))\n",
        "        distributions.append(tfd.Bernoulli(probs=train_vars[c]))\n",
        "        class_mask = (labels == c)\n",
        "        class_data.append(data[class_mask, :])\n",
        "\n",
        "    for c_num in range(0,nb_classes):\n",
        "        optimizer = tf.keras.optimizers.Adam()\n",
        "        print('\\n%-------------------%')\n",
        "        print('Class ', c_num)\n",
        "        print('%-------------------%')\n",
        "\n",
        "        for i in range(0,100):  \n",
        "          loss, grads = get_loss_and_grads(class_data[c_num], distributions[c_num])\n",
        "          if(i%10==0):\n",
        "            print(\"iter: {} loss: {}\".format(i, loss))\n",
        "          optimizer.apply_gradients(zip(grads, distributions[c_num].trainable_variables))\n",
        "          # to get probabilities, the values have to be clipped\n",
        "          eta = 1e-3\n",
        "          clipped_probs = tf.clip_by_value(distributions[c_num].trainable_variables,\n",
        "                                           clip_value_min=eta, clip_value_max=1)\n",
        "          train_vars[c_num] = tf.squeeze(clipped_probs)       \n",
        "\n",
        "    dist = tfd.Bernoulli(probs=train_vars)\n",
        "    dist = tfd.Independent(dist,reinterpreted_batch_ndims=1)\n",
        "\n",
        "    print(dist)\n",
        "\n",
        "    return dist"
      ],
      "execution_count": 59,
      "outputs": []
    },
    {
      "cell_type": "code",
      "metadata": {
        "id": "rM5hniliQvb0",
        "colab": {
          "base_uri": "https://localhost:8080/"
        },
        "outputId": "c5b5072c-c62c-476d-ad1d-21e7968488b8"
      },
      "source": [
        "# Make the same Naive Bayes classifier we did last tutorial\n",
        "\n",
        "categories = ['alt.atheism', 'talk.religion.misc', 'comp.graphics', 'sci.space']\n",
        "\n",
        "(train_data, train_labels), (test_data, test_labels) = get_data(categories)\n",
        "\n",
        "smoothed_counts = laplace_smoothing(labels=train_labels, binary_data=train_data, n_classes=len(categories))\n",
        "\n",
        "priors = class_priors(n_classes=len(categories), labels=train_labels)\n",
        "tf_dist = make_distribution(smoothed_counts)"
      ],
      "execution_count": 61,
      "outputs": [
        {
          "output_type": "stream",
          "name": "stdout",
          "text": [
            "The class priors are [0.2359882  0.28711898 0.29154376 0.18534907]\n"
          ]
        }
      ]
    },
    {
      "cell_type": "code",
      "metadata": {
        "id": "4BG4OJ6-Q04O",
        "colab": {
          "base_uri": "https://localhost:8080/"
        },
        "outputId": "0a022c09-9861-4358-e580-8a48c1446ded"
      },
      "source": [
        "# Now train the distributions with gradient tape\n",
        "\n",
        "GT_dist = make_distribution_withGT(data=train_data, labels=train_labels, nb_classes=4)"
      ],
      "execution_count": 62,
      "outputs": [
        {
          "output_type": "stream",
          "name": "stdout",
          "text": [
            "\n",
            "%-------------------%\n",
            "Class  0\n",
            "%-------------------%\n",
            "iter: 0 loss: 0.07854119614389216\n",
            "iter: 10 loss: 0.06917998353150522\n",
            "iter: 20 loss: 0.06045106131063867\n",
            "iter: 30 loss: 0.05237378490540406\n",
            "iter: 40 loss: 0.044903314751887344\n",
            "iter: 50 loss: 0.03798992334946074\n",
            "iter: 60 loss: 0.03159033976746148\n",
            "iter: 70 loss: 0.025670404483880378\n",
            "iter: 80 loss: 0.02019417897334616\n",
            "iter: 90 loss: 0.01510219393151303\n",
            "\n",
            "%-------------------%\n",
            "Class  1\n",
            "%-------------------%\n",
            "iter: 0 loss: 0.07138453914297938\n",
            "iter: 10 loss: 0.06206154942546076\n",
            "iter: 20 loss: 0.0532934402166033\n",
            "iter: 30 loss: 0.04514443296537837\n",
            "iter: 40 loss: 0.037582781845049054\n",
            "iter: 50 loss: 0.030587127251298904\n",
            "iter: 60 loss: 0.02412468895748303\n",
            "iter: 70 loss: 0.018168529229501167\n",
            "iter: 80 loss: 0.012663131918426954\n",
            "iter: 90 loss: 0.007559713880148002\n",
            "\n",
            "%-------------------%\n",
            "Class  2\n",
            "%-------------------%\n",
            "iter: 0 loss: 0.07837568714981533\n",
            "iter: 10 loss: 0.06931577525772248\n",
            "iter: 20 loss: 0.06097502482341613\n",
            "iter: 30 loss: 0.05337264072228233\n",
            "iter: 40 loss: 0.046461185789963194\n",
            "iter: 50 loss: 0.04020043866568832\n",
            "iter: 60 loss: 0.03454797451079808\n",
            "iter: 70 loss: 0.029448241349536775\n",
            "iter: 80 loss: 0.02485642060230939\n",
            "iter: 90 loss: 0.02071159540040243\n",
            "\n",
            "%-------------------%\n",
            "Class  3\n",
            "%-------------------%\n",
            "iter: 0 loss: 0.0798414407992633\n",
            "iter: 10 loss: 0.07058749213552236\n",
            "iter: 20 loss: 0.06196382407201262\n",
            "iter: 30 loss: 0.05397472421575236\n",
            "iter: 40 loss: 0.04657014514841682\n",
            "iter: 50 loss: 0.039710932675118854\n",
            "iter: 60 loss: 0.03335621558676585\n",
            "iter: 70 loss: 0.027463418983289443\n",
            "iter: 80 loss: 0.021982574028941958\n",
            "iter: 90 loss: 0.016860185241183483\n",
            "tfp.distributions.Independent(\"IndependentBernoulli\", batch_shape=[4], event_shape=[17495], dtype=int32)\n"
          ]
        }
      ]
    },
    {
      "cell_type": "code",
      "metadata": {
        "id": "CLcU_ZlnQ06f",
        "colab": {
          "base_uri": "https://localhost:8080/"
        },
        "outputId": "9025a8f3-f85c-4cf2-983b-8e500cc15332"
      },
      "source": [
        "# Compare the two results\n",
        "\n",
        "for dist in [GT_dist,tf_dist]:\n",
        "    probabilities = []\n",
        "    for sample, label in zip(test_data, test_labels):\n",
        "        probabilities.append(predict_sample(dist, sample, priors))\n",
        "\n",
        "    probabilities = np.asarray(probabilities)\n",
        "    predicted_classes = np.argmax(probabilities, axis =-1)\n",
        "    print('f1 ', f1_score(test_labels, predicted_classes, average='macro'))"
      ],
      "execution_count": 65,
      "outputs": [
        {
          "output_type": "stream",
          "name": "stdout",
          "text": [
            "f1  0.8311797344967313\n",
            "f1  0.7848499112849504\n"
          ]
        }
      ]
    }
  ]
}