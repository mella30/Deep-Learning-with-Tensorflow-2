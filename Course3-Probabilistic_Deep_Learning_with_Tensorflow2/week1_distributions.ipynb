{
  "nbformat": 4,
  "nbformat_minor": 0,
  "metadata": {
    "colab": {
      "name": "Kopie von Untitled0.ipynb",
      "provenance": [],
      "collapsed_sections": [],
      "authorship_tag": "ABX9TyOh9EgftJUIlkFH3soS5xFA",
      "include_colab_link": true
    },
    "kernelspec": {
      "name": "python3",
      "display_name": "Python 3"
    },
    "language_info": {
      "name": "python"
    }
  },
  "cells": [
    {
      "cell_type": "markdown",
      "metadata": {
        "id": "view-in-github",
        "colab_type": "text"
      },
      "source": [
        "<a href=\"https://colab.research.google.com/github/mella30/Deep-Learning-with-Tensorflow-2/blob/main/Course3-Probabilistic_Deep_Learning_with_Tensorflow2/week1_distributions.ipynb\" target=\"_parent\"><img src=\"https://colab.research.google.com/assets/colab-badge.svg\" alt=\"Open In Colab\"/></a>"
      ]
    },
    {
      "cell_type": "code",
      "metadata": {
        "colab": {
          "base_uri": "https://localhost:8080/"
        },
        "id": "ID3vu9apOcJq",
        "outputId": "164d4d3d-5e97-4c99-fb2e-bdea7b160a24"
      },
      "source": [
        "import tensorflow as tf\n",
        "import tensorflow_probability as tfp\n",
        "tfd = tfp.distributions\n",
        "\n",
        "print(\"TF version:\", tf.__version__)\n",
        "print(\"TFP version:\", tfp.__version__)"
      ],
      "execution_count": 2,
      "outputs": [
        {
          "output_type": "stream",
          "text": [
            "TF version: 2.5.0\n",
            "TFP version: 0.13.0\n"
          ],
          "name": "stdout"
        }
      ]
    },
    {
      "cell_type": "code",
      "metadata": {
        "id": "2BCnSNUSOf5-"
      },
      "source": [
        "# Additional imports and setting fixed random seed to have reproducibility\n",
        "\n",
        "import matplotlib.pyplot as plt\n",
        "import numpy as np\n",
        "tf.random.set_seed(123)"
      ],
      "execution_count": 3,
      "outputs": []
    },
    {
      "cell_type": "markdown",
      "metadata": {
        "id": "5Zc-ActGOg_q"
      },
      "source": [
        "## Coding Tutorials\n",
        "#### 1. [Univariate Distributions](#univariate_distributions)\n",
        "#### 2. [Multivariate Distributions](#multivariate_distributions)\n",
        "#### 3. [The Independent Distribution](#the_independent_distribution)\n",
        "#### 4. [Sampling and log probs](#sampling_and_log_probs)\n",
        "#### 5. [Trainable Distributions](#trainable_distributions)"
      ]
    },
    {
      "cell_type": "code",
      "metadata": {
        "colab": {
          "base_uri": "https://localhost:8080/"
        },
        "id": "7t6wPef-OinM",
        "outputId": "bad7d4b6-8c8b-45e2-de51-c45709d1e14f"
      },
      "source": [
        "# Create a normal distribution from Tensorflow Distributions\n",
        "\n",
        "normal = tfd.Normal(loc=0, scale=1)\n",
        "normal"
      ],
      "execution_count": null,
      "outputs": [
        {
          "output_type": "execute_result",
          "data": {
            "text/plain": [
              "<tfp.distributions.Normal 'Normal' batch_shape=[] event_shape=[] dtype=float32>"
            ]
          },
          "metadata": {
            "tags": []
          },
          "execution_count": 4
        }
      ]
    },
    {
      "cell_type": "code",
      "metadata": {
        "colab": {
          "base_uri": "https://localhost:8080/"
        },
        "id": "pqlqlWJMOj5X",
        "outputId": "1f9805e7-e8c7-4212-a2c1-663346fd3d69"
      },
      "source": [
        "# Sample from the chosen distribution...\n",
        "\n",
        "normal.sample()"
      ],
      "execution_count": null,
      "outputs": [
        {
          "output_type": "execute_result",
          "data": {
            "text/plain": [
              "<tf.Tensor: shape=(), dtype=float32, numpy=-0.8980837>"
            ]
          },
          "metadata": {
            "tags": []
          },
          "execution_count": 5
        }
      ]
    },
    {
      "cell_type": "code",
      "metadata": {
        "colab": {
          "base_uri": "https://localhost:8080/"
        },
        "id": "faCNt5yUOk3A",
        "outputId": "b46ae811-2688-4080-9ab3-f0350e4c221f"
      },
      "source": [
        "# ... or sample multiple times\n",
        "\n",
        "normal.sample(10)"
      ],
      "execution_count": null,
      "outputs": [
        {
          "output_type": "execute_result",
          "data": {
            "text/plain": [
              "<tf.Tensor: shape=(10,), dtype=float32, numpy=\n",
              "array([ 0.33875433,  0.3449861 , -0.6605785 , -0.2854994 ,  0.43852386,\n",
              "        0.8288566 , -0.53591555, -0.5353483 , -1.0324248 , -2.942705  ],\n",
              "      dtype=float32)>"
            ]
          },
          "metadata": {
            "tags": []
          },
          "execution_count": 6
        }
      ]
    },
    {
      "cell_type": "code",
      "metadata": {
        "colab": {
          "base_uri": "https://localhost:8080/"
        },
        "id": "ztDdCgA7On-M",
        "outputId": "38783c26-3f1c-4915-dbcf-98d7364d2641"
      },
      "source": [
        "# Obtain value of probability's density\n",
        "\n",
        "normal.prob(0)"
      ],
      "execution_count": null,
      "outputs": [
        {
          "output_type": "execute_result",
          "data": {
            "text/plain": [
              "<tf.Tensor: shape=(), dtype=float32, numpy=0.3989423>"
            ]
          },
          "metadata": {
            "tags": []
          },
          "execution_count": 7
        }
      ]
    },
    {
      "cell_type": "code",
      "metadata": {
        "colab": {
          "base_uri": "https://localhost:8080/"
        },
        "id": "ljxSFC26OoD0",
        "outputId": "19af926e-c937-482b-b965-cb783b8404e9"
      },
      "source": [
        "# Obtain value of logprobability\n",
        "\n",
        "normal.log_prob(0)"
      ],
      "execution_count": null,
      "outputs": [
        {
          "output_type": "execute_result",
          "data": {
            "text/plain": [
              "<tf.Tensor: shape=(), dtype=float32, numpy=-0.9189385>"
            ]
          },
          "metadata": {
            "tags": []
          },
          "execution_count": 8
        }
      ]
    },
    {
      "cell_type": "code",
      "metadata": {
        "colab": {
          "base_uri": "https://localhost:8080/"
        },
        "id": "aq-mNGd3OqJy",
        "outputId": "5cb8ec87-c6df-4388-c321-b1457f101211"
      },
      "source": [
        "# Verify that this really is the log of the probability\n",
        "\n",
        "np.log(normal.prob(0))"
      ],
      "execution_count": null,
      "outputs": [
        {
          "output_type": "execute_result",
          "data": {
            "text/plain": [
              "-0.9189385"
            ]
          },
          "metadata": {
            "tags": []
          },
          "execution_count": 9
        }
      ]
    },
    {
      "cell_type": "code",
      "metadata": {
        "colab": {
          "base_uri": "https://localhost:8080/",
          "height": 265
        },
        "id": "xRp5WAflOqLv",
        "outputId": "111aa7a1-240f-4930-aec5-24dd205c95b7"
      },
      "source": [
        "# Plot a histogram, approximating the density\n",
        "\n",
        "plt.hist(normal.sample(10000), bins=50, density=True)\n",
        "plt.show()"
      ],
      "execution_count": null,
      "outputs": [
        {
          "output_type": "display_data",
          "data": {
            "image/png": "[encoded data removed]",
            "text/plain": [
              "<Figure size 432x288 with 1 Axes>"
            ]
          },
          "metadata": {
            "tags": [],
            "needs_background": "light"
          }
        }
      ]
    },
    {
      "cell_type": "code",
      "metadata": {
        "colab": {
          "base_uri": "https://localhost:8080/",
          "height": 265
        },
        "id": "w_dedRWaOqNk",
        "outputId": "7367e461-9281-4c60-878e-59ecbdedf69a"
      },
      "source": [
        "# Do the same for the exponential distribution\n",
        "\n",
        "exponential = tfd.Exponential(rate=1)\n",
        "plt.hist(exponential.sample(10000), bins=50, density=True)\n",
        "plt.show()"
      ],
      "execution_count": null,
      "outputs": [
        {
          "output_type": "display_data",
          "data": {
            "image/png": "[encoded data removed]",
            "text/plain": [
              "<Figure size 432x288 with 1 Axes>"
            ]
          },
          "metadata": {
            "tags": [],
            "needs_background": "light"
          }
        }
      ]
    },
    {
      "cell_type": "code",
      "metadata": {
        "colab": {
          "base_uri": "https://localhost:8080/"
        },
        "id": "qHE4-be3OqPf",
        "outputId": "aeced844-ddea-4d2a-f538-2ff6ed821e6a"
      },
      "source": [
        "# Sample as before\n",
        "\n",
        "exponential.sample(10)"
      ],
      "execution_count": null,
      "outputs": [
        {
          "output_type": "execute_result",
          "data": {
            "text/plain": [
              "<tf.Tensor: shape=(10,), dtype=float32, numpy=\n",
              "array([0.0547524 , 1.5144609 , 0.97501385, 0.06708489, 0.12627268,\n",
              "       1.908582  , 1.388226  , 0.1474867 , 5.6484447 , 1.7735909 ],\n",
              "      dtype=float32)>"
            ]
          },
          "metadata": {
            "tags": []
          },
          "execution_count": 14
        }
      ]
    },
    {
      "cell_type": "code",
      "metadata": {
        "colab": {
          "base_uri": "https://localhost:8080/"
        },
        "id": "KLkjWJRGOqRm",
        "outputId": "c44c35c7-fde6-4073-a606-4f4e23430754"
      },
      "source": [
        "# Create a Bernoulli distribution (discrete)\n",
        "\n",
        "bernoulli = tfd.Bernoulli(probs=0.8)\n",
        "bernoulli.sample(20)"
      ],
      "execution_count": null,
      "outputs": [
        {
          "output_type": "execute_result",
          "data": {
            "text/plain": [
              "<tf.Tensor: shape=(20,), dtype=int32, numpy=\n",
              "array([1, 0, 1, 1, 1, 1, 1, 1, 1, 1, 1, 1, 1, 1, 1, 1, 1, 0, 1, 1],\n",
              "      dtype=int32)>"
            ]
          },
          "metadata": {
            "tags": []
          },
          "execution_count": 15
        }
      ]
    },
    {
      "cell_type": "markdown",
      "metadata": {
        "id": "UEAf3E99OzPB"
      },
      "source": [
        "#### A word of caution on discrete distributions"
      ]
    },
    {
      "cell_type": "markdown",
      "metadata": {
        "id": "7cswuN0uShwj"
      },
      "source": [
        "TensorFlow will evaluate the probability mass function of a Bernoulli at points which are not zero or one. This can get some unexpected results if you're not careful. To show this, let's pass in four points to `.prob`, two of which 0.5 and minus one will give odd-looking results as a probability mass function is only defined at zero and one. To find out what's going on, let's take a closer look at how the probability mass function is evaluated. We'll make our own function called `my_bernoulli`. What we're doing here is evaluating a Bernoulli by taking the probability of the outcome being equal to one to the power\n",
        "of k and multiplying that by the probability of the outcome being equal to zero to the power of one minus k. If we pass in the same values into our function,\n",
        "we see that the results are the same. "
      ]
    },
    {
      "cell_type": "code",
      "metadata": {
        "colab": {
          "base_uri": "https://localhost:8080/"
        },
        "id": "_-JH851kOxTE",
        "outputId": "c4dd8390-81c3-4c96-e34f-27628338fd2f"
      },
      "source": [
        "# Calculate Bernoulli prob and see that 0.5 and -1 do not give the correct probability!\n",
        "\n",
        "for k in [0,0.5,1,-1]:\n",
        "    print('prob result {} for k = {} '.format(bernoulli.prob(k), k))"
      ],
      "execution_count": null,
      "outputs": [
        {
          "output_type": "stream",
          "text": [
            "prob result 0.19999998807907104 for k = 0 \n",
            "prob result 0.3999999761581421 for k = 0.5 \n",
            "prob result 0.800000011920929 for k = 1 \n",
            "prob result 0.04999999701976776 for k = -1 \n"
          ],
          "name": "stdout"
        }
      ]
    },
    {
      "cell_type": "code",
      "metadata": {
        "id": "e28kENu1OxVL"
      },
      "source": [
        "# Replicate the scores to see what is occurring under the hood\n",
        "\n",
        "def my_bernoulli(p_success, k):\n",
        "    return np.power(p_success,k)*np.power((1-p_success),(1-k))"
      ],
      "execution_count": null,
      "outputs": []
    },
    {
      "cell_type": "code",
      "metadata": {
        "colab": {
          "base_uri": "https://localhost:8080/"
        },
        "id": "xcS0aAycOxXS",
        "outputId": "63562e45-fd3b-4271-b86a-8d9260e9b945"
      },
      "source": [
        "# Evaluate it as before\n",
        "\n",
        "for k in [0,0.5,1,-1]:\n",
        "    print('prob result {} for k = {} '.format(bernoulli.prob(k), k))"
      ],
      "execution_count": null,
      "outputs": [
        {
          "output_type": "stream",
          "text": [
            "prob result 0.19999998807907104 for k = 0 \n",
            "prob result 0.3999999761581421 for k = 0.5 \n",
            "prob result 0.800000011920929 for k = 1 \n",
            "prob result 0.04999999701976776 for k = -1 \n"
          ],
          "name": "stdout"
        }
      ]
    },
    {
      "cell_type": "markdown",
      "metadata": {
        "id": "7DBMkTBcO8di"
      },
      "source": [
        "#### Work with batch distributions"
      ]
    },
    {
      "cell_type": "code",
      "metadata": {
        "colab": {
          "base_uri": "https://localhost:8080/"
        },
        "id": "H1Mrf5TFOxZf",
        "outputId": "479fbe5c-ff23-4e9b-df8d-4395cc3c79d1"
      },
      "source": [
        "# Create a batched Bernoulli distribution\n",
        "\n",
        "bernoulli_batch = tfd.Bernoulli(probs=[0.1, 0.25, 0.5, 0.75, 0.9])\n",
        "bernoulli_batch"
      ],
      "execution_count": null,
      "outputs": [
        {
          "output_type": "execute_result",
          "data": {
            "text/plain": [
              "<tfp.distributions.Bernoulli 'Bernoulli' batch_shape=[5] event_shape=[] dtype=int32>"
            ]
          },
          "metadata": {
            "tags": []
          },
          "execution_count": 20
        }
      ]
    },
    {
      "cell_type": "code",
      "metadata": {
        "colab": {
          "base_uri": "https://localhost:8080/"
        },
        "id": "DDRdMUpcOxbt",
        "outputId": "c89c0645-ef6a-493a-d0fa-08c19ad0f16f"
      },
      "source": [
        "# Sample from it, noting the shape (5x5)\n",
        "\n",
        "bernoulli_batch.sample(5)"
      ],
      "execution_count": null,
      "outputs": [
        {
          "output_type": "execute_result",
          "data": {
            "text/plain": [
              "<tf.Tensor: shape=(5, 5), dtype=int32, numpy=\n",
              "array([[0, 0, 1, 1, 1],\n",
              "       [0, 0, 0, 1, 1],\n",
              "       [0, 0, 1, 1, 1],\n",
              "       [1, 0, 1, 1, 1],\n",
              "       [0, 0, 1, 1, 1]], dtype=int32)>"
            ]
          },
          "metadata": {
            "tags": []
          },
          "execution_count": 21
        }
      ]
    },
    {
      "cell_type": "code",
      "metadata": {
        "colab": {
          "base_uri": "https://localhost:8080/"
        },
        "id": "PYJXZALsOxdk",
        "outputId": "0ba8658b-d0e0-4f0d-cbcb-9bb1a17c18b9"
      },
      "source": [
        "# Use a batch shape with higher rank\n",
        "\n",
        "probs = [[[0.5, 0.5], \n",
        "          [0.8, 0.3], \n",
        "          [0.25, 0.75]]]\n",
        "bernoulli_batch_2D = tfd.Bernoulli(probs=probs)\n",
        "bernoulli_batch_2D"
      ],
      "execution_count": null,
      "outputs": [
        {
          "output_type": "execute_result",
          "data": {
            "text/plain": [
              "<tfp.distributions.Bernoulli 'Bernoulli' batch_shape=[1, 3, 2] event_shape=[] dtype=int32>"
            ]
          },
          "metadata": {
            "tags": []
          },
          "execution_count": 22
        }
      ]
    },
    {
      "cell_type": "code",
      "metadata": {
        "colab": {
          "base_uri": "https://localhost:8080/"
        },
        "id": "yDtXefAdOxfo",
        "outputId": "ee5ce5dc-e2f1-40c8-e2eb-78bcba13ff46"
      },
      "source": [
        "# Sample from this batch of distributions\n",
        "\n",
        "bernoulli_batch_2D.sample(5)"
      ],
      "execution_count": null,
      "outputs": [
        {
          "output_type": "execute_result",
          "data": {
            "text/plain": [
              "<tf.Tensor: shape=(5, 1, 3, 2), dtype=int32, numpy=\n",
              "array([[[[0, 1],\n",
              "         [0, 0],\n",
              "         [0, 1]]],\n",
              "\n",
              "\n",
              "       [[[0, 0],\n",
              "         [0, 0],\n",
              "         [0, 1]]],\n",
              "\n",
              "\n",
              "       [[[1, 0],\n",
              "         [0, 1],\n",
              "         [1, 0]]],\n",
              "\n",
              "\n",
              "       [[[0, 0],\n",
              "         [0, 1],\n",
              "         [0, 0]]],\n",
              "\n",
              "\n",
              "       [[[1, 1],\n",
              "         [0, 0],\n",
              "         [0, 1]]]], dtype=int32)>"
            ]
          },
          "metadata": {
            "tags": []
          },
          "execution_count": 23
        }
      ]
    },
    {
      "cell_type": "code",
      "metadata": {
        "colab": {
          "base_uri": "https://localhost:8080/"
        },
        "id": "Wm3i19IfPArF",
        "outputId": "b780a224-5ebd-4b90-a8e8-d1d22c827119"
      },
      "source": [
        "# Determine probabilities from this batch distribution\n",
        "\n",
        "bernoulli_batch_2D.prob([[[1, 0], \n",
        "                         [0, 0], \n",
        "                         [1, 1]]])"
      ],
      "execution_count": null,
      "outputs": [
        {
          "output_type": "execute_result",
          "data": {
            "text/plain": [
              "<tf.Tensor: shape=(1, 3, 2), dtype=float32, numpy=\n",
              "array([[[0.5       , 0.5       ],\n",
              "        [0.19999999, 0.7       ],\n",
              "        [0.25      , 0.75      ]]], dtype=float32)>"
            ]
          },
          "metadata": {
            "tags": []
          },
          "execution_count": 24
        }
      ]
    },
    {
      "cell_type": "markdown",
      "metadata": {
        "id": "RzK7a811PDQu"
      },
      "source": [
        "***\n",
        "<a id='multivariate_distributions'></a>\n",
        "## Multivariate Distributions\n"
      ]
    },
    {
      "cell_type": "markdown",
      "metadata": {
        "id": "CEuFcBHePD4U"
      },
      "source": [
        "#### Basic multivariate distributions"
      ]
    },
    {
      "cell_type": "code",
      "metadata": {
        "colab": {
          "base_uri": "https://localhost:8080/"
        },
        "id": "QKRf5wcXPAtN",
        "outputId": "10265984-b66e-4ed4-89e4-124b26ab64a5"
      },
      "source": [
        "# Define 2D multivariate Gaussian with diagonal covariance matrix\n",
        "\n",
        "normal_diag = tfd.MultivariateNormalDiag(loc=[0,1], scale_diag=[1,20])\n",
        "normal_diag"
      ],
      "execution_count": null,
      "outputs": [
        {
          "output_type": "execute_result",
          "data": {
            "text/plain": [
              "<tfp.distributions.MultivariateNormalDiag 'MultivariateNormalDiag' batch_shape=[] event_shape=[2] dtype=float32>"
            ]
          },
          "metadata": {
            "tags": []
          },
          "execution_count": 28
        }
      ]
    },
    {
      "cell_type": "code",
      "metadata": {
        "colab": {
          "base_uri": "https://localhost:8080/"
        },
        "id": "TWfgQlI5PAvP",
        "outputId": "f7fc8d7f-6a61-47ca-be5b-f91289bc5320"
      },
      "source": [
        "# Sample from it\n",
        "# shape is nr of samples x number of random variables (event shape)\n",
        "\n",
        "normal_diag.sample(10)"
      ],
      "execution_count": null,
      "outputs": [
        {
          "output_type": "execute_result",
          "data": {
            "text/plain": [
              "<tf.Tensor: shape=(10, 2), dtype=float32, numpy=\n",
              "array([[ -1.1651201 ,  -5.437072  ],\n",
              "       [  0.42066962, -36.979992  ],\n",
              "       [  0.3941037 ,   0.57365644],\n",
              "       [ -0.23954919,   1.4739966 ],\n",
              "       [  2.5117767 ,  -9.46546   ],\n",
              "       [  0.09709785,  17.896133  ],\n",
              "       [  0.26128542,   8.661698  ],\n",
              "       [  0.6376409 ,  11.790778  ],\n",
              "       [ -0.34711298,  -4.4957685 ],\n",
              "       [  1.809224  , -22.915995  ]], dtype=float32)>"
            ]
          },
          "metadata": {
            "tags": []
          },
          "execution_count": 29
        }
      ]
    },
    {
      "cell_type": "code",
      "metadata": {
        "colab": {
          "base_uri": "https://localhost:8080/",
          "height": 265
        },
        "id": "AK9wk9ayPAxY",
        "outputId": "6b737ed9-c0ee-4b80-a9f4-dd392d2ee664"
      },
      "source": [
        "# Make a plot\n",
        "\n",
        "plt_sample = normal_diag.sample(10000)\n",
        "plt.scatter(plt_sample[:, 0], plt_sample[:, 1], marker='.', alpha=0.05)\n",
        "plt.axis('equal')\n",
        "plt.show()"
      ],
      "execution_count": null,
      "outputs": [
        {
          "output_type": "display_data",
          "data": {
            "image/png": "[encoded data removed]",
            "text/plain": [
              "<Figure size 432x288 with 1 Axes>"
            ]
          },
          "metadata": {
            "tags": [],
            "needs_background": "light"
          }
        }
      ]
    },
    {
      "cell_type": "markdown",
      "metadata": {
        "id": "iKAsXCO4PL1a"
      },
      "source": [
        "#### Batches of multivariate distributions"
      ]
    },
    {
      "cell_type": "code",
      "metadata": {
        "colab": {
          "base_uri": "https://localhost:8080/"
        },
        "id": "VACzj9uLPAzt",
        "outputId": "9b6ce52a-6532-479d-d595-4253f4ce5983"
      },
      "source": [
        "# Create three \"batches\" of multivariate normals\n",
        "\n",
        "normal_diag_batch = tfd.MultivariateNormalDiag(loc=[[0,0], [0,0], [0,0]],\n",
        "                                               scale_diag=[[1,2], [2,1], [2,2]])\n",
        "normal_diag_batch"
      ],
      "execution_count": null,
      "outputs": [
        {
          "output_type": "execute_result",
          "data": {
            "text/plain": [
              "<tfp.distributions.MultivariateNormalDiag 'MultivariateNormalDiag' batch_shape=[3] event_shape=[2] dtype=float32>"
            ]
          },
          "metadata": {
            "tags": []
          },
          "execution_count": 32
        }
      ]
    },
    {
      "cell_type": "code",
      "metadata": {
        "colab": {
          "base_uri": "https://localhost:8080/"
        },
        "id": "1z6zD1JlPNDC",
        "outputId": "9252ea69-96dd-4a91-ada1-eb8cdc178a2e"
      },
      "source": [
        "# Sample from it\n",
        "# shape is number of samples x batch size x event shape (number of random variables)\n",
        "\n",
        "samples = normal_diag_batch.sample(5)\n",
        "samples"
      ],
      "execution_count": null,
      "outputs": [
        {
          "output_type": "execute_result",
          "data": {
            "text/plain": [
              "<tf.Tensor: shape=(5, 3, 2), dtype=float32, numpy=\n",
              "array([[[ 0.29961362,  1.1648543 ],\n",
              "        [ 0.9561108 , -0.05747294],\n",
              "        [-1.854802  ,  2.1274722 ]],\n",
              "\n",
              "       [[ 0.1547592 , -1.3092546 ],\n",
              "        [-1.1497984 , -0.03509409],\n",
              "        [-3.043224  , -1.449043  ]],\n",
              "\n",
              "       [[-1.300846  , -1.8879085 ],\n",
              "        [ 1.4802053 , -0.5850459 ],\n",
              "        [-1.841367  , -5.250524  ]],\n",
              "\n",
              "       [[-0.9080883 ,  0.5145316 ],\n",
              "        [-0.0360918 ,  1.5906875 ],\n",
              "        [ 1.4850668 ,  1.9667028 ]],\n",
              "\n",
              "       [[-0.6103264 ,  1.2452672 ],\n",
              "        [-0.18394378,  1.2608575 ],\n",
              "        [-1.1042159 ,  4.270896  ]]], dtype=float32)>"
            ]
          },
          "metadata": {
            "tags": []
          },
          "execution_count": 33
        }
      ]
    },
    {
      "cell_type": "code",
      "metadata": {
        "colab": {
          "base_uri": "https://localhost:8080/"
        },
        "id": "tWzomiLdPNFY",
        "outputId": "022b1fc0-b09f-4ffa-ffe6-ea77e60ac392"
      },
      "source": [
        "# Compute log probs\n",
        "# shape is nr of samples x batch size \n",
        "\n",
        "normal_diag_batch.log_prob(samples)"
      ],
      "execution_count": null,
      "outputs": [
        {
          "output_type": "execute_result",
          "data": {
            "text/plain": [
              "<tf.Tensor: shape=(5, 3), dtype=float32, numpy=\n",
              "array([[-2.7455192, -2.6469443, -4.219975 ],\n",
              "       [-2.757268 , -2.6968946, -4.6442885],\n",
              "       [-3.8226492, -2.9760394, -7.094001 ],\n",
              "       [-2.9764292, -3.7963305, -3.9833393],\n",
              "       [-2.9111097, -3.3301344, -5.656652 ]], dtype=float32)>"
            ]
          },
          "metadata": {
            "tags": []
          },
          "execution_count": 34
        }
      ]
    },
    {
      "cell_type": "code",
      "metadata": {
        "colab": {
          "base_uri": "https://localhost:8080/"
        },
        "id": "DZ0y3_3kPNHN",
        "outputId": "758b670a-37d0-4fdf-c8a8-7055ea18cfda"
      },
      "source": [
        "# Create a sample for a plot -- notice the shape\n",
        "# shape is number of samples x batch size x event shape\n",
        "\n",
        "plt_sample_batch = normal_diag_batch.sample(1000)\n",
        "plt_sample_batch.shape\n"
      ],
      "execution_count": null,
      "outputs": [
        {
          "output_type": "execute_result",
          "data": {
            "text/plain": [
              "TensorShape([1000, 3, 2])"
            ]
          },
          "metadata": {
            "tags": []
          },
          "execution_count": 35
        }
      ]
    },
    {
      "cell_type": "code",
      "metadata": {
        "colab": {
          "base_uri": "https://localhost:8080/",
          "height": 227
        },
        "id": "s99xTIh9PNJG",
        "outputId": "7ef2026e-167b-4b58-be65-ceccb04722be"
      },
      "source": [
        "# Plot samples from the batched multivariate Gaussian\n",
        "\n",
        "fig, axs = (plt.subplots(1, 3, sharex=True, sharey=True, figsize=(10, 3)))\n",
        "titles = ['cov_diag=[1, 2]','cov_diag=[2, 1]', 'cov_diag=[2, 2]']\n",
        "\n",
        "for i, (ax, title) in enumerate(zip(axs,titles)):\n",
        "    samples = plt_sample_batch[:,i,:] #take the ith batch [samples x event_shape]\n",
        "    ax.scatter(samples[:, 0], samples[:, 1], marker='.', alpha=0.05)\n",
        "    ax.set_title(title)\n",
        "plt.show()"
      ],
      "execution_count": null,
      "outputs": [
        {
          "output_type": "display_data",
          "data": {
            "image/png": "[encoded data removed]",
            "text/plain": [
              "<Figure size 720x216 with 3 Axes>"
            ]
          },
          "metadata": {
            "tags": [],
            "needs_background": "light"
          }
        }
      ]
    },
    {
      "cell_type": "markdown",
      "metadata": {
        "id": "GD7OKdrPPR9e"
      },
      "source": [
        "***\n",
        "<a id='the_independent_distribution'></a>\n",
        "## The Independent Distribution"
      ]
    },
    {
      "cell_type": "code",
      "metadata": {
        "id": "Z3OapFgTPNLY"
      },
      "source": [
        "# Start by defining a batch of two univariate Gaussians, \n",
        "# then combine them into a bivariate Gaussian with independent components \n",
        "# (the Independent class allows us to turn batches of univariate distributions into multivariate one)\n",
        "\n",
        "locs = [-1., 1]  # means\n",
        "scales = [0.5, 1]  # covs\n",
        "batch_of_normals = tfd.Normal(loc=locs, scale=scales)"
      ],
      "execution_count": 6,
      "outputs": []
    },
    {
      "cell_type": "code",
      "metadata": {
        "id": "6odaPSwRPA1q",
        "colab": {
          "base_uri": "https://localhost:8080/",
          "height": 279
        },
        "outputId": "28991389-c353-436b-ca30-bc2383d6d9d7"
      },
      "source": [
        "# Univariate density functions\n",
        "\n",
        "import seaborn as sns\n",
        "\n",
        "t = np.linspace(-4, 4, 10000)\n",
        "densities = batch_of_normals.prob(np.repeat(t[:, np.newaxis], 2, axis=1)) # each column is a vector of densities for one distn\n",
        "\n",
        "sns.lineplot(x=t, y=densities[:, 0], label='loc={}, scale={}'.format(locs[0], scales[0]))\n",
        "sns.lineplot(x=t, y=densities[:, 1], label='loc={}, scale={}'.format(locs[1], scales[1]))\n",
        "plt.ylabel('Probability density')\n",
        "plt.xlabel('Value')\n",
        "plt.legend()\n",
        "plt.show()"
      ],
      "execution_count": 11,
      "outputs": [
        {
          "output_type": "display_data",
          "data": {
            "image/png": "[encoded data removed]",
            "text/plain": [
              "<Figure size 432x288 with 1 Axes>"
            ]
          },
          "metadata": {
            "tags": [],
            "needs_background": "light"
          }
        }
      ]
    },
    {
      "cell_type": "code",
      "metadata": {
        "id": "SH_9k9kyOxhz",
        "colab": {
          "base_uri": "https://localhost:8080/"
        },
        "outputId": "a4a25d0b-20c7-4f3f-d516-c796da69a380"
      },
      "source": [
        "# Check their batch_shape and event_shape\n",
        "\n",
        "batch_of_normals"
      ],
      "execution_count": 12,
      "outputs": [
        {
          "output_type": "execute_result",
          "data": {
            "text/plain": [
              "<tfp.distributions.Normal 'Normal' batch_shape=[2] event_shape=[] dtype=float32>"
            ]
          },
          "metadata": {
            "tags": []
          },
          "execution_count": 12
        }
      ]
    },
    {
      "cell_type": "code",
      "metadata": {
        "id": "3CbqUV3tPVcC"
      },
      "source": [
        "# Use Independent to convert the batch shape to the event shape\n",
        "# (turn batches of separate distributions into a single joint density) \n",
        "# reinterpreted_batch_ndims = how many of the rightmost batch dimensions will be regarded as events in the new distribution. \n",
        "\n",
        "bivariate_normal_from_Independent = tfd.Independent(batch_of_normals, reinterpreted_batch_ndims=1)"
      ],
      "execution_count": 14,
      "outputs": []
    },
    {
      "cell_type": "code",
      "metadata": {
        "id": "_PxjC_8mPVeL",
        "colab": {
          "base_uri": "https://localhost:8080/"
        },
        "outputId": "7be4675a-83e7-4992-ea67-f44f35ce9a93"
      },
      "source": [
        "# Note that dimension from batch_shape has shifted to event_shape\n",
        "\n",
        "bivariate_normal_from_Independent"
      ],
      "execution_count": 15,
      "outputs": [
        {
          "output_type": "execute_result",
          "data": {
            "text/plain": [
              "<tfp.distributions.Independent 'IndependentNormal' batch_shape=[] event_shape=[2] dtype=float32>"
            ]
          },
          "metadata": {
            "tags": []
          },
          "execution_count": 15
        }
      ]
    },
    {
      "cell_type": "code",
      "metadata": {
        "id": "S5RyhBp1PVf-",
        "colab": {
          "base_uri": "https://localhost:8080/",
          "height": 459
        },
        "outputId": "0e0f069f-91aa-4ce3-80cf-0ce4912f1c13"
      },
      "source": [
        "# Create a plot showing joint density contours and marginal density functions\n",
        "# joint distribution in the middle and marginal distributions on the edges \n",
        "\n",
        "samples = bivariate_normal_from_Independent.sample(10000)\n",
        "x1 = samples[:, 0]\n",
        "x2 = samples[:, 1]\n",
        "sns.jointplot(x=x1, y=x2, kind=\"kde\", space=0, color='b', xlim=[-4, 4], ylim=[-4, 4])"
      ],
      "execution_count": 18,
      "outputs": [
        {
          "output_type": "execute_result",
          "data": {
            "text/plain": [
              "<seaborn.axisgrid.JointGrid at 0x7f08d8c5aad0>"
            ]
          },
          "metadata": {
            "tags": []
          },
          "execution_count": 18
        },
        {
          "output_type": "display_data",
          "data": {
            "image/png": "[encoded data removed]",
            "text/plain": [
              "<Figure size 432x432 with 3 Axes>"
            ]
          },
          "metadata": {
            "tags": [],
            "needs_background": "light"
          }
        }
      ]
    },
    {
      "cell_type": "code",
      "metadata": {
        "id": "KvjneyOpPViH"
      },
      "source": [
        "# Use MultivariateNormalDiag to create the equivalent distribution\n",
        "# Note that diagonal covariance matrix => no correlation => independence (for the multivariate normal distribution)\n",
        "\n",
        "bivariate_normal_from_Multivariate = tfd.MultivariateNormalDiag(loc=locs, scale_diag=scales)"
      ],
      "execution_count": 19,
      "outputs": []
    },
    {
      "cell_type": "code",
      "metadata": {
        "id": "sAISSIm_PVmC",
        "colab": {
          "base_uri": "https://localhost:8080/",
          "height": 459
        },
        "outputId": "25ccf120-9bd0-4646-e0cf-5ee330c79da9"
      },
      "source": [
        "# Plot the joint density function of bivariate_normal_from_Independent\n",
        "# Refer back to bivariate_normal_from_Independent to show that the plot is the same\n",
        "# Summarise how Independent has been used\n",
        "\n",
        "samples = bivariate_normal_from_Multivariate.sample(10000)\n",
        "x1 = samples[:, 0]\n",
        "x2 = samples[:, 1]\n",
        "sns.jointplot(x=x1, y=x2, kind=\"kde\", space=0, color='b', xlim=[-4, 4], ylim=[-4, 4])"
      ],
      "execution_count": 21,
      "outputs": [
        {
          "output_type": "execute_result",
          "data": {
            "text/plain": [
              "<seaborn.axisgrid.JointGrid at 0x7f08707f1450>"
            ]
          },
          "metadata": {
            "tags": []
          },
          "execution_count": 21
        },
        {
          "output_type": "display_data",
          "data": {
            "image/png": "[encoded data removed]",
            "text/plain": [
              "<Figure size 432x432 with 3 Axes>"
            ]
          },
          "metadata": {
            "tags": [],
            "needs_background": "light"
          }
        }
      ]
    },
    {
      "cell_type": "markdown",
      "metadata": {
        "id": "kBmJTflFPgX8"
      },
      "source": [
        "#### Shifting batch dimensions to event dimensions using \n",
        "`reinterpreted_batch_ndims`"
      ]
    },
    {
      "cell_type": "code",
      "metadata": {
        "id": "3ElUh7ooPVoT"
      },
      "source": [
        "# Demonstrate use of reinterpreted_batch_ndims\n",
        "# By default all batch dims except the first are transferred to event dims\n",
        "\n",
        "# 3 gaussians each with 2 dims\n",
        "loc_grid = [[-100., -100.],\n",
        "            [100., 100.],\n",
        "            [0., 0.]]\n",
        "scale_grid = [[1., 10.],\n",
        "              [1., 10.],\n",
        "              [1., 1.]]\n",
        "\n",
        "normals_batch_3by2_event_1 = tfd.Normal(loc=loc_grid, scale=scale_grid)"
      ],
      "execution_count": 23,
      "outputs": []
    },
    {
      "cell_type": "code",
      "metadata": {
        "id": "UW076VI1PVqX",
        "colab": {
          "base_uri": "https://localhost:8080/"
        },
        "outputId": "f0f3aef9-88cf-4159-9222-ab11f0c0a8bb"
      },
      "source": [
        "# Highlight batch_shape\n",
        "# by default, independent will reinterpret all dimensions, except the first, as events \n",
        "\n",
        "normals_batch_3by2_event_1"
      ],
      "execution_count": 25,
      "outputs": [
        {
          "output_type": "execute_result",
          "data": {
            "text/plain": [
              "<tfp.distributions.Normal 'Normal' batch_shape=[3, 2] event_shape=[] dtype=float32>"
            ]
          },
          "metadata": {
            "tags": []
          },
          "execution_count": 25
        }
      ]
    },
    {
      "cell_type": "code",
      "metadata": {
        "id": "snxii1-1PjDh",
        "colab": {
          "base_uri": "https://localhost:8080/"
        },
        "outputId": "2dee7362-9d63-4f46-e3a0-37dba8f61289"
      },
      "source": [
        "# We now have a batch of 3 bivariate normal distributions,\n",
        "# each parametrised by a column of our original parameter grid\n",
        "\n",
        "normals_batch_2_event_2 = tfd.Independent(normals_batch_3by2_event_1)\n",
        "normals_batch_2_event_2"
      ],
      "execution_count": 26,
      "outputs": [
        {
          "output_type": "execute_result",
          "data": {
            "text/plain": [
              "<tfp.distributions.Independent 'IndependentNormal' batch_shape=[3] event_shape=[2] dtype=float32>"
            ]
          },
          "metadata": {
            "tags": []
          },
          "execution_count": 26
        }
      ]
    },
    {
      "cell_type": "code",
      "metadata": {
        "id": "oYRK8aJRPjFn",
        "colab": {
          "base_uri": "https://localhost:8080/"
        },
        "outputId": "a871b271-04f6-48d2-8c5e-0743a27db2d0"
      },
      "source": [
        "# Evaluate log_prob\n",
        "\n",
        "normals_batch_2_event_2.log_prob(value=[[-10., 10.],\n",
        "                                        [100., 100.],\n",
        "                                        [1., 1.]])"
      ],
      "execution_count": 27,
      "outputs": [
        {
          "output_type": "execute_result",
          "data": {
            "text/plain": [
              "<tf.Tensor: shape=(3,), dtype=float32, numpy=array([-4.1146406e+03, -4.1404624e+00, -2.8378770e+00], dtype=float32)>"
            ]
          },
          "metadata": {
            "tags": []
          },
          "execution_count": 27
        }
      ]
    },
    {
      "cell_type": "code",
      "metadata": {
        "id": "-TEOyYpGPjHt",
        "colab": {
          "base_uri": "https://localhost:8080/"
        },
        "outputId": "0e4c89ca-054f-4dcf-8122-0841720b08e7"
      },
      "source": [
        "# Can reinterpret _all_ batch dimensions as event dimensions\n",
        "\n",
        "normals_batch_1_event_2by3 = tfd.Independent(normals_batch_3by2_event_1, reinterpreted_batch_ndims=2)\n",
        "normals_batch_1_event_2by3"
      ],
      "execution_count": 30,
      "outputs": [
        {
          "output_type": "execute_result",
          "data": {
            "text/plain": [
              "<tfp.distributions.Independent 'IndependentNormal' batch_shape=[] event_shape=[3, 2] dtype=float32>"
            ]
          },
          "metadata": {
            "tags": []
          },
          "execution_count": 30
        }
      ]
    },
    {
      "cell_type": "code",
      "metadata": {
        "id": "srhRE9_OPjJy",
        "colab": {
          "base_uri": "https://localhost:8080/"
        },
        "outputId": "9e3dcc52-4d44-40e4-f50d-0448f64dc42d"
      },
      "source": [
        "# Take log_probs \n",
        "\n",
        "normals_batch_1_event_2by3.log_prob(value=[[-10., 10.],\n",
        "                                        [100., 100.],\n",
        "                                        [1., 1.]])"
      ],
      "execution_count": 31,
      "outputs": [
        {
          "output_type": "execute_result",
          "data": {
            "text/plain": [
              "<tf.Tensor: shape=(), dtype=float32, numpy=-4121.619>"
            ]
          },
          "metadata": {
            "tags": []
          },
          "execution_count": 31
        }
      ]
    },
    {
      "cell_type": "markdown",
      "metadata": {
        "id": "uJT4aGThPo3N"
      },
      "source": [
        "#### Using `Independent` to build a Naive Bayes classifier"
      ]
    },
    {
      "cell_type": "markdown",
      "metadata": {
        "id": "eQHYYxvjPo5R"
      },
      "source": [
        "#### Introduction to `newsgroups` data set"
      ]
    },
    {
      "cell_type": "markdown",
      "metadata": {
        "id": "_kMutHLBPo7H"
      },
      "source": [
        "In this tutorial, just load the dataset, fetch train/test splits, probably choose a subset of the data.\n",
        "\n",
        "Construct the class conditional feature distribution (with Independent, using the Naive Bayes assumption) and sample from it.\n",
        "\n",
        "We can just use the ML estimates for parameters, in later tutorials we will learn them."
      ]
    },
    {
      "cell_type": "code",
      "metadata": {
        "id": "ytOsZU-tPjLr"
      },
      "source": [
        "# Convenience function for retrieving the 20 newsgroups data set\n",
        "\n",
        "# Usenet was a forerunner to modern internet forums\n",
        "# Users could post and read articles\n",
        "# Newsgroup corresponded to a topic\n",
        "# Example topics in this data set: IBM computer hardware, baseball\n",
        "# Our objective is to use an article's contents to predict its newsgroup,\n",
        "# a 20-class classification problem.\n",
        "\n",
        "# 18000 newsgroups, posts on 20 topics\n",
        "from sklearn.datasets import fetch_20newsgroups\n",
        "from sklearn.feature_extraction.text import CountVectorizer"
      ],
      "execution_count": 32,
      "outputs": []
    },
    {
      "cell_type": "code",
      "metadata": {
        "id": "4yWVxu26Pt6p",
        "colab": {
          "base_uri": "https://localhost:8080/"
        },
        "outputId": "5ef23d32-32e9-4449-fa74-001de5095846"
      },
      "source": [
        "# Get the train data\n",
        "\n",
        "newsgroup_data = fetch_20newsgroups(data_home='20_Newsgroup_Data/', subset='train')"
      ],
      "execution_count": 33,
      "outputs": [
        {
          "output_type": "stream",
          "text": [
            "Downloading 20news dataset. This may take a few minutes.\n",
            "Downloading dataset from https://ndownloader.figshare.com/files/5975967 (14 MB)\n"
          ],
          "name": "stderr"
        }
      ]
    },
    {
      "cell_type": "code",
      "metadata": {
        "id": "1npKmQr3Pt9A",
        "colab": {
          "base_uri": "https://localhost:8080/"
        },
        "outputId": "8edf59b2-0175-4cbb-b235-06ad71351f64"
      },
      "source": [
        "# More information about the data set\n",
        "\n",
        "print(newsgroup_data['DESCR'])"
      ],
      "execution_count": 34,
      "outputs": [
        {
          "output_type": "stream",
          "text": [
            ".. _20newsgroups_dataset:\n",
            "\n",
            "The 20 newsgroups text dataset\n",
            "------------------------------\n",
            "\n",
            "The 20 newsgroups dataset comprises around 18000 newsgroups posts on\n",
            "20 topics split in two subsets: one for training (or development)\n",
            "and the other one for testing (or for performance evaluation). The split\n",
            "between the train and test set is based upon a messages posted before\n",
            "and after a specific date.\n",
            "\n",
            "This module contains two loaders. The first one,\n",
            ":func:`sklearn.datasets.fetch_20newsgroups`,\n",
            "returns a list of the raw texts that can be fed to text feature\n",
            "extractors such as :class:`sklearn.feature_extraction.text.CountVectorizer`\n",
            "with custom parameters so as to extract feature vectors.\n",
            "The second one, :func:`sklearn.datasets.fetch_20newsgroups_vectorized`,\n",
            "returns ready-to-use features, i.e., it is not necessary to use a feature\n",
            "extractor.\n",
            "\n",
            "**Data Set Characteristics:**\n",
            "\n",
            "    =================   ==========\n",
            "    Classes                     20\n",
            "    Samples total            18846\n",
            "    Dimensionality               1\n",
            "    Features                  text\n",
            "    =================   ==========\n",
            "\n",
            "Usage\n",
            "~~~~~\n",
            "\n",
            "The :func:`sklearn.datasets.fetch_20newsgroups` function is a data\n",
            "fetching / caching functions that downloads the data archive from\n",
            "the original `20 newsgroups website`_, extracts the archive contents\n",
            "in the ``~/scikit_learn_data/20news_home`` folder and calls the\n",
            ":func:`sklearn.datasets.load_files` on either the training or\n",
            "testing set folder, or both of them::\n",
            "\n",
            "  >>> from sklearn.datasets import fetch_20newsgroups\n",
            "  >>> newsgroups_train = fetch_20newsgroups(subset='train')\n",
            "\n",
            "  >>> from pprint import pprint\n",
            "  >>> pprint(list(newsgroups_train.target_names))\n",
            "  ['alt.atheism',\n",
            "   'comp.graphics',\n",
            "   'comp.os.ms-windows.misc',\n",
            "   'comp.sys.ibm.pc.hardware',\n",
            "   'comp.sys.mac.hardware',\n",
            "   'comp.windows.x',\n",
            "   'misc.forsale',\n",
            "   'rec.autos',\n",
            "   'rec.motorcycles',\n",
            "   'rec.sport.baseball',\n",
            "   'rec.sport.hockey',\n",
            "   'sci.crypt',\n",
            "   'sci.electronics',\n",
            "   'sci.med',\n",
            "   'sci.space',\n",
            "   'soc.religion.christian',\n",
            "   'talk.politics.guns',\n",
            "   'talk.politics.mideast',\n",
            "   'talk.politics.misc',\n",
            "   'talk.religion.misc']\n",
            "\n",
            "The real data lies in the ``filenames`` and ``target`` attributes. The target\n",
            "attribute is the integer index of the category::\n",
            "\n",
            "  >>> newsgroups_train.filenames.shape\n",
            "  (11314,)\n",
            "  >>> newsgroups_train.target.shape\n",
            "  (11314,)\n",
            "  >>> newsgroups_train.target[:10]\n",
            "  array([ 7,  4,  4,  1, 14, 16, 13,  3,  2,  4])\n",
            "\n",
            "It is possible to load only a sub-selection of the categories by passing the\n",
            "list of the categories to load to the\n",
            ":func:`sklearn.datasets.fetch_20newsgroups` function::\n",
            "\n",
            "  >>> cats = ['alt.atheism', 'sci.space']\n",
            "  >>> newsgroups_train = fetch_20newsgroups(subset='train', categories=cats)\n",
            "\n",
            "  >>> list(newsgroups_train.target_names)\n",
            "  ['alt.atheism', 'sci.space']\n",
            "  >>> newsgroups_train.filenames.shape\n",
            "  (1073,)\n",
            "  >>> newsgroups_train.target.shape\n",
            "  (1073,)\n",
            "  >>> newsgroups_train.target[:10]\n",
            "  array([0, 1, 1, 1, 0, 1, 1, 0, 0, 0])\n",
            "\n",
            "Converting text to vectors\n",
            "~~~~~~~~~~~~~~~~~~~~~~~~~~\n",
            "\n",
            "In order to feed predictive or clustering models with the text data,\n",
            "one first need to turn the text into vectors of numerical values suitable\n",
            "for statistical analysis. This can be achieved with the utilities of the\n",
            "``sklearn.feature_extraction.text`` as demonstrated in the following\n",
            "example that extract `TF-IDF`_ vectors of unigram tokens\n",
            "from a subset of 20news::\n",
            "\n",
            "  >>> from sklearn.feature_extraction.text import TfidfVectorizer\n",
            "  >>> categories = ['alt.atheism', 'talk.religion.misc',\n",
            "  ...               'comp.graphics', 'sci.space']\n",
            "  >>> newsgroups_train = fetch_20newsgroups(subset='train',\n",
            "  ...                                       categories=categories)\n",
            "  >>> vectorizer = TfidfVectorizer()\n",
            "  >>> vectors = vectorizer.fit_transform(newsgroups_train.data)\n",
            "  >>> vectors.shape\n",
            "  (2034, 34118)\n",
            "\n",
            "The extracted TF-IDF vectors are very sparse, with an average of 159 non-zero\n",
            "components by sample in a more than 30000-dimensional space\n",
            "(less than .5% non-zero features)::\n",
            "\n",
            "  >>> vectors.nnz / float(vectors.shape[0])\n",
            "  159.01327...\n",
            "\n",
            ":func:`sklearn.datasets.fetch_20newsgroups_vectorized` is a function which \n",
            "returns ready-to-use token counts features instead of file names.\n",
            "\n",
            ".. _`20 newsgroups website`: http://people.csail.mit.edu/jrennie/20Newsgroups/\n",
            ".. _`TF-IDF`: https://en.wikipedia.org/wiki/Tf-idf\n",
            "\n",
            "\n",
            "Filtering text for more realistic training\n",
            "~~~~~~~~~~~~~~~~~~~~~~~~~~~~~~~~~~~~~~~~~~\n",
            "\n",
            "It is easy for a classifier to overfit on particular things that appear in the\n",
            "20 Newsgroups data, such as newsgroup headers. Many classifiers achieve very\n",
            "high F-scores, but their results would not generalize to other documents that\n",
            "aren't from this window of time.\n",
            "\n",
            "For example, let's look at the results of a multinomial Naive Bayes classifier,\n",
            "which is fast to train and achieves a decent F-score::\n",
            "\n",
            "  >>> from sklearn.naive_bayes import MultinomialNB\n",
            "  >>> from sklearn import metrics\n",
            "  >>> newsgroups_test = fetch_20newsgroups(subset='test',\n",
            "  ...                                      categories=categories)\n",
            "  >>> vectors_test = vectorizer.transform(newsgroups_test.data)\n",
            "  >>> clf = MultinomialNB(alpha=.01)\n",
            "  >>> clf.fit(vectors, newsgroups_train.target)\n",
            "  MultinomialNB(alpha=0.01, class_prior=None, fit_prior=True)\n",
            "\n",
            "  >>> pred = clf.predict(vectors_test)\n",
            "  >>> metrics.f1_score(newsgroups_test.target, pred, average='macro')\n",
            "  0.88213...\n",
            "\n",
            "(The example :ref:`sphx_glr_auto_examples_text_plot_document_classification_20newsgroups.py` shuffles\n",
            "the training and test data, instead of segmenting by time, and in that case\n",
            "multinomial Naive Bayes gets a much higher F-score of 0.88. Are you suspicious\n",
            "yet of what's going on inside this classifier?)\n",
            "\n",
            "Let's take a look at what the most informative features are:\n",
            "\n",
            "  >>> import numpy as np\n",
            "  >>> def show_top10(classifier, vectorizer, categories):\n",
            "  ...     feature_names = np.asarray(vectorizer.get_feature_names())\n",
            "  ...     for i, category in enumerate(categories):\n",
            "  ...         top10 = np.argsort(classifier.coef_[i])[-10:]\n",
            "  ...         print(\"%s: %s\" % (category, \" \".join(feature_names[top10])))\n",
            "  ...\n",
            "  >>> show_top10(clf, vectorizer, newsgroups_train.target_names)\n",
            "  alt.atheism: edu it and in you that is of to the\n",
            "  comp.graphics: edu in graphics it is for and of to the\n",
            "  sci.space: edu it that is in and space to of the\n",
            "  talk.religion.misc: not it you in is that and to of the\n",
            "\n",
            "\n",
            "You can now see many things that these features have overfit to:\n",
            "\n",
            "- Almost every group is distinguished by whether headers such as\n",
            "  ``NNTP-Posting-Host:`` and ``Distribution:`` appear more or less often.\n",
            "- Another significant feature involves whether the sender is affiliated with\n",
            "  a university, as indicated either by their headers or their signature.\n",
            "- The word \"article\" is a significant feature, based on how often people quote\n",
            "  previous posts like this: \"In article [article ID], [name] <[e-mail address]>\n",
            "  wrote:\"\n",
            "- Other features match the names and e-mail addresses of particular people who\n",
            "  were posting at the time.\n",
            "\n",
            "With such an abundance of clues that distinguish newsgroups, the classifiers\n",
            "barely have to identify topics from text at all, and they all perform at the\n",
            "same high level.\n",
            "\n",
            "For this reason, the functions that load 20 Newsgroups data provide a\n",
            "parameter called **remove**, telling it what kinds of information to strip out\n",
            "of each file. **remove** should be a tuple containing any subset of\n",
            "``('headers', 'footers', 'quotes')``, telling it to remove headers, signature\n",
            "blocks, and quotation blocks respectively.\n",
            "\n",
            "  >>> newsgroups_test = fetch_20newsgroups(subset='test',\n",
            "  ...                                      remove=('headers', 'footers', 'quotes'),\n",
            "  ...                                      categories=categories)\n",
            "  >>> vectors_test = vectorizer.transform(newsgroups_test.data)\n",
            "  >>> pred = clf.predict(vectors_test)\n",
            "  >>> metrics.f1_score(pred, newsgroups_test.target, average='macro')\n",
            "  0.77310...\n",
            "\n",
            "This classifier lost over a lot of its F-score, just because we removed\n",
            "metadata that has little to do with topic classification.\n",
            "It loses even more if we also strip this metadata from the training data:\n",
            "\n",
            "  >>> newsgroups_train = fetch_20newsgroups(subset='train',\n",
            "  ...                                       remove=('headers', 'footers', 'quotes'),\n",
            "  ...                                       categories=categories)\n",
            "  >>> vectors = vectorizer.fit_transform(newsgroups_train.data)\n",
            "  >>> clf = MultinomialNB(alpha=.01)\n",
            "  >>> clf.fit(vectors, newsgroups_train.target)\n",
            "  MultinomialNB(alpha=0.01, class_prior=None, fit_prior=True)\n",
            "\n",
            "  >>> vectors_test = vectorizer.transform(newsgroups_test.data)\n",
            "  >>> pred = clf.predict(vectors_test)\n",
            "  >>> metrics.f1_score(newsgroups_test.target, pred, average='macro')\n",
            "  0.76995...\n",
            "\n",
            "Some other classifiers cope better with this harder version of the task. Try\n",
            "running :ref:`sphx_glr_auto_examples_model_selection_grid_search_text_feature_extraction.py` with and without\n",
            "the ``--filter`` option to compare the results.\n",
            "\n",
            ".. topic:: Recommendation\n",
            "\n",
            "  When evaluating text classifiers on the 20 Newsgroups data, you\n",
            "  should strip newsgroup-related metadata. In scikit-learn, you can do this by\n",
            "  setting ``remove=('headers', 'footers', 'quotes')``. The F-score will be\n",
            "  lower because it is more realistic.\n",
            "\n",
            ".. topic:: Examples\n",
            "\n",
            "   * :ref:`sphx_glr_auto_examples_model_selection_grid_search_text_feature_extraction.py`\n",
            "\n",
            "   * :ref:`sphx_glr_auto_examples_text_plot_document_classification_20newsgroups.py`\n",
            "\n"
          ],
          "name": "stdout"
        }
      ]
    },
    {
      "cell_type": "code",
      "metadata": {
        "id": "MVgQyRC-Pt_H",
        "colab": {
          "base_uri": "https://localhost:8080/"
        },
        "outputId": "c4fb839e-0e56-4134-bb28-9e129a7abeae"
      },
      "source": [
        "# Example article\n",
        "\n",
        "print(newsgroup_data['data'][0])"
      ],
      "execution_count": 35,
      "outputs": [
        {
          "output_type": "stream",
          "text": [
            "From: lerxst@wam.umd.edu (where's my thing)\n",
            "Subject: WHAT car is this!?\n",
            "Nntp-Posting-Host: rac3.wam.umd.edu\n",
            "Organization: University of Maryland, College Park\n",
            "Lines: 15\n",
            "\n",
            " I was wondering if anyone out there could enlighten me on this car I saw\n",
            "the other day. It was a 2-door sports car, looked to be from the late 60s/\n",
            "early 70s. It was called a Bricklin. The doors were really small. In addition,\n",
            "the front bumper was separate from the rest of the body. This is \n",
            "all I know. If anyone can tellme a model name, engine specs, years\n",
            "of production, where this car is made, history, or whatever info you\n",
            "have on this funky looking car, please e-mail.\n",
            "\n",
            "Thanks,\n",
            "- IL\n",
            "   ---- brought to you by your neighborhood Lerxst ----\n",
            "\n",
            "\n",
            "\n",
            "\n",
            "\n"
          ],
          "name": "stdout"
        }
      ]
    },
    {
      "cell_type": "code",
      "metadata": {
        "id": "N12sN025PuBP",
        "colab": {
          "base_uri": "https://localhost:8080/"
        },
        "outputId": "643cc0ef-9cf2-40b0-a4df-be128707fc89"
      },
      "source": [
        "# Associated label\n",
        "\n",
        "newsgroup_data['target'][0]"
      ],
      "execution_count": 36,
      "outputs": [
        {
          "output_type": "execute_result",
          "data": {
            "text/plain": [
              "7"
            ]
          },
          "metadata": {
            "tags": []
          },
          "execution_count": 36
        }
      ]
    },
    {
      "cell_type": "code",
      "metadata": {
        "id": "4IgcL3sfPuDM",
        "colab": {
          "base_uri": "https://localhost:8080/",
          "height": 36
        },
        "outputId": "7f102d48-d2e3-41c1-a2e9-f6cc29c13e0d"
      },
      "source": [
        "# Name of label\n",
        "\n",
        "newsgroup_data['target_names'][7]"
      ],
      "execution_count": 37,
      "outputs": [
        {
          "output_type": "execute_result",
          "data": {
            "application/vnd.google.colaboratory.intrinsic+json": {
              "type": "string"
            },
            "text/plain": [
              "'rec.autos'"
            ]
          },
          "metadata": {
            "tags": []
          },
          "execution_count": 37
        }
      ]
    },
    {
      "cell_type": "code",
      "metadata": {
        "id": "b8BNuadpPjON"
      },
      "source": [
        "# Preprocessing boilerplate\n",
        "\n",
        "n_documents = len(newsgroup_data['data'])\n",
        "\n",
        "count_vectorizer = CountVectorizer(input='content', binary=True,\n",
        "                                   max_df=0.25, min_df=1.01/n_documents) # ignore common words, words that appear once\n",
        "binary_bag_of_words = count_vectorizer.fit_transform(newsgroup_data['data']) # input is a list of strings\n"
      ],
      "execution_count": 40,
      "outputs": []
    },
    {
      "cell_type": "code",
      "metadata": {
        "id": "-kL7t1OJPzSn",
        "colab": {
          "base_uri": "https://localhost:8080/"
        },
        "outputId": "41a2a6b1-95f4-46c2-ccd0-a88ecf42c3fb"
      },
      "source": [
        "# Check shape\n",
        "\n",
        "binary_bag_of_words.shape"
      ],
      "execution_count": 41,
      "outputs": [
        {
          "output_type": "execute_result",
          "data": {
            "text/plain": [
              "(11314, 56365)"
            ]
          },
          "metadata": {
            "tags": []
          },
          "execution_count": 41
        }
      ]
    },
    {
      "cell_type": "code",
      "metadata": {
        "id": "iMGMBBybPzUk",
        "colab": {
          "base_uri": "https://localhost:8080/"
        },
        "outputId": "c816b0ce-35f9-4a73-a8fd-0f8f3bc4e681"
      },
      "source": [
        "# Check that the fit has been successful\n",
        "\n",
        "count_vectorizer.inverse_transform(binary_bag_of_words[0,:])"
      ],
      "execution_count": 42,
      "outputs": [
        {
          "output_type": "execute_result",
          "data": {
            "text/plain": [
              "[array(['lerxst', 'wam', 'umd', 'where', 'thing', 'car', 'rac3',\n",
              "        'maryland', 'college', 'park', '15', 'wondering', 'anyone',\n",
              "        'could', 'enlighten', 'saw', 'day', 'door', 'sports', 'looked',\n",
              "        'late', '60s', 'early', '70s', 'called', 'bricklin', 'doors',\n",
              "        'were', 'really', 'small', 'addition', 'front', 'bumper',\n",
              "        'separate', 'rest', 'body', 'tellme', 'model', 'name', 'engine',\n",
              "        'specs', 'years', 'production', 'made', 'history', 'whatever',\n",
              "        'info', 'funky', 'looking', 'please', 'mail', 'thanks', 'il',\n",
              "        'brought', 'neighborhood'], dtype='<U80')]"
            ]
          },
          "metadata": {
            "tags": []
          },
          "execution_count": 42
        }
      ]
    },
    {
      "cell_type": "code",
      "metadata": {
        "id": "TT3Ez5moPzWg",
        "colab": {
          "base_uri": "https://localhost:8080/",
          "height": 135
        },
        "outputId": "d66463a7-946f-4900-c004-c600b9d396c3"
      },
      "source": [
        " Dict that will be useful later \n",
        "\n",
        "inv_vocabulary = {value:key for key, value in count_vectorizer.vocabulary_.items()}"
      ],
      "execution_count": 45,
      "outputs": [
        {
          "output_type": "error",
          "ename": "SyntaxError",
          "evalue": "ignored",
          "traceback": [
            "\u001b[0;36m  File \u001b[0;32m\"<ipython-input-45-8fa52303ffd6>\"\u001b[0;36m, line \u001b[0;32m1\u001b[0m\n\u001b[0;31m    Dict that will be useful later\u001b[0m\n\u001b[0m            ^\u001b[0m\n\u001b[0;31mSyntaxError\u001b[0m\u001b[0;31m:\u001b[0m invalid syntax\n"
          ]
        }
      ]
    },
    {
      "cell_type": "markdown",
      "metadata": {
        "id": "wBPbucoeP3Ku"
      },
      "source": [
        "#### A Naive Bayes classifier for `newsgroup`"
      ]
    },
    {
      "cell_type": "markdown",
      "metadata": {
        "id": "aHQ-wEpvP3M3"
      },
      "source": [
        "Each feature vector $x$ is a list of indicators for whether a word appears in the article. $x_i$ is 1 if the $i$th word appears, and 0 otherwise. `inv_vocabulary` matches word indices $i$ to words.\n",
        "\n",
        "Each label $y$ is a value in $0, 1, \\ldots, 19$.\n",
        "\n",
        "The parts of a naive Bayes classifier for this problem can be summarised as:  \n",
        "\n",
        "\n",
        "- A probability distribution for the feature vector by class, $p(x|y = j)$ for each $j = 0, 1, \\ldots, 19$. These probability distributions are assumed to have independent components: we can factorize the joint probability as a product of marginal probabilities\n",
        "\\begin{equation}\n",
        "    p(x|y = j) = \\prod_{i=1}^d p(x_i|y = j)\n",
        "\\end{equation}\n",
        "These marginal probability distributions are Bernoulli distributions, each of which has a single parameter $\\theta_{ji} := p(x_i = 1|y = j)$. This parameter is the probability of observing word $i$ in an article of class $j$. \n",
        "\n",
        "- We will use the Laplace smoothed maximum likelihood estimate to compute these parameters. Laplace smoothing involves adding small counts to every feature for each class. Else, if a feature did not appear in the training set of a class, but then we observed it in our test data the log probability would be undefined.\n",
        "\n",
        "- A collection of class prior probabilities $p(y = j)$. These will be set by computing the class base rates in the training set.  \n",
        "\n",
        "\n",
        "- A function for computing the probability of class membership via Bayes' theorem:  \n",
        "\n",
        "\\begin{equation}\n",
        "    p(y = j|x) = \\frac{p(x|y = j)p(y = j)}{p(x)}\n",
        "\\end{equation}"
      ]
    },
    {
      "cell_type": "code",
      "metadata": {
        "id": "d5c67vQ-PzYo"
      },
      "source": [
        "# Compute the parameter estimates (adjusted fraction of documents in class that contain word)\n",
        "\n",
        "n_classes = newsgroup_data['target'].max() + 1\n",
        "y = newsgroup_data['target']\n",
        "n_words = binary_bag_of_words.shape[1]\n",
        "\n",
        "alpha = 1e-6 # parameters for Laplace smoothing\n",
        "\n",
        "theta = np.zeros([n_classes, n_words]) # stores parameter values - prob. word given class\n",
        "for c_k in range(n_classes): # 0, 1, ..., 19\n",
        "    class_mask = (y == c_k)\n",
        "    N = class_mask.sum() # number of articles in class\n",
        "    theta[c_k, :] = (binary_bag_of_words[class_mask, :].sum(axis=0) + alpha)/(N + alpha*2)"
      ],
      "execution_count": 46,
      "outputs": []
    },
    {
      "cell_type": "code",
      "metadata": {
        "id": "xYHOh8X8Pzas",
        "colab": {
          "base_uri": "https://localhost:8080/"
        },
        "outputId": "95709ca9-3b1b-46ea-d221-48beba24a7b7"
      },
      "source": [
        "# Check whether the most probable word in each class is reasonable\n",
        "\n",
        "most_probable_word_ix = theta.argmax(axis=1) # most probable word for each class\n",
        "\n",
        "for j, ix in enumerate(most_probable_word_ix):\n",
        "    print('Most probable word in class {} is \"{}\".'.format(newsgroup_data['target_names'][j],\n",
        "                                                           inv_vocabulary[ix]))"
      ],
      "execution_count": 47,
      "outputs": [
        {
          "output_type": "stream",
          "text": [
            "Most probable word in class alt.atheism is \"people\".\n",
            "Most probable word in class comp.graphics is \"graphics\".\n",
            "Most probable word in class comp.os.ms-windows.misc is \"windows\".\n",
            "Most probable word in class comp.sys.ibm.pc.hardware is \"thanks\".\n",
            "Most probable word in class comp.sys.mac.hardware is \"mac\".\n",
            "Most probable word in class comp.windows.x is \"window\".\n",
            "Most probable word in class misc.forsale is \"sale\".\n",
            "Most probable word in class rec.autos is \"car\".\n",
            "Most probable word in class rec.motorcycles is \"dod\".\n",
            "Most probable word in class rec.sport.baseball is \"he\".\n",
            "Most probable word in class rec.sport.hockey is \"ca\".\n",
            "Most probable word in class sci.crypt is \"clipper\".\n",
            "Most probable word in class sci.electronics is \"use\".\n",
            "Most probable word in class sci.med is \"reply\".\n",
            "Most probable word in class sci.space is \"space\".\n",
            "Most probable word in class soc.religion.christian is \"god\".\n",
            "Most probable word in class talk.politics.guns is \"people\".\n",
            "Most probable word in class talk.politics.mideast is \"people\".\n",
            "Most probable word in class talk.politics.misc is \"people\".\n",
            "Most probable word in class talk.religion.misc is \"he\".\n"
          ],
          "name": "stdout"
        }
      ]
    },
    {
      "cell_type": "code",
      "metadata": {
        "id": "ZMAcztK9P8u7",
        "colab": {
          "base_uri": "https://localhost:8080/"
        },
        "outputId": "e32dc0b7-1030-4423-d62c-71fc4edd9b44"
      },
      "source": [
        "# Define a distribution for each class (20 distributions for 20 classes)\n",
        "\n",
        "batch_of_bernoullis = tfd.Bernoulli(probs=theta)\n",
        "p_x_given_y = tfd.Independent(batch_of_bernoullis, reinterpreted_batch_ndims=1)\n",
        "p_x_given_y"
      ],
      "execution_count": 48,
      "outputs": [
        {
          "output_type": "execute_result",
          "data": {
            "text/plain": [
              "<tfp.distributions.Independent 'IndependentBernoulli' batch_shape=[20] event_shape=[56365] dtype=int32>"
            ]
          },
          "metadata": {
            "tags": []
          },
          "execution_count": 48
        }
      ]
    },
    {
      "cell_type": "code",
      "metadata": {
        "id": "TXbIr9ANP8xE",
        "colab": {
          "base_uri": "https://localhost:8080/"
        },
        "outputId": "f0cce14c-a772-4daf-df22-10df70643239"
      },
      "source": [
        "# Take a sample of words from each class\n",
        "\n",
        "n_samples = 10\n",
        "sample = p_x_given_y.sample(n_samples)\n",
        "sample.shape  # nr of samples x nr of classes x vocab size"
      ],
      "execution_count": 53,
      "outputs": [
        {
          "output_type": "execute_result",
          "data": {
            "text/plain": [
              "TensorShape([10, 20, 56365])"
            ]
          },
          "metadata": {
            "tags": []
          },
          "execution_count": 53
        }
      ]
    },
    {
      "cell_type": "code",
      "metadata": {
        "id": "T7lRL2wfP8zN",
        "colab": {
          "base_uri": "https://localhost:8080/",
          "height": 36
        },
        "outputId": "f6c55ba2-19f4-4359-c7db-17cf7431bde0"
      },
      "source": [
        "# Choose a class\n",
        "\n",
        "chosen_class = 15\n",
        "newsgroup_data['target_names'][chosen_class]"
      ],
      "execution_count": 54,
      "outputs": [
        {
          "output_type": "execute_result",
          "data": {
            "application/vnd.google.colaboratory.intrinsic+json": {
              "type": "string"
            },
            "text/plain": [
              "'soc.religion.christian'"
            ]
          },
          "metadata": {
            "tags": []
          },
          "execution_count": 54
        }
      ]
    },
    {
      "cell_type": "code",
      "metadata": {
        "id": "J0wxylK0P81S",
        "colab": {
          "base_uri": "https://localhost:8080/"
        },
        "outputId": "23803a40-17af-4359-8882-cc31ad967808"
      },
      "source": [
        "# Indicators for words that appear in the sample\n",
        "\n",
        "class_sample = sample[:, chosen_class, :]\n",
        "class_sample"
      ],
      "execution_count": 55,
      "outputs": [
        {
          "output_type": "execute_result",
          "data": {
            "text/plain": [
              "<tf.Tensor: shape=(10, 56365), dtype=int32, numpy=\n",
              "array([[1, 0, 0, ..., 0, 0, 0],\n",
              "       [0, 0, 0, ..., 0, 0, 0],\n",
              "       [0, 0, 0, ..., 0, 0, 0],\n",
              "       ...,\n",
              "       [0, 0, 0, ..., 0, 0, 0],\n",
              "       [0, 0, 0, ..., 0, 0, 0],\n",
              "       [0, 0, 0, ..., 0, 0, 0]], dtype=int32)>"
            ]
          },
          "metadata": {
            "tags": []
          },
          "execution_count": 55
        }
      ]
    },
    {
      "cell_type": "code",
      "metadata": {
        "id": "Bl93GH14P83X",
        "colab": {
          "base_uri": "https://localhost:8080/"
        },
        "outputId": "b91aa4d7-d00b-4074-9677-be4665777645"
      },
      "source": [
        "# Perform inverse transform to test quality of fit\n",
        "\n",
        "count_vectorizer.inverse_transform(class_sample)"
      ],
      "execution_count": 56,
      "outputs": [
        {
          "output_type": "execute_result",
          "data": {
            "text/plain": [
              "[array(['00', '1993', '_want_', 'accepted', 'accepts', 'actions', 'acts',\n",
              "        'advocating', 'ajackson', 'amigos', 'among', 'annointed',\n",
              "        'appalling', 'areas', 'athos', 'baptism', 'been', 'being',\n",
              "        'beyond', 'bible', 'blaise', 'boss', 'called', 'care', 'carry',\n",
              "        'christian', 'church', 'city', 'clh', 'could', 'couple', 'crowd',\n",
              "        'cut', 'damascus', 'deal', 'discussion', 'doctrine', 'down',\n",
              "        'eternal', 'even', 'external', 'fact', 'faith', 'festival',\n",
              "        'first', 'gave', 'god', 'had', 'his', 'hold', 'intent',\n",
              "        'interpreters', 'jeesus', 'knew', 'legitimate', 'little', 'lonely',\n",
              "        'mainly', 'manage', 'matter', 'meet', 'members', 'mfg', 'most',\n",
              "        'new', 'nt', 'number', 'obviously', 'offered', 'opinions', 'order',\n",
              "        'our', 'passage', 'patterson', 'peace', 'people', 'perceives',\n",
              "        'personal', 'philosophy', 'place', 'pope', 'poster', 'provide',\n",
              "        'punishable', 'purpose', 'question', 'read', 'readers', 'really',\n",
              "        'reference', 'reply', 'reserved', 'revolution', 'road', 'room',\n",
              "        'sake', 'saw', 'say', 'says', 'school', 'scripture', 'see',\n",
              "        'semester', 'she', 'singer', 'sinner', 'sleep', 'someone',\n",
              "        'something', 'sound', 'specific', 'stay', 'struggled', 'sun',\n",
              "        'taken', 'talk', 'tellabs', 'these', 'think', 'though', 'time',\n",
              "        'totally', 'true', 'tsd', 'uchicago', 'uncertainty', 'upbringing',\n",
              "        'vague', 'view', 'warriors', 'way', 'why', 'without', 'words',\n",
              "        'world', 'wouldn', 'young'], dtype='<U80'),\n",
              " array(['31', '58', '_should_', 'ajackson', 'also', 'am', 'ambiguous',\n",
              "        'anger', 'anymore', 'arguments', 'assume', 'athens', 'available',\n",
              "        'awaited', 'away', 'bear', 'because', 'become', 'best', 'biblical',\n",
              "        'cannot', 'case', 'catholic', 'centuries', 'cgsvax', 'champions',\n",
              "        'changing', 'chant', 'christians', 'commandment', 'could',\n",
              "        'covering', 'culture', 'cut', 'deserve', 'destroy', 'different',\n",
              "        'discussions', 'does', 'doug', 'ethics', 'experiment', 'family',\n",
              "        'faq', 'focus', 'forever', 'forth', 'functioning', 'german',\n",
              "        'gift', 'goes', 'great', 'greek', 'group', 'guerra', 'guest',\n",
              "        'had', 'heard', 'help', 'hinduism', 'holy', 'home', 'honor',\n",
              "        'important', 'innocent', 'jesus', 'john', 'jon', 'judge', 'june',\n",
              "        'kids', 'kill', 'knowing', 'knowledge', 'lastly', 'let',\n",
              "        'literally', 'long', 'luke', 'made', 'make', 'married', 'mcdowell',\n",
              "        'michael', 'mock', 'nation', 'national', 'nicely', 'nj', 'nobody',\n",
              "        'none', 'nonetheless', 'nothing', 'now', 'ott', 'our', 'patrick',\n",
              "        'penguin', 'performed', 'pius', 'plunged', 'pray', 'pressing',\n",
              "        'presume', 'proof', 'proper', 'punishment', 'really', 'respect',\n",
              "        'responsible', 'resurrection', 'roman', 'root', 'rushing',\n",
              "        'rutgers', 'same', 'sent', 'share', 'shows', 'something', 'speech',\n",
              "        'steven', 'stronger', 'summarised', 'surely', 'teaching', 'their',\n",
              "        'then', 'through', 'time', 'told', 'trol', 'unchangeable',\n",
              "        'variation', 'want', 'wanted', 'washington', 'while', 'why',\n",
              "        'witness', 'wrong'], dtype='<U80'),\n",
              " array(['12', '14', '24', 'accepts', 'aids', 'andrew', 'aquinas',\n",
              "        'arrogant', 'attributed', 'australia', 'away', 'being', 'best',\n",
              "        'bible', 'blatant', 'body', 'broke', 'captialist', 'ceremonial',\n",
              "        'certainly', 'choose', 'christianity', 'christians', 'closer',\n",
              "        'come', 'complained', 'condition', 'correctness', 'crazy', 'cross',\n",
              "        'crowd', 'day', 'dead', 'deletions', 'department', 'detail', 'did',\n",
              "        'differing', 'distorted', 'doubt', 'during', 'end', 'england',\n",
              "        'enoch', 'erupt', 'especially', 'eventually', 'expected', 'false',\n",
              "        'familiar', 'far', 'favor', 'finally', 'first', 'fisher', 'fnord',\n",
              "        'follower', 'funny', 'gift', 'glasgow', 'had', 'hand',\n",
              "        'handwriting', 'he', 'heard', 'help', 'here', 'human', 'into',\n",
              "        'invalid', 'jackson', 'james', 'japanese', 'jesus', 'johnson',\n",
              "        'latin', 'leland', 'letters', 'lord', 'love', 'major', 'math',\n",
              "        'matter', 'may', 'myself', 'myth', 'name', 'nearly', 'noye',\n",
              "        'obviously', 'offer', 'opposition', 'others', 'own', 'perspective',\n",
              "        'ph', 'prayers', 'praying', 'priority', 'problem', 'proclamation',\n",
              "        'prove', 'provide', 'questions', 'quite', 'rather', 'rest',\n",
              "        'right', 'rolling', 'sadness', 'says', 'set', 'simple', 'sinai',\n",
              "        'since', 'stands', 'store', 'story', 'study', 'stuff', 'summaries',\n",
              "        'supposed', 'system', 'systems', 'taken', 'taught', 'teaching',\n",
              "        'tear', 'tell', 'terms', 'than', 'then', 'theologies', 'theology',\n",
              "        'things', 'thinking', 'time', 'two', 'under', 'unique', 'unto',\n",
              "        'utsa', 've', 'vehicle', 'videotaped', 'vs', 'walk', 'want',\n",
              "        'week', 'whom', 'within', 'wjhovi01', 'wondering', 'word', 'worth',\n",
              "        'written', 'yet'], dtype='<U80'),\n",
              " array(['00', 'again', 'agency', 'ahh', 'allowed', 'alumni', 'am',\n",
              "        'another', 'anyone', 'anything', 'apply', 'apr', 'arguments',\n",
              "        'ask', 'banned', 'barred', 'become', 'been', 'behind', 'being',\n",
              "        'boxes', 'bunches', 'by028', 'called', 'cannot', 'carries',\n",
              "        'christian', 'christians', 'cited', 'claims', 'col', 'coloring',\n",
              "        'correctly', 'dcs', 'deleted', 'descendant', 'desires',\n",
              "        'development', 'didn', 'difference', 'direct', 'disclaimer',\n",
              "        'dispersion', 'duty', 'earth', 'elliot', 'europe', 'evil',\n",
              "        'existence', 'experience', 'explicit', 'eye', 'female', 'genesis',\n",
              "        'goal', 'guess', 'had', 'his', 'holy', 'home', 'huge', 'immoral',\n",
              "        'impossible', 'incompleteness', 'institute', 'jesus', 'jh', 'john',\n",
              "        'keep', 'knowledge', 'logical', 'manufacturer', 'mark', 'masonry',\n",
              "        'may', 'mcovingt', 'most', 'mt', 'multitude', 'name', 'nature',\n",
              "        'neat', 'netters', 'never', 'night', 'noye', 'oakland', 'okstate',\n",
              "        'once', 'overall', 'paul', 'people', 'person', 'probably',\n",
              "        'problem', 'props', 'proved', 'purpose', 'quoted', 'react', 'read',\n",
              "        'reformed', 'religion', 'requires', 'response', 'rest', 'runs',\n",
              "        'rutgers', 'sadness', 'say', 'sci', 'sects', 'seems', 'sentiment',\n",
              "        'set', 'should', 'shut', 'somewhat', 'source', 'speaking',\n",
              "        'specific', 'spoken', 'stress', 'teacher', 'through', 'time',\n",
              "        'true', 'two', 'unjust', 'upon', 'used', 'using', 'vague',\n",
              "        'ventured', 'visit', 'voiced', 'watmath', 'were', 'where',\n",
              "        'wholeheartedly', 'wise', 'within', 'yo'], dtype='<U80'),\n",
              " array(['1993', 'account', 'added', 'also', 'andy', 'animals', 'answer',\n",
              "        'anything', 'arrogance', 'authority', 'bad', 'basic', 'being',\n",
              "        'believe', 'between', 'bgu', 'bible', 'canada', 'chris',\n",
              "        'christians', 'church', 'climbing', 'company', 'confirmation',\n",
              "        'consciously', 'contaminated', 'could', 'david', 'day', 'defense',\n",
              "        'depth', 'difficult', 'discuss', 'east', 'either', 'eternal',\n",
              "        'every', 'evil', 'facts', 'food', 'forever', 'france', 'future',\n",
              "        'georgia', 'getting', 'give', 'governments', 'had', 'handy',\n",
              "        'hasn', 'heart', 'hell', 'hotly', 'inference', 'intended',\n",
              "        'internet', 'involve', 'jesus', 'jurisdiction', 'leave', 'life',\n",
              "        'lord', 'louis', 'made', 'main', 'make', 'manner', 'may', 'mean',\n",
              "        'mentioning', 'messy', 'mind', 'most', 'need', 'neither',\n",
              "        'niblick', 'offer', 'office', 'own', 'passages', 'pentecost',\n",
              "        'person', 'planting', 'posted', 'prayers', 'purity', 'reasons',\n",
              "        'reference', 'rick', 'rutgers', 'sacred', 'sanctuary', 'say',\n",
              "        'see', 'several', 'sex', 'short', 'shortly', 'siemon', 'since',\n",
              "        'still', 'talks', 'tell', 'than', 'these', 'threatening', 'thus',\n",
              "        'time', 'topic', 'truly', 'uncomfortable', 'way', 'whatever',\n",
              "        'where', 'whether', 'why', 'without', 'work', 'wrote'],\n",
              "       dtype='<U80'),\n",
              " array(['12', '14', '18', '20', '38', '70', '78758', '981', 'after',\n",
              "        'analogies', 'anyhow', 'ask', 'athos', 'attribute', 'battling',\n",
              "        'because', 'being', 'biblical', 'binding', 'book', 'brethren',\n",
              "        'ca', 'call', 'certain', 'christians', 'clear', 'clement', 'come',\n",
              "        'commit', 'comparison', 'corner', 'could', 'covington', 'danc',\n",
              "        'delete', 'depends', 'doesn', 'drought', 'empire', 'eternal',\n",
              "        'even', 'excellent', 'excellently', 'explain', 'few', 'fisher',\n",
              "        'follower', 'following', 'found', 'glory', 'going', 'good',\n",
              "        'graduate', 'greek', 'gregory', 'grew', 'had', 'he', 'heart',\n",
              "        'hey', 'idly', 'infinite', 'intercession', 'jhpb', 'jr',\n",
              "        'languages', 'last', 'late', 'lies', 'meantime', 'metal',\n",
              "        'missing', 'money', 'most', 'mysticism', 'natural', 'need', 'new',\n",
              "        'none', 'opinions', 'otherwise', 'outline', 'parables', 'perhaps',\n",
              "        'person', 'piss', 'portions', 'possibly', 'problem', 'prophet',\n",
              "        'quite', 'really', 'relativistic', 'religion', 'remember',\n",
              "        'reveals', 'scandal', 'science', 'scientist', 'second', 'seeds',\n",
              "        'sexual', 'shared', 'show', 'sins', 'speaking', 'spirits', 'such',\n",
              "        'sun', 'taking', 'testament', 'than', 'their', 'therefore',\n",
              "        'think', 'through', 'time', 'topic', 'truth', 'universities',\n",
              "        'vary', 'way', 'ways', 'whether', 'william', 'within'],\n",
              "       dtype='<U80'),\n",
              " array(['13', '16', '17', '18', '1993', '2073', '55', '77054', '90',\n",
              "        'accepting', 'act', 'admit', 'albert', 'always', 'another',\n",
              "        'anything', 'athos', 'au', 'been', 'behaviour', 'black', 'bradley',\n",
              "        'buddhist', 'ca', 'cannot', 'certain', 'chapel', 'chuck',\n",
              "        'classes', 'come', 'comes', 'complete', 'confused', 'considering',\n",
              "        'correct', 'countless', 'crusaders', 'cute', 'did', 'direct',\n",
              "        'establishing', 'even', 'except', 'faith', 'fifteen', 'fight',\n",
              "        'figure', 'find', 'first', 'fisher', 'francophone', 'fulfillment',\n",
              "        'georgia', 'happen', 'hatred', 'haven', 'he', 'hearing', 'herself',\n",
              "        'hey', 'his', 'hold', 'honor', 'hope', 'humans',\n",
              "        'indistinguishable', 'individuals', 'institute', 'jack', 'jayne',\n",
              "        'knowledge', 'latter', 'liar', 'll', 'loisc', 'louis', 'man',\n",
              "        'mary', 'massive', 'may', 'maybe', 'next', 'off', 'others', 'our',\n",
              "        'over', 'packages', 'particularly', 'people', 'point', 'post',\n",
              "        'powers', 'price', 'put', 'ran', 'recommend', 'require',\n",
              "        'responding', 'rutgers', 'saying', 'schools', 'science', 'seed',\n",
              "        'seems', 'seen', 'serious', 'she', 'sins', 'smith', 'social',\n",
              "        'something', 'still', 'stories', 'such', 'suddenly', 'super',\n",
              "        'sure', 'taken', 'tellabs', 'than', 'themselves', 'then',\n",
              "        'theology', 'things', 'thinking', 'transgression', 'two',\n",
              "        'unbiblical', 'upon', 'used', 'virgin', 'wars', 'whatever',\n",
              "        'whole', 'william', 'words', 'years'], dtype='<U80'),\n",
              " array(['1993', '30', '63', '90', 'adam', 'ak', 'allows', 'am', 'analysis',\n",
              "        'andrew', 'angry', 'answer', 'apart', 'arizona', 'atheist',\n",
              "        'attempting', 'basically', 'because', 'being', 'believers', 'best',\n",
              "        'bias', 'bible', 'blood', 'both', 'bothers', 'brave', 'certainly',\n",
              "        'changed', 'chemical', 'christians', 'clean', 'cleef', 'clh',\n",
              "        'cogito', 'combining', 'coming', 'compatible', 'conclusion',\n",
              "        'couldn', 'curiosity', 'dale', 'day', 'did', 'difficulty',\n",
              "        'digress', 'does', 'dung', 'email', 'eph', 'especially', 'even',\n",
              "        'existence', 'exists', 'explaining', 'f22', 'faith', 'fathers',\n",
              "        'find', 'fisher', 'fly', 'foot', 'garden', 'go', 'god', 'gradient',\n",
              "        'hand', 'headship', 'hold', 'however', 'husband', 'indeed',\n",
              "        'indisputable', 'isn', 'johnson', 'king', 'little', 'loves',\n",
              "        'mark', 'may', 'meaning', 'meeting', 'multiple', 'natural',\n",
              "        'nature', 'opinion', 'order', 'participate', 'patron', 'penalties',\n",
              "        'perhaps', 'practical', 'probably', 'rape', 'rather', 'reality',\n",
              "        'reasoning', 'referring', 'religion', 'repeating', 'repent',\n",
              "        'rest', 'revealed', 'right', 'same', 'say', 'says', 'science',\n",
              "        'scientists', 'seems', 'service', 'shakier', 'shows', 'similar',\n",
              "        'simply', 'sin', 'smith', 'square', 'steal', 'story', 'suggest',\n",
              "        'sweetie', 'thanks', 'these', 'though', 'time', 'too',\n",
              "        'traditional', 'two', 'univ', 'us', 'used', 'valid', 'way',\n",
              "        'wedding', 'wrote', 'years', 'zealand'], dtype='<U80'),\n",
              " array(['78758', 'abortion', 'above', 'acad3', 'age', 'alchohol',\n",
              "        'although', 'analogous', 'animated', 'answered', 'aren', 'arms',\n",
              "        'assignment', 'athena', 'athos', 'attack', 'baptists', 'been',\n",
              "        'beginning', 'being', 'believe', 'beware', 'bible', 'biblical',\n",
              "        'bit', 'blood', 'caused', 'characteristics', 'christ', 'columbia',\n",
              "        'commission', 'committees', 'contact', 'conviction', 'coordinator',\n",
              "        'correct', 'cross', 'cult', 'despite', 'does', 'doesn', 'dying',\n",
              "        'earthquake', 'eashtar', 'easter', 'eugene', 'experience', 'fail',\n",
              "        'fit', 'formally', 'germany', 'give', 'god', 'happen', 'hayesstw',\n",
              "        'he', 'hebrews', 'him', 'home', 'human', 'illusion', 'inadequate',\n",
              "        'inappropriate', 'jesus', 'joseph', 'judgement', 'justice', 'keen',\n",
              "        'korean', 'la', 'less', 'limb', 'll', 'lmh', 'make', 'many',\n",
              "        'matter', 'may', 'maybe', 'meat', 'mit', 'myself', 'mysteries',\n",
              "        'nature', 'network', 'new', 'now', 'occasion', 'ohio', 'ok',\n",
              "        'opinions', 'opponents', 'outside', 'overwhelming', 'own', 'paid',\n",
              "        'paul', 'poem', 'point', 'postings', 'primary', 'problem',\n",
              "        'products', 'prove', 'psalm', 'rather', 'reading', 'really',\n",
              "        'reign', 'relevant', 'remain', 'rep', 'roman', 'rutgers', 'ruth',\n",
              "        'says', 'science', 'scriptures', 'seemed', 'sense', 'shall',\n",
              "        'sides', 'simplistic', 'speaking', 'standards', 'start', 'statute',\n",
              "        'tears', 'than', 'their', 'these', 'timothy', 'true', 'truth',\n",
              "        'truths', 'two', 'until', 'uses', 'very', 'water', 'way', 'were',\n",
              "        'whitsell', 'wife', 'words', 'written', 'yes', 'yet'], dtype='<U80'),\n",
              " array(['14', '16', '19', '1993', '32', 'acknowledge', 'ad', 'also',\n",
              "        'always', 'andrew', 'apr', 'assume', 'atheists', 'athos', 'aware',\n",
              "        'base', 'being', 'belief', 'beyond', 'both', 'budd', 'buddhists',\n",
              "        'cannot', 'church', 'claiming', 'clh', 'comparison', 'computing',\n",
              "        'conclusions', 'condemning', 'contemporary', 'daily', 'dallas',\n",
              "        'date', 'dependence', 'depths', 'did', 'does', 'doing', 'each',\n",
              "        'either', 'emancipation', 'environmentalism', 'fare', 'find',\n",
              "        'general', 'geneva', 'god', 'good', 'hellbound', 'however',\n",
              "        'human', 'idiom', 'imply', 'inclusion', 'indescribably',\n",
              "        'information', 'intellectual', 'interesting', 'joseph', 'knows',\n",
              "        'lawyer', 'liebe', 'mail', 'making', 'may', 'mighty', 'moderator',\n",
              "        'most', 'must', 'myself', 'near', 'new', 'now', 'open', 'org',\n",
              "        'paul', 'postings', 'promised', 'prove', 'question', 'recovery',\n",
              "        'salvation', 'says', 'see', 'seems', 'sentence', 'several', 'side',\n",
              "        'silver', 'similarly', 'simon', 'since', 'stated', 'submit',\n",
              "        'suggestive', 'taking', 'talk', 'talked', 'terms', 'their',\n",
              "        'think', 'those', 'too', 'uga', 'uk', 'underneath',\n",
              "        'understanding', 'unless', 'use', 'usenet', 'want', 'way', 'works',\n",
              "        'yet', 'yourself', 'z5'], dtype='<U80')]"
            ]
          },
          "metadata": {
            "tags": []
          },
          "execution_count": 56
        }
      ]
    },
    {
      "cell_type": "markdown",
      "metadata": {
        "id": "lqg6pMS9QF4i"
      },
      "source": [
        "***\n",
        "<a id='sampling_and_log_probs'></a>\n",
        "## Sampling and log probs"
      ]
    },
    {
      "cell_type": "code",
      "metadata": {
        "id": "wrS-GrXUP85V"
      },
      "source": [
        "# Make Multivariate Distribution\n",
        "\n",
        "normal_distributions = tfd.MultivariateNormalDiag(loc=[[0.5, 1], [0.1, 0], [0, 0.2]],\n",
        "                                 scale_diag=[[2, 3], [1, 3], [4, 4]])\n",
        "normal_distributions"
      ],
      "execution_count": null,
      "outputs": []
    },
    {
      "cell_type": "code",
      "metadata": {
        "id": "LmmaOFfvQHne"
      },
      "source": [
        "# Sample\n",
        "\n"
      ],
      "execution_count": null,
      "outputs": []
    },
    {
      "cell_type": "code",
      "metadata": {
        "id": "6uz63pvfQHpu"
      },
      "source": [
        "# Multivariate Normal batched Distribution\n",
        "# We are broadcasting batch shapes of `loc` and `scal_diag` \n",
        "# against each other\n",
        "\n",
        "loc = [[[0.3, 1.5, 1.], [0.2, 0.4, 2.8]],\n",
        "        [[2., 2.3, 8], [1.4, 1, 1.3]]]\n",
        "scale_diag = [0.4, 1., 0.7]\n",
        "normal_distributions = tfd.MultivariateNormalDiag(loc=loc, scale_diag=scale_diag)\n",
        "normal_distributions"
      ],
      "execution_count": null,
      "outputs": []
    },
    {
      "cell_type": "code",
      "metadata": {
        "id": "QDLYNK1aQHsE"
      },
      "source": [
        "# Use independent to move part of the batch shape\n",
        "\n"
      ],
      "execution_count": null,
      "outputs": []
    },
    {
      "cell_type": "code",
      "metadata": {
        "id": "xwsxlafmPzcm"
      },
      "source": [
        "# Draw some samples\n",
        "\n"
      ],
      "execution_count": null,
      "outputs": []
    },
    {
      "cell_type": "code",
      "metadata": {
        "id": "i4jIuegXPze8"
      },
      "source": [
        "# `[B, E]` shaped input\n",
        "\n"
      ],
      "execution_count": null,
      "outputs": []
    },
    {
      "cell_type": "code",
      "metadata": {
        "id": "sA5DKxWpPzg1"
      },
      "source": [
        "# `[E]` shaped input (broadcasting over batch size)\n",
        "\n"
      ],
      "execution_count": null,
      "outputs": []
    },
    {
      "cell_type": "code",
      "metadata": {
        "id": "G9-yB6bnQNBi"
      },
      "source": [
        "#`[S, B, E]` shaped input (broadcasting over samples)\n",
        "\n"
      ],
      "execution_count": null,
      "outputs": []
    },
    {
      "cell_type": "code",
      "metadata": {
        "id": "pKu_q5pzQNDh"
      },
      "source": [
        "# `[S, b, e]` shaped input, where [b, e] is broadcastable over [B, E]\n",
        "\n"
      ],
      "execution_count": null,
      "outputs": []
    },
    {
      "cell_type": "markdown",
      "metadata": {
        "id": "tKsg4WhKQRQl"
      },
      "source": [
        "#### Naive Bayes example\n",
        "\n",
        "Lets now use what we have learned and continue the Naive Bayes classifier we were building last tutorial."
      ]
    },
    {
      "cell_type": "code",
      "metadata": {
        "id": "e48PWcpvQNFZ"
      },
      "source": [
        "from sklearn.datasets import fetch_20newsgroups\n",
        "from sklearn.feature_extraction.text import CountVectorizer\n",
        "from sklearn.naive_bayes import BernoulliNB\n",
        "from sklearn.metrics import f1_score"
      ],
      "execution_count": null,
      "outputs": []
    },
    {
      "cell_type": "code",
      "metadata": {
        "id": "acPLRMaJQNHc"
      },
      "source": [
        "# Making a function get_data which:\n",
        "#   1) Fetches the 20 newsgroup dataset\n",
        "#   2) Performs a word count on the articles and binarizes the result\n",
        "#   3) Returns the data as a numpy matrix with the labels\n",
        "\n",
        "def get_data(categories):\n",
        "    \n",
        "    newsgroups_train_data = fetch_20newsgroups(data_home='20_Newsgroup_Data/',\n",
        "                                               subset='train', categories=categories)\n",
        "    newsgroups_test_data = fetch_20newsgroups(data_home='20_Newsgroup_Data/',\n",
        "                                              subset='test', categories=categories)\n",
        "\n",
        "    n_documents = len(newsgroups_train_data['data'])\n",
        "    count_vectorizer = CountVectorizer(input='content', binary=True,max_df=0.25, min_df=1.01/n_documents)\n",
        "    \n",
        "    train_binary_bag_of_words = count_vectorizer.fit_transform(newsgroups_train_data['data'])\n",
        "    test_binary_bag_of_words = count_vectorizer.transform(newsgroups_test_data['data']) \n",
        "\n",
        "    return (train_binary_bag_of_words.todense(), newsgroups_train_data['target']),  (test_binary_bag_of_words.todense(), newsgroups_test_data['target'])"
      ],
      "execution_count": null,
      "outputs": []
    },
    {
      "cell_type": "code",
      "metadata": {
        "id": "MUL00XtOQNJP"
      },
      "source": [
        "# Defining a function to conduct Laplace smoothing. This adds a base level of probability for a given feature\n",
        "# to occur in every class.\n",
        "\n",
        "def laplace_smoothing(labels, binary_data, n_classes):\n",
        "    # Compute the parameter estimates (adjusted fraction of documents in class that contain word)\n",
        "    n_words = binary_data.shape[1]\n",
        "    alpha = 1 # parameters for Laplace smoothing\n",
        "    theta = np.zeros([n_classes, n_words]) # stores parameter values - prob. word given class\n",
        "    for c_k in range(n_classes): # 0, 1, ..., 19\n",
        "        class_mask = (labels == c_k)\n",
        "        N = class_mask.sum() # number of articles in class\n",
        "        theta[c_k, :] = (binary_data[class_mask, :].sum(axis=0) + alpha)/(N + alpha*2)\n",
        "\n",
        "    return theta"
      ],
      "execution_count": null,
      "outputs": []
    },
    {
      "cell_type": "code",
      "metadata": {
        "id": "MhVz70LSQNLT"
      },
      "source": [
        "# Getting a subset of the 20 newsgroup dataset\n",
        "\n",
        "categories = ['alt.atheism', 'talk.religion.misc', 'comp.graphics', 'sci.space']\n",
        "\n",
        "(train_data, train_labels), (test_data, test_labels) = get_data(categories=categories)\n",
        "smoothed_counts = laplace_smoothing(labels=train_labels, binary_data=train_data, n_classes=len(categories))"
      ],
      "execution_count": null,
      "outputs": []
    },
    {
      "cell_type": "markdown",
      "metadata": {
        "id": "6S4a0bBNQW_V"
      },
      "source": [
        "To now make our NB classifier we need to build three functions:\n",
        "* Compute the class priors\n",
        "* Build our class conditional distributions\n",
        "* Put it all together and classify our data"
      ]
    },
    {
      "cell_type": "code",
      "metadata": {
        "id": "aZd8dqgPQNNQ"
      },
      "source": [
        "# Function which computes the prior probability of every class based on frequency of occurence in \n",
        "# the dataset\n",
        "\n",
        "def class_priors(n_classes, labels):\n",
        "    counts = np.zeros(n_classes)\n",
        "    for c_k in range(n_classes):\n",
        "        counts[c_k] = np.sum(np.where(labels==c_k, 1, 0))\n",
        "    priors = counts / np.sum(counts)\n",
        "    print('The class priors are {}'.format(priors))\n",
        "    return priors"
      ],
      "execution_count": null,
      "outputs": []
    },
    {
      "cell_type": "code",
      "metadata": {
        "id": "jOgjPBqIQZ8i"
      },
      "source": [
        "# Run the function \n",
        "\n"
      ],
      "execution_count": null,
      "outputs": []
    },
    {
      "cell_type": "code",
      "metadata": {
        "id": "Kz-rb9xgQZ-r"
      },
      "source": [
        "# Now we will do a function that given the feature occurence counts returns a Bernoulli distribution of \n",
        "# batch_shape=number of classes and event_shape=number of features.\n",
        "\n"
      ],
      "execution_count": null,
      "outputs": []
    },
    {
      "cell_type": "code",
      "metadata": {
        "id": "AkIRPMztQaAj"
      },
      "source": [
        "# The final function predict_sample which given the distribution, a test sample, and the class priors:\n",
        "#   1) Computes the class conditional probabilities given the sample\n",
        "#   2) Forms the joint likelihood\n",
        "#   3) Normalises the joint likelihood and returns the log prob\n",
        "\n"
      ],
      "execution_count": null,
      "outputs": []
    },
    {
      "cell_type": "markdown",
      "metadata": {
        "id": "rZJ0mNtJQdnF"
      },
      "source": [
        "#### Computing log_probs"
      ]
    },
    {
      "cell_type": "code",
      "metadata": {
        "id": "c5zR6CMjQaCs"
      },
      "source": [
        "# Predicting one example from our test data\n",
        "\n"
      ],
      "execution_count": null,
      "outputs": []
    },
    {
      "cell_type": "code",
      "metadata": {
        "id": "qFkiEv9eQfSy"
      },
      "source": [
        "# Loop over our test data and classify.\n",
        "\n",
        "probabilities = []\n",
        "for sample, label in zip(test_data, test_labels):\n",
        "    probabilities.append(tf.exp(predict_sample(tf_dist, sample, priors)))\n",
        "\n",
        "probabilities = np.asarray(probabilities)\n",
        "predicted_classes = np.argmax(probabilities, axis =-1)\n",
        "print('f1 ', f1_score(test_labels, predicted_classes, average='macro'))"
      ],
      "execution_count": null,
      "outputs": []
    },
    {
      "cell_type": "code",
      "metadata": {
        "id": "8xIAQskkQfUu"
      },
      "source": [
        "# Make a Bernoulli Naive Bayes classifier using sklearn with the same level of alpha smoothing. \n",
        "\n",
        "clf = BernoulliNB(alpha=1)\n",
        "clf.fit(train_data, train_labels)\n",
        "pred = clf.predict(test_data)\n",
        "print('f1 from sklean ', f1_score(test_labels, pred, average='macro'))"
      ],
      "execution_count": null,
      "outputs": []
    },
    {
      "cell_type": "markdown",
      "metadata": {
        "id": "HCvDRT1SQiRH"
      },
      "source": [
        "***\n",
        "<a id='trainable_distributions'></a>\n",
        "## Trainable Distributions"
      ]
    },
    {
      "cell_type": "code",
      "metadata": {
        "id": "M06XNh0sQfWy"
      },
      "source": [
        "from sklearn.datasets import fetch_20newsgroups\n",
        "from sklearn.feature_extraction.text import CountVectorizer\n",
        "from sklearn.naive_bayes import BernoulliNB\n",
        "from sklearn.metrics import f1_score"
      ],
      "execution_count": null,
      "outputs": []
    },
    {
      "cell_type": "code",
      "metadata": {
        "id": "5rmHnquLQfYv"
      },
      "source": [
        "# Define an exponential distribution\n",
        "\n"
      ],
      "execution_count": null,
      "outputs": []
    },
    {
      "cell_type": "code",
      "metadata": {
        "id": "FA5y16uEQfa9"
      },
      "source": [
        "# Plot\n",
        "\n",
        "plt.hist(exponential.sample(5000), bins=100, density=True)\n",
        "plt.show()"
      ],
      "execution_count": null,
      "outputs": []
    },
    {
      "cell_type": "code",
      "metadata": {
        "id": "uXh9orj-QaEr"
      },
      "source": [
        "# Define an exponential distribution with a trainable rate parameter\n",
        "\n"
      ],
      "execution_count": null,
      "outputs": []
    },
    {
      "cell_type": "code",
      "metadata": {
        "id": "fw8hnmSEOxkI"
      },
      "source": [
        "# Define the negative log likelihood\n",
        "\n"
      ],
      "execution_count": null,
      "outputs": []
    },
    {
      "cell_type": "code",
      "metadata": {
        "id": "U9-cig3qQncx"
      },
      "source": [
        "# Define a function to compute the loss and gradients\n",
        "\n"
      ],
      "execution_count": null,
      "outputs": []
    },
    {
      "cell_type": "code",
      "metadata": {
        "id": "1Z4TgL9DQnfB"
      },
      "source": [
        "# Optimize\n",
        "\n",
        "def exponential_dist_optimisation(data, distribution):\n",
        "\n",
        "    # Keep results for plotting\n",
        "    train_loss_results = []\n",
        "    train_rate_results = []\n",
        "    \n",
        "    optimizer = tf.keras.optimizers.SGD(learning_rate=0.05)\n",
        "\n",
        "    num_steps = 10\n",
        "\n",
        "    for i in range(num_steps):\n",
        "        \n",
        "        print(\"Step {:03d}: Loss: {:.3f}: Rate: {:.3f}\".format())\n",
        "        \n",
        "    return train_loss_results, train_rate_results"
      ],
      "execution_count": null,
      "outputs": []
    },
    {
      "cell_type": "code",
      "metadata": {
        "id": "zapcsz3OQng5"
      },
      "source": [
        "# Get some data and train\n",
        "\n"
      ],
      "execution_count": null,
      "outputs": []
    },
    {
      "cell_type": "code",
      "metadata": {
        "id": "e6Ni9I9pQnjE"
      },
      "source": [
        "# Predicted value for the rate parameter\n",
        "\n",
        "pred_value = exp_train.rate.numpy()\n",
        "exact_value = exponential.rate.numpy()\n",
        "\n",
        "print(\"Exact rate: \", exact_value)\n",
        "print(\"Pred rate:  \", pred_value)"
      ],
      "execution_count": null,
      "outputs": []
    },
    {
      "cell_type": "code",
      "metadata": {
        "id": "NvXLc6z7QnlK"
      },
      "source": [
        "# Plot to see the convergence of the estimated and true parameters\n",
        "\n",
        "tensor_exact_value = tf.constant(exact_value, shape=[len(train_rate_results)])\n",
        "\n",
        "fig, axes = plt.subplots(2, sharex=True, figsize=(12, 8))\n",
        "fig.suptitle('Convergence')\n",
        "\n",
        "axes[0].set_ylabel(\"Loss\", fontsize=14)\n",
        "axes[0].plot(train_loss_results)\n",
        "\n",
        "axes[1].set_ylabel(\"Rate\", fontsize=14)\n",
        "axes[1].set_xlabel(\"Epoch\", fontsize=14)\n",
        "axes[1].plot(train_rate_results, label='trainable rate variable')\n",
        "axes[1].plot(tensor_exact_value, label='exact rate')\n",
        "axes[1].legend()\n",
        "plt.show()"
      ],
      "execution_count": null,
      "outputs": []
    },
    {
      "cell_type": "code",
      "metadata": {
        "id": "BBRvPiEoQno_"
      },
      "source": [
        "# Making a function get_data which:\n",
        "#   1) Fetches the 20 newsgroup dataset\n",
        "#   2) Performs a word count on the articles and binarizes the result\n",
        "#   3) Returns the data as a numpy matrix with the labels\n",
        "\n",
        "def get_data(categories):\n",
        "\n",
        "    newsgroups_train_data = fetch_20newsgroups(data_home='20_Newsgroup_Data/',\n",
        "                                               subset='train', categories=categories)\n",
        "    newsgroups_test_data = fetch_20newsgroups(data_home='20_Newsgroup_Data/',\n",
        "                                              subset='test', categories=categories)\n",
        "\n",
        "    n_documents = len(newsgroups_train_data['data'])\n",
        "    count_vectorizer = CountVectorizer(input='content', binary=True,max_df=0.25, min_df=1.01/n_documents) \n",
        "    train_binary_bag_of_words = count_vectorizer.fit_transform(newsgroups_train_data['data']) \n",
        "    test_binary_bag_of_words = count_vectorizer.transform(newsgroups_test_data['data']) \n",
        "\n",
        "    return (train_binary_bag_of_words.todense(), newsgroups_train_data['target']),  (test_binary_bag_of_words.todense(), newsgroups_test_data['target'])\n"
      ],
      "execution_count": null,
      "outputs": []
    },
    {
      "cell_type": "code",
      "metadata": {
        "id": "oX63bCfMQnrI"
      },
      "source": [
        "# Defining a function to conduct laplace smoothing. This adds a base level of probability for a given feature\n",
        "# to occur in every class.\n",
        "\n",
        "def laplace_smoothing(labels, binary_data, n_classes):\n",
        "    # Compute the parameter estimates (adjusted fraction of documents in class that contain word)\n",
        "    n_words = binary_data.shape[1]\n",
        "    alpha = 1 # parameters for Laplace smoothing\n",
        "    theta = np.zeros([n_classes, n_words]) # stores parameter values - prob. word given class\n",
        "    for c_k in range(n_classes): # 0, 1, ..., 19\n",
        "        class_mask = (labels == c_k)\n",
        "        N = class_mask.sum() # number of articles in class\n",
        "        theta[c_k, :] = (binary_data[class_mask, :].sum(axis=0) + alpha)/(N + alpha*2)\n",
        "\n",
        "    return theta"
      ],
      "execution_count": null,
      "outputs": []
    },
    {
      "cell_type": "code",
      "metadata": {
        "id": "Km7mXeymQvTU"
      },
      "source": [
        "# Now we will do a function that given the feature occurence counts returns a Bernoulli distribution of \n",
        "# batch_shape=number of classes and event_shape=number of features.\n",
        "\n",
        "def make_distributions(probs):\n",
        "    batch_of_bernoullis = tfd.Bernoulli(probs=probs) # shape (n_classes, n_words)\n",
        "    dist = tfd.Independent(batch_of_bernoullis, reinterpreted_batch_ndims=1)\n",
        "    return dist"
      ],
      "execution_count": null,
      "outputs": []
    },
    {
      "cell_type": "code",
      "metadata": {
        "id": "Lo_E6eJIQvVc"
      },
      "source": [
        "# Function which computes the prior probability of every class based on frequency of occurence in \n",
        "# the dataset\n",
        "\n",
        "def class_priors(n_classes, labels):\n",
        "    counts = np.zeros(n_classes)\n",
        "    for c_k in range(n_classes):\n",
        "        counts[c_k] = np.sum(np.where(labels==c_k, 1, 0))\n",
        "    priors = counts / np.sum(counts)\n",
        "    print('The class priors are {}'.format(priors))\n",
        "    return priors"
      ],
      "execution_count": null,
      "outputs": []
    },
    {
      "cell_type": "code",
      "metadata": {
        "id": "JNo6Jpw0QvXf"
      },
      "source": [
        "# The final function predict_sample which given the distribution, a test sample, and the class priors:\n",
        "#   1) Computes the class conditional probabilities given the sample\n",
        "#   2) Forms the joint likelihood\n",
        "#   3) Normalises the joint likelihood and returns the log prob\n",
        "\n",
        "def predict_sample(dist, sample, priors):\n",
        "    cond_probs = dist.log_prob(sample)\n",
        "    joint_likelihood = tf.add(np.log(priors), cond_probs)\n",
        "    norm_factor = tf.math.reduce_logsumexp(joint_likelihood, axis=-1, keepdims=True)\n",
        "    log_prob = joint_likelihood - norm_factor\n",
        "\n",
        "    return log_prob"
      ],
      "execution_count": null,
      "outputs": []
    },
    {
      "cell_type": "code",
      "metadata": {
        "id": "Img60H5LQvZd"
      },
      "source": [
        "# Now we learn the distribution using gradient tape\n",
        "\n",
        "def make_distribution_withGT(data, labels, nb_classes):\n",
        "\n",
        "    class_data = []\n",
        "    train_vars = []\n",
        "    distributions = []\n",
        "    for c in range(nb_classes):\n",
        "        train_vars.append(tf.Variable(initial_value=np.random.uniform(low=0.01, high =0.1, size=data.shape[-1])))\n",
        "        distributions.append(tfd.Bernoulli(probs=train_vars[c]))\n",
        "        class_mask = (labels == c)\n",
        "        class_data.append(data[class_mask, :])\n",
        "\n",
        "    for c_num in range(0,nb_classes):\n",
        "        optimizer = tf.keras.optimizers.Adam()\n",
        "        print('\\n%-------------------%')\n",
        "        print('Class ', c_num)\n",
        "        print('%-------------------%')\n",
        "\n",
        "        for i in range(0,100):\n",
        "            \n",
        "\n",
        "    dist = tfd.Bernoulli(probs=train_vars)\n",
        "    dist = tfd.Independent(dist,reinterpreted_batch_ndims=1)\n",
        "\n",
        "    print(dist)\n",
        "\n",
        "    return dist"
      ],
      "execution_count": null,
      "outputs": []
    },
    {
      "cell_type": "code",
      "metadata": {
        "id": "rM5hniliQvb0"
      },
      "source": [
        "# Make the same Naive Bayes classifier we did last tutorial\n",
        "\n",
        "categories = ['alt.atheism', 'talk.religion.misc', 'comp.graphics', 'sci.space']\n",
        "\n",
        "(train_data, train_labels), (test_data, test_labels) = get_data(categories)\n",
        "\n",
        "smoothed_counts = laplace_smoothing(labels=train_labels, binary_data=train_data, n_classes=len(categories))\n",
        "\n",
        "priors = class_priors(n_classes=len(categories), labels=train_labels)\n",
        "tf_dist = make_distributions(smoothed_counts)"
      ],
      "execution_count": null,
      "outputs": []
    },
    {
      "cell_type": "code",
      "metadata": {
        "id": "4BG4OJ6-Q04O"
      },
      "source": [
        "# Now train the distributions with gradient tape\n",
        "\n",
        "GT_dist = make_distribution_withGT(data=train_data, labels=train_labels, nb_classes=4)"
      ],
      "execution_count": null,
      "outputs": []
    },
    {
      "cell_type": "code",
      "metadata": {
        "id": "CLcU_ZlnQ06f"
      },
      "source": [
        "# Compare the two results\n",
        "\n",
        "for dist in [GT_dist,tf_dist]:\n",
        "    probabilities = []\n",
        "    for sample, label in zip(test_data, test_labels):\n",
        "        probabilities.append(predict_sample(dist, sample, priors))\n",
        "\n",
        "    probabilities = np.asarray(probabilities)\n",
        "    predicted_classes = np.argmax(probabilities, axis =-1)\n",
        "    print('f1 ', f1_score(test_labels, predicted_classes, average='macro'))"
      ],
      "execution_count": null,
      "outputs": []
    }
  ]
}