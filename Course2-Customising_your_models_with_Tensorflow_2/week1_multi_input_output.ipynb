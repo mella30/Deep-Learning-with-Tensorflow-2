{
  "nbformat": 4,
  "nbformat_minor": 0,
  "metadata": {
    "kernelspec": {
      "display_name": "Python 3",
      "language": "python",
      "name": "python3"
    },
    "language_info": {
      "codemirror_mode": {
        "name": "ipython",
        "version": 3
      },
      "file_extension": ".py",
      "mimetype": "text/x-python",
      "name": "python",
      "nbconvert_exporter": "python",
      "pygments_lexer": "ipython3",
      "version": "3.7.1"
    },
    "colab": {
      "name": "Kopie von Coding Tutorial.ipynb",
      "provenance": [],
      "collapsed_sections": [
        "Vw_mtaCSKURC",
        "m5zoXn36KURd",
        "FCXImgxwKURi",
        "LogIRCGRKURr",
        "2D5WmZvkKURz",
        "XEKAybugKUSD",
        "9rOpqQVNKUSO",
        "1fn43vXfKUSj",
        "wQunv2imKUTH",
        "lLnXno5vKUUH",
        "hT_nP5czKUUe",
        "gZ615uKaKUUv",
        "yclV6KiFKUU3",
        "cMYjnJDIKUVC"
      ],
      "include_colab_link": true
    }
  },
  "cells": [
    {
      "cell_type": "markdown",
      "metadata": {
        "id": "view-in-github",
        "colab_type": "text"
      },
      "source": [
        "<a href=\"https://colab.research.google.com/github/mella30/Deep-Learning-with-Tensorflow-2/blob/main/Course2-Customising_your_models_with_Tensorflow_2/week1_multi_input_output.ipynb\" target=\"_parent\"><img src=\"https://colab.research.google.com/assets/colab-badge.svg\" alt=\"Open In Colab\"/></a>"
      ]
    },
    {
      "cell_type": "code",
      "metadata": {
        "scrolled": false,
        "id": "teOpfw0hKUQh",
        "colab": {
          "base_uri": "https://localhost:8080/"
        },
        "outputId": "1f28fdfb-2699-4cc9-b256-7cde0897cf94"
      },
      "source": [
        "import tensorflow as tf\n",
        "print(tf.__version__)"
      ],
      "execution_count": 1,
      "outputs": [
        {
          "output_type": "stream",
          "text": [
            "2.5.0\n"
          ],
          "name": "stdout"
        }
      ]
    },
    {
      "cell_type": "markdown",
      "metadata": {
        "id": "2U6iIpalKUQr"
      },
      "source": [
        "# The Keras functional API"
      ]
    },
    {
      "cell_type": "markdown",
      "metadata": {
        "id": "jIoR--DrKUQs"
      },
      "source": [
        " ## Coding tutorials\n",
        " #### [1. Multiple inputs and outputs](#coding_tutorial_1)\n",
        " #### [2. Tensors and Variables](#coding_tutorial_2)\n",
        " #### [3. Accessing model layers](#coding_tutorial_3)\n",
        " #### [4. Freezing layers](#coding_tutorial_4)"
      ]
    },
    {
      "cell_type": "markdown",
      "metadata": {
        "id": "qhZ0R9arKUQt"
      },
      "source": [
        "***\n",
        "<a id=\"coding_tutorial_1\"></a>\n",
        "## Multiple inputs and outputs"
      ]
    },
    {
      "cell_type": "code",
      "metadata": {
        "scrolled": false,
        "id": "Atjv7GqMKUQu"
      },
      "source": [
        "import numpy as np\n",
        "import pandas as pd\n",
        "import matplotlib.pyplot as plt\n",
        "%matplotlib inline"
      ],
      "execution_count": 2,
      "outputs": []
    },
    {
      "cell_type": "markdown",
      "metadata": {
        "id": "CCNmLCsKKUQy"
      },
      "source": [
        "#### Load the acute inflammations dataset\n",
        "\n",
        "The `acute inflammations` was created by a medical expert as a data set to test the expert system, which will perform the presumptive diagnosis of two diseases of the urinary system. You can find out more about the dataset [here](https://archive.ics.uci.edu/ml/datasets/Acute+Inflammations).\n",
        "\n",
        "Attribute information:\n",
        "\n",
        "Inputs:\n",
        "- Temperature of patient : 35C-42C\n",
        "- Occurrence of nausea : yes/no\n",
        "- Lumbar pain : yes/no\n",
        "- Urine pushing (continuous need for urination) : yes/no\n",
        "- Micturition pains : yes/no\n",
        "- Burning of urethra, itch, swelling of urethra outlet : yes/no\n",
        "\n",
        "Outputs:\n",
        "- decision 1: Inflammation of urinary bladder : yes/no\n",
        "- decision 2: Nephritis of renal pelvis origin : yes/no"
      ]
    },
    {
      "cell_type": "markdown",
      "metadata": {
        "id": "BsE7ATcyKV7E"
      },
      "source": [
        "#### Import the data\n",
        "\n",
        "The dataset required for this tutorial can be downloaded from the following link:\n",
        "\n",
        "https://drive.google.com/open?id=1CDPQSqpI7OjNIgOERWaI-BlQMI6vjzb9\n",
        "\n",
        "You should store this file in Drive for use in this Colab notebook."
      ]
    },
    {
      "cell_type": "markdown",
      "metadata": {
        "id": "mldOoZD-KUQ0"
      },
      "source": [
        "#### Load the data"
      ]
    },
    {
      "cell_type": "code",
      "metadata": {
        "id": "uM2ETK5qKXDq",
        "colab": {
          "base_uri": "https://localhost:8080/"
        },
        "outputId": "e925f824-f073-4def-b755-7024484a0b34"
      },
      "source": [
        "# Run this cell to connect to your Drive folder\n",
        "\n",
        "from google.colab import drive\n",
        "drive.mount('/content/gdrive')"
      ],
      "execution_count": 4,
      "outputs": [
        {
          "output_type": "stream",
          "text": [
            "Drive already mounted at /content/gdrive; to attempt to forcibly remount, call drive.mount(\"/content/gdrive\", force_remount=True).\n"
          ],
          "name": "stdout"
        }
      ]
    },
    {
      "cell_type": "code",
      "metadata": {
        "scrolled": false,
        "id": "__6I4CYqKUQ1"
      },
      "source": [
        "# Load the dataset\n",
        "\n",
        "from sklearn.model_selection import train_test_split\n",
        "\n",
        "pd_dat = pd.read_csv('/content/gdrive/MyDrive/Colab_Notebooks/diagnosis.csv')\n",
        "dataset = pd_dat.values"
      ],
      "execution_count": 5,
      "outputs": []
    },
    {
      "cell_type": "code",
      "metadata": {
        "scrolled": false,
        "id": "-wVA5JI8KUQ5"
      },
      "source": [
        "# Build train and test data splits\n",
        "\n",
        "X_train, X_test, Y_train, Y_test = train_test_split(dataset[:,:6], dataset[:,6:], test_size=0.33)"
      ],
      "execution_count": 6,
      "outputs": []
    },
    {
      "cell_type": "code",
      "metadata": {
        "scrolled": false,
        "id": "K03GPQNZKUQ9"
      },
      "source": [
        "# Assign training and testing inputs/outputs\n",
        "\n",
        "temp_train, nocc_train, lumbp_train, up_train, mict_train, bis_train = np.transpose(X_train)\n",
        "temp_test, nocc_test, lumbp_test, up_test, mict_test, bis_test = np.transpose(X_test)\n",
        "\n",
        "inflam_train, nephr_train = Y_train[:, 0], Y_train[:, 1]\n",
        "inflam_test, nephr_test = Y_test[:, 0], Y_test[:, 1]"
      ],
      "execution_count": 7,
      "outputs": []
    },
    {
      "cell_type": "markdown",
      "metadata": {
        "id": "Vw_mtaCSKURC"
      },
      "source": [
        "#### Build the model"
      ]
    },
    {
      "cell_type": "code",
      "metadata": {
        "scrolled": false,
        "id": "Xjtuk2OmKURE"
      },
      "source": [
        "# Build the input layers\n",
        "\n",
        "from tensorflow.keras import Input, layers\n",
        "\n",
        "inputs_shape = (1,)\n",
        "temperature = Input(shape=inputs_shape, name='temp')\n",
        "nausea_occurence = Input(shape=inputs_shape, name='nocc')\n",
        "lumbar_pain = Input(shape=inputs_shape, name='lumbp')\n",
        "urine_pushing = Input(shape=inputs_shape, name='up')\n",
        "micturition_pains = Input(shape=inputs_shape, name='mict')\n",
        "bis = Input(shape=inputs_shape, name='bis')\n",
        "\n"
      ],
      "execution_count": 12,
      "outputs": []
    },
    {
      "cell_type": "code",
      "metadata": {
        "scrolled": true,
        "id": "rJDt1D0LKURI"
      },
      "source": [
        "# Create a list of all the inputs\n",
        "\n",
        "list_inputs = [temperature, nausea_occurence, lumbar_pain, urine_pushing, \n",
        "               micturition_pains, bis]"
      ],
      "execution_count": 13,
      "outputs": []
    },
    {
      "cell_type": "code",
      "metadata": {
        "scrolled": false,
        "id": "P41WGVnqKURM"
      },
      "source": [
        "# Merge all input features into a single large vector\n",
        "\n",
        "x = layers.concatenate(list_inputs)"
      ],
      "execution_count": 14,
      "outputs": []
    },
    {
      "cell_type": "code",
      "metadata": {
        "scrolled": false,
        "id": "BKZOJR-PKURR"
      },
      "source": [
        "# Use a logistic regression classifier for disease prediction\n",
        "\n",
        "inflammation_pred = layers.Dense(1, activation='sigmoid', name='inflam')(x)\n",
        "nephritis_pred = layers.Dense(1, activation='sigmoid', name='nephr')(x)"
      ],
      "execution_count": 17,
      "outputs": []
    },
    {
      "cell_type": "code",
      "metadata": {
        "scrolled": true,
        "id": "M2tESqXWKURV"
      },
      "source": [
        "# Create a list of all the outputs\n",
        "\n",
        "list_outputs = [inflammation_pred, nephritis_pred]"
      ],
      "execution_count": 18,
      "outputs": []
    },
    {
      "cell_type": "code",
      "metadata": {
        "scrolled": false,
        "id": "AZFVEYX8KURZ"
      },
      "source": [
        "# Create the model object\n",
        "\n",
        "model = tf.keras.Model(inputs=list_inputs, outputs=list_outputs)"
      ],
      "execution_count": 19,
      "outputs": []
    },
    {
      "cell_type": "markdown",
      "metadata": {
        "id": "m5zoXn36KURd"
      },
      "source": [
        "#### Plot the model"
      ]
    },
    {
      "cell_type": "code",
      "metadata": {
        "scrolled": false,
        "id": "b3-_VOYiKURe",
        "colab": {
          "base_uri": "https://localhost:8080/",
          "height": 193
        },
        "outputId": "4f8833cc-b569-41aa-b8aa-3f3cfc73b534"
      },
      "source": [
        "# Display the multiple input/output model\n",
        "\n",
        "tf.keras.utils.plot_model(model, 'multi_input_output_model.jpg', show_shapes=True)"
      ],
      "execution_count": 20,
      "outputs": [
        {
          "output_type": "execute_result",
          "data": {
            "image/jpeg": "[encoded data removed]",
            "text/plain": [
              "<IPython.core.display.Image object>"
            ]
          },
          "metadata": {
            "tags": []
          },
          "execution_count": 20
        }
      ]
    },
    {
      "cell_type": "markdown",
      "metadata": {
        "id": "FCXImgxwKURi"
      },
      "source": [
        "#### Compile the model"
      ]
    },
    {
      "cell_type": "code",
      "metadata": {
        "scrolled": true,
        "id": "MpGzpAeYKURn"
      },
      "source": [
        "# Compile the model\n",
        "\n",
        "model.compile(optimizer=tf.keras.optimizers.RMSprop(1e-3),\n",
        "              loss=[{'inflam':'binary_crossentropy'}, {'nephr': 'binary_crossentropy'}],  # same loss function for both, could be just stated once\n",
        "              loss_weights=[1., 0.2],\n",
        "              metrics=['acc'],  # same metric for both tasks\n",
        "              )"
      ],
      "execution_count": 24,
      "outputs": []
    },
    {
      "cell_type": "markdown",
      "metadata": {
        "id": "LogIRCGRKURr"
      },
      "source": [
        "#### Fit the model "
      ]
    },
    {
      "cell_type": "code",
      "metadata": {
        "scrolled": false,
        "id": "WVDztBCHKURs"
      },
      "source": [
        "# Define training inputs and outputs\n",
        "\n",
        "inputs_train = {'temp': temp_train, 'nocc': nocc_train, 'lumbp': lumbp_train,\n",
        "                'up': up_train, 'mict': mict_train, 'bis': bis_train}\n",
        "\n",
        "outputs_train = {'inflam': inflam_train, 'nephr': nephr_train}\n",
        "\n",
        "# alternative notation:\n",
        "# inputs_train = [temp_train, nocc_train, lumbp_train, up_train, mict_train, bis_train]\n",
        "# outputs_train = [inflam_train, nephr_train]"
      ],
      "execution_count": 26,
      "outputs": []
    },
    {
      "cell_type": "code",
      "metadata": {
        "id": "Nd9z2B7NKURw",
        "colab": {
          "base_uri": "https://localhost:8080/"
        },
        "outputId": "6bab5484-7602-4693-dab9-27eeac5f2596"
      },
      "source": [
        "# Train the model\n",
        "\n",
        "history = model.fit(inputs_train, outputs_train,\n",
        "                    epochs=1000,\n",
        "                    batch_size=128)"
      ],
      "execution_count": 27,
      "outputs": [
        {
          "output_type": "stream",
          "text": [
            "Epoch 1/1000\n",
            "1/1 [==============================] - 1s 1s/step - loss: 6.4261 - inflam_loss: 3.9915 - nephr_loss: 12.1731 - inflam_acc: 0.4750 - nephr_acc: 0.5500\n",
            "Epoch 2/1000\n",
            "1/1 [==============================] - 0s 5ms/step - loss: 6.3440 - inflam_loss: 3.9221 - nephr_loss: 12.1095 - inflam_acc: 0.4750 - nephr_acc: 0.5500\n",
            "Epoch 3/1000\n",
            "1/1 [==============================] - 0s 4ms/step - loss: 6.2845 - inflam_loss: 3.8718 - nephr_loss: 12.0634 - inflam_acc: 0.4750 - nephr_acc: 0.5500\n",
            "Epoch 4/1000\n",
            "1/1 [==============================] - 0s 14ms/step - loss: 6.2346 - inflam_loss: 3.8297 - nephr_loss: 12.0247 - inflam_acc: 0.4750 - nephr_acc: 0.5500\n",
            "Epoch 5/1000\n",
            "1/1 [==============================] - 0s 5ms/step - loss: 6.1904 - inflam_loss: 3.7923 - nephr_loss: 11.9904 - inflam_acc: 0.4750 - nephr_acc: 0.5500\n",
            "Epoch 6/1000\n",
            "1/1 [==============================] - 0s 3ms/step - loss: 6.1498 - inflam_loss: 3.7580 - nephr_loss: 11.9590 - inflam_acc: 0.4750 - nephr_acc: 0.5500\n",
            "Epoch 7/1000\n",
            "1/1 [==============================] - 0s 6ms/step - loss: 6.1120 - inflam_loss: 3.7260 - nephr_loss: 11.9296 - inflam_acc: 0.4750 - nephr_acc: 0.5500\n",
            "Epoch 8/1000\n",
            "1/1 [==============================] - 0s 6ms/step - loss: 6.0760 - inflam_loss: 3.6957 - nephr_loss: 11.9018 - inflam_acc: 0.4750 - nephr_acc: 0.5500\n",
            "Epoch 9/1000\n",
            "1/1 [==============================] - 0s 5ms/step - loss: 6.0417 - inflam_loss: 3.6667 - nephr_loss: 11.8751 - inflam_acc: 0.4750 - nephr_acc: 0.5500\n",
            "Epoch 10/1000\n",
            "1/1 [==============================] - 0s 4ms/step - loss: 6.0086 - inflam_loss: 3.6387 - nephr_loss: 11.8494 - inflam_acc: 0.4750 - nephr_acc: 0.5500\n",
            "Epoch 11/1000\n",
            "1/1 [==============================] - 0s 9ms/step - loss: 5.9764 - inflam_loss: 3.6115 - nephr_loss: 11.8245 - inflam_acc: 0.4750 - nephr_acc: 0.5500\n",
            "Epoch 12/1000\n",
            "1/1 [==============================] - 0s 7ms/step - loss: 5.9451 - inflam_loss: 3.5851 - nephr_loss: 11.8002 - inflam_acc: 0.4750 - nephr_acc: 0.5500\n",
            "Epoch 13/1000\n",
            "1/1 [==============================] - 0s 5ms/step - loss: 5.9145 - inflam_loss: 3.5592 - nephr_loss: 11.7765 - inflam_acc: 0.4750 - nephr_acc: 0.5500\n",
            "Epoch 14/1000\n",
            "1/1 [==============================] - 0s 6ms/step - loss: 5.8845 - inflam_loss: 3.5339 - nephr_loss: 11.7532 - inflam_acc: 0.4750 - nephr_acc: 0.5500\n",
            "Epoch 15/1000\n",
            "1/1 [==============================] - 0s 4ms/step - loss: 5.8550 - inflam_loss: 3.5090 - nephr_loss: 11.7303 - inflam_acc: 0.4750 - nephr_acc: 0.5500\n",
            "Epoch 16/1000\n",
            "1/1 [==============================] - 0s 4ms/step - loss: 5.8260 - inflam_loss: 3.4844 - nephr_loss: 11.7077 - inflam_acc: 0.4750 - nephr_acc: 0.5500\n",
            "Epoch 17/1000\n",
            "1/1 [==============================] - 0s 4ms/step - loss: 5.7973 - inflam_loss: 3.4602 - nephr_loss: 11.6854 - inflam_acc: 0.4750 - nephr_acc: 0.5500\n",
            "Epoch 18/1000\n",
            "1/1 [==============================] - 0s 4ms/step - loss: 5.7689 - inflam_loss: 3.4362 - nephr_loss: 11.6634 - inflam_acc: 0.4750 - nephr_acc: 0.5500\n",
            "Epoch 19/1000\n",
            "1/1 [==============================] - 0s 4ms/step - loss: 5.7408 - inflam_loss: 3.4125 - nephr_loss: 11.6416 - inflam_acc: 0.4750 - nephr_acc: 0.5500\n",
            "Epoch 20/1000\n",
            "1/1 [==============================] - 0s 4ms/step - loss: 5.7130 - inflam_loss: 3.3890 - nephr_loss: 11.6200 - inflam_acc: 0.4750 - nephr_acc: 0.5500\n",
            "Epoch 21/1000\n",
            "1/1 [==============================] - 0s 5ms/step - loss: 5.6854 - inflam_loss: 3.3657 - nephr_loss: 11.5985 - inflam_acc: 0.4750 - nephr_acc: 0.5500\n",
            "Epoch 22/1000\n",
            "1/1 [==============================] - 0s 7ms/step - loss: 5.6579 - inflam_loss: 3.3425 - nephr_loss: 11.5772 - inflam_acc: 0.4750 - nephr_acc: 0.5500\n",
            "Epoch 23/1000\n",
            "1/1 [==============================] - 0s 3ms/step - loss: 5.6307 - inflam_loss: 3.3195 - nephr_loss: 11.5560 - inflam_acc: 0.4750 - nephr_acc: 0.5500\n",
            "Epoch 24/1000\n",
            "1/1 [==============================] - 0s 8ms/step - loss: 5.6036 - inflam_loss: 3.2966 - nephr_loss: 11.5349 - inflam_acc: 0.4750 - nephr_acc: 0.5500\n",
            "Epoch 25/1000\n",
            "1/1 [==============================] - 0s 7ms/step - loss: 5.5766 - inflam_loss: 3.2738 - nephr_loss: 11.5140 - inflam_acc: 0.4750 - nephr_acc: 0.5500\n",
            "Epoch 26/1000\n",
            "1/1 [==============================] - 0s 7ms/step - loss: 5.5498 - inflam_loss: 3.2512 - nephr_loss: 11.4931 - inflam_acc: 0.4750 - nephr_acc: 0.5500\n",
            "Epoch 27/1000\n",
            "1/1 [==============================] - 0s 7ms/step - loss: 5.5231 - inflam_loss: 3.2286 - nephr_loss: 11.4723 - inflam_acc: 0.4750 - nephr_acc: 0.5500\n",
            "Epoch 28/1000\n",
            "1/1 [==============================] - 0s 8ms/step - loss: 5.4964 - inflam_loss: 3.2061 - nephr_loss: 11.4516 - inflam_acc: 0.4750 - nephr_acc: 0.5500\n",
            "Epoch 29/1000\n",
            "1/1 [==============================] - 0s 11ms/step - loss: 5.4699 - inflam_loss: 3.1837 - nephr_loss: 11.4309 - inflam_acc: 0.4750 - nephr_acc: 0.5500\n",
            "Epoch 30/1000\n",
            "1/1 [==============================] - 0s 9ms/step - loss: 5.4435 - inflam_loss: 3.1614 - nephr_loss: 11.4103 - inflam_acc: 0.4750 - nephr_acc: 0.5500\n",
            "Epoch 31/1000\n",
            "1/1 [==============================] - 0s 8ms/step - loss: 5.4171 - inflam_loss: 3.1391 - nephr_loss: 11.3898 - inflam_acc: 0.4750 - nephr_acc: 0.5500\n",
            "Epoch 32/1000\n",
            "1/1 [==============================] - 0s 8ms/step - loss: 5.3907 - inflam_loss: 3.1169 - nephr_loss: 11.3692 - inflam_acc: 0.4750 - nephr_acc: 0.5500\n",
            "Epoch 33/1000\n",
            "1/1 [==============================] - 0s 9ms/step - loss: 5.3645 - inflam_loss: 3.0947 - nephr_loss: 11.3488 - inflam_acc: 0.4750 - nephr_acc: 0.5500\n",
            "Epoch 34/1000\n",
            "1/1 [==============================] - 0s 6ms/step - loss: 5.3383 - inflam_loss: 3.0726 - nephr_loss: 11.3283 - inflam_acc: 0.4750 - nephr_acc: 0.5500\n",
            "Epoch 35/1000\n",
            "1/1 [==============================] - 0s 10ms/step - loss: 5.3121 - inflam_loss: 3.0505 - nephr_loss: 11.3079 - inflam_acc: 0.4750 - nephr_acc: 0.5500\n",
            "Epoch 36/1000\n",
            "1/1 [==============================] - 0s 8ms/step - loss: 5.2860 - inflam_loss: 3.0285 - nephr_loss: 11.2876 - inflam_acc: 0.4750 - nephr_acc: 0.5500\n",
            "Epoch 37/1000\n",
            "1/1 [==============================] - 0s 10ms/step - loss: 5.2599 - inflam_loss: 3.0065 - nephr_loss: 11.2672 - inflam_acc: 0.4750 - nephr_acc: 0.5500\n",
            "Epoch 38/1000\n",
            "1/1 [==============================] - 0s 7ms/step - loss: 5.2339 - inflam_loss: 2.9845 - nephr_loss: 11.2469 - inflam_acc: 0.4750 - nephr_acc: 0.5500\n",
            "Epoch 39/1000\n",
            "1/1 [==============================] - 0s 13ms/step - loss: 5.2079 - inflam_loss: 2.9626 - nephr_loss: 11.2266 - inflam_acc: 0.4750 - nephr_acc: 0.5500\n",
            "Epoch 40/1000\n",
            "1/1 [==============================] - 0s 7ms/step - loss: 5.1820 - inflam_loss: 2.9407 - nephr_loss: 11.2063 - inflam_acc: 0.4750 - nephr_acc: 0.5500\n",
            "Epoch 41/1000\n",
            "1/1 [==============================] - 0s 6ms/step - loss: 5.1560 - inflam_loss: 2.9188 - nephr_loss: 11.1861 - inflam_acc: 0.4750 - nephr_acc: 0.5500\n",
            "Epoch 42/1000\n",
            "1/1 [==============================] - 0s 8ms/step - loss: 5.1301 - inflam_loss: 2.8970 - nephr_loss: 11.1658 - inflam_acc: 0.4750 - nephr_acc: 0.5500\n",
            "Epoch 43/1000\n",
            "1/1 [==============================] - 0s 7ms/step - loss: 5.1043 - inflam_loss: 2.8752 - nephr_loss: 11.1456 - inflam_acc: 0.4750 - nephr_acc: 0.5500\n",
            "Epoch 44/1000\n",
            "1/1 [==============================] - 0s 6ms/step - loss: 5.0784 - inflam_loss: 2.8534 - nephr_loss: 11.1254 - inflam_acc: 0.4750 - nephr_acc: 0.5500\n",
            "Epoch 45/1000\n",
            "1/1 [==============================] - 0s 7ms/step - loss: 5.0526 - inflam_loss: 2.8316 - nephr_loss: 11.1052 - inflam_acc: 0.4750 - nephr_acc: 0.5500\n",
            "Epoch 46/1000\n",
            "1/1 [==============================] - 0s 11ms/step - loss: 5.0268 - inflam_loss: 2.8099 - nephr_loss: 11.0850 - inflam_acc: 0.4750 - nephr_acc: 0.5500\n",
            "Epoch 47/1000\n",
            "1/1 [==============================] - 0s 4ms/step - loss: 5.0011 - inflam_loss: 2.7881 - nephr_loss: 11.0648 - inflam_acc: 0.4750 - nephr_acc: 0.5500\n",
            "Epoch 48/1000\n",
            "1/1 [==============================] - 0s 6ms/step - loss: 4.9753 - inflam_loss: 2.7664 - nephr_loss: 11.0446 - inflam_acc: 0.4750 - nephr_acc: 0.5500\n",
            "Epoch 49/1000\n",
            "1/1 [==============================] - 0s 11ms/step - loss: 4.9496 - inflam_loss: 2.7448 - nephr_loss: 11.0244 - inflam_acc: 0.4750 - nephr_acc: 0.5500\n",
            "Epoch 50/1000\n",
            "1/1 [==============================] - 0s 4ms/step - loss: 4.9239 - inflam_loss: 2.7231 - nephr_loss: 11.0042 - inflam_acc: 0.4750 - nephr_acc: 0.5500\n",
            "Epoch 51/1000\n",
            "1/1 [==============================] - 0s 9ms/step - loss: 4.8983 - inflam_loss: 2.7015 - nephr_loss: 10.9841 - inflam_acc: 0.4750 - nephr_acc: 0.5500\n",
            "Epoch 52/1000\n",
            "1/1 [==============================] - 0s 4ms/step - loss: 4.8726 - inflam_loss: 2.6798 - nephr_loss: 10.9639 - inflam_acc: 0.4750 - nephr_acc: 0.5500\n",
            "Epoch 53/1000\n",
            "1/1 [==============================] - 0s 7ms/step - loss: 4.8470 - inflam_loss: 2.6583 - nephr_loss: 10.9438 - inflam_acc: 0.4750 - nephr_acc: 0.5500\n",
            "Epoch 54/1000\n",
            "1/1 [==============================] - 0s 5ms/step - loss: 4.8214 - inflam_loss: 2.6367 - nephr_loss: 10.9236 - inflam_acc: 0.4750 - nephr_acc: 0.5500\n",
            "Epoch 55/1000\n",
            "1/1 [==============================] - 0s 6ms/step - loss: 4.7958 - inflam_loss: 2.6151 - nephr_loss: 10.9035 - inflam_acc: 0.4750 - nephr_acc: 0.5500\n",
            "Epoch 56/1000\n",
            "1/1 [==============================] - 0s 12ms/step - loss: 4.7703 - inflam_loss: 2.5936 - nephr_loss: 10.8833 - inflam_acc: 0.4750 - nephr_acc: 0.5500\n",
            "Epoch 57/1000\n",
            "1/1 [==============================] - 0s 4ms/step - loss: 4.7448 - inflam_loss: 2.5721 - nephr_loss: 10.8632 - inflam_acc: 0.4750 - nephr_acc: 0.5500\n",
            "Epoch 58/1000\n",
            "1/1 [==============================] - 0s 5ms/step - loss: 4.7193 - inflam_loss: 2.5506 - nephr_loss: 10.8430 - inflam_acc: 0.4750 - nephr_acc: 0.5500\n",
            "Epoch 59/1000\n",
            "1/1 [==============================] - 0s 7ms/step - loss: 4.6938 - inflam_loss: 2.5292 - nephr_loss: 10.8229 - inflam_acc: 0.4750 - nephr_acc: 0.5500\n",
            "Epoch 60/1000\n",
            "1/1 [==============================] - 0s 7ms/step - loss: 4.6683 - inflam_loss: 2.5078 - nephr_loss: 10.8028 - inflam_acc: 0.4750 - nephr_acc: 0.5500\n",
            "Epoch 61/1000\n",
            "1/1 [==============================] - 0s 11ms/step - loss: 4.6429 - inflam_loss: 2.4864 - nephr_loss: 10.7826 - inflam_acc: 0.4750 - nephr_acc: 0.5500\n",
            "Epoch 62/1000\n",
            "1/1 [==============================] - 0s 5ms/step - loss: 4.6175 - inflam_loss: 2.4650 - nephr_loss: 10.7625 - inflam_acc: 0.4750 - nephr_acc: 0.5500\n",
            "Epoch 63/1000\n",
            "1/1 [==============================] - 0s 6ms/step - loss: 4.5921 - inflam_loss: 2.4436 - nephr_loss: 10.7424 - inflam_acc: 0.4750 - nephr_acc: 0.5500\n",
            "Epoch 64/1000\n",
            "1/1 [==============================] - 0s 9ms/step - loss: 4.5668 - inflam_loss: 2.4223 - nephr_loss: 10.7223 - inflam_acc: 0.4750 - nephr_acc: 0.5500\n",
            "Epoch 65/1000\n",
            "1/1 [==============================] - 0s 7ms/step - loss: 4.5415 - inflam_loss: 2.4010 - nephr_loss: 10.7021 - inflam_acc: 0.4750 - nephr_acc: 0.5500\n",
            "Epoch 66/1000\n",
            "1/1 [==============================] - 0s 9ms/step - loss: 4.5162 - inflam_loss: 2.3798 - nephr_loss: 10.6820 - inflam_acc: 0.4750 - nephr_acc: 0.5500\n",
            "Epoch 67/1000\n",
            "1/1 [==============================] - 0s 5ms/step - loss: 4.4909 - inflam_loss: 2.3585 - nephr_loss: 10.6619 - inflam_acc: 0.4750 - nephr_acc: 0.5500\n",
            "Epoch 68/1000\n",
            "1/1 [==============================] - 0s 10ms/step - loss: 4.4657 - inflam_loss: 2.3373 - nephr_loss: 10.6418 - inflam_acc: 0.4750 - nephr_acc: 0.5500\n",
            "Epoch 69/1000\n",
            "1/1 [==============================] - 0s 6ms/step - loss: 4.4405 - inflam_loss: 2.3162 - nephr_loss: 10.6216 - inflam_acc: 0.4750 - nephr_acc: 0.5500\n",
            "Epoch 70/1000\n",
            "1/1 [==============================] - 0s 7ms/step - loss: 4.4153 - inflam_loss: 2.2950 - nephr_loss: 10.6015 - inflam_acc: 0.4750 - nephr_acc: 0.5500\n",
            "Epoch 71/1000\n",
            "1/1 [==============================] - 0s 7ms/step - loss: 4.3902 - inflam_loss: 2.2739 - nephr_loss: 10.5814 - inflam_acc: 0.4750 - nephr_acc: 0.5500\n",
            "Epoch 72/1000\n",
            "1/1 [==============================] - 0s 9ms/step - loss: 4.3651 - inflam_loss: 2.2529 - nephr_loss: 10.5613 - inflam_acc: 0.4750 - nephr_acc: 0.5500\n",
            "Epoch 73/1000\n",
            "1/1 [==============================] - 0s 8ms/step - loss: 4.3401 - inflam_loss: 2.2319 - nephr_loss: 10.5412 - inflam_acc: 0.4750 - nephr_acc: 0.5500\n",
            "Epoch 74/1000\n",
            "1/1 [==============================] - 0s 5ms/step - loss: 4.3151 - inflam_loss: 2.2109 - nephr_loss: 10.5211 - inflam_acc: 0.4750 - nephr_acc: 0.5500\n",
            "Epoch 75/1000\n",
            "1/1 [==============================] - 0s 8ms/step - loss: 4.2901 - inflam_loss: 2.1899 - nephr_loss: 10.5009 - inflam_acc: 0.4750 - nephr_acc: 0.5500\n",
            "Epoch 76/1000\n",
            "1/1 [==============================] - 0s 11ms/step - loss: 4.2652 - inflam_loss: 2.1690 - nephr_loss: 10.4808 - inflam_acc: 0.4750 - nephr_acc: 0.5500\n",
            "Epoch 77/1000\n",
            "1/1 [==============================] - 0s 16ms/step - loss: 4.2403 - inflam_loss: 2.1482 - nephr_loss: 10.4607 - inflam_acc: 0.4750 - nephr_acc: 0.5500\n",
            "Epoch 78/1000\n",
            "1/1 [==============================] - 0s 8ms/step - loss: 4.2155 - inflam_loss: 2.1274 - nephr_loss: 10.4406 - inflam_acc: 0.4750 - nephr_acc: 0.5500\n",
            "Epoch 79/1000\n",
            "1/1 [==============================] - 0s 9ms/step - loss: 4.1907 - inflam_loss: 2.1066 - nephr_loss: 10.4205 - inflam_acc: 0.4750 - nephr_acc: 0.5500\n",
            "Epoch 80/1000\n",
            "1/1 [==============================] - 0s 8ms/step - loss: 4.1660 - inflam_loss: 2.0859 - nephr_loss: 10.4004 - inflam_acc: 0.4750 - nephr_acc: 0.5500\n",
            "Epoch 81/1000\n",
            "1/1 [==============================] - 0s 8ms/step - loss: 4.1413 - inflam_loss: 2.0652 - nephr_loss: 10.3803 - inflam_acc: 0.4750 - nephr_acc: 0.5500\n",
            "Epoch 82/1000\n",
            "1/1 [==============================] - 0s 10ms/step - loss: 4.1166 - inflam_loss: 2.0446 - nephr_loss: 10.3601 - inflam_acc: 0.4750 - nephr_acc: 0.5500\n",
            "Epoch 83/1000\n",
            "1/1 [==============================] - 0s 16ms/step - loss: 4.0921 - inflam_loss: 2.0241 - nephr_loss: 10.3400 - inflam_acc: 0.4750 - nephr_acc: 0.5500\n",
            "Epoch 84/1000\n",
            "1/1 [==============================] - 0s 7ms/step - loss: 4.0675 - inflam_loss: 2.0036 - nephr_loss: 10.3199 - inflam_acc: 0.4750 - nephr_acc: 0.5500\n",
            "Epoch 85/1000\n",
            "1/1 [==============================] - 0s 8ms/step - loss: 4.0431 - inflam_loss: 1.9831 - nephr_loss: 10.2998 - inflam_acc: 0.4750 - nephr_acc: 0.5500\n",
            "Epoch 86/1000\n",
            "1/1 [==============================] - 0s 8ms/step - loss: 4.0187 - inflam_loss: 1.9627 - nephr_loss: 10.2797 - inflam_acc: 0.4750 - nephr_acc: 0.5500\n",
            "Epoch 87/1000\n",
            "1/1 [==============================] - 0s 7ms/step - loss: 3.9943 - inflam_loss: 1.9424 - nephr_loss: 10.2596 - inflam_acc: 0.4750 - nephr_acc: 0.5500\n",
            "Epoch 88/1000\n",
            "1/1 [==============================] - 0s 9ms/step - loss: 3.9701 - inflam_loss: 1.9222 - nephr_loss: 10.2395 - inflam_acc: 0.4750 - nephr_acc: 0.5500\n",
            "Epoch 89/1000\n",
            "1/1 [==============================] - 0s 4ms/step - loss: 3.9459 - inflam_loss: 1.9020 - nephr_loss: 10.2193 - inflam_acc: 0.4750 - nephr_acc: 0.5500\n",
            "Epoch 90/1000\n",
            "1/1 [==============================] - 0s 7ms/step - loss: 3.9217 - inflam_loss: 1.8819 - nephr_loss: 10.1992 - inflam_acc: 0.4750 - nephr_acc: 0.5500\n",
            "Epoch 91/1000\n",
            "1/1 [==============================] - 0s 7ms/step - loss: 3.8977 - inflam_loss: 1.8619 - nephr_loss: 10.1791 - inflam_acc: 0.4750 - nephr_acc: 0.5500\n",
            "Epoch 92/1000\n",
            "1/1 [==============================] - 0s 7ms/step - loss: 3.8737 - inflam_loss: 1.8419 - nephr_loss: 10.1590 - inflam_acc: 0.4750 - nephr_acc: 0.5500\n",
            "Epoch 93/1000\n",
            "1/1 [==============================] - 0s 6ms/step - loss: 3.8498 - inflam_loss: 1.8220 - nephr_loss: 10.1389 - inflam_acc: 0.4750 - nephr_acc: 0.5500\n",
            "Epoch 94/1000\n",
            "1/1 [==============================] - 0s 10ms/step - loss: 3.8260 - inflam_loss: 1.8022 - nephr_loss: 10.1188 - inflam_acc: 0.4750 - nephr_acc: 0.5500\n",
            "Epoch 95/1000\n",
            "1/1 [==============================] - 0s 8ms/step - loss: 3.8022 - inflam_loss: 1.7825 - nephr_loss: 10.0987 - inflam_acc: 0.4750 - nephr_acc: 0.5500\n",
            "Epoch 96/1000\n",
            "1/1 [==============================] - 0s 13ms/step - loss: 3.7786 - inflam_loss: 1.7629 - nephr_loss: 10.0785 - inflam_acc: 0.4750 - nephr_acc: 0.5500\n",
            "Epoch 97/1000\n",
            "1/1 [==============================] - 0s 12ms/step - loss: 3.7550 - inflam_loss: 1.7433 - nephr_loss: 10.0584 - inflam_acc: 0.4750 - nephr_acc: 0.5500\n",
            "Epoch 98/1000\n",
            "1/1 [==============================] - 0s 11ms/step - loss: 3.7315 - inflam_loss: 1.7239 - nephr_loss: 10.0383 - inflam_acc: 0.4750 - nephr_acc: 0.5500\n",
            "Epoch 99/1000\n",
            "1/1 [==============================] - 0s 15ms/step - loss: 3.7082 - inflam_loss: 1.7045 - nephr_loss: 10.0182 - inflam_acc: 0.4750 - nephr_acc: 0.5500\n",
            "Epoch 100/1000\n",
            "1/1 [==============================] - 0s 15ms/step - loss: 3.6849 - inflam_loss: 1.6853 - nephr_loss: 9.9981 - inflam_acc: 0.4750 - nephr_acc: 0.5500\n",
            "Epoch 101/1000\n",
            "1/1 [==============================] - 0s 5ms/step - loss: 3.6617 - inflam_loss: 1.6661 - nephr_loss: 9.9780 - inflam_acc: 0.4750 - nephr_acc: 0.5500\n",
            "Epoch 102/1000\n",
            "1/1 [==============================] - 0s 6ms/step - loss: 3.6387 - inflam_loss: 1.6471 - nephr_loss: 9.9579 - inflam_acc: 0.4750 - nephr_acc: 0.5500\n",
            "Epoch 103/1000\n",
            "1/1 [==============================] - 0s 7ms/step - loss: 3.6157 - inflam_loss: 1.6282 - nephr_loss: 9.9378 - inflam_acc: 0.4750 - nephr_acc: 0.5500\n",
            "Epoch 104/1000\n",
            "1/1 [==============================] - 0s 22ms/step - loss: 3.5929 - inflam_loss: 1.6094 - nephr_loss: 9.9176 - inflam_acc: 0.4750 - nephr_acc: 0.5500\n",
            "Epoch 105/1000\n",
            "1/1 [==============================] - 0s 13ms/step - loss: 3.5702 - inflam_loss: 1.5907 - nephr_loss: 9.8975 - inflam_acc: 0.4750 - nephr_acc: 0.5500\n",
            "Epoch 106/1000\n",
            "1/1 [==============================] - 0s 17ms/step - loss: 3.5476 - inflam_loss: 1.5721 - nephr_loss: 9.8774 - inflam_acc: 0.4750 - nephr_acc: 0.5500\n",
            "Epoch 107/1000\n",
            "1/1 [==============================] - 0s 15ms/step - loss: 3.5251 - inflam_loss: 1.5537 - nephr_loss: 9.8573 - inflam_acc: 0.4750 - nephr_acc: 0.5500\n",
            "Epoch 108/1000\n",
            "1/1 [==============================] - 0s 8ms/step - loss: 3.5028 - inflam_loss: 1.5353 - nephr_loss: 9.8372 - inflam_acc: 0.4750 - nephr_acc: 0.5500\n",
            "Epoch 109/1000\n",
            "1/1 [==============================] - 0s 7ms/step - loss: 3.4806 - inflam_loss: 1.5172 - nephr_loss: 9.8171 - inflam_acc: 0.4750 - nephr_acc: 0.5500\n",
            "Epoch 110/1000\n",
            "1/1 [==============================] - 0s 5ms/step - loss: 3.4585 - inflam_loss: 1.4991 - nephr_loss: 9.7970 - inflam_acc: 0.4750 - nephr_acc: 0.5500\n",
            "Epoch 111/1000\n",
            "1/1 [==============================] - 0s 13ms/step - loss: 3.4366 - inflam_loss: 1.4812 - nephr_loss: 9.7769 - inflam_acc: 0.4750 - nephr_acc: 0.5500\n",
            "Epoch 112/1000\n",
            "1/1 [==============================] - 0s 8ms/step - loss: 3.4148 - inflam_loss: 1.4635 - nephr_loss: 9.7567 - inflam_acc: 0.4750 - nephr_acc: 0.5500\n",
            "Epoch 113/1000\n",
            "1/1 [==============================] - 0s 5ms/step - loss: 3.3932 - inflam_loss: 1.4459 - nephr_loss: 9.7366 - inflam_acc: 0.4750 - nephr_acc: 0.5500\n",
            "Epoch 114/1000\n",
            "1/1 [==============================] - 0s 7ms/step - loss: 3.3717 - inflam_loss: 1.4284 - nephr_loss: 9.7165 - inflam_acc: 0.4750 - nephr_acc: 0.5500\n",
            "Epoch 115/1000\n",
            "1/1 [==============================] - 0s 6ms/step - loss: 3.3504 - inflam_loss: 1.4111 - nephr_loss: 9.6964 - inflam_acc: 0.4750 - nephr_acc: 0.5500\n",
            "Epoch 116/1000\n",
            "1/1 [==============================] - 0s 7ms/step - loss: 3.3293 - inflam_loss: 1.3940 - nephr_loss: 9.6763 - inflam_acc: 0.4750 - nephr_acc: 0.5500\n",
            "Epoch 117/1000\n",
            "1/1 [==============================] - 0s 7ms/step - loss: 3.3083 - inflam_loss: 1.3771 - nephr_loss: 9.6562 - inflam_acc: 0.4750 - nephr_acc: 0.5500\n",
            "Epoch 118/1000\n",
            "1/1 [==============================] - 0s 6ms/step - loss: 3.2875 - inflam_loss: 1.3603 - nephr_loss: 9.6361 - inflam_acc: 0.4750 - nephr_acc: 0.5500\n",
            "Epoch 119/1000\n",
            "1/1 [==============================] - 0s 8ms/step - loss: 3.2669 - inflam_loss: 1.3437 - nephr_loss: 9.6160 - inflam_acc: 0.4750 - nephr_acc: 0.5500\n",
            "Epoch 120/1000\n",
            "1/1 [==============================] - 0s 11ms/step - loss: 3.2464 - inflam_loss: 1.3272 - nephr_loss: 9.5958 - inflam_acc: 0.4750 - nephr_acc: 0.5500\n",
            "Epoch 121/1000\n",
            "1/1 [==============================] - 0s 9ms/step - loss: 3.2262 - inflam_loss: 1.3110 - nephr_loss: 9.5757 - inflam_acc: 0.4750 - nephr_acc: 0.5500\n",
            "Epoch 122/1000\n",
            "1/1 [==============================] - 0s 4ms/step - loss: 3.2061 - inflam_loss: 1.2950 - nephr_loss: 9.5556 - inflam_acc: 0.4750 - nephr_acc: 0.5500\n",
            "Epoch 123/1000\n",
            "1/1 [==============================] - 0s 9ms/step - loss: 3.1862 - inflam_loss: 1.2791 - nephr_loss: 9.5355 - inflam_acc: 0.4750 - nephr_acc: 0.5500\n",
            "Epoch 124/1000\n",
            "1/1 [==============================] - 0s 9ms/step - loss: 3.1665 - inflam_loss: 1.2635 - nephr_loss: 9.5154 - inflam_acc: 0.4750 - nephr_acc: 0.5500\n",
            "Epoch 125/1000\n",
            "1/1 [==============================] - 0s 6ms/step - loss: 3.1471 - inflam_loss: 1.2480 - nephr_loss: 9.4953 - inflam_acc: 0.4750 - nephr_acc: 0.5500\n",
            "Epoch 126/1000\n",
            "1/1 [==============================] - 0s 10ms/step - loss: 3.1278 - inflam_loss: 1.2328 - nephr_loss: 9.4752 - inflam_acc: 0.4750 - nephr_acc: 0.5500\n",
            "Epoch 127/1000\n",
            "1/1 [==============================] - 0s 8ms/step - loss: 3.1088 - inflam_loss: 1.2178 - nephr_loss: 9.4551 - inflam_acc: 0.4750 - nephr_acc: 0.5500\n",
            "Epoch 128/1000\n",
            "1/1 [==============================] - 0s 5ms/step - loss: 3.0900 - inflam_loss: 1.2030 - nephr_loss: 9.4350 - inflam_acc: 0.4750 - nephr_acc: 0.5500\n",
            "Epoch 129/1000\n",
            "1/1 [==============================] - 0s 8ms/step - loss: 3.0714 - inflam_loss: 1.1884 - nephr_loss: 9.4148 - inflam_acc: 0.4750 - nephr_acc: 0.5500\n",
            "Epoch 130/1000\n",
            "1/1 [==============================] - 0s 8ms/step - loss: 3.0530 - inflam_loss: 1.1740 - nephr_loss: 9.3947 - inflam_acc: 0.4750 - nephr_acc: 0.5500\n",
            "Epoch 131/1000\n",
            "1/1 [==============================] - 0s 11ms/step - loss: 3.0348 - inflam_loss: 1.1599 - nephr_loss: 9.3746 - inflam_acc: 0.4750 - nephr_acc: 0.5500\n",
            "Epoch 132/1000\n",
            "1/1 [==============================] - 0s 5ms/step - loss: 3.0169 - inflam_loss: 1.1460 - nephr_loss: 9.3545 - inflam_acc: 0.4750 - nephr_acc: 0.5500\n",
            "Epoch 133/1000\n",
            "1/1 [==============================] - 0s 8ms/step - loss: 2.9993 - inflam_loss: 1.1324 - nephr_loss: 9.3344 - inflam_acc: 0.4750 - nephr_acc: 0.5500\n",
            "Epoch 134/1000\n",
            "1/1 [==============================] - 0s 6ms/step - loss: 2.9818 - inflam_loss: 1.1190 - nephr_loss: 9.3143 - inflam_acc: 0.4750 - nephr_acc: 0.5500\n",
            "Epoch 135/1000\n",
            "1/1 [==============================] - 0s 8ms/step - loss: 2.9646 - inflam_loss: 1.1058 - nephr_loss: 9.2942 - inflam_acc: 0.4750 - nephr_acc: 0.5500\n",
            "Epoch 136/1000\n",
            "1/1 [==============================] - 0s 8ms/step - loss: 2.9477 - inflam_loss: 1.0929 - nephr_loss: 9.2741 - inflam_acc: 0.4750 - nephr_acc: 0.5500\n",
            "Epoch 137/1000\n",
            "1/1 [==============================] - 0s 22ms/step - loss: 2.9310 - inflam_loss: 1.0802 - nephr_loss: 9.2539 - inflam_acc: 0.4750 - nephr_acc: 0.5500\n",
            "Epoch 138/1000\n",
            "1/1 [==============================] - 0s 9ms/step - loss: 2.9145 - inflam_loss: 1.0678 - nephr_loss: 9.2338 - inflam_acc: 0.4750 - nephr_acc: 0.5500\n",
            "Epoch 139/1000\n",
            "1/1 [==============================] - 0s 5ms/step - loss: 2.8983 - inflam_loss: 1.0556 - nephr_loss: 9.2137 - inflam_acc: 0.4750 - nephr_acc: 0.5500\n",
            "Epoch 140/1000\n",
            "1/1 [==============================] - 0s 9ms/step - loss: 2.8824 - inflam_loss: 1.0437 - nephr_loss: 9.1936 - inflam_acc: 0.4750 - nephr_acc: 0.5500\n",
            "Epoch 141/1000\n",
            "1/1 [==============================] - 0s 5ms/step - loss: 2.8667 - inflam_loss: 1.0320 - nephr_loss: 9.1735 - inflam_acc: 0.4750 - nephr_acc: 0.5500\n",
            "Epoch 142/1000\n",
            "1/1 [==============================] - 0s 15ms/step - loss: 2.8512 - inflam_loss: 1.0206 - nephr_loss: 9.1534 - inflam_acc: 0.4750 - nephr_acc: 0.5500\n",
            "Epoch 143/1000\n",
            "1/1 [==============================] - 0s 12ms/step - loss: 2.8361 - inflam_loss: 1.0094 - nephr_loss: 9.1333 - inflam_acc: 0.4750 - nephr_acc: 0.5500\n",
            "Epoch 144/1000\n",
            "1/1 [==============================] - 0s 21ms/step - loss: 2.8211 - inflam_loss: 0.9985 - nephr_loss: 9.1132 - inflam_acc: 0.4750 - nephr_acc: 0.5500\n",
            "Epoch 145/1000\n",
            "1/1 [==============================] - 0s 7ms/step - loss: 2.8065 - inflam_loss: 0.9879 - nephr_loss: 9.0930 - inflam_acc: 0.4750 - nephr_acc: 0.5500\n",
            "Epoch 146/1000\n",
            "1/1 [==============================] - 0s 17ms/step - loss: 2.7921 - inflam_loss: 0.9775 - nephr_loss: 9.0729 - inflam_acc: 0.4750 - nephr_acc: 0.5500\n",
            "Epoch 147/1000\n",
            "1/1 [==============================] - 0s 21ms/step - loss: 2.7780 - inflam_loss: 0.9674 - nephr_loss: 9.0528 - inflam_acc: 0.4750 - nephr_acc: 0.5500\n",
            "Epoch 148/1000\n",
            "1/1 [==============================] - 0s 7ms/step - loss: 2.7641 - inflam_loss: 0.9576 - nephr_loss: 9.0327 - inflam_acc: 0.4750 - nephr_acc: 0.5500\n",
            "Epoch 149/1000\n",
            "1/1 [==============================] - 0s 9ms/step - loss: 2.7506 - inflam_loss: 0.9480 - nephr_loss: 9.0126 - inflam_acc: 0.4750 - nephr_acc: 0.5500\n",
            "Epoch 150/1000\n",
            "1/1 [==============================] - 0s 9ms/step - loss: 2.7373 - inflam_loss: 0.9388 - nephr_loss: 8.9925 - inflam_acc: 0.4750 - nephr_acc: 0.5500\n",
            "Epoch 151/1000\n",
            "1/1 [==============================] - 0s 6ms/step - loss: 2.7242 - inflam_loss: 0.9298 - nephr_loss: 8.9724 - inflam_acc: 0.4750 - nephr_acc: 0.5500\n",
            "Epoch 152/1000\n",
            "1/1 [==============================] - 0s 8ms/step - loss: 2.7115 - inflam_loss: 0.9210 - nephr_loss: 8.9523 - inflam_acc: 0.4750 - nephr_acc: 0.5500\n",
            "Epoch 153/1000\n",
            "1/1 [==============================] - 0s 6ms/step - loss: 2.6990 - inflam_loss: 0.9126 - nephr_loss: 8.9321 - inflam_acc: 0.4750 - nephr_acc: 0.5500\n",
            "Epoch 154/1000\n",
            "1/1 [==============================] - 0s 9ms/step - loss: 2.6868 - inflam_loss: 0.9044 - nephr_loss: 8.9120 - inflam_acc: 0.4750 - nephr_acc: 0.5500\n",
            "Epoch 155/1000\n",
            "1/1 [==============================] - 0s 7ms/step - loss: 2.6748 - inflam_loss: 0.8964 - nephr_loss: 8.8919 - inflam_acc: 0.4750 - nephr_acc: 0.5500\n",
            "Epoch 156/1000\n",
            "1/1 [==============================] - 0s 6ms/step - loss: 2.6631 - inflam_loss: 0.8888 - nephr_loss: 8.8718 - inflam_acc: 0.4750 - nephr_acc: 0.5500\n",
            "Epoch 157/1000\n",
            "1/1 [==============================] - 0s 10ms/step - loss: 2.6517 - inflam_loss: 0.8814 - nephr_loss: 8.8517 - inflam_acc: 0.4750 - nephr_acc: 0.5500\n",
            "Epoch 158/1000\n",
            "1/1 [==============================] - 0s 6ms/step - loss: 2.6406 - inflam_loss: 0.8743 - nephr_loss: 8.8316 - inflam_acc: 0.4750 - nephr_acc: 0.5500\n",
            "Epoch 159/1000\n",
            "1/1 [==============================] - 0s 16ms/step - loss: 2.6297 - inflam_loss: 0.8674 - nephr_loss: 8.8115 - inflam_acc: 0.4750 - nephr_acc: 0.5500\n",
            "Epoch 160/1000\n",
            "1/1 [==============================] - 0s 15ms/step - loss: 2.6191 - inflam_loss: 0.8608 - nephr_loss: 8.7914 - inflam_acc: 0.4750 - nephr_acc: 0.5500\n",
            "Epoch 161/1000\n",
            "1/1 [==============================] - 0s 8ms/step - loss: 2.6087 - inflam_loss: 0.8544 - nephr_loss: 8.7712 - inflam_acc: 0.4750 - nephr_acc: 0.5500\n",
            "Epoch 162/1000\n",
            "1/1 [==============================] - 0s 7ms/step - loss: 2.5986 - inflam_loss: 0.8483 - nephr_loss: 8.7511 - inflam_acc: 0.4375 - nephr_acc: 0.5500\n",
            "Epoch 163/1000\n",
            "1/1 [==============================] - 0s 7ms/step - loss: 2.5887 - inflam_loss: 0.8425 - nephr_loss: 8.7310 - inflam_acc: 0.3750 - nephr_acc: 0.5500\n",
            "Epoch 164/1000\n",
            "1/1 [==============================] - 0s 7ms/step - loss: 2.5790 - inflam_loss: 0.8369 - nephr_loss: 8.7109 - inflam_acc: 0.3750 - nephr_acc: 0.5500\n",
            "Epoch 165/1000\n",
            "1/1 [==============================] - 0s 7ms/step - loss: 2.5696 - inflam_loss: 0.8315 - nephr_loss: 8.6908 - inflam_acc: 0.3750 - nephr_acc: 0.5500\n",
            "Epoch 166/1000\n",
            "1/1 [==============================] - 0s 11ms/step - loss: 2.5605 - inflam_loss: 0.8263 - nephr_loss: 8.6707 - inflam_acc: 0.3750 - nephr_acc: 0.5500\n",
            "Epoch 167/1000\n",
            "1/1 [==============================] - 0s 13ms/step - loss: 2.5515 - inflam_loss: 0.8214 - nephr_loss: 8.6506 - inflam_acc: 0.3750 - nephr_acc: 0.5500\n",
            "Epoch 168/1000\n",
            "1/1 [==============================] - 0s 8ms/step - loss: 2.5428 - inflam_loss: 0.8168 - nephr_loss: 8.6305 - inflam_acc: 0.3750 - nephr_acc: 0.5500\n",
            "Epoch 169/1000\n",
            "1/1 [==============================] - 0s 9ms/step - loss: 2.5344 - inflam_loss: 0.8123 - nephr_loss: 8.6103 - inflam_acc: 0.3750 - nephr_acc: 0.5500\n",
            "Epoch 170/1000\n",
            "1/1 [==============================] - 0s 4ms/step - loss: 2.5261 - inflam_loss: 0.8081 - nephr_loss: 8.5902 - inflam_acc: 0.3750 - nephr_acc: 0.5500\n",
            "Epoch 171/1000\n",
            "1/1 [==============================] - 0s 6ms/step - loss: 2.5181 - inflam_loss: 0.8041 - nephr_loss: 8.5701 - inflam_acc: 0.3750 - nephr_acc: 0.5500\n",
            "Epoch 172/1000\n",
            "1/1 [==============================] - 0s 11ms/step - loss: 2.5103 - inflam_loss: 0.8003 - nephr_loss: 8.5500 - inflam_acc: 0.3750 - nephr_acc: 0.5500\n",
            "Epoch 173/1000\n",
            "1/1 [==============================] - 0s 6ms/step - loss: 2.5026 - inflam_loss: 0.7967 - nephr_loss: 8.5299 - inflam_acc: 0.3500 - nephr_acc: 0.5500\n",
            "Epoch 174/1000\n",
            "1/1 [==============================] - 0s 6ms/step - loss: 2.4952 - inflam_loss: 0.7933 - nephr_loss: 8.5098 - inflam_acc: 0.2500 - nephr_acc: 0.5500\n",
            "Epoch 175/1000\n",
            "1/1 [==============================] - 0s 22ms/step - loss: 2.4880 - inflam_loss: 0.7901 - nephr_loss: 8.4897 - inflam_acc: 0.2500 - nephr_acc: 0.5500\n",
            "Epoch 176/1000\n",
            "1/1 [==============================] - 0s 12ms/step - loss: 2.4810 - inflam_loss: 0.7871 - nephr_loss: 8.4696 - inflam_acc: 0.2500 - nephr_acc: 0.5500\n",
            "Epoch 177/1000\n",
            "1/1 [==============================] - 0s 14ms/step - loss: 2.4741 - inflam_loss: 0.7842 - nephr_loss: 8.4495 - inflam_acc: 0.2500 - nephr_acc: 0.5500\n",
            "Epoch 178/1000\n",
            "1/1 [==============================] - 0s 11ms/step - loss: 2.4675 - inflam_loss: 0.7816 - nephr_loss: 8.4293 - inflam_acc: 0.2500 - nephr_acc: 0.5500\n",
            "Epoch 179/1000\n",
            "1/1 [==============================] - 0s 10ms/step - loss: 2.4610 - inflam_loss: 0.7791 - nephr_loss: 8.4092 - inflam_acc: 0.2500 - nephr_acc: 0.5500\n",
            "Epoch 180/1000\n",
            "1/1 [==============================] - 0s 5ms/step - loss: 2.4546 - inflam_loss: 0.7768 - nephr_loss: 8.3891 - inflam_acc: 0.2500 - nephr_acc: 0.5500\n",
            "Epoch 181/1000\n",
            "1/1 [==============================] - 0s 5ms/step - loss: 2.4484 - inflam_loss: 0.7746 - nephr_loss: 8.3690 - inflam_acc: 0.2500 - nephr_acc: 0.5500\n",
            "Epoch 182/1000\n",
            "1/1 [==============================] - 0s 6ms/step - loss: 2.4424 - inflam_loss: 0.7726 - nephr_loss: 8.3489 - inflam_acc: 0.2500 - nephr_acc: 0.5500\n",
            "Epoch 183/1000\n",
            "1/1 [==============================] - 0s 11ms/step - loss: 2.4365 - inflam_loss: 0.7707 - nephr_loss: 8.3288 - inflam_acc: 0.2500 - nephr_acc: 0.5500\n",
            "Epoch 184/1000\n",
            "1/1 [==============================] - 0s 7ms/step - loss: 2.4307 - inflam_loss: 0.7690 - nephr_loss: 8.3087 - inflam_acc: 0.2500 - nephr_acc: 0.5500\n",
            "Epoch 185/1000\n",
            "1/1 [==============================] - 0s 6ms/step - loss: 2.4251 - inflam_loss: 0.7674 - nephr_loss: 8.2886 - inflam_acc: 0.2500 - nephr_acc: 0.5500\n",
            "Epoch 186/1000\n",
            "1/1 [==============================] - 0s 12ms/step - loss: 2.4196 - inflam_loss: 0.7659 - nephr_loss: 8.2684 - inflam_acc: 0.2500 - nephr_acc: 0.5500\n",
            "Epoch 187/1000\n",
            "1/1 [==============================] - 0s 6ms/step - loss: 2.4142 - inflam_loss: 0.7645 - nephr_loss: 8.2483 - inflam_acc: 0.2500 - nephr_acc: 0.5500\n",
            "Epoch 188/1000\n",
            "1/1 [==============================] - 0s 12ms/step - loss: 2.4089 - inflam_loss: 0.7632 - nephr_loss: 8.2282 - inflam_acc: 0.2500 - nephr_acc: 0.5500\n",
            "Epoch 189/1000\n",
            "1/1 [==============================] - 0s 6ms/step - loss: 2.4037 - inflam_loss: 0.7620 - nephr_loss: 8.2081 - inflam_acc: 0.2500 - nephr_acc: 0.5500\n",
            "Epoch 190/1000\n",
            "1/1 [==============================] - 0s 7ms/step - loss: 2.3985 - inflam_loss: 0.7609 - nephr_loss: 8.1880 - inflam_acc: 0.4375 - nephr_acc: 0.5500\n",
            "Epoch 191/1000\n",
            "1/1 [==============================] - 0s 6ms/step - loss: 2.3935 - inflam_loss: 0.7599 - nephr_loss: 8.1679 - inflam_acc: 0.5000 - nephr_acc: 0.5500\n",
            "Epoch 192/1000\n",
            "1/1 [==============================] - 0s 17ms/step - loss: 2.3885 - inflam_loss: 0.7590 - nephr_loss: 8.1478 - inflam_acc: 0.5000 - nephr_acc: 0.5500\n",
            "Epoch 193/1000\n",
            "1/1 [==============================] - 0s 7ms/step - loss: 2.3836 - inflam_loss: 0.7581 - nephr_loss: 8.1277 - inflam_acc: 0.5000 - nephr_acc: 0.5500\n",
            "Epoch 194/1000\n",
            "1/1 [==============================] - 0s 7ms/step - loss: 2.3787 - inflam_loss: 0.7572 - nephr_loss: 8.1075 - inflam_acc: 0.5000 - nephr_acc: 0.5500\n",
            "Epoch 195/1000\n",
            "1/1 [==============================] - 0s 8ms/step - loss: 2.3739 - inflam_loss: 0.7564 - nephr_loss: 8.0874 - inflam_acc: 0.4875 - nephr_acc: 0.5500\n",
            "Epoch 196/1000\n",
            "1/1 [==============================] - 0s 8ms/step - loss: 2.3692 - inflam_loss: 0.7557 - nephr_loss: 8.0673 - inflam_acc: 0.5125 - nephr_acc: 0.5500\n",
            "Epoch 197/1000\n",
            "1/1 [==============================] - 0s 5ms/step - loss: 2.3645 - inflam_loss: 0.7550 - nephr_loss: 8.0472 - inflam_acc: 0.5125 - nephr_acc: 0.5500\n",
            "Epoch 198/1000\n",
            "1/1 [==============================] - 0s 6ms/step - loss: 2.3598 - inflam_loss: 0.7543 - nephr_loss: 8.0271 - inflam_acc: 0.5125 - nephr_acc: 0.5500\n",
            "Epoch 199/1000\n",
            "1/1 [==============================] - 0s 8ms/step - loss: 2.3551 - inflam_loss: 0.7537 - nephr_loss: 8.0070 - inflam_acc: 0.5125 - nephr_acc: 0.5500\n",
            "Epoch 200/1000\n",
            "1/1 [==============================] - 0s 7ms/step - loss: 2.3505 - inflam_loss: 0.7531 - nephr_loss: 7.9869 - inflam_acc: 0.5125 - nephr_acc: 0.5500\n",
            "Epoch 201/1000\n",
            "1/1 [==============================] - 0s 4ms/step - loss: 2.3458 - inflam_loss: 0.7525 - nephr_loss: 7.9668 - inflam_acc: 0.5125 - nephr_acc: 0.5500\n",
            "Epoch 202/1000\n",
            "1/1 [==============================] - 0s 6ms/step - loss: 2.3412 - inflam_loss: 0.7519 - nephr_loss: 7.9466 - inflam_acc: 0.5125 - nephr_acc: 0.5500\n",
            "Epoch 203/1000\n",
            "1/1 [==============================] - 0s 6ms/step - loss: 2.3366 - inflam_loss: 0.7513 - nephr_loss: 7.9265 - inflam_acc: 0.5125 - nephr_acc: 0.5500\n",
            "Epoch 204/1000\n",
            "1/1 [==============================] - 0s 17ms/step - loss: 2.3320 - inflam_loss: 0.7508 - nephr_loss: 7.9064 - inflam_acc: 0.5125 - nephr_acc: 0.5500\n",
            "Epoch 205/1000\n",
            "1/1 [==============================] - 0s 24ms/step - loss: 2.3275 - inflam_loss: 0.7502 - nephr_loss: 7.8863 - inflam_acc: 0.5125 - nephr_acc: 0.5500\n",
            "Epoch 206/1000\n",
            "1/1 [==============================] - 0s 8ms/step - loss: 2.3229 - inflam_loss: 0.7496 - nephr_loss: 7.8662 - inflam_acc: 0.5125 - nephr_acc: 0.5500\n",
            "Epoch 207/1000\n",
            "1/1 [==============================] - 0s 14ms/step - loss: 2.3183 - inflam_loss: 0.7491 - nephr_loss: 7.8461 - inflam_acc: 0.5125 - nephr_acc: 0.5500\n",
            "Epoch 208/1000\n",
            "1/1 [==============================] - 0s 12ms/step - loss: 2.3138 - inflam_loss: 0.7486 - nephr_loss: 7.8260 - inflam_acc: 0.5125 - nephr_acc: 0.5500\n",
            "Epoch 209/1000\n",
            "1/1 [==============================] - 0s 5ms/step - loss: 2.3092 - inflam_loss: 0.7480 - nephr_loss: 7.8059 - inflam_acc: 0.5125 - nephr_acc: 0.5500\n",
            "Epoch 210/1000\n",
            "1/1 [==============================] - 0s 19ms/step - loss: 2.3046 - inflam_loss: 0.7475 - nephr_loss: 7.7857 - inflam_acc: 0.5125 - nephr_acc: 0.5500\n",
            "Epoch 211/1000\n",
            "1/1 [==============================] - 0s 6ms/step - loss: 2.3001 - inflam_loss: 0.7469 - nephr_loss: 7.7656 - inflam_acc: 0.5125 - nephr_acc: 0.5500\n",
            "Epoch 212/1000\n",
            "1/1 [==============================] - 0s 5ms/step - loss: 2.2955 - inflam_loss: 0.7464 - nephr_loss: 7.7455 - inflam_acc: 0.5125 - nephr_acc: 0.5500\n",
            "Epoch 213/1000\n",
            "1/1 [==============================] - 0s 6ms/step - loss: 2.2910 - inflam_loss: 0.7459 - nephr_loss: 7.7254 - inflam_acc: 0.5125 - nephr_acc: 0.5500\n",
            "Epoch 214/1000\n",
            "1/1 [==============================] - 0s 6ms/step - loss: 2.2864 - inflam_loss: 0.7454 - nephr_loss: 7.7053 - inflam_acc: 0.5125 - nephr_acc: 0.5500\n",
            "Epoch 215/1000\n",
            "1/1 [==============================] - 0s 8ms/step - loss: 2.2819 - inflam_loss: 0.7448 - nephr_loss: 7.6852 - inflam_acc: 0.5125 - nephr_acc: 0.5500\n",
            "Epoch 216/1000\n",
            "1/1 [==============================] - 0s 5ms/step - loss: 2.2773 - inflam_loss: 0.7443 - nephr_loss: 7.6651 - inflam_acc: 0.5125 - nephr_acc: 0.5500\n",
            "Epoch 217/1000\n",
            "1/1 [==============================] - 0s 6ms/step - loss: 2.2728 - inflam_loss: 0.7438 - nephr_loss: 7.6450 - inflam_acc: 0.5125 - nephr_acc: 0.5500\n",
            "Epoch 218/1000\n",
            "1/1 [==============================] - 0s 7ms/step - loss: 2.2682 - inflam_loss: 0.7432 - nephr_loss: 7.6248 - inflam_acc: 0.5125 - nephr_acc: 0.5500\n",
            "Epoch 219/1000\n",
            "1/1 [==============================] - 0s 10ms/step - loss: 2.2637 - inflam_loss: 0.7427 - nephr_loss: 7.6047 - inflam_acc: 0.5125 - nephr_acc: 0.5500\n",
            "Epoch 220/1000\n",
            "1/1 [==============================] - 0s 6ms/step - loss: 2.2591 - inflam_loss: 0.7422 - nephr_loss: 7.5846 - inflam_acc: 0.5125 - nephr_acc: 0.5500\n",
            "Epoch 221/1000\n",
            "1/1 [==============================] - 0s 5ms/step - loss: 2.2546 - inflam_loss: 0.7417 - nephr_loss: 7.5645 - inflam_acc: 0.5125 - nephr_acc: 0.5500\n",
            "Epoch 222/1000\n",
            "1/1 [==============================] - 0s 9ms/step - loss: 2.2500 - inflam_loss: 0.7411 - nephr_loss: 7.5444 - inflam_acc: 0.5125 - nephr_acc: 0.5500\n",
            "Epoch 223/1000\n",
            "1/1 [==============================] - 0s 5ms/step - loss: 2.2455 - inflam_loss: 0.7406 - nephr_loss: 7.5243 - inflam_acc: 0.5125 - nephr_acc: 0.5500\n",
            "Epoch 224/1000\n",
            "1/1 [==============================] - 0s 8ms/step - loss: 2.2409 - inflam_loss: 0.7401 - nephr_loss: 7.5042 - inflam_acc: 0.5125 - nephr_acc: 0.5500\n",
            "Epoch 225/1000\n",
            "1/1 [==============================] - 0s 23ms/step - loss: 2.2364 - inflam_loss: 0.7396 - nephr_loss: 7.4841 - inflam_acc: 0.5125 - nephr_acc: 0.5500\n",
            "Epoch 226/1000\n",
            "1/1 [==============================] - 0s 12ms/step - loss: 2.2318 - inflam_loss: 0.7391 - nephr_loss: 7.4640 - inflam_acc: 0.5125 - nephr_acc: 0.5500\n",
            "Epoch 227/1000\n",
            "1/1 [==============================] - 0s 18ms/step - loss: 2.2273 - inflam_loss: 0.7385 - nephr_loss: 7.4438 - inflam_acc: 0.5125 - nephr_acc: 0.5500\n",
            "Epoch 228/1000\n",
            "1/1 [==============================] - 0s 12ms/step - loss: 2.2228 - inflam_loss: 0.7380 - nephr_loss: 7.4237 - inflam_acc: 0.5125 - nephr_acc: 0.5500\n",
            "Epoch 229/1000\n",
            "1/1 [==============================] - 0s 12ms/step - loss: 2.2182 - inflam_loss: 0.7375 - nephr_loss: 7.4036 - inflam_acc: 0.5125 - nephr_acc: 0.5500\n",
            "Epoch 230/1000\n",
            "1/1 [==============================] - 0s 6ms/step - loss: 2.2137 - inflam_loss: 0.7370 - nephr_loss: 7.3835 - inflam_acc: 0.5125 - nephr_acc: 0.5500\n",
            "Epoch 231/1000\n",
            "1/1 [==============================] - 0s 5ms/step - loss: 2.2091 - inflam_loss: 0.7365 - nephr_loss: 7.3634 - inflam_acc: 0.5125 - nephr_acc: 0.5500\n",
            "Epoch 232/1000\n",
            "1/1 [==============================] - 0s 7ms/step - loss: 2.2046 - inflam_loss: 0.7359 - nephr_loss: 7.3433 - inflam_acc: 0.5125 - nephr_acc: 0.5500\n",
            "Epoch 233/1000\n",
            "1/1 [==============================] - 0s 5ms/step - loss: 2.2000 - inflam_loss: 0.7354 - nephr_loss: 7.3232 - inflam_acc: 0.5125 - nephr_acc: 0.5500\n",
            "Epoch 234/1000\n",
            "1/1 [==============================] - 0s 6ms/step - loss: 2.1955 - inflam_loss: 0.7349 - nephr_loss: 7.3031 - inflam_acc: 0.5125 - nephr_acc: 0.5500\n",
            "Epoch 235/1000\n",
            "1/1 [==============================] - 0s 7ms/step - loss: 2.1910 - inflam_loss: 0.7344 - nephr_loss: 7.2829 - inflam_acc: 0.5125 - nephr_acc: 0.5500\n",
            "Epoch 236/1000\n",
            "1/1 [==============================] - 0s 6ms/step - loss: 2.1864 - inflam_loss: 0.7339 - nephr_loss: 7.2628 - inflam_acc: 0.5125 - nephr_acc: 0.5500\n",
            "Epoch 237/1000\n",
            "1/1 [==============================] - 0s 10ms/step - loss: 2.1819 - inflam_loss: 0.7333 - nephr_loss: 7.2427 - inflam_acc: 0.5125 - nephr_acc: 0.5500\n",
            "Epoch 238/1000\n",
            "1/1 [==============================] - 0s 4ms/step - loss: 2.1773 - inflam_loss: 0.7328 - nephr_loss: 7.2226 - inflam_acc: 0.5125 - nephr_acc: 0.5500\n",
            "Epoch 239/1000\n",
            "1/1 [==============================] - 0s 4ms/step - loss: 2.1728 - inflam_loss: 0.7323 - nephr_loss: 7.2025 - inflam_acc: 0.5125 - nephr_acc: 0.5500\n",
            "Epoch 240/1000\n",
            "1/1 [==============================] - 0s 6ms/step - loss: 2.1683 - inflam_loss: 0.7318 - nephr_loss: 7.1824 - inflam_acc: 0.5125 - nephr_acc: 0.5500\n",
            "Epoch 241/1000\n",
            "1/1 [==============================] - 0s 7ms/step - loss: 2.1637 - inflam_loss: 0.7313 - nephr_loss: 7.1623 - inflam_acc: 0.5125 - nephr_acc: 0.5500\n",
            "Epoch 242/1000\n",
            "1/1 [==============================] - 0s 11ms/step - loss: 2.1592 - inflam_loss: 0.7308 - nephr_loss: 7.1422 - inflam_acc: 0.5125 - nephr_acc: 0.5500\n",
            "Epoch 243/1000\n",
            "1/1 [==============================] - 0s 4ms/step - loss: 2.1546 - inflam_loss: 0.7302 - nephr_loss: 7.1220 - inflam_acc: 0.5125 - nephr_acc: 0.5500\n",
            "Epoch 244/1000\n",
            "1/1 [==============================] - 0s 4ms/step - loss: 2.1501 - inflam_loss: 0.7297 - nephr_loss: 7.1019 - inflam_acc: 0.5125 - nephr_acc: 0.5500\n",
            "Epoch 245/1000\n",
            "1/1 [==============================] - 0s 9ms/step - loss: 2.1456 - inflam_loss: 0.7292 - nephr_loss: 7.0818 - inflam_acc: 0.5125 - nephr_acc: 0.5500\n",
            "Epoch 246/1000\n",
            "1/1 [==============================] - 0s 10ms/step - loss: 2.1410 - inflam_loss: 0.7287 - nephr_loss: 7.0617 - inflam_acc: 0.5125 - nephr_acc: 0.5500\n",
            "Epoch 247/1000\n",
            "1/1 [==============================] - 0s 16ms/step - loss: 2.1365 - inflam_loss: 0.7282 - nephr_loss: 7.0416 - inflam_acc: 0.5125 - nephr_acc: 0.5500\n",
            "Epoch 248/1000\n",
            "1/1 [==============================] - 0s 13ms/step - loss: 2.1320 - inflam_loss: 0.7277 - nephr_loss: 7.0215 - inflam_acc: 0.5125 - nephr_acc: 0.5500\n",
            "Epoch 249/1000\n",
            "1/1 [==============================] - 0s 6ms/step - loss: 2.1274 - inflam_loss: 0.7271 - nephr_loss: 7.0014 - inflam_acc: 0.5125 - nephr_acc: 0.5500\n",
            "Epoch 250/1000\n",
            "1/1 [==============================] - 0s 6ms/step - loss: 2.1229 - inflam_loss: 0.7266 - nephr_loss: 6.9813 - inflam_acc: 0.5125 - nephr_acc: 0.5500\n",
            "Epoch 251/1000\n",
            "1/1 [==============================] - 0s 6ms/step - loss: 2.1183 - inflam_loss: 0.7261 - nephr_loss: 6.9611 - inflam_acc: 0.5125 - nephr_acc: 0.5500\n",
            "Epoch 252/1000\n",
            "1/1 [==============================] - 0s 5ms/step - loss: 2.1138 - inflam_loss: 0.7256 - nephr_loss: 6.9410 - inflam_acc: 0.5125 - nephr_acc: 0.5500\n",
            "Epoch 253/1000\n",
            "1/1 [==============================] - 0s 7ms/step - loss: 2.1093 - inflam_loss: 0.7251 - nephr_loss: 6.9209 - inflam_acc: 0.5125 - nephr_acc: 0.5500\n",
            "Epoch 254/1000\n",
            "1/1 [==============================] - 0s 9ms/step - loss: 2.1047 - inflam_loss: 0.7246 - nephr_loss: 6.9008 - inflam_acc: 0.5125 - nephr_acc: 0.5500\n",
            "Epoch 255/1000\n",
            "1/1 [==============================] - 0s 5ms/step - loss: 2.1002 - inflam_loss: 0.7241 - nephr_loss: 6.8807 - inflam_acc: 0.5125 - nephr_acc: 0.5500\n",
            "Epoch 256/1000\n",
            "1/1 [==============================] - 0s 7ms/step - loss: 2.0957 - inflam_loss: 0.7236 - nephr_loss: 6.8606 - inflam_acc: 0.5125 - nephr_acc: 0.5500\n",
            "Epoch 257/1000\n",
            "1/1 [==============================] - 0s 14ms/step - loss: 2.0911 - inflam_loss: 0.7230 - nephr_loss: 6.8405 - inflam_acc: 0.5125 - nephr_acc: 0.5500\n",
            "Epoch 258/1000\n",
            "1/1 [==============================] - 0s 7ms/step - loss: 2.0866 - inflam_loss: 0.7225 - nephr_loss: 6.8204 - inflam_acc: 0.5125 - nephr_acc: 0.5500\n",
            "Epoch 259/1000\n",
            "1/1 [==============================] - 0s 6ms/step - loss: 2.0821 - inflam_loss: 0.7220 - nephr_loss: 6.8002 - inflam_acc: 0.5125 - nephr_acc: 0.5500\n",
            "Epoch 260/1000\n",
            "1/1 [==============================] - 0s 8ms/step - loss: 2.0775 - inflam_loss: 0.7215 - nephr_loss: 6.7801 - inflam_acc: 0.5125 - nephr_acc: 0.5500\n",
            "Epoch 261/1000\n",
            "1/1 [==============================] - 0s 9ms/step - loss: 2.0730 - inflam_loss: 0.7210 - nephr_loss: 6.7600 - inflam_acc: 0.5125 - nephr_acc: 0.5500\n",
            "Epoch 262/1000\n",
            "1/1 [==============================] - 0s 7ms/step - loss: 2.0685 - inflam_loss: 0.7205 - nephr_loss: 6.7399 - inflam_acc: 0.5125 - nephr_acc: 0.5500\n",
            "Epoch 263/1000\n",
            "1/1 [==============================] - 0s 7ms/step - loss: 2.0639 - inflam_loss: 0.7200 - nephr_loss: 6.7198 - inflam_acc: 0.5125 - nephr_acc: 0.5500\n",
            "Epoch 264/1000\n",
            "1/1 [==============================] - 0s 8ms/step - loss: 2.0594 - inflam_loss: 0.7195 - nephr_loss: 6.6997 - inflam_acc: 0.5125 - nephr_acc: 0.5500\n",
            "Epoch 265/1000\n",
            "1/1 [==============================] - 0s 9ms/step - loss: 2.0550 - inflam_loss: 0.7191 - nephr_loss: 6.6796 - inflam_acc: 0.5125 - nephr_acc: 0.5500\n",
            "Epoch 266/1000\n",
            "1/1 [==============================] - 0s 9ms/step - loss: 2.0508 - inflam_loss: 0.7189 - nephr_loss: 6.6595 - inflam_acc: 0.4125 - nephr_acc: 0.5500\n",
            "Epoch 267/1000\n",
            "1/1 [==============================] - 0s 6ms/step - loss: 2.0461 - inflam_loss: 0.7182 - nephr_loss: 6.6393 - inflam_acc: 0.5125 - nephr_acc: 0.5500\n",
            "Epoch 268/1000\n",
            "1/1 [==============================] - 0s 9ms/step - loss: 2.0414 - inflam_loss: 0.7175 - nephr_loss: 6.6192 - inflam_acc: 0.5125 - nephr_acc: 0.5500\n",
            "Epoch 269/1000\n",
            "1/1 [==============================] - 0s 10ms/step - loss: 2.0368 - inflam_loss: 0.7170 - nephr_loss: 6.5991 - inflam_acc: 0.5125 - nephr_acc: 0.5500\n",
            "Epoch 270/1000\n",
            "1/1 [==============================] - 0s 6ms/step - loss: 2.0322 - inflam_loss: 0.7164 - nephr_loss: 6.5790 - inflam_acc: 0.5125 - nephr_acc: 0.5500\n",
            "Epoch 271/1000\n",
            "1/1 [==============================] - 0s 5ms/step - loss: 2.0277 - inflam_loss: 0.7159 - nephr_loss: 6.5589 - inflam_acc: 0.5125 - nephr_acc: 0.5500\n",
            "Epoch 272/1000\n",
            "1/1 [==============================] - 0s 14ms/step - loss: 2.0232 - inflam_loss: 0.7154 - nephr_loss: 6.5388 - inflam_acc: 0.5125 - nephr_acc: 0.5500\n",
            "Epoch 273/1000\n",
            "1/1 [==============================] - 0s 8ms/step - loss: 2.0187 - inflam_loss: 0.7149 - nephr_loss: 6.5187 - inflam_acc: 0.5125 - nephr_acc: 0.5500\n",
            "Epoch 274/1000\n",
            "1/1 [==============================] - 0s 8ms/step - loss: 2.0141 - inflam_loss: 0.7144 - nephr_loss: 6.4986 - inflam_acc: 0.5125 - nephr_acc: 0.5500\n",
            "Epoch 275/1000\n",
            "1/1 [==============================] - 0s 4ms/step - loss: 2.0096 - inflam_loss: 0.7139 - nephr_loss: 6.4785 - inflam_acc: 0.5125 - nephr_acc: 0.5500\n",
            "Epoch 276/1000\n",
            "1/1 [==============================] - 0s 4ms/step - loss: 2.0051 - inflam_loss: 0.7134 - nephr_loss: 6.4583 - inflam_acc: 0.5125 - nephr_acc: 0.5500\n",
            "Epoch 277/1000\n",
            "1/1 [==============================] - 0s 7ms/step - loss: 2.0005 - inflam_loss: 0.7129 - nephr_loss: 6.4382 - inflam_acc: 0.5125 - nephr_acc: 0.5500\n",
            "Epoch 278/1000\n",
            "1/1 [==============================] - 0s 8ms/step - loss: 1.9960 - inflam_loss: 0.7124 - nephr_loss: 6.4181 - inflam_acc: 0.5125 - nephr_acc: 0.5500\n",
            "Epoch 279/1000\n",
            "1/1 [==============================] - 0s 5ms/step - loss: 1.9915 - inflam_loss: 0.7119 - nephr_loss: 6.3980 - inflam_acc: 0.5125 - nephr_acc: 0.5500\n",
            "Epoch 280/1000\n",
            "1/1 [==============================] - 0s 8ms/step - loss: 1.9870 - inflam_loss: 0.7114 - nephr_loss: 6.3779 - inflam_acc: 0.5125 - nephr_acc: 0.5500\n",
            "Epoch 281/1000\n",
            "1/1 [==============================] - 0s 8ms/step - loss: 1.9825 - inflam_loss: 0.7109 - nephr_loss: 6.3578 - inflam_acc: 0.5125 - nephr_acc: 0.5500\n",
            "Epoch 282/1000\n",
            "1/1 [==============================] - 0s 18ms/step - loss: 1.9780 - inflam_loss: 0.7105 - nephr_loss: 6.3377 - inflam_acc: 0.5125 - nephr_acc: 0.5500\n",
            "Epoch 283/1000\n",
            "1/1 [==============================] - 0s 18ms/step - loss: 1.9736 - inflam_loss: 0.7101 - nephr_loss: 6.3176 - inflam_acc: 0.5125 - nephr_acc: 0.5500\n",
            "Epoch 284/1000\n",
            "1/1 [==============================] - 0s 11ms/step - loss: 1.9690 - inflam_loss: 0.7095 - nephr_loss: 6.2974 - inflam_acc: 0.5125 - nephr_acc: 0.5500\n",
            "Epoch 285/1000\n",
            "1/1 [==============================] - 0s 8ms/step - loss: 1.9644 - inflam_loss: 0.7090 - nephr_loss: 6.2773 - inflam_acc: 0.5125 - nephr_acc: 0.5500\n",
            "Epoch 286/1000\n",
            "1/1 [==============================] - 0s 8ms/step - loss: 1.9599 - inflam_loss: 0.7084 - nephr_loss: 6.2572 - inflam_acc: 0.5125 - nephr_acc: 0.5500\n",
            "Epoch 287/1000\n",
            "1/1 [==============================] - 0s 10ms/step - loss: 1.9553 - inflam_loss: 0.7079 - nephr_loss: 6.2371 - inflam_acc: 0.5125 - nephr_acc: 0.5500\n",
            "Epoch 288/1000\n",
            "1/1 [==============================] - 0s 7ms/step - loss: 1.9508 - inflam_loss: 0.7074 - nephr_loss: 6.2170 - inflam_acc: 0.5125 - nephr_acc: 0.5500\n",
            "Epoch 289/1000\n",
            "1/1 [==============================] - 0s 13ms/step - loss: 1.9463 - inflam_loss: 0.7069 - nephr_loss: 6.1969 - inflam_acc: 0.5125 - nephr_acc: 0.5500\n",
            "Epoch 290/1000\n",
            "1/1 [==============================] - 0s 7ms/step - loss: 1.9418 - inflam_loss: 0.7064 - nephr_loss: 6.1768 - inflam_acc: 0.5125 - nephr_acc: 0.5500\n",
            "Epoch 291/1000\n",
            "1/1 [==============================] - 0s 13ms/step - loss: 1.9372 - inflam_loss: 0.7059 - nephr_loss: 6.1567 - inflam_acc: 0.5125 - nephr_acc: 0.5500\n",
            "Epoch 292/1000\n",
            "1/1 [==============================] - 0s 11ms/step - loss: 1.9327 - inflam_loss: 0.7054 - nephr_loss: 6.1365 - inflam_acc: 0.5125 - nephr_acc: 0.5500\n",
            "Epoch 293/1000\n",
            "1/1 [==============================] - 0s 10ms/step - loss: 1.9282 - inflam_loss: 0.7049 - nephr_loss: 6.1164 - inflam_acc: 0.5125 - nephr_acc: 0.5500\n",
            "Epoch 294/1000\n",
            "1/1 [==============================] - 0s 12ms/step - loss: 1.9237 - inflam_loss: 0.7044 - nephr_loss: 6.0963 - inflam_acc: 0.5125 - nephr_acc: 0.5500\n",
            "Epoch 295/1000\n",
            "1/1 [==============================] - 0s 13ms/step - loss: 1.9192 - inflam_loss: 0.7040 - nephr_loss: 6.0762 - inflam_acc: 0.5125 - nephr_acc: 0.5500\n",
            "Epoch 296/1000\n",
            "1/1 [==============================] - 0s 5ms/step - loss: 1.9147 - inflam_loss: 0.7035 - nephr_loss: 6.0561 - inflam_acc: 0.5125 - nephr_acc: 0.5500\n",
            "Epoch 297/1000\n",
            "1/1 [==============================] - 0s 19ms/step - loss: 1.9102 - inflam_loss: 0.7030 - nephr_loss: 6.0360 - inflam_acc: 0.5125 - nephr_acc: 0.5500\n",
            "Epoch 298/1000\n",
            "1/1 [==============================] - 0s 11ms/step - loss: 1.9057 - inflam_loss: 0.7025 - nephr_loss: 6.0159 - inflam_acc: 0.5125 - nephr_acc: 0.5500\n",
            "Epoch 299/1000\n",
            "1/1 [==============================] - 0s 11ms/step - loss: 1.9012 - inflam_loss: 0.7020 - nephr_loss: 5.9958 - inflam_acc: 0.5125 - nephr_acc: 0.5500\n",
            "Epoch 300/1000\n",
            "1/1 [==============================] - 0s 6ms/step - loss: 1.8966 - inflam_loss: 0.7015 - nephr_loss: 5.9756 - inflam_acc: 0.5125 - nephr_acc: 0.5500\n",
            "Epoch 301/1000\n",
            "1/1 [==============================] - 0s 10ms/step - loss: 1.8921 - inflam_loss: 0.7010 - nephr_loss: 5.9555 - inflam_acc: 0.5125 - nephr_acc: 0.5500\n",
            "Epoch 302/1000\n",
            "1/1 [==============================] - 0s 10ms/step - loss: 1.8876 - inflam_loss: 0.7005 - nephr_loss: 5.9354 - inflam_acc: 0.5125 - nephr_acc: 0.5500\n",
            "Epoch 303/1000\n",
            "1/1 [==============================] - 0s 9ms/step - loss: 1.8830 - inflam_loss: 0.7000 - nephr_loss: 5.9153 - inflam_acc: 0.5125 - nephr_acc: 0.5500\n",
            "Epoch 304/1000\n",
            "1/1 [==============================] - 0s 10ms/step - loss: 1.8785 - inflam_loss: 0.6995 - nephr_loss: 5.8952 - inflam_acc: 0.5125 - nephr_acc: 0.5500\n",
            "Epoch 305/1000\n",
            "1/1 [==============================] - 0s 10ms/step - loss: 1.8740 - inflam_loss: 0.6990 - nephr_loss: 5.8751 - inflam_acc: 0.5125 - nephr_acc: 0.5500\n",
            "Epoch 306/1000\n",
            "1/1 [==============================] - 0s 10ms/step - loss: 1.8695 - inflam_loss: 0.6985 - nephr_loss: 5.8550 - inflam_acc: 0.5125 - nephr_acc: 0.5500\n",
            "Epoch 307/1000\n",
            "1/1 [==============================] - 0s 8ms/step - loss: 1.8650 - inflam_loss: 0.6980 - nephr_loss: 5.8349 - inflam_acc: 0.5125 - nephr_acc: 0.5500\n",
            "Epoch 308/1000\n",
            "1/1 [==============================] - 0s 11ms/step - loss: 1.8605 - inflam_loss: 0.6975 - nephr_loss: 5.8148 - inflam_acc: 0.5125 - nephr_acc: 0.5500\n",
            "Epoch 309/1000\n",
            "1/1 [==============================] - 0s 19ms/step - loss: 1.8560 - inflam_loss: 0.6970 - nephr_loss: 5.7946 - inflam_acc: 0.5125 - nephr_acc: 0.5500\n",
            "Epoch 310/1000\n",
            "1/1 [==============================] - 0s 13ms/step - loss: 1.8515 - inflam_loss: 0.6966 - nephr_loss: 5.7745 - inflam_acc: 0.5125 - nephr_acc: 0.5500\n",
            "Epoch 311/1000\n",
            "1/1 [==============================] - 0s 15ms/step - loss: 1.8470 - inflam_loss: 0.6961 - nephr_loss: 5.7544 - inflam_acc: 0.5125 - nephr_acc: 0.5500\n",
            "Epoch 312/1000\n",
            "1/1 [==============================] - 0s 10ms/step - loss: 1.8424 - inflam_loss: 0.6956 - nephr_loss: 5.7343 - inflam_acc: 0.5125 - nephr_acc: 0.5500\n",
            "Epoch 313/1000\n",
            "1/1 [==============================] - 0s 15ms/step - loss: 1.8379 - inflam_loss: 0.6951 - nephr_loss: 5.7142 - inflam_acc: 0.5125 - nephr_acc: 0.5500\n",
            "Epoch 314/1000\n",
            "1/1 [==============================] - 0s 10ms/step - loss: 1.8334 - inflam_loss: 0.6946 - nephr_loss: 5.6941 - inflam_acc: 0.5125 - nephr_acc: 0.5500\n",
            "Epoch 315/1000\n",
            "1/1 [==============================] - 0s 17ms/step - loss: 1.8289 - inflam_loss: 0.6941 - nephr_loss: 5.6740 - inflam_acc: 0.5125 - nephr_acc: 0.5500\n",
            "Epoch 316/1000\n",
            "1/1 [==============================] - 0s 13ms/step - loss: 1.8244 - inflam_loss: 0.6936 - nephr_loss: 5.6539 - inflam_acc: 0.5125 - nephr_acc: 0.5500\n",
            "Epoch 317/1000\n",
            "1/1 [==============================] - 0s 13ms/step - loss: 1.8198 - inflam_loss: 0.6931 - nephr_loss: 5.6337 - inflam_acc: 0.5125 - nephr_acc: 0.5500\n",
            "Epoch 318/1000\n",
            "1/1 [==============================] - 0s 12ms/step - loss: 1.8153 - inflam_loss: 0.6926 - nephr_loss: 5.6136 - inflam_acc: 0.5125 - nephr_acc: 0.5500\n",
            "Epoch 319/1000\n",
            "1/1 [==============================] - 0s 9ms/step - loss: 1.8108 - inflam_loss: 0.6921 - nephr_loss: 5.5935 - inflam_acc: 0.5125 - nephr_acc: 0.5500\n",
            "Epoch 320/1000\n",
            "1/1 [==============================] - 0s 6ms/step - loss: 1.8063 - inflam_loss: 0.6916 - nephr_loss: 5.5734 - inflam_acc: 0.5125 - nephr_acc: 0.5500\n",
            "Epoch 321/1000\n",
            "1/1 [==============================] - 0s 10ms/step - loss: 1.8018 - inflam_loss: 0.6911 - nephr_loss: 5.5533 - inflam_acc: 0.5125 - nephr_acc: 0.5500\n",
            "Epoch 322/1000\n",
            "1/1 [==============================] - 0s 12ms/step - loss: 1.7973 - inflam_loss: 0.6907 - nephr_loss: 5.5332 - inflam_acc: 0.5125 - nephr_acc: 0.5500\n",
            "Epoch 323/1000\n",
            "1/1 [==============================] - 0s 13ms/step - loss: 1.7928 - inflam_loss: 0.6902 - nephr_loss: 5.5131 - inflam_acc: 0.5125 - nephr_acc: 0.5500\n",
            "Epoch 324/1000\n",
            "1/1 [==============================] - 0s 12ms/step - loss: 1.7883 - inflam_loss: 0.6897 - nephr_loss: 5.4930 - inflam_acc: 0.5125 - nephr_acc: 0.5500\n",
            "Epoch 325/1000\n",
            "1/1 [==============================] - 0s 7ms/step - loss: 1.7838 - inflam_loss: 0.6892 - nephr_loss: 5.4728 - inflam_acc: 0.5125 - nephr_acc: 0.5500\n",
            "Epoch 326/1000\n",
            "1/1 [==============================] - 0s 16ms/step - loss: 1.7793 - inflam_loss: 0.6887 - nephr_loss: 5.4527 - inflam_acc: 0.5125 - nephr_acc: 0.5500\n",
            "Epoch 327/1000\n",
            "1/1 [==============================] - 0s 16ms/step - loss: 1.7748 - inflam_loss: 0.6882 - nephr_loss: 5.4326 - inflam_acc: 0.5125 - nephr_acc: 0.5500\n",
            "Epoch 328/1000\n",
            "1/1 [==============================] - 0s 7ms/step - loss: 1.7702 - inflam_loss: 0.6877 - nephr_loss: 5.4125 - inflam_acc: 0.5125 - nephr_acc: 0.5500\n",
            "Epoch 329/1000\n",
            "1/1 [==============================] - 0s 23ms/step - loss: 1.7657 - inflam_loss: 0.6873 - nephr_loss: 5.3924 - inflam_acc: 0.5125 - nephr_acc: 0.5500\n",
            "Epoch 330/1000\n",
            "1/1 [==============================] - 0s 6ms/step - loss: 1.7612 - inflam_loss: 0.6868 - nephr_loss: 5.3723 - inflam_acc: 0.5125 - nephr_acc: 0.5500\n",
            "Epoch 331/1000\n",
            "1/1 [==============================] - 0s 12ms/step - loss: 1.7567 - inflam_loss: 0.6863 - nephr_loss: 5.3522 - inflam_acc: 0.5125 - nephr_acc: 0.5500\n",
            "Epoch 332/1000\n",
            "1/1 [==============================] - 0s 7ms/step - loss: 1.7522 - inflam_loss: 0.6858 - nephr_loss: 5.3321 - inflam_acc: 0.5125 - nephr_acc: 0.5500\n",
            "Epoch 333/1000\n",
            "1/1 [==============================] - 0s 13ms/step - loss: 1.7477 - inflam_loss: 0.6853 - nephr_loss: 5.3120 - inflam_acc: 0.5125 - nephr_acc: 0.5500\n",
            "Epoch 334/1000\n",
            "1/1 [==============================] - 0s 18ms/step - loss: 1.7432 - inflam_loss: 0.6848 - nephr_loss: 5.2918 - inflam_acc: 0.5125 - nephr_acc: 0.5500\n",
            "Epoch 335/1000\n",
            "1/1 [==============================] - 0s 8ms/step - loss: 1.7387 - inflam_loss: 0.6843 - nephr_loss: 5.2717 - inflam_acc: 0.5125 - nephr_acc: 0.5500\n",
            "Epoch 336/1000\n",
            "1/1 [==============================] - 0s 8ms/step - loss: 1.7342 - inflam_loss: 0.6839 - nephr_loss: 5.2516 - inflam_acc: 0.5125 - nephr_acc: 0.5500\n",
            "Epoch 337/1000\n",
            "1/1 [==============================] - 0s 15ms/step - loss: 1.7297 - inflam_loss: 0.6834 - nephr_loss: 5.2315 - inflam_acc: 0.5125 - nephr_acc: 0.5500\n",
            "Epoch 338/1000\n",
            "1/1 [==============================] - 0s 8ms/step - loss: 1.7252 - inflam_loss: 0.6829 - nephr_loss: 5.2114 - inflam_acc: 0.5125 - nephr_acc: 0.5500\n",
            "Epoch 339/1000\n",
            "1/1 [==============================] - 0s 4ms/step - loss: 1.7207 - inflam_loss: 0.6824 - nephr_loss: 5.1913 - inflam_acc: 0.5125 - nephr_acc: 0.5500\n",
            "Epoch 340/1000\n",
            "1/1 [==============================] - 0s 6ms/step - loss: 1.7162 - inflam_loss: 0.6819 - nephr_loss: 5.1712 - inflam_acc: 0.5125 - nephr_acc: 0.5500\n",
            "Epoch 341/1000\n",
            "1/1 [==============================] - 0s 7ms/step - loss: 1.7117 - inflam_loss: 0.6814 - nephr_loss: 5.1511 - inflam_acc: 0.5125 - nephr_acc: 0.5500\n",
            "Epoch 342/1000\n",
            "1/1 [==============================] - 0s 7ms/step - loss: 1.7072 - inflam_loss: 0.6810 - nephr_loss: 5.1309 - inflam_acc: 0.5125 - nephr_acc: 0.5500\n",
            "Epoch 343/1000\n",
            "1/1 [==============================] - 0s 12ms/step - loss: 1.7026 - inflam_loss: 0.6805 - nephr_loss: 5.1108 - inflam_acc: 0.5125 - nephr_acc: 0.5500\n",
            "Epoch 344/1000\n",
            "1/1 [==============================] - 0s 10ms/step - loss: 1.6981 - inflam_loss: 0.6800 - nephr_loss: 5.0907 - inflam_acc: 0.5125 - nephr_acc: 0.5500\n",
            "Epoch 345/1000\n",
            "1/1 [==============================] - 0s 9ms/step - loss: 1.6936 - inflam_loss: 0.6795 - nephr_loss: 5.0706 - inflam_acc: 0.5125 - nephr_acc: 0.5500\n",
            "Epoch 346/1000\n",
            "1/1 [==============================] - 0s 8ms/step - loss: 1.6891 - inflam_loss: 0.6790 - nephr_loss: 5.0505 - inflam_acc: 0.5125 - nephr_acc: 0.5500\n",
            "Epoch 347/1000\n",
            "1/1 [==============================] - 0s 6ms/step - loss: 1.6846 - inflam_loss: 0.6786 - nephr_loss: 5.0304 - inflam_acc: 0.5125 - nephr_acc: 0.5500\n",
            "Epoch 348/1000\n",
            "1/1 [==============================] - 0s 18ms/step - loss: 1.6801 - inflam_loss: 0.6781 - nephr_loss: 5.0103 - inflam_acc: 0.5125 - nephr_acc: 0.5500\n",
            "Epoch 349/1000\n",
            "1/1 [==============================] - 0s 28ms/step - loss: 1.6756 - inflam_loss: 0.6776 - nephr_loss: 4.9902 - inflam_acc: 0.5125 - nephr_acc: 0.5500\n",
            "Epoch 350/1000\n",
            "1/1 [==============================] - 0s 15ms/step - loss: 1.6711 - inflam_loss: 0.6771 - nephr_loss: 4.9701 - inflam_acc: 0.5125 - nephr_acc: 0.5500\n",
            "Epoch 351/1000\n",
            "1/1 [==============================] - 0s 12ms/step - loss: 1.6666 - inflam_loss: 0.6766 - nephr_loss: 4.9499 - inflam_acc: 0.5125 - nephr_acc: 0.5500\n",
            "Epoch 352/1000\n",
            "1/1 [==============================] - 0s 4ms/step - loss: 1.6621 - inflam_loss: 0.6762 - nephr_loss: 4.9298 - inflam_acc: 0.5125 - nephr_acc: 0.5500\n",
            "Epoch 353/1000\n",
            "1/1 [==============================] - 0s 6ms/step - loss: 1.6576 - inflam_loss: 0.6757 - nephr_loss: 4.9097 - inflam_acc: 0.5125 - nephr_acc: 0.5500\n",
            "Epoch 354/1000\n",
            "1/1 [==============================] - 0s 9ms/step - loss: 1.6531 - inflam_loss: 0.6752 - nephr_loss: 4.8896 - inflam_acc: 0.5125 - nephr_acc: 0.5500\n",
            "Epoch 355/1000\n",
            "1/1 [==============================] - 0s 9ms/step - loss: 1.6486 - inflam_loss: 0.6747 - nephr_loss: 4.8695 - inflam_acc: 0.5125 - nephr_acc: 0.5500\n",
            "Epoch 356/1000\n",
            "1/1 [==============================] - 0s 9ms/step - loss: 1.6441 - inflam_loss: 0.6742 - nephr_loss: 4.8494 - inflam_acc: 0.5125 - nephr_acc: 0.5500\n",
            "Epoch 357/1000\n",
            "1/1 [==============================] - 0s 19ms/step - loss: 1.6396 - inflam_loss: 0.6738 - nephr_loss: 4.8293 - inflam_acc: 0.5125 - nephr_acc: 0.5500\n",
            "Epoch 358/1000\n",
            "1/1 [==============================] - 0s 5ms/step - loss: 1.6351 - inflam_loss: 0.6733 - nephr_loss: 4.8092 - inflam_acc: 0.5125 - nephr_acc: 0.5500\n",
            "Epoch 359/1000\n",
            "1/1 [==============================] - 0s 11ms/step - loss: 1.6306 - inflam_loss: 0.6728 - nephr_loss: 4.7891 - inflam_acc: 0.5125 - nephr_acc: 0.5500\n",
            "Epoch 360/1000\n",
            "1/1 [==============================] - 0s 13ms/step - loss: 1.6261 - inflam_loss: 0.6723 - nephr_loss: 4.7689 - inflam_acc: 0.5125 - nephr_acc: 0.5500\n",
            "Epoch 361/1000\n",
            "1/1 [==============================] - 0s 4ms/step - loss: 1.6216 - inflam_loss: 0.6719 - nephr_loss: 4.7488 - inflam_acc: 0.5125 - nephr_acc: 0.5500\n",
            "Epoch 362/1000\n",
            "1/1 [==============================] - 0s 4ms/step - loss: 1.6171 - inflam_loss: 0.6714 - nephr_loss: 4.7287 - inflam_acc: 0.5125 - nephr_acc: 0.5500\n",
            "Epoch 363/1000\n",
            "1/1 [==============================] - 0s 13ms/step - loss: 1.6126 - inflam_loss: 0.6709 - nephr_loss: 4.7086 - inflam_acc: 0.5125 - nephr_acc: 0.5500\n",
            "Epoch 364/1000\n",
            "1/1 [==============================] - 0s 6ms/step - loss: 1.6081 - inflam_loss: 0.6704 - nephr_loss: 4.6885 - inflam_acc: 0.5125 - nephr_acc: 0.5500\n",
            "Epoch 365/1000\n",
            "1/1 [==============================] - 0s 12ms/step - loss: 1.6036 - inflam_loss: 0.6700 - nephr_loss: 4.6684 - inflam_acc: 0.5125 - nephr_acc: 0.5500\n",
            "Epoch 366/1000\n",
            "1/1 [==============================] - 0s 7ms/step - loss: 1.5991 - inflam_loss: 0.6695 - nephr_loss: 4.6483 - inflam_acc: 0.5125 - nephr_acc: 0.5500\n",
            "Epoch 367/1000\n",
            "1/1 [==============================] - 0s 20ms/step - loss: 1.5946 - inflam_loss: 0.6690 - nephr_loss: 4.6282 - inflam_acc: 0.5125 - nephr_acc: 0.5500\n",
            "Epoch 368/1000\n",
            "1/1 [==============================] - 0s 5ms/step - loss: 1.5901 - inflam_loss: 0.6685 - nephr_loss: 4.6081 - inflam_acc: 0.5125 - nephr_acc: 0.5500\n",
            "Epoch 369/1000\n",
            "1/1 [==============================] - 0s 19ms/step - loss: 1.5856 - inflam_loss: 0.6681 - nephr_loss: 4.5880 - inflam_acc: 0.5125 - nephr_acc: 0.5500\n",
            "Epoch 370/1000\n",
            "1/1 [==============================] - 0s 4ms/step - loss: 1.5812 - inflam_loss: 0.6676 - nephr_loss: 4.5678 - inflam_acc: 0.5125 - nephr_acc: 0.5500\n",
            "Epoch 371/1000\n",
            "1/1 [==============================] - 0s 5ms/step - loss: 1.5767 - inflam_loss: 0.6671 - nephr_loss: 4.5477 - inflam_acc: 0.5125 - nephr_acc: 0.5500\n",
            "Epoch 372/1000\n",
            "1/1 [==============================] - 0s 17ms/step - loss: 1.5722 - inflam_loss: 0.6666 - nephr_loss: 4.5276 - inflam_acc: 0.5125 - nephr_acc: 0.5500\n",
            "Epoch 373/1000\n",
            "1/1 [==============================] - 0s 7ms/step - loss: 1.5677 - inflam_loss: 0.6662 - nephr_loss: 4.5075 - inflam_acc: 0.5125 - nephr_acc: 0.5500\n",
            "Epoch 374/1000\n",
            "1/1 [==============================] - 0s 19ms/step - loss: 1.5632 - inflam_loss: 0.6657 - nephr_loss: 4.4874 - inflam_acc: 0.5125 - nephr_acc: 0.5500\n",
            "Epoch 375/1000\n",
            "1/1 [==============================] - 0s 10ms/step - loss: 1.5587 - inflam_loss: 0.6652 - nephr_loss: 4.4673 - inflam_acc: 0.5125 - nephr_acc: 0.5500\n",
            "Epoch 376/1000\n",
            "1/1 [==============================] - 0s 15ms/step - loss: 1.5542 - inflam_loss: 0.6647 - nephr_loss: 4.4472 - inflam_acc: 0.5125 - nephr_acc: 0.5500\n",
            "Epoch 377/1000\n",
            "1/1 [==============================] - 0s 9ms/step - loss: 1.5497 - inflam_loss: 0.6643 - nephr_loss: 4.4271 - inflam_acc: 0.5125 - nephr_acc: 0.5500\n",
            "Epoch 378/1000\n",
            "1/1 [==============================] - 0s 11ms/step - loss: 1.5452 - inflam_loss: 0.6638 - nephr_loss: 4.4070 - inflam_acc: 0.5125 - nephr_acc: 0.5500\n",
            "Epoch 379/1000\n",
            "1/1 [==============================] - 0s 10ms/step - loss: 1.5407 - inflam_loss: 0.6633 - nephr_loss: 4.3869 - inflam_acc: 0.5125 - nephr_acc: 0.5500\n",
            "Epoch 380/1000\n",
            "1/1 [==============================] - 0s 11ms/step - loss: 1.5362 - inflam_loss: 0.6629 - nephr_loss: 4.3668 - inflam_acc: 0.5125 - nephr_acc: 0.5500\n",
            "Epoch 381/1000\n",
            "1/1 [==============================] - 0s 10ms/step - loss: 1.5317 - inflam_loss: 0.6624 - nephr_loss: 4.3466 - inflam_acc: 0.5125 - nephr_acc: 0.5500\n",
            "Epoch 382/1000\n",
            "1/1 [==============================] - 0s 8ms/step - loss: 1.5272 - inflam_loss: 0.6619 - nephr_loss: 4.3265 - inflam_acc: 0.5125 - nephr_acc: 0.5500\n",
            "Epoch 383/1000\n",
            "1/1 [==============================] - 0s 6ms/step - loss: 1.5227 - inflam_loss: 0.6615 - nephr_loss: 4.3064 - inflam_acc: 0.5125 - nephr_acc: 0.5500\n",
            "Epoch 384/1000\n",
            "1/1 [==============================] - 0s 4ms/step - loss: 1.5182 - inflam_loss: 0.6610 - nephr_loss: 4.2863 - inflam_acc: 0.5125 - nephr_acc: 0.5500\n",
            "Epoch 385/1000\n",
            "1/1 [==============================] - 0s 5ms/step - loss: 1.5138 - inflam_loss: 0.6605 - nephr_loss: 4.2662 - inflam_acc: 0.5125 - nephr_acc: 0.5500\n",
            "Epoch 386/1000\n",
            "1/1 [==============================] - 0s 7ms/step - loss: 1.5093 - inflam_loss: 0.6600 - nephr_loss: 4.2461 - inflam_acc: 0.5125 - nephr_acc: 0.5500\n",
            "Epoch 387/1000\n",
            "1/1 [==============================] - 0s 9ms/step - loss: 1.5048 - inflam_loss: 0.6596 - nephr_loss: 4.2260 - inflam_acc: 0.5125 - nephr_acc: 0.5500\n",
            "Epoch 388/1000\n",
            "1/1 [==============================] - 0s 7ms/step - loss: 1.5003 - inflam_loss: 0.6591 - nephr_loss: 4.2059 - inflam_acc: 0.5125 - nephr_acc: 0.5500\n",
            "Epoch 389/1000\n",
            "1/1 [==============================] - 0s 7ms/step - loss: 1.4958 - inflam_loss: 0.6586 - nephr_loss: 4.1858 - inflam_acc: 0.5125 - nephr_acc: 0.5500\n",
            "Epoch 390/1000\n",
            "1/1 [==============================] - 0s 8ms/step - loss: 1.4913 - inflam_loss: 0.6582 - nephr_loss: 4.1657 - inflam_acc: 0.5125 - nephr_acc: 0.5500\n",
            "Epoch 391/1000\n",
            "1/1 [==============================] - 0s 13ms/step - loss: 1.4868 - inflam_loss: 0.6577 - nephr_loss: 4.1456 - inflam_acc: 0.5125 - nephr_acc: 0.5500\n",
            "Epoch 392/1000\n",
            "1/1 [==============================] - 0s 9ms/step - loss: 1.4823 - inflam_loss: 0.6572 - nephr_loss: 4.1255 - inflam_acc: 0.5125 - nephr_acc: 0.5500\n",
            "Epoch 393/1000\n",
            "1/1 [==============================] - 0s 6ms/step - loss: 1.4778 - inflam_loss: 0.6568 - nephr_loss: 4.1054 - inflam_acc: 0.5125 - nephr_acc: 0.5500\n",
            "Epoch 394/1000\n",
            "1/1 [==============================] - 0s 22ms/step - loss: 1.4734 - inflam_loss: 0.6563 - nephr_loss: 4.0853 - inflam_acc: 0.5125 - nephr_acc: 0.5500\n",
            "Epoch 395/1000\n",
            "1/1 [==============================] - 0s 10ms/step - loss: 1.4689 - inflam_loss: 0.6558 - nephr_loss: 4.0652 - inflam_acc: 0.5125 - nephr_acc: 0.5500\n",
            "Epoch 396/1000\n",
            "1/1 [==============================] - 0s 16ms/step - loss: 1.4644 - inflam_loss: 0.6554 - nephr_loss: 4.0450 - inflam_acc: 0.5125 - nephr_acc: 0.5500\n",
            "Epoch 397/1000\n",
            "1/1 [==============================] - 0s 7ms/step - loss: 1.4599 - inflam_loss: 0.6549 - nephr_loss: 4.0249 - inflam_acc: 0.5125 - nephr_acc: 0.5500\n",
            "Epoch 398/1000\n",
            "1/1 [==============================] - 0s 10ms/step - loss: 1.4554 - inflam_loss: 0.6544 - nephr_loss: 4.0048 - inflam_acc: 0.5125 - nephr_acc: 0.5500\n",
            "Epoch 399/1000\n",
            "1/1 [==============================] - 0s 10ms/step - loss: 1.4509 - inflam_loss: 0.6540 - nephr_loss: 3.9847 - inflam_acc: 0.5125 - nephr_acc: 0.5500\n",
            "Epoch 400/1000\n",
            "1/1 [==============================] - 0s 11ms/step - loss: 1.4464 - inflam_loss: 0.6535 - nephr_loss: 3.9646 - inflam_acc: 0.5125 - nephr_acc: 0.5500\n",
            "Epoch 401/1000\n",
            "1/1 [==============================] - 0s 10ms/step - loss: 1.4419 - inflam_loss: 0.6530 - nephr_loss: 3.9445 - inflam_acc: 0.5125 - nephr_acc: 0.5500\n",
            "Epoch 402/1000\n",
            "1/1 [==============================] - 0s 7ms/step - loss: 1.4375 - inflam_loss: 0.6526 - nephr_loss: 3.9244 - inflam_acc: 0.5125 - nephr_acc: 0.5500\n",
            "Epoch 403/1000\n",
            "1/1 [==============================] - 0s 6ms/step - loss: 1.4330 - inflam_loss: 0.6521 - nephr_loss: 3.9043 - inflam_acc: 0.5125 - nephr_acc: 0.5500\n",
            "Epoch 404/1000\n",
            "1/1 [==============================] - 0s 8ms/step - loss: 1.4285 - inflam_loss: 0.6517 - nephr_loss: 3.8842 - inflam_acc: 0.5125 - nephr_acc: 0.5500\n",
            "Epoch 405/1000\n",
            "1/1 [==============================] - 0s 8ms/step - loss: 1.4240 - inflam_loss: 0.6512 - nephr_loss: 3.8641 - inflam_acc: 0.5125 - nephr_acc: 0.5500\n",
            "Epoch 406/1000\n",
            "1/1 [==============================] - 0s 8ms/step - loss: 1.4195 - inflam_loss: 0.6507 - nephr_loss: 3.8440 - inflam_acc: 0.5125 - nephr_acc: 0.5500\n",
            "Epoch 407/1000\n",
            "1/1 [==============================] - 0s 11ms/step - loss: 1.4150 - inflam_loss: 0.6503 - nephr_loss: 3.8239 - inflam_acc: 0.5125 - nephr_acc: 0.5500\n",
            "Epoch 408/1000\n",
            "1/1 [==============================] - 0s 12ms/step - loss: 1.4106 - inflam_loss: 0.6498 - nephr_loss: 3.8038 - inflam_acc: 0.5125 - nephr_acc: 0.5500\n",
            "Epoch 409/1000\n",
            "1/1 [==============================] - 0s 14ms/step - loss: 1.4061 - inflam_loss: 0.6493 - nephr_loss: 3.7837 - inflam_acc: 0.5125 - nephr_acc: 0.5500\n",
            "Epoch 410/1000\n",
            "1/1 [==============================] - 0s 6ms/step - loss: 1.4016 - inflam_loss: 0.6489 - nephr_loss: 3.7636 - inflam_acc: 0.5125 - nephr_acc: 0.5500\n",
            "Epoch 411/1000\n",
            "1/1 [==============================] - 0s 8ms/step - loss: 1.3971 - inflam_loss: 0.6484 - nephr_loss: 3.7435 - inflam_acc: 0.5125 - nephr_acc: 0.5500\n",
            "Epoch 412/1000\n",
            "1/1 [==============================] - 0s 8ms/step - loss: 1.3926 - inflam_loss: 0.6480 - nephr_loss: 3.7234 - inflam_acc: 0.5125 - nephr_acc: 0.5500\n",
            "Epoch 413/1000\n",
            "1/1 [==============================] - 0s 8ms/step - loss: 1.3882 - inflam_loss: 0.6475 - nephr_loss: 3.7033 - inflam_acc: 0.5125 - nephr_acc: 0.5500\n",
            "Epoch 414/1000\n",
            "1/1 [==============================] - 0s 14ms/step - loss: 1.3837 - inflam_loss: 0.6470 - nephr_loss: 3.6832 - inflam_acc: 0.5250 - nephr_acc: 0.5500\n",
            "Epoch 415/1000\n",
            "1/1 [==============================] - 0s 16ms/step - loss: 1.3792 - inflam_loss: 0.6466 - nephr_loss: 3.6632 - inflam_acc: 0.5125 - nephr_acc: 0.5500\n",
            "Epoch 416/1000\n",
            "1/1 [==============================] - 0s 15ms/step - loss: 1.3747 - inflam_loss: 0.6461 - nephr_loss: 3.6431 - inflam_acc: 0.5500 - nephr_acc: 0.5500\n",
            "Epoch 417/1000\n",
            "1/1 [==============================] - 0s 15ms/step - loss: 1.3702 - inflam_loss: 0.6457 - nephr_loss: 3.6230 - inflam_acc: 0.5125 - nephr_acc: 0.5500\n",
            "Epoch 418/1000\n",
            "1/1 [==============================] - 0s 15ms/step - loss: 1.3658 - inflam_loss: 0.6452 - nephr_loss: 3.6029 - inflam_acc: 0.5750 - nephr_acc: 0.5500\n",
            "Epoch 419/1000\n",
            "1/1 [==============================] - 0s 7ms/step - loss: 1.3613 - inflam_loss: 0.6447 - nephr_loss: 3.5828 - inflam_acc: 0.5125 - nephr_acc: 0.5500\n",
            "Epoch 420/1000\n",
            "1/1 [==============================] - 0s 11ms/step - loss: 1.3568 - inflam_loss: 0.6443 - nephr_loss: 3.5627 - inflam_acc: 0.5750 - nephr_acc: 0.5500\n",
            "Epoch 421/1000\n",
            "1/1 [==============================] - 0s 9ms/step - loss: 1.3523 - inflam_loss: 0.6438 - nephr_loss: 3.5426 - inflam_acc: 0.5125 - nephr_acc: 0.5500\n",
            "Epoch 422/1000\n",
            "1/1 [==============================] - 0s 13ms/step - loss: 1.3479 - inflam_loss: 0.6434 - nephr_loss: 3.5225 - inflam_acc: 0.5750 - nephr_acc: 0.5500\n",
            "Epoch 423/1000\n",
            "1/1 [==============================] - 0s 5ms/step - loss: 1.3434 - inflam_loss: 0.6429 - nephr_loss: 3.5024 - inflam_acc: 0.5125 - nephr_acc: 0.5500\n",
            "Epoch 424/1000\n",
            "1/1 [==============================] - 0s 14ms/step - loss: 1.3389 - inflam_loss: 0.6424 - nephr_loss: 3.4823 - inflam_acc: 0.5875 - nephr_acc: 0.5500\n",
            "Epoch 425/1000\n",
            "1/1 [==============================] - 0s 4ms/step - loss: 1.3344 - inflam_loss: 0.6420 - nephr_loss: 3.4623 - inflam_acc: 0.5125 - nephr_acc: 0.5500\n",
            "Epoch 426/1000\n",
            "1/1 [==============================] - 0s 6ms/step - loss: 1.3300 - inflam_loss: 0.6415 - nephr_loss: 3.4422 - inflam_acc: 0.6000 - nephr_acc: 0.5500\n",
            "Epoch 427/1000\n",
            "1/1 [==============================] - 0s 20ms/step - loss: 1.3255 - inflam_loss: 0.6411 - nephr_loss: 3.4221 - inflam_acc: 0.5125 - nephr_acc: 0.5500\n",
            "Epoch 428/1000\n",
            "1/1 [==============================] - 0s 13ms/step - loss: 1.3210 - inflam_loss: 0.6406 - nephr_loss: 3.4020 - inflam_acc: 0.6125 - nephr_acc: 0.5500\n",
            "Epoch 429/1000\n",
            "1/1 [==============================] - 0s 13ms/step - loss: 1.3165 - inflam_loss: 0.6402 - nephr_loss: 3.3819 - inflam_acc: 0.5125 - nephr_acc: 0.5500\n",
            "Epoch 430/1000\n",
            "1/1 [==============================] - 0s 13ms/step - loss: 1.3121 - inflam_loss: 0.6397 - nephr_loss: 3.3618 - inflam_acc: 0.6125 - nephr_acc: 0.5500\n",
            "Epoch 431/1000\n",
            "1/1 [==============================] - 0s 12ms/step - loss: 1.3076 - inflam_loss: 0.6392 - nephr_loss: 3.3418 - inflam_acc: 0.5125 - nephr_acc: 0.5500\n",
            "Epoch 432/1000\n",
            "1/1 [==============================] - 0s 14ms/step - loss: 1.3031 - inflam_loss: 0.6388 - nephr_loss: 3.3217 - inflam_acc: 0.6375 - nephr_acc: 0.5500\n",
            "Epoch 433/1000\n",
            "1/1 [==============================] - 0s 12ms/step - loss: 1.2987 - inflam_loss: 0.6383 - nephr_loss: 3.3016 - inflam_acc: 0.5125 - nephr_acc: 0.5500\n",
            "Epoch 434/1000\n",
            "1/1 [==============================] - 0s 10ms/step - loss: 1.2942 - inflam_loss: 0.6379 - nephr_loss: 3.2815 - inflam_acc: 0.6375 - nephr_acc: 0.5500\n",
            "Epoch 435/1000\n",
            "1/1 [==============================] - 0s 9ms/step - loss: 1.2897 - inflam_loss: 0.6374 - nephr_loss: 3.2615 - inflam_acc: 0.5125 - nephr_acc: 0.5500\n",
            "Epoch 436/1000\n",
            "1/1 [==============================] - 0s 11ms/step - loss: 1.2853 - inflam_loss: 0.6370 - nephr_loss: 3.2414 - inflam_acc: 0.6500 - nephr_acc: 0.5500\n",
            "Epoch 437/1000\n",
            "1/1 [==============================] - 0s 12ms/step - loss: 1.2808 - inflam_loss: 0.6365 - nephr_loss: 3.2213 - inflam_acc: 0.5125 - nephr_acc: 0.5500\n",
            "Epoch 438/1000\n",
            "1/1 [==============================] - 0s 10ms/step - loss: 1.2763 - inflam_loss: 0.6361 - nephr_loss: 3.2013 - inflam_acc: 0.6625 - nephr_acc: 0.5500\n",
            "Epoch 439/1000\n",
            "1/1 [==============================] - 0s 16ms/step - loss: 1.2719 - inflam_loss: 0.6356 - nephr_loss: 3.1812 - inflam_acc: 0.5125 - nephr_acc: 0.5500\n",
            "Epoch 440/1000\n",
            "1/1 [==============================] - 0s 5ms/step - loss: 1.2674 - inflam_loss: 0.6352 - nephr_loss: 3.1612 - inflam_acc: 0.7000 - nephr_acc: 0.5500\n",
            "Epoch 441/1000\n",
            "1/1 [==============================] - 0s 7ms/step - loss: 1.2629 - inflam_loss: 0.6347 - nephr_loss: 3.1411 - inflam_acc: 0.5125 - nephr_acc: 0.5500\n",
            "Epoch 442/1000\n",
            "1/1 [==============================] - 0s 4ms/step - loss: 1.2585 - inflam_loss: 0.6343 - nephr_loss: 3.1210 - inflam_acc: 0.7000 - nephr_acc: 0.5500\n",
            "Epoch 443/1000\n",
            "1/1 [==============================] - 0s 11ms/step - loss: 1.2540 - inflam_loss: 0.6338 - nephr_loss: 3.1010 - inflam_acc: 0.5125 - nephr_acc: 0.5500\n",
            "Epoch 444/1000\n",
            "1/1 [==============================] - 0s 6ms/step - loss: 1.2495 - inflam_loss: 0.6334 - nephr_loss: 3.0809 - inflam_acc: 0.7000 - nephr_acc: 0.5500\n",
            "Epoch 445/1000\n",
            "1/1 [==============================] - 0s 10ms/step - loss: 1.2451 - inflam_loss: 0.6329 - nephr_loss: 3.0609 - inflam_acc: 0.5125 - nephr_acc: 0.5500\n",
            "Epoch 446/1000\n",
            "1/1 [==============================] - 0s 12ms/step - loss: 1.2406 - inflam_loss: 0.6324 - nephr_loss: 3.0408 - inflam_acc: 0.7000 - nephr_acc: 0.5500\n",
            "Epoch 447/1000\n",
            "1/1 [==============================] - 0s 13ms/step - loss: 1.2362 - inflam_loss: 0.6320 - nephr_loss: 3.0208 - inflam_acc: 0.5125 - nephr_acc: 0.5500\n",
            "Epoch 448/1000\n",
            "1/1 [==============================] - 0s 6ms/step - loss: 1.2317 - inflam_loss: 0.6315 - nephr_loss: 3.0008 - inflam_acc: 0.7000 - nephr_acc: 0.5500\n",
            "Epoch 449/1000\n",
            "1/1 [==============================] - 0s 12ms/step - loss: 1.2272 - inflam_loss: 0.6311 - nephr_loss: 2.9807 - inflam_acc: 0.5125 - nephr_acc: 0.5500\n",
            "Epoch 450/1000\n",
            "1/1 [==============================] - 0s 12ms/step - loss: 1.2228 - inflam_loss: 0.6306 - nephr_loss: 2.9607 - inflam_acc: 0.7000 - nephr_acc: 0.5500\n",
            "Epoch 451/1000\n",
            "1/1 [==============================] - 0s 5ms/step - loss: 1.2183 - inflam_loss: 0.6302 - nephr_loss: 2.9407 - inflam_acc: 0.5125 - nephr_acc: 0.5500\n",
            "Epoch 452/1000\n",
            "1/1 [==============================] - 0s 12ms/step - loss: 1.2139 - inflam_loss: 0.6297 - nephr_loss: 2.9206 - inflam_acc: 0.7000 - nephr_acc: 0.5500\n",
            "Epoch 453/1000\n",
            "1/1 [==============================] - 0s 11ms/step - loss: 1.2094 - inflam_loss: 0.6293 - nephr_loss: 2.9006 - inflam_acc: 0.5375 - nephr_acc: 0.5500\n",
            "Epoch 454/1000\n",
            "1/1 [==============================] - 0s 10ms/step - loss: 1.2050 - inflam_loss: 0.6289 - nephr_loss: 2.8806 - inflam_acc: 0.7000 - nephr_acc: 0.5500\n",
            "Epoch 455/1000\n",
            "1/1 [==============================] - 0s 10ms/step - loss: 1.2005 - inflam_loss: 0.6284 - nephr_loss: 2.8606 - inflam_acc: 0.5750 - nephr_acc: 0.5500\n",
            "Epoch 456/1000\n",
            "1/1 [==============================] - 0s 8ms/step - loss: 1.1961 - inflam_loss: 0.6280 - nephr_loss: 2.8406 - inflam_acc: 0.7000 - nephr_acc: 0.5500\n",
            "Epoch 457/1000\n",
            "1/1 [==============================] - 0s 16ms/step - loss: 1.1916 - inflam_loss: 0.6275 - nephr_loss: 2.8205 - inflam_acc: 0.6125 - nephr_acc: 0.5500\n",
            "Epoch 458/1000\n",
            "1/1 [==============================] - 0s 6ms/step - loss: 1.1872 - inflam_loss: 0.6271 - nephr_loss: 2.8005 - inflam_acc: 0.7000 - nephr_acc: 0.5500\n",
            "Epoch 459/1000\n",
            "1/1 [==============================] - 0s 14ms/step - loss: 1.1827 - inflam_loss: 0.6266 - nephr_loss: 2.7805 - inflam_acc: 0.6125 - nephr_acc: 0.5500\n",
            "Epoch 460/1000\n",
            "1/1 [==============================] - 0s 6ms/step - loss: 1.1783 - inflam_loss: 0.6262 - nephr_loss: 2.7606 - inflam_acc: 0.7000 - nephr_acc: 0.5500\n",
            "Epoch 461/1000\n",
            "1/1 [==============================] - 0s 13ms/step - loss: 1.1738 - inflam_loss: 0.6257 - nephr_loss: 2.7406 - inflam_acc: 0.6125 - nephr_acc: 0.5500\n",
            "Epoch 462/1000\n",
            "1/1 [==============================] - 0s 14ms/step - loss: 1.1694 - inflam_loss: 0.6253 - nephr_loss: 2.7206 - inflam_acc: 0.7000 - nephr_acc: 0.5500\n",
            "Epoch 463/1000\n",
            "1/1 [==============================] - 0s 9ms/step - loss: 1.1649 - inflam_loss: 0.6248 - nephr_loss: 2.7006 - inflam_acc: 0.6375 - nephr_acc: 0.5500\n",
            "Epoch 464/1000\n",
            "1/1 [==============================] - 0s 13ms/step - loss: 1.1605 - inflam_loss: 0.6244 - nephr_loss: 2.6806 - inflam_acc: 0.7000 - nephr_acc: 0.5500\n",
            "Epoch 465/1000\n",
            "1/1 [==============================] - 0s 8ms/step - loss: 1.1561 - inflam_loss: 0.6239 - nephr_loss: 2.6607 - inflam_acc: 0.6625 - nephr_acc: 0.5500\n",
            "Epoch 466/1000\n",
            "1/1 [==============================] - 0s 11ms/step - loss: 1.1516 - inflam_loss: 0.6235 - nephr_loss: 2.6407 - inflam_acc: 0.7000 - nephr_acc: 0.5500\n",
            "Epoch 467/1000\n",
            "1/1 [==============================] - 0s 7ms/step - loss: 1.1472 - inflam_loss: 0.6230 - nephr_loss: 2.6208 - inflam_acc: 0.6625 - nephr_acc: 0.5500\n",
            "Epoch 468/1000\n",
            "1/1 [==============================] - 0s 11ms/step - loss: 1.1428 - inflam_loss: 0.6226 - nephr_loss: 2.6008 - inflam_acc: 0.7000 - nephr_acc: 0.5500\n",
            "Epoch 469/1000\n",
            "1/1 [==============================] - 0s 12ms/step - loss: 1.1383 - inflam_loss: 0.6222 - nephr_loss: 2.5809 - inflam_acc: 0.6750 - nephr_acc: 0.5500\n",
            "Epoch 470/1000\n",
            "1/1 [==============================] - 0s 12ms/step - loss: 1.1339 - inflam_loss: 0.6217 - nephr_loss: 2.5610 - inflam_acc: 0.7000 - nephr_acc: 0.5500\n",
            "Epoch 471/1000\n",
            "1/1 [==============================] - 0s 12ms/step - loss: 1.1295 - inflam_loss: 0.6213 - nephr_loss: 2.5410 - inflam_acc: 0.6875 - nephr_acc: 0.5500\n",
            "Epoch 472/1000\n",
            "1/1 [==============================] - 0s 11ms/step - loss: 1.1250 - inflam_loss: 0.6208 - nephr_loss: 2.5211 - inflam_acc: 0.7000 - nephr_acc: 0.5500\n",
            "Epoch 473/1000\n",
            "1/1 [==============================] - 0s 8ms/step - loss: 1.1206 - inflam_loss: 0.6204 - nephr_loss: 2.5012 - inflam_acc: 0.7000 - nephr_acc: 0.5500\n",
            "Epoch 474/1000\n",
            "1/1 [==============================] - 0s 10ms/step - loss: 1.1162 - inflam_loss: 0.6199 - nephr_loss: 2.4813 - inflam_acc: 0.7000 - nephr_acc: 0.5500\n",
            "Epoch 475/1000\n",
            "1/1 [==============================] - 0s 14ms/step - loss: 1.1118 - inflam_loss: 0.6195 - nephr_loss: 2.4614 - inflam_acc: 0.7125 - nephr_acc: 0.5500\n",
            "Epoch 476/1000\n",
            "1/1 [==============================] - 0s 11ms/step - loss: 1.1074 - inflam_loss: 0.6191 - nephr_loss: 2.4416 - inflam_acc: 0.7000 - nephr_acc: 0.5500\n",
            "Epoch 477/1000\n",
            "1/1 [==============================] - 0s 10ms/step - loss: 1.1030 - inflam_loss: 0.6186 - nephr_loss: 2.4217 - inflam_acc: 0.7375 - nephr_acc: 0.5500\n",
            "Epoch 478/1000\n",
            "1/1 [==============================] - 0s 20ms/step - loss: 1.0985 - inflam_loss: 0.6182 - nephr_loss: 2.4018 - inflam_acc: 0.7000 - nephr_acc: 0.5500\n",
            "Epoch 479/1000\n",
            "1/1 [==============================] - 0s 13ms/step - loss: 1.0941 - inflam_loss: 0.6177 - nephr_loss: 2.3820 - inflam_acc: 0.7500 - nephr_acc: 0.5500\n",
            "Epoch 480/1000\n",
            "1/1 [==============================] - 0s 15ms/step - loss: 1.0897 - inflam_loss: 0.6173 - nephr_loss: 2.3622 - inflam_acc: 0.7000 - nephr_acc: 0.5500\n",
            "Epoch 481/1000\n",
            "1/1 [==============================] - 0s 6ms/step - loss: 1.0853 - inflam_loss: 0.6168 - nephr_loss: 2.3423 - inflam_acc: 0.7750 - nephr_acc: 0.5500\n",
            "Epoch 482/1000\n",
            "1/1 [==============================] - 0s 15ms/step - loss: 1.0809 - inflam_loss: 0.6164 - nephr_loss: 2.3225 - inflam_acc: 0.7000 - nephr_acc: 0.5500\n",
            "Epoch 483/1000\n",
            "1/1 [==============================] - 0s 13ms/step - loss: 1.0765 - inflam_loss: 0.6160 - nephr_loss: 2.3027 - inflam_acc: 0.7750 - nephr_acc: 0.5500\n",
            "Epoch 484/1000\n",
            "1/1 [==============================] - 0s 4ms/step - loss: 1.0721 - inflam_loss: 0.6155 - nephr_loss: 2.2830 - inflam_acc: 0.7000 - nephr_acc: 0.5500\n",
            "Epoch 485/1000\n",
            "1/1 [==============================] - 0s 13ms/step - loss: 1.0677 - inflam_loss: 0.6151 - nephr_loss: 2.2632 - inflam_acc: 0.7750 - nephr_acc: 0.5500\n",
            "Epoch 486/1000\n",
            "1/1 [==============================] - 0s 10ms/step - loss: 1.0633 - inflam_loss: 0.6146 - nephr_loss: 2.2434 - inflam_acc: 0.7000 - nephr_acc: 0.5500\n",
            "Epoch 487/1000\n",
            "1/1 [==============================] - 0s 10ms/step - loss: 1.0589 - inflam_loss: 0.6142 - nephr_loss: 2.2237 - inflam_acc: 0.7750 - nephr_acc: 0.5500\n",
            "Epoch 488/1000\n",
            "1/1 [==============================] - 0s 11ms/step - loss: 1.0546 - inflam_loss: 0.6138 - nephr_loss: 2.2040 - inflam_acc: 0.7000 - nephr_acc: 0.5500\n",
            "Epoch 489/1000\n",
            "1/1 [==============================] - 0s 18ms/step - loss: 1.0502 - inflam_loss: 0.6133 - nephr_loss: 2.1843 - inflam_acc: 0.7750 - nephr_acc: 0.5500\n",
            "Epoch 490/1000\n",
            "1/1 [==============================] - 0s 12ms/step - loss: 1.0458 - inflam_loss: 0.6129 - nephr_loss: 2.1646 - inflam_acc: 0.7000 - nephr_acc: 0.5500\n",
            "Epoch 491/1000\n",
            "1/1 [==============================] - 0s 8ms/step - loss: 1.0414 - inflam_loss: 0.6125 - nephr_loss: 2.1449 - inflam_acc: 0.7750 - nephr_acc: 0.5500\n",
            "Epoch 492/1000\n",
            "1/1 [==============================] - 0s 14ms/step - loss: 1.0371 - inflam_loss: 0.6120 - nephr_loss: 2.1253 - inflam_acc: 0.7000 - nephr_acc: 0.5500\n",
            "Epoch 493/1000\n",
            "1/1 [==============================] - 0s 10ms/step - loss: 1.0327 - inflam_loss: 0.6116 - nephr_loss: 2.1056 - inflam_acc: 0.7750 - nephr_acc: 0.5500\n",
            "Epoch 494/1000\n",
            "1/1 [==============================] - 0s 14ms/step - loss: 1.0284 - inflam_loss: 0.6111 - nephr_loss: 2.0860 - inflam_acc: 0.7000 - nephr_acc: 0.5500\n",
            "Epoch 495/1000\n",
            "1/1 [==============================] - 0s 15ms/step - loss: 1.0240 - inflam_loss: 0.6107 - nephr_loss: 2.0664 - inflam_acc: 0.7750 - nephr_acc: 0.5500\n",
            "Epoch 496/1000\n",
            "1/1 [==============================] - 0s 9ms/step - loss: 1.0196 - inflam_loss: 0.6103 - nephr_loss: 2.0469 - inflam_acc: 0.7000 - nephr_acc: 0.5500\n",
            "Epoch 497/1000\n",
            "1/1 [==============================] - 0s 4ms/step - loss: 1.0153 - inflam_loss: 0.6098 - nephr_loss: 2.0273 - inflam_acc: 0.7750 - nephr_acc: 0.5500\n",
            "Epoch 498/1000\n",
            "1/1 [==============================] - 0s 13ms/step - loss: 1.0110 - inflam_loss: 0.6094 - nephr_loss: 2.0078 - inflam_acc: 0.7000 - nephr_acc: 0.5500\n",
            "Epoch 499/1000\n",
            "1/1 [==============================] - 0s 9ms/step - loss: 1.0066 - inflam_loss: 0.6090 - nephr_loss: 1.9883 - inflam_acc: 0.7750 - nephr_acc: 0.5500\n",
            "Epoch 500/1000\n",
            "1/1 [==============================] - 0s 6ms/step - loss: 1.0023 - inflam_loss: 0.6085 - nephr_loss: 1.9689 - inflam_acc: 0.7000 - nephr_acc: 0.5500\n",
            "Epoch 501/1000\n",
            "1/1 [==============================] - 0s 6ms/step - loss: 0.9980 - inflam_loss: 0.6081 - nephr_loss: 1.9494 - inflam_acc: 0.7750 - nephr_acc: 0.5500\n",
            "Epoch 502/1000\n",
            "1/1 [==============================] - 0s 8ms/step - loss: 0.9937 - inflam_loss: 0.6077 - nephr_loss: 1.9300 - inflam_acc: 0.7000 - nephr_acc: 0.5500\n",
            "Epoch 503/1000\n",
            "1/1 [==============================] - 0s 6ms/step - loss: 0.9894 - inflam_loss: 0.6072 - nephr_loss: 1.9106 - inflam_acc: 0.7750 - nephr_acc: 0.5500\n",
            "Epoch 504/1000\n",
            "1/1 [==============================] - 0s 8ms/step - loss: 0.9851 - inflam_loss: 0.6068 - nephr_loss: 1.8913 - inflam_acc: 0.7000 - nephr_acc: 0.5500\n",
            "Epoch 505/1000\n",
            "1/1 [==============================] - 0s 7ms/step - loss: 0.9808 - inflam_loss: 0.6064 - nephr_loss: 1.8720 - inflam_acc: 0.7750 - nephr_acc: 0.5500\n",
            "Epoch 506/1000\n",
            "1/1 [==============================] - 0s 6ms/step - loss: 0.9765 - inflam_loss: 0.6059 - nephr_loss: 1.8527 - inflam_acc: 0.7000 - nephr_acc: 0.5500\n",
            "Epoch 507/1000\n",
            "1/1 [==============================] - 0s 15ms/step - loss: 0.9722 - inflam_loss: 0.6055 - nephr_loss: 1.8334 - inflam_acc: 0.7750 - nephr_acc: 0.5500\n",
            "Epoch 508/1000\n",
            "1/1 [==============================] - 0s 4ms/step - loss: 0.9679 - inflam_loss: 0.6051 - nephr_loss: 1.8142 - inflam_acc: 0.7000 - nephr_acc: 0.5500\n",
            "Epoch 509/1000\n",
            "1/1 [==============================] - 0s 19ms/step - loss: 0.9636 - inflam_loss: 0.6046 - nephr_loss: 1.7951 - inflam_acc: 0.7750 - nephr_acc: 0.5500\n",
            "Epoch 510/1000\n",
            "1/1 [==============================] - 0s 4ms/step - loss: 0.9594 - inflam_loss: 0.6042 - nephr_loss: 1.7759 - inflam_acc: 0.7000 - nephr_acc: 0.5500\n",
            "Epoch 511/1000\n",
            "1/1 [==============================] - 0s 8ms/step - loss: 0.9551 - inflam_loss: 0.6038 - nephr_loss: 1.7568 - inflam_acc: 0.7750 - nephr_acc: 0.5500\n",
            "Epoch 512/1000\n",
            "1/1 [==============================] - 0s 16ms/step - loss: 0.9509 - inflam_loss: 0.6033 - nephr_loss: 1.7378 - inflam_acc: 0.7000 - nephr_acc: 0.5500\n",
            "Epoch 513/1000\n",
            "1/1 [==============================] - 0s 6ms/step - loss: 0.9467 - inflam_loss: 0.6029 - nephr_loss: 1.7188 - inflam_acc: 0.7750 - nephr_acc: 0.5500\n",
            "Epoch 514/1000\n",
            "1/1 [==============================] - 0s 19ms/step - loss: 0.9424 - inflam_loss: 0.6025 - nephr_loss: 1.6998 - inflam_acc: 0.7000 - nephr_acc: 0.5500\n",
            "Epoch 515/1000\n",
            "1/1 [==============================] - 0s 5ms/step - loss: 0.9382 - inflam_loss: 0.6020 - nephr_loss: 1.6809 - inflam_acc: 0.7750 - nephr_acc: 0.5500\n",
            "Epoch 516/1000\n",
            "1/1 [==============================] - 0s 10ms/step - loss: 0.9340 - inflam_loss: 0.6016 - nephr_loss: 1.6621 - inflam_acc: 0.7000 - nephr_acc: 0.5500\n",
            "Epoch 517/1000\n",
            "1/1 [==============================] - 0s 15ms/step - loss: 0.9298 - inflam_loss: 0.6012 - nephr_loss: 1.6433 - inflam_acc: 0.7875 - nephr_acc: 0.5500\n",
            "Epoch 518/1000\n",
            "1/1 [==============================] - 0s 8ms/step - loss: 0.9257 - inflam_loss: 0.6007 - nephr_loss: 1.6245 - inflam_acc: 0.7000 - nephr_acc: 0.5500\n",
            "Epoch 519/1000\n",
            "1/1 [==============================] - 0s 10ms/step - loss: 0.9215 - inflam_loss: 0.6003 - nephr_loss: 1.6058 - inflam_acc: 0.7875 - nephr_acc: 0.5500\n",
            "Epoch 520/1000\n",
            "1/1 [==============================] - 0s 11ms/step - loss: 0.9173 - inflam_loss: 0.5999 - nephr_loss: 1.5872 - inflam_acc: 0.7000 - nephr_acc: 0.5500\n",
            "Epoch 521/1000\n",
            "1/1 [==============================] - 0s 11ms/step - loss: 0.9132 - inflam_loss: 0.5995 - nephr_loss: 1.5686 - inflam_acc: 0.8000 - nephr_acc: 0.5500\n",
            "Epoch 522/1000\n",
            "1/1 [==============================] - 0s 12ms/step - loss: 0.9091 - inflam_loss: 0.5990 - nephr_loss: 1.5501 - inflam_acc: 0.7000 - nephr_acc: 0.5500\n",
            "Epoch 523/1000\n",
            "1/1 [==============================] - 0s 11ms/step - loss: 0.9049 - inflam_loss: 0.5986 - nephr_loss: 1.5316 - inflam_acc: 0.8125 - nephr_acc: 0.5500\n",
            "Epoch 524/1000\n",
            "1/1 [==============================] - 0s 11ms/step - loss: 0.9008 - inflam_loss: 0.5982 - nephr_loss: 1.5133 - inflam_acc: 0.7000 - nephr_acc: 0.5500\n",
            "Epoch 525/1000\n",
            "1/1 [==============================] - 0s 17ms/step - loss: 0.8967 - inflam_loss: 0.5978 - nephr_loss: 1.4950 - inflam_acc: 0.8500 - nephr_acc: 0.5500\n",
            "Epoch 526/1000\n",
            "1/1 [==============================] - 0s 15ms/step - loss: 0.8927 - inflam_loss: 0.5973 - nephr_loss: 1.4767 - inflam_acc: 0.7000 - nephr_acc: 0.5500\n",
            "Epoch 527/1000\n",
            "1/1 [==============================] - 0s 6ms/step - loss: 0.8886 - inflam_loss: 0.5969 - nephr_loss: 1.4586 - inflam_acc: 0.8625 - nephr_acc: 0.5500\n",
            "Epoch 528/1000\n",
            "1/1 [==============================] - 0s 17ms/step - loss: 0.8846 - inflam_loss: 0.5965 - nephr_loss: 1.4405 - inflam_acc: 0.7000 - nephr_acc: 0.5500\n",
            "Epoch 529/1000\n",
            "1/1 [==============================] - 0s 14ms/step - loss: 0.8805 - inflam_loss: 0.5960 - nephr_loss: 1.4225 - inflam_acc: 0.8625 - nephr_acc: 0.5500\n",
            "Epoch 530/1000\n",
            "1/1 [==============================] - 0s 6ms/step - loss: 0.8765 - inflam_loss: 0.5956 - nephr_loss: 1.4046 - inflam_acc: 0.7000 - nephr_acc: 0.5500\n",
            "Epoch 531/1000\n",
            "1/1 [==============================] - 0s 10ms/step - loss: 0.8725 - inflam_loss: 0.5952 - nephr_loss: 1.3867 - inflam_acc: 0.8750 - nephr_acc: 0.5500\n",
            "Epoch 532/1000\n",
            "1/1 [==============================] - 0s 16ms/step - loss: 0.8686 - inflam_loss: 0.5948 - nephr_loss: 1.3690 - inflam_acc: 0.7000 - nephr_acc: 0.5500\n",
            "Epoch 533/1000\n",
            "1/1 [==============================] - 0s 10ms/step - loss: 0.8646 - inflam_loss: 0.5943 - nephr_loss: 1.3514 - inflam_acc: 0.8750 - nephr_acc: 0.5500\n",
            "Epoch 534/1000\n",
            "1/1 [==============================] - 0s 16ms/step - loss: 0.8607 - inflam_loss: 0.5939 - nephr_loss: 1.3338 - inflam_acc: 0.7000 - nephr_acc: 0.5500\n",
            "Epoch 535/1000\n",
            "1/1 [==============================] - 0s 31ms/step - loss: 0.8568 - inflam_loss: 0.5935 - nephr_loss: 1.3164 - inflam_acc: 0.9000 - nephr_acc: 0.5500\n",
            "Epoch 536/1000\n",
            "1/1 [==============================] - 0s 10ms/step - loss: 0.8529 - inflam_loss: 0.5931 - nephr_loss: 1.2991 - inflam_acc: 0.7000 - nephr_acc: 0.5500\n",
            "Epoch 537/1000\n",
            "1/1 [==============================] - 0s 10ms/step - loss: 0.8490 - inflam_loss: 0.5926 - nephr_loss: 1.2818 - inflam_acc: 0.9000 - nephr_acc: 0.5500\n",
            "Epoch 538/1000\n",
            "1/1 [==============================] - 0s 5ms/step - loss: 0.8452 - inflam_loss: 0.5922 - nephr_loss: 1.2647 - inflam_acc: 0.7000 - nephr_acc: 0.5500\n",
            "Epoch 539/1000\n",
            "1/1 [==============================] - 0s 11ms/step - loss: 0.8413 - inflam_loss: 0.5918 - nephr_loss: 1.2477 - inflam_acc: 0.9000 - nephr_acc: 0.5500\n",
            "Epoch 540/1000\n",
            "1/1 [==============================] - 0s 10ms/step - loss: 0.8375 - inflam_loss: 0.5914 - nephr_loss: 1.2308 - inflam_acc: 0.7000 - nephr_acc: 0.5500\n",
            "Epoch 541/1000\n",
            "1/1 [==============================] - 0s 6ms/step - loss: 0.8338 - inflam_loss: 0.5909 - nephr_loss: 1.2141 - inflam_acc: 0.9000 - nephr_acc: 0.5500\n",
            "Epoch 542/1000\n",
            "1/1 [==============================] - 0s 7ms/step - loss: 0.8300 - inflam_loss: 0.5905 - nephr_loss: 1.1974 - inflam_acc: 0.7000 - nephr_acc: 0.5500\n",
            "Epoch 543/1000\n",
            "1/1 [==============================] - 0s 8ms/step - loss: 0.8263 - inflam_loss: 0.5901 - nephr_loss: 1.1809 - inflam_acc: 0.9000 - nephr_acc: 0.5500\n",
            "Epoch 544/1000\n",
            "1/1 [==============================] - 0s 15ms/step - loss: 0.8226 - inflam_loss: 0.5897 - nephr_loss: 1.1646 - inflam_acc: 0.7000 - nephr_acc: 0.5500\n",
            "Epoch 545/1000\n",
            "1/1 [==============================] - 0s 6ms/step - loss: 0.8189 - inflam_loss: 0.5893 - nephr_loss: 1.1483 - inflam_acc: 0.9000 - nephr_acc: 0.5500\n",
            "Epoch 546/1000\n",
            "1/1 [==============================] - 0s 9ms/step - loss: 0.8153 - inflam_loss: 0.5888 - nephr_loss: 1.1323 - inflam_acc: 0.7000 - nephr_acc: 0.5500\n",
            "Epoch 547/1000\n",
            "1/1 [==============================] - 0s 11ms/step - loss: 0.8117 - inflam_loss: 0.5884 - nephr_loss: 1.1163 - inflam_acc: 0.9000 - nephr_acc: 0.5500\n",
            "Epoch 548/1000\n",
            "1/1 [==============================] - 0s 6ms/step - loss: 0.8081 - inflam_loss: 0.5880 - nephr_loss: 1.1006 - inflam_acc: 0.7000 - nephr_acc: 0.5500\n",
            "Epoch 549/1000\n",
            "1/1 [==============================] - 0s 6ms/step - loss: 0.8046 - inflam_loss: 0.5876 - nephr_loss: 1.0849 - inflam_acc: 0.9000 - nephr_acc: 0.5500\n",
            "Epoch 550/1000\n",
            "1/1 [==============================] - 0s 6ms/step - loss: 0.8010 - inflam_loss: 0.5872 - nephr_loss: 1.0695 - inflam_acc: 0.7000 - nephr_acc: 0.5500\n",
            "Epoch 551/1000\n",
            "1/1 [==============================] - 0s 7ms/step - loss: 0.7976 - inflam_loss: 0.5867 - nephr_loss: 1.0542 - inflam_acc: 0.9000 - nephr_acc: 0.5500\n",
            "Epoch 552/1000\n",
            "1/1 [==============================] - 0s 9ms/step - loss: 0.7941 - inflam_loss: 0.5863 - nephr_loss: 1.0390 - inflam_acc: 0.7125 - nephr_acc: 0.5500\n",
            "Epoch 553/1000\n",
            "1/1 [==============================] - 0s 12ms/step - loss: 0.7907 - inflam_loss: 0.5859 - nephr_loss: 1.0241 - inflam_acc: 0.9000 - nephr_acc: 0.5500\n",
            "Epoch 554/1000\n",
            "1/1 [==============================] - 0s 11ms/step - loss: 0.7873 - inflam_loss: 0.5855 - nephr_loss: 1.0093 - inflam_acc: 0.7250 - nephr_acc: 0.5500\n",
            "Epoch 555/1000\n",
            "1/1 [==============================] - 0s 4ms/step - loss: 0.7840 - inflam_loss: 0.5851 - nephr_loss: 0.9947 - inflam_acc: 0.9000 - nephr_acc: 0.5500\n",
            "Epoch 556/1000\n",
            "1/1 [==============================] - 0s 12ms/step - loss: 0.7807 - inflam_loss: 0.5846 - nephr_loss: 0.9803 - inflam_acc: 0.7375 - nephr_acc: 0.5500\n",
            "Epoch 557/1000\n",
            "1/1 [==============================] - 0s 15ms/step - loss: 0.7774 - inflam_loss: 0.5842 - nephr_loss: 0.9661 - inflam_acc: 0.9000 - nephr_acc: 0.5500\n",
            "Epoch 558/1000\n",
            "1/1 [==============================] - 0s 4ms/step - loss: 0.7742 - inflam_loss: 0.5838 - nephr_loss: 0.9521 - inflam_acc: 0.7500 - nephr_acc: 0.5500\n",
            "Epoch 559/1000\n",
            "1/1 [==============================] - 0s 6ms/step - loss: 0.7710 - inflam_loss: 0.5834 - nephr_loss: 0.9383 - inflam_acc: 0.9000 - nephr_acc: 0.5500\n",
            "Epoch 560/1000\n",
            "1/1 [==============================] - 0s 7ms/step - loss: 0.7679 - inflam_loss: 0.5830 - nephr_loss: 0.9247 - inflam_acc: 0.7750 - nephr_acc: 0.5500\n",
            "Epoch 561/1000\n",
            "1/1 [==============================] - 0s 7ms/step - loss: 0.7648 - inflam_loss: 0.5825 - nephr_loss: 0.9113 - inflam_acc: 0.9000 - nephr_acc: 0.5500\n",
            "Epoch 562/1000\n",
            "1/1 [==============================] - 0s 7ms/step - loss: 0.7618 - inflam_loss: 0.5821 - nephr_loss: 0.8981 - inflam_acc: 0.8125 - nephr_acc: 0.5500\n",
            "Epoch 563/1000\n",
            "1/1 [==============================] - 0s 13ms/step - loss: 0.7588 - inflam_loss: 0.5817 - nephr_loss: 0.8852 - inflam_acc: 0.9000 - nephr_acc: 0.5500\n",
            "Epoch 564/1000\n",
            "1/1 [==============================] - 0s 11ms/step - loss: 0.7558 - inflam_loss: 0.5813 - nephr_loss: 0.8724 - inflam_acc: 0.8250 - nephr_acc: 0.5500\n",
            "Epoch 565/1000\n",
            "1/1 [==============================] - 0s 6ms/step - loss: 0.7529 - inflam_loss: 0.5809 - nephr_loss: 0.8599 - inflam_acc: 0.9000 - nephr_acc: 0.5500\n",
            "Epoch 566/1000\n",
            "1/1 [==============================] - 0s 10ms/step - loss: 0.7500 - inflam_loss: 0.5805 - nephr_loss: 0.8477 - inflam_acc: 0.8375 - nephr_acc: 0.5500\n",
            "Epoch 567/1000\n",
            "1/1 [==============================] - 0s 12ms/step - loss: 0.7472 - inflam_loss: 0.5801 - nephr_loss: 0.8356 - inflam_acc: 0.8875 - nephr_acc: 0.5500\n",
            "Epoch 568/1000\n",
            "1/1 [==============================] - 0s 10ms/step - loss: 0.7444 - inflam_loss: 0.5796 - nephr_loss: 0.8238 - inflam_acc: 0.8375 - nephr_acc: 0.5500\n",
            "Epoch 569/1000\n",
            "1/1 [==============================] - 0s 16ms/step - loss: 0.7417 - inflam_loss: 0.5792 - nephr_loss: 0.8122 - inflam_acc: 0.8875 - nephr_acc: 0.5500\n",
            "Epoch 570/1000\n",
            "1/1 [==============================] - 0s 6ms/step - loss: 0.7390 - inflam_loss: 0.5788 - nephr_loss: 0.8009 - inflam_acc: 0.8625 - nephr_acc: 0.5500\n",
            "Epoch 571/1000\n",
            "1/1 [==============================] - 0s 8ms/step - loss: 0.7364 - inflam_loss: 0.5784 - nephr_loss: 0.7899 - inflam_acc: 0.8875 - nephr_acc: 0.5500\n",
            "Epoch 572/1000\n",
            "1/1 [==============================] - 0s 12ms/step - loss: 0.7338 - inflam_loss: 0.5780 - nephr_loss: 0.7791 - inflam_acc: 0.8625 - nephr_acc: 0.5500\n",
            "Epoch 573/1000\n",
            "1/1 [==============================] - 0s 14ms/step - loss: 0.7313 - inflam_loss: 0.5776 - nephr_loss: 0.7685 - inflam_acc: 0.8875 - nephr_acc: 0.5500\n",
            "Epoch 574/1000\n",
            "1/1 [==============================] - 0s 4ms/step - loss: 0.7288 - inflam_loss: 0.5772 - nephr_loss: 0.7582 - inflam_acc: 0.8875 - nephr_acc: 0.5500\n",
            "Epoch 575/1000\n",
            "1/1 [==============================] - 0s 12ms/step - loss: 0.7264 - inflam_loss: 0.5767 - nephr_loss: 0.7481 - inflam_acc: 0.8875 - nephr_acc: 0.5500\n",
            "Epoch 576/1000\n",
            "1/1 [==============================] - 0s 13ms/step - loss: 0.7240 - inflam_loss: 0.5763 - nephr_loss: 0.7384 - inflam_acc: 0.8875 - nephr_acc: 0.5500\n",
            "Epoch 577/1000\n",
            "1/1 [==============================] - 0s 4ms/step - loss: 0.7217 - inflam_loss: 0.5759 - nephr_loss: 0.7289 - inflam_acc: 0.8875 - nephr_acc: 0.5500\n",
            "Epoch 578/1000\n",
            "1/1 [==============================] - 0s 13ms/step - loss: 0.7194 - inflam_loss: 0.5755 - nephr_loss: 0.7196 - inflam_acc: 0.8875 - nephr_acc: 0.5500\n",
            "Epoch 579/1000\n",
            "1/1 [==============================] - 0s 13ms/step - loss: 0.7172 - inflam_loss: 0.5751 - nephr_loss: 0.7106 - inflam_acc: 0.8750 - nephr_acc: 0.5500\n",
            "Epoch 580/1000\n",
            "1/1 [==============================] - 0s 4ms/step - loss: 0.7151 - inflam_loss: 0.5747 - nephr_loss: 0.7019 - inflam_acc: 0.8875 - nephr_acc: 0.5500\n",
            "Epoch 581/1000\n",
            "1/1 [==============================] - 0s 15ms/step - loss: 0.7130 - inflam_loss: 0.5743 - nephr_loss: 0.6935 - inflam_acc: 0.8750 - nephr_acc: 0.5500\n",
            "Epoch 582/1000\n",
            "1/1 [==============================] - 0s 6ms/step - loss: 0.7109 - inflam_loss: 0.5739 - nephr_loss: 0.6853 - inflam_acc: 0.8875 - nephr_acc: 0.5500\n",
            "Epoch 583/1000\n",
            "1/1 [==============================] - 0s 17ms/step - loss: 0.7089 - inflam_loss: 0.5734 - nephr_loss: 0.6774 - inflam_acc: 0.8750 - nephr_acc: 0.5500\n",
            "Epoch 584/1000\n",
            "1/1 [==============================] - 0s 25ms/step - loss: 0.7070 - inflam_loss: 0.5730 - nephr_loss: 0.6698 - inflam_acc: 0.8875 - nephr_acc: 0.5500\n",
            "Epoch 585/1000\n",
            "1/1 [==============================] - 0s 5ms/step - loss: 0.7051 - inflam_loss: 0.5726 - nephr_loss: 0.6624 - inflam_acc: 0.8750 - nephr_acc: 0.5500\n",
            "Epoch 586/1000\n",
            "1/1 [==============================] - 0s 27ms/step - loss: 0.7033 - inflam_loss: 0.5722 - nephr_loss: 0.6553 - inflam_acc: 0.9000 - nephr_acc: 0.5500\n",
            "Epoch 587/1000\n",
            "1/1 [==============================] - 0s 15ms/step - loss: 0.7015 - inflam_loss: 0.5718 - nephr_loss: 0.6485 - inflam_acc: 0.8750 - nephr_acc: 0.5500\n",
            "Epoch 588/1000\n",
            "1/1 [==============================] - 0s 6ms/step - loss: 0.6998 - inflam_loss: 0.5714 - nephr_loss: 0.6420 - inflam_acc: 0.9000 - nephr_acc: 0.5500\n",
            "Epoch 589/1000\n",
            "1/1 [==============================] - 0s 9ms/step - loss: 0.6981 - inflam_loss: 0.5710 - nephr_loss: 0.6357 - inflam_acc: 0.8625 - nephr_acc: 0.5500\n",
            "Epoch 590/1000\n",
            "1/1 [==============================] - 0s 9ms/step - loss: 0.6965 - inflam_loss: 0.5706 - nephr_loss: 0.6297 - inflam_acc: 0.9000 - nephr_acc: 0.5500\n",
            "Epoch 591/1000\n",
            "1/1 [==============================] - 0s 6ms/step - loss: 0.6950 - inflam_loss: 0.5702 - nephr_loss: 0.6240 - inflam_acc: 0.8625 - nephr_acc: 0.5875\n",
            "Epoch 592/1000\n",
            "1/1 [==============================] - 0s 5ms/step - loss: 0.6935 - inflam_loss: 0.5698 - nephr_loss: 0.6185 - inflam_acc: 0.9000 - nephr_acc: 0.7000\n",
            "Epoch 593/1000\n",
            "1/1 [==============================] - 0s 7ms/step - loss: 0.6920 - inflam_loss: 0.5694 - nephr_loss: 0.6133 - inflam_acc: 0.8625 - nephr_acc: 0.7375\n",
            "Epoch 594/1000\n",
            "1/1 [==============================] - 0s 7ms/step - loss: 0.6906 - inflam_loss: 0.5689 - nephr_loss: 0.6083 - inflam_acc: 0.9000 - nephr_acc: 0.7375\n",
            "Epoch 595/1000\n",
            "1/1 [==============================] - 0s 14ms/step - loss: 0.6893 - inflam_loss: 0.5685 - nephr_loss: 0.6036 - inflam_acc: 0.8625 - nephr_acc: 0.7500\n",
            "Epoch 596/1000\n",
            "1/1 [==============================] - 0s 10ms/step - loss: 0.6880 - inflam_loss: 0.5681 - nephr_loss: 0.5991 - inflam_acc: 0.9000 - nephr_acc: 0.7875\n",
            "Epoch 597/1000\n",
            "1/1 [==============================] - 0s 18ms/step - loss: 0.6867 - inflam_loss: 0.5677 - nephr_loss: 0.5949 - inflam_acc: 0.8625 - nephr_acc: 0.8125\n",
            "Epoch 598/1000\n",
            "1/1 [==============================] - 0s 6ms/step - loss: 0.6855 - inflam_loss: 0.5673 - nephr_loss: 0.5909 - inflam_acc: 0.9000 - nephr_acc: 0.8125\n",
            "Epoch 599/1000\n",
            "1/1 [==============================] - 0s 24ms/step - loss: 0.6843 - inflam_loss: 0.5669 - nephr_loss: 0.5872 - inflam_acc: 0.8625 - nephr_acc: 0.8125\n",
            "Epoch 600/1000\n",
            "1/1 [==============================] - 0s 5ms/step - loss: 0.6832 - inflam_loss: 0.5665 - nephr_loss: 0.5836 - inflam_acc: 0.9000 - nephr_acc: 0.8125\n",
            "Epoch 601/1000\n",
            "1/1 [==============================] - 0s 13ms/step - loss: 0.6822 - inflam_loss: 0.5661 - nephr_loss: 0.5803 - inflam_acc: 0.8625 - nephr_acc: 0.8125\n",
            "Epoch 602/1000\n",
            "1/1 [==============================] - 0s 9ms/step - loss: 0.6811 - inflam_loss: 0.5657 - nephr_loss: 0.5773 - inflam_acc: 0.9000 - nephr_acc: 0.8125\n",
            "Epoch 603/1000\n",
            "1/1 [==============================] - 0s 11ms/step - loss: 0.6802 - inflam_loss: 0.5653 - nephr_loss: 0.5744 - inflam_acc: 0.8500 - nephr_acc: 0.8125\n",
            "Epoch 604/1000\n",
            "1/1 [==============================] - 0s 11ms/step - loss: 0.6792 - inflam_loss: 0.5649 - nephr_loss: 0.5717 - inflam_acc: 0.9000 - nephr_acc: 0.8125\n",
            "Epoch 605/1000\n",
            "1/1 [==============================] - 0s 22ms/step - loss: 0.6783 - inflam_loss: 0.5645 - nephr_loss: 0.5693 - inflam_acc: 0.8500 - nephr_acc: 0.8125\n",
            "Epoch 606/1000\n",
            "1/1 [==============================] - 0s 12ms/step - loss: 0.6775 - inflam_loss: 0.5641 - nephr_loss: 0.5670 - inflam_acc: 0.9000 - nephr_acc: 0.8125\n",
            "Epoch 607/1000\n",
            "1/1 [==============================] - 0s 6ms/step - loss: 0.6766 - inflam_loss: 0.5637 - nephr_loss: 0.5649 - inflam_acc: 0.8500 - nephr_acc: 0.8125\n",
            "Epoch 608/1000\n",
            "1/1 [==============================] - 0s 9ms/step - loss: 0.6759 - inflam_loss: 0.5633 - nephr_loss: 0.5630 - inflam_acc: 0.9000 - nephr_acc: 0.8125\n",
            "Epoch 609/1000\n",
            "1/1 [==============================] - 0s 29ms/step - loss: 0.6751 - inflam_loss: 0.5629 - nephr_loss: 0.5612 - inflam_acc: 0.8375 - nephr_acc: 0.8125\n",
            "Epoch 610/1000\n",
            "1/1 [==============================] - 0s 6ms/step - loss: 0.6744 - inflam_loss: 0.5625 - nephr_loss: 0.5596 - inflam_acc: 0.9000 - nephr_acc: 0.8125\n",
            "Epoch 611/1000\n",
            "1/1 [==============================] - 0s 6ms/step - loss: 0.6737 - inflam_loss: 0.5621 - nephr_loss: 0.5581 - inflam_acc: 0.8375 - nephr_acc: 0.8125\n",
            "Epoch 612/1000\n",
            "1/1 [==============================] - 0s 24ms/step - loss: 0.6730 - inflam_loss: 0.5617 - nephr_loss: 0.5568 - inflam_acc: 0.9000 - nephr_acc: 0.8125\n",
            "Epoch 613/1000\n",
            "1/1 [==============================] - 0s 7ms/step - loss: 0.6724 - inflam_loss: 0.5613 - nephr_loss: 0.5556 - inflam_acc: 0.8375 - nephr_acc: 0.8125\n",
            "Epoch 614/1000\n",
            "1/1 [==============================] - 0s 6ms/step - loss: 0.6718 - inflam_loss: 0.5609 - nephr_loss: 0.5545 - inflam_acc: 0.9000 - nephr_acc: 0.8125\n",
            "Epoch 615/1000\n",
            "1/1 [==============================] - 0s 17ms/step - loss: 0.6712 - inflam_loss: 0.5605 - nephr_loss: 0.5536 - inflam_acc: 0.8375 - nephr_acc: 0.8125\n",
            "Epoch 616/1000\n",
            "1/1 [==============================] - 0s 6ms/step - loss: 0.6706 - inflam_loss: 0.5600 - nephr_loss: 0.5527 - inflam_acc: 0.9000 - nephr_acc: 0.8125\n",
            "Epoch 617/1000\n",
            "1/1 [==============================] - 0s 15ms/step - loss: 0.6700 - inflam_loss: 0.5596 - nephr_loss: 0.5519 - inflam_acc: 0.8375 - nephr_acc: 0.8125\n",
            "Epoch 618/1000\n",
            "1/1 [==============================] - 0s 4ms/step - loss: 0.6695 - inflam_loss: 0.5592 - nephr_loss: 0.5512 - inflam_acc: 0.9000 - nephr_acc: 0.8125\n",
            "Epoch 619/1000\n",
            "1/1 [==============================] - 0s 10ms/step - loss: 0.6690 - inflam_loss: 0.5588 - nephr_loss: 0.5506 - inflam_acc: 0.8375 - nephr_acc: 0.8125\n",
            "Epoch 620/1000\n",
            "1/1 [==============================] - 0s 11ms/step - loss: 0.6684 - inflam_loss: 0.5584 - nephr_loss: 0.5500 - inflam_acc: 0.9000 - nephr_acc: 0.8125\n",
            "Epoch 621/1000\n",
            "1/1 [==============================] - 0s 11ms/step - loss: 0.6679 - inflam_loss: 0.5580 - nephr_loss: 0.5495 - inflam_acc: 0.8375 - nephr_acc: 0.8125\n",
            "Epoch 622/1000\n",
            "1/1 [==============================] - 0s 9ms/step - loss: 0.6674 - inflam_loss: 0.5576 - nephr_loss: 0.5490 - inflam_acc: 0.9000 - nephr_acc: 0.8125\n",
            "Epoch 623/1000\n",
            "1/1 [==============================] - 0s 11ms/step - loss: 0.6670 - inflam_loss: 0.5572 - nephr_loss: 0.5486 - inflam_acc: 0.8375 - nephr_acc: 0.8125\n",
            "Epoch 624/1000\n",
            "1/1 [==============================] - 0s 11ms/step - loss: 0.6665 - inflam_loss: 0.5568 - nephr_loss: 0.5482 - inflam_acc: 0.9000 - nephr_acc: 0.8125\n",
            "Epoch 625/1000\n",
            "1/1 [==============================] - 0s 12ms/step - loss: 0.6660 - inflam_loss: 0.5565 - nephr_loss: 0.5478 - inflam_acc: 0.8375 - nephr_acc: 0.8125\n",
            "Epoch 626/1000\n",
            "1/1 [==============================] - 0s 7ms/step - loss: 0.6655 - inflam_loss: 0.5561 - nephr_loss: 0.5474 - inflam_acc: 0.9000 - nephr_acc: 0.8125\n",
            "Epoch 627/1000\n",
            "1/1 [==============================] - 0s 12ms/step - loss: 0.6651 - inflam_loss: 0.5557 - nephr_loss: 0.5471 - inflam_acc: 0.8375 - nephr_acc: 0.8125\n",
            "Epoch 628/1000\n",
            "1/1 [==============================] - 0s 16ms/step - loss: 0.6646 - inflam_loss: 0.5553 - nephr_loss: 0.5467 - inflam_acc: 0.9000 - nephr_acc: 0.8125\n",
            "Epoch 629/1000\n",
            "1/1 [==============================] - 0s 14ms/step - loss: 0.6641 - inflam_loss: 0.5549 - nephr_loss: 0.5464 - inflam_acc: 0.8375 - nephr_acc: 0.8125\n",
            "Epoch 630/1000\n",
            "1/1 [==============================] - 0s 9ms/step - loss: 0.6637 - inflam_loss: 0.5545 - nephr_loss: 0.5461 - inflam_acc: 0.9000 - nephr_acc: 0.8125\n",
            "Epoch 631/1000\n",
            "1/1 [==============================] - 0s 16ms/step - loss: 0.6632 - inflam_loss: 0.5541 - nephr_loss: 0.5457 - inflam_acc: 0.8250 - nephr_acc: 0.8125\n",
            "Epoch 632/1000\n",
            "1/1 [==============================] - 0s 15ms/step - loss: 0.6627 - inflam_loss: 0.5537 - nephr_loss: 0.5454 - inflam_acc: 0.9000 - nephr_acc: 0.8125\n",
            "Epoch 633/1000\n",
            "1/1 [==============================] - 0s 11ms/step - loss: 0.6623 - inflam_loss: 0.5533 - nephr_loss: 0.5451 - inflam_acc: 0.8250 - nephr_acc: 0.8125\n",
            "Epoch 634/1000\n",
            "1/1 [==============================] - 0s 10ms/step - loss: 0.6618 - inflam_loss: 0.5529 - nephr_loss: 0.5448 - inflam_acc: 0.9000 - nephr_acc: 0.8125\n",
            "Epoch 635/1000\n",
            "1/1 [==============================] - 0s 12ms/step - loss: 0.6614 - inflam_loss: 0.5525 - nephr_loss: 0.5444 - inflam_acc: 0.8250 - nephr_acc: 0.8125\n",
            "Epoch 636/1000\n",
            "1/1 [==============================] - 0s 10ms/step - loss: 0.6609 - inflam_loss: 0.5521 - nephr_loss: 0.5441 - inflam_acc: 0.9000 - nephr_acc: 0.8125\n",
            "Epoch 637/1000\n",
            "1/1 [==============================] - 0s 12ms/step - loss: 0.6604 - inflam_loss: 0.5517 - nephr_loss: 0.5438 - inflam_acc: 0.8250 - nephr_acc: 0.8125\n",
            "Epoch 638/1000\n",
            "1/1 [==============================] - 0s 6ms/step - loss: 0.6600 - inflam_loss: 0.5513 - nephr_loss: 0.5434 - inflam_acc: 0.9000 - nephr_acc: 0.8125\n",
            "Epoch 639/1000\n",
            "1/1 [==============================] - 0s 9ms/step - loss: 0.6595 - inflam_loss: 0.5509 - nephr_loss: 0.5431 - inflam_acc: 0.8125 - nephr_acc: 0.8125\n",
            "Epoch 640/1000\n",
            "1/1 [==============================] - 0s 11ms/step - loss: 0.6591 - inflam_loss: 0.5505 - nephr_loss: 0.5427 - inflam_acc: 0.9000 - nephr_acc: 0.8125\n",
            "Epoch 641/1000\n",
            "1/1 [==============================] - 0s 14ms/step - loss: 0.6586 - inflam_loss: 0.5501 - nephr_loss: 0.5424 - inflam_acc: 0.8125 - nephr_acc: 0.8125\n",
            "Epoch 642/1000\n",
            "1/1 [==============================] - 0s 4ms/step - loss: 0.6581 - inflam_loss: 0.5497 - nephr_loss: 0.5420 - inflam_acc: 0.9000 - nephr_acc: 0.8125\n",
            "Epoch 643/1000\n",
            "1/1 [==============================] - 0s 15ms/step - loss: 0.6577 - inflam_loss: 0.5493 - nephr_loss: 0.5417 - inflam_acc: 0.8125 - nephr_acc: 0.8125\n",
            "Epoch 644/1000\n",
            "1/1 [==============================] - 0s 12ms/step - loss: 0.6572 - inflam_loss: 0.5489 - nephr_loss: 0.5413 - inflam_acc: 0.9000 - nephr_acc: 0.8125\n",
            "Epoch 645/1000\n",
            "1/1 [==============================] - 0s 7ms/step - loss: 0.6567 - inflam_loss: 0.5485 - nephr_loss: 0.5410 - inflam_acc: 0.8125 - nephr_acc: 0.8125\n",
            "Epoch 646/1000\n",
            "1/1 [==============================] - 0s 7ms/step - loss: 0.6563 - inflam_loss: 0.5481 - nephr_loss: 0.5406 - inflam_acc: 0.9000 - nephr_acc: 0.8125\n",
            "Epoch 647/1000\n",
            "1/1 [==============================] - 0s 8ms/step - loss: 0.6558 - inflam_loss: 0.5478 - nephr_loss: 0.5403 - inflam_acc: 0.8125 - nephr_acc: 0.8125\n",
            "Epoch 648/1000\n",
            "1/1 [==============================] - 0s 11ms/step - loss: 0.6553 - inflam_loss: 0.5474 - nephr_loss: 0.5399 - inflam_acc: 0.9000 - nephr_acc: 0.8125\n",
            "Epoch 649/1000\n",
            "1/1 [==============================] - 0s 6ms/step - loss: 0.6549 - inflam_loss: 0.5470 - nephr_loss: 0.5396 - inflam_acc: 0.8125 - nephr_acc: 0.8125\n",
            "Epoch 650/1000\n",
            "1/1 [==============================] - 0s 10ms/step - loss: 0.6544 - inflam_loss: 0.5466 - nephr_loss: 0.5392 - inflam_acc: 0.9000 - nephr_acc: 0.8125\n",
            "Epoch 651/1000\n",
            "1/1 [==============================] - 0s 12ms/step - loss: 0.6540 - inflam_loss: 0.5462 - nephr_loss: 0.5389 - inflam_acc: 0.8125 - nephr_acc: 0.8125\n",
            "Epoch 652/1000\n",
            "1/1 [==============================] - 0s 9ms/step - loss: 0.6535 - inflam_loss: 0.5458 - nephr_loss: 0.5385 - inflam_acc: 0.9000 - nephr_acc: 0.8125\n",
            "Epoch 653/1000\n",
            "1/1 [==============================] - 0s 14ms/step - loss: 0.6530 - inflam_loss: 0.5454 - nephr_loss: 0.5381 - inflam_acc: 0.8125 - nephr_acc: 0.8125\n",
            "Epoch 654/1000\n",
            "1/1 [==============================] - 0s 8ms/step - loss: 0.6526 - inflam_loss: 0.5450 - nephr_loss: 0.5378 - inflam_acc: 0.9000 - nephr_acc: 0.8125\n",
            "Epoch 655/1000\n",
            "1/1 [==============================] - 0s 10ms/step - loss: 0.6521 - inflam_loss: 0.5446 - nephr_loss: 0.5374 - inflam_acc: 0.8125 - nephr_acc: 0.8125\n",
            "Epoch 656/1000\n",
            "1/1 [==============================] - 0s 9ms/step - loss: 0.6516 - inflam_loss: 0.5442 - nephr_loss: 0.5371 - inflam_acc: 0.9000 - nephr_acc: 0.8125\n",
            "Epoch 657/1000\n",
            "1/1 [==============================] - 0s 9ms/step - loss: 0.6512 - inflam_loss: 0.5438 - nephr_loss: 0.5367 - inflam_acc: 0.8125 - nephr_acc: 0.8125\n",
            "Epoch 658/1000\n",
            "1/1 [==============================] - 0s 7ms/step - loss: 0.6507 - inflam_loss: 0.5435 - nephr_loss: 0.5363 - inflam_acc: 0.9000 - nephr_acc: 0.8125\n",
            "Epoch 659/1000\n",
            "1/1 [==============================] - 0s 11ms/step - loss: 0.6503 - inflam_loss: 0.5431 - nephr_loss: 0.5360 - inflam_acc: 0.8125 - nephr_acc: 0.8125\n",
            "Epoch 660/1000\n",
            "1/1 [==============================] - 0s 5ms/step - loss: 0.6498 - inflam_loss: 0.5427 - nephr_loss: 0.5356 - inflam_acc: 0.9000 - nephr_acc: 0.8125\n",
            "Epoch 661/1000\n",
            "1/1 [==============================] - 0s 17ms/step - loss: 0.6493 - inflam_loss: 0.5423 - nephr_loss: 0.5352 - inflam_acc: 0.8125 - nephr_acc: 0.8125\n",
            "Epoch 662/1000\n",
            "1/1 [==============================] - 0s 22ms/step - loss: 0.6489 - inflam_loss: 0.5419 - nephr_loss: 0.5349 - inflam_acc: 0.9000 - nephr_acc: 0.8125\n",
            "Epoch 663/1000\n",
            "1/1 [==============================] - 0s 9ms/step - loss: 0.6484 - inflam_loss: 0.5415 - nephr_loss: 0.5345 - inflam_acc: 0.8125 - nephr_acc: 0.8125\n",
            "Epoch 664/1000\n",
            "1/1 [==============================] - 0s 17ms/step - loss: 0.6480 - inflam_loss: 0.5411 - nephr_loss: 0.5342 - inflam_acc: 0.9000 - nephr_acc: 0.8125\n",
            "Epoch 665/1000\n",
            "1/1 [==============================] - 0s 6ms/step - loss: 0.6475 - inflam_loss: 0.5407 - nephr_loss: 0.5338 - inflam_acc: 0.8125 - nephr_acc: 0.8125\n",
            "Epoch 666/1000\n",
            "1/1 [==============================] - 0s 25ms/step - loss: 0.6470 - inflam_loss: 0.5403 - nephr_loss: 0.5334 - inflam_acc: 0.9000 - nephr_acc: 0.8125\n",
            "Epoch 667/1000\n",
            "1/1 [==============================] - 0s 20ms/step - loss: 0.6466 - inflam_loss: 0.5400 - nephr_loss: 0.5331 - inflam_acc: 0.8125 - nephr_acc: 0.8125\n",
            "Epoch 668/1000\n",
            "1/1 [==============================] - 0s 17ms/step - loss: 0.6461 - inflam_loss: 0.5396 - nephr_loss: 0.5327 - inflam_acc: 0.9000 - nephr_acc: 0.8125\n",
            "Epoch 669/1000\n",
            "1/1 [==============================] - 0s 12ms/step - loss: 0.6457 - inflam_loss: 0.5392 - nephr_loss: 0.5323 - inflam_acc: 0.8125 - nephr_acc: 0.8125\n",
            "Epoch 670/1000\n",
            "1/1 [==============================] - 0s 11ms/step - loss: 0.6452 - inflam_loss: 0.5388 - nephr_loss: 0.5320 - inflam_acc: 0.9000 - nephr_acc: 0.8125\n",
            "Epoch 671/1000\n",
            "1/1 [==============================] - 0s 10ms/step - loss: 0.6447 - inflam_loss: 0.5384 - nephr_loss: 0.5316 - inflam_acc: 0.8125 - nephr_acc: 0.8125\n",
            "Epoch 672/1000\n",
            "1/1 [==============================] - 0s 17ms/step - loss: 0.6443 - inflam_loss: 0.5380 - nephr_loss: 0.5313 - inflam_acc: 0.9000 - nephr_acc: 0.8125\n",
            "Epoch 673/1000\n",
            "1/1 [==============================] - 0s 6ms/step - loss: 0.6438 - inflam_loss: 0.5376 - nephr_loss: 0.5309 - inflam_acc: 0.8125 - nephr_acc: 0.8125\n",
            "Epoch 674/1000\n",
            "1/1 [==============================] - 0s 9ms/step - loss: 0.6434 - inflam_loss: 0.5373 - nephr_loss: 0.5305 - inflam_acc: 0.9000 - nephr_acc: 0.8125\n",
            "Epoch 675/1000\n",
            "1/1 [==============================] - 0s 7ms/step - loss: 0.6429 - inflam_loss: 0.5369 - nephr_loss: 0.5302 - inflam_acc: 0.8125 - nephr_acc: 0.8125\n",
            "Epoch 676/1000\n",
            "1/1 [==============================] - 0s 8ms/step - loss: 0.6425 - inflam_loss: 0.5365 - nephr_loss: 0.5298 - inflam_acc: 0.9000 - nephr_acc: 0.8125\n",
            "Epoch 677/1000\n",
            "1/1 [==============================] - 0s 9ms/step - loss: 0.6420 - inflam_loss: 0.5361 - nephr_loss: 0.5294 - inflam_acc: 0.8125 - nephr_acc: 0.8125\n",
            "Epoch 678/1000\n",
            "1/1 [==============================] - 0s 5ms/step - loss: 0.6415 - inflam_loss: 0.5357 - nephr_loss: 0.5291 - inflam_acc: 0.9000 - nephr_acc: 0.8125\n",
            "Epoch 679/1000\n",
            "1/1 [==============================] - 0s 9ms/step - loss: 0.6411 - inflam_loss: 0.5353 - nephr_loss: 0.5287 - inflam_acc: 0.8125 - nephr_acc: 0.8125\n",
            "Epoch 680/1000\n",
            "1/1 [==============================] - 0s 10ms/step - loss: 0.6406 - inflam_loss: 0.5350 - nephr_loss: 0.5284 - inflam_acc: 0.9000 - nephr_acc: 0.8125\n",
            "Epoch 681/1000\n",
            "1/1 [==============================] - 0s 7ms/step - loss: 0.6402 - inflam_loss: 0.5346 - nephr_loss: 0.5280 - inflam_acc: 0.8125 - nephr_acc: 0.8125\n",
            "Epoch 682/1000\n",
            "1/1 [==============================] - 0s 8ms/step - loss: 0.6397 - inflam_loss: 0.5342 - nephr_loss: 0.5276 - inflam_acc: 0.9000 - nephr_acc: 0.8125\n",
            "Epoch 683/1000\n",
            "1/1 [==============================] - 0s 8ms/step - loss: 0.6393 - inflam_loss: 0.5338 - nephr_loss: 0.5273 - inflam_acc: 0.8125 - nephr_acc: 0.8125\n",
            "Epoch 684/1000\n",
            "1/1 [==============================] - 0s 8ms/step - loss: 0.6388 - inflam_loss: 0.5334 - nephr_loss: 0.5269 - inflam_acc: 0.9000 - nephr_acc: 0.8125\n",
            "Epoch 685/1000\n",
            "1/1 [==============================] - 0s 20ms/step - loss: 0.6384 - inflam_loss: 0.5330 - nephr_loss: 0.5266 - inflam_acc: 0.8125 - nephr_acc: 0.8125\n",
            "Epoch 686/1000\n",
            "1/1 [==============================] - 0s 5ms/step - loss: 0.6379 - inflam_loss: 0.5327 - nephr_loss: 0.5262 - inflam_acc: 0.9000 - nephr_acc: 0.8125\n",
            "Epoch 687/1000\n",
            "1/1 [==============================] - 0s 14ms/step - loss: 0.6375 - inflam_loss: 0.5323 - nephr_loss: 0.5258 - inflam_acc: 0.8125 - nephr_acc: 0.8125\n",
            "Epoch 688/1000\n",
            "1/1 [==============================] - 0s 7ms/step - loss: 0.6370 - inflam_loss: 0.5319 - nephr_loss: 0.5255 - inflam_acc: 0.9000 - nephr_acc: 0.8125\n",
            "Epoch 689/1000\n",
            "1/1 [==============================] - 0s 23ms/step - loss: 0.6365 - inflam_loss: 0.5315 - nephr_loss: 0.5251 - inflam_acc: 0.8125 - nephr_acc: 0.8125\n",
            "Epoch 690/1000\n",
            "1/1 [==============================] - 0s 5ms/step - loss: 0.6361 - inflam_loss: 0.5311 - nephr_loss: 0.5248 - inflam_acc: 0.9000 - nephr_acc: 0.8125\n",
            "Epoch 691/1000\n",
            "1/1 [==============================] - 0s 8ms/step - loss: 0.6357 - inflam_loss: 0.5308 - nephr_loss: 0.5245 - inflam_acc: 0.8125 - nephr_acc: 0.8125\n",
            "Epoch 692/1000\n",
            "1/1 [==============================] - 0s 17ms/step - loss: 0.6353 - inflam_loss: 0.5304 - nephr_loss: 0.5245 - inflam_acc: 0.9000 - nephr_acc: 0.8125\n",
            "Epoch 693/1000\n",
            "1/1 [==============================] - 0s 5ms/step - loss: 0.6348 - inflam_loss: 0.5300 - nephr_loss: 0.5239 - inflam_acc: 0.8125 - nephr_acc: 0.8125\n",
            "Epoch 694/1000\n",
            "1/1 [==============================] - 0s 19ms/step - loss: 0.6343 - inflam_loss: 0.5296 - nephr_loss: 0.5234 - inflam_acc: 0.9000 - nephr_acc: 0.8125\n",
            "Epoch 695/1000\n",
            "1/1 [==============================] - 0s 6ms/step - loss: 0.6338 - inflam_loss: 0.5292 - nephr_loss: 0.5230 - inflam_acc: 0.8125 - nephr_acc: 0.8125\n",
            "Epoch 696/1000\n",
            "1/1 [==============================] - 0s 9ms/step - loss: 0.6334 - inflam_loss: 0.5289 - nephr_loss: 0.5226 - inflam_acc: 0.9000 - nephr_acc: 0.8125\n",
            "Epoch 697/1000\n",
            "1/1 [==============================] - 0s 7ms/step - loss: 0.6329 - inflam_loss: 0.5285 - nephr_loss: 0.5223 - inflam_acc: 0.8125 - nephr_acc: 0.8125\n",
            "Epoch 698/1000\n",
            "1/1 [==============================] - 0s 14ms/step - loss: 0.6325 - inflam_loss: 0.5281 - nephr_loss: 0.5219 - inflam_acc: 0.9000 - nephr_acc: 0.8125\n",
            "Epoch 699/1000\n",
            "1/1 [==============================] - 0s 17ms/step - loss: 0.6320 - inflam_loss: 0.5277 - nephr_loss: 0.5215 - inflam_acc: 0.8125 - nephr_acc: 0.8125\n",
            "Epoch 700/1000\n",
            "1/1 [==============================] - 0s 6ms/step - loss: 0.6316 - inflam_loss: 0.5274 - nephr_loss: 0.5212 - inflam_acc: 0.9000 - nephr_acc: 0.8125\n",
            "Epoch 701/1000\n",
            "1/1 [==============================] - 0s 10ms/step - loss: 0.6311 - inflam_loss: 0.5270 - nephr_loss: 0.5208 - inflam_acc: 0.8125 - nephr_acc: 0.8125\n",
            "Epoch 702/1000\n",
            "1/1 [==============================] - 0s 11ms/step - loss: 0.6307 - inflam_loss: 0.5266 - nephr_loss: 0.5205 - inflam_acc: 0.9000 - nephr_acc: 0.8125\n",
            "Epoch 703/1000\n",
            "1/1 [==============================] - 0s 15ms/step - loss: 0.6302 - inflam_loss: 0.5262 - nephr_loss: 0.5201 - inflam_acc: 0.8125 - nephr_acc: 0.8125\n",
            "Epoch 704/1000\n",
            "1/1 [==============================] - 0s 6ms/step - loss: 0.6298 - inflam_loss: 0.5258 - nephr_loss: 0.5198 - inflam_acc: 0.9000 - nephr_acc: 0.8125\n",
            "Epoch 705/1000\n",
            "1/1 [==============================] - 0s 9ms/step - loss: 0.6294 - inflam_loss: 0.5255 - nephr_loss: 0.5194 - inflam_acc: 0.8125 - nephr_acc: 0.8125\n",
            "Epoch 706/1000\n",
            "1/1 [==============================] - 0s 15ms/step - loss: 0.6289 - inflam_loss: 0.5251 - nephr_loss: 0.5191 - inflam_acc: 0.9000 - nephr_acc: 0.8125\n",
            "Epoch 707/1000\n",
            "1/1 [==============================] - 0s 7ms/step - loss: 0.6285 - inflam_loss: 0.5247 - nephr_loss: 0.5188 - inflam_acc: 0.8125 - nephr_acc: 0.8125\n",
            "Epoch 708/1000\n",
            "1/1 [==============================] - 0s 8ms/step - loss: 0.6280 - inflam_loss: 0.5243 - nephr_loss: 0.5185 - inflam_acc: 0.9000 - nephr_acc: 0.8125\n",
            "Epoch 709/1000\n",
            "1/1 [==============================] - 0s 11ms/step - loss: 0.6276 - inflam_loss: 0.5240 - nephr_loss: 0.5181 - inflam_acc: 0.8125 - nephr_acc: 0.8125\n",
            "Epoch 710/1000\n",
            "1/1 [==============================] - 0s 12ms/step - loss: 0.6271 - inflam_loss: 0.5236 - nephr_loss: 0.5177 - inflam_acc: 0.9000 - nephr_acc: 0.8125\n",
            "Epoch 711/1000\n",
            "1/1 [==============================] - 0s 10ms/step - loss: 0.6267 - inflam_loss: 0.5232 - nephr_loss: 0.5173 - inflam_acc: 0.8125 - nephr_acc: 0.8125\n",
            "Epoch 712/1000\n",
            "1/1 [==============================] - 0s 11ms/step - loss: 0.6262 - inflam_loss: 0.5228 - nephr_loss: 0.5170 - inflam_acc: 0.9000 - nephr_acc: 0.8125\n",
            "Epoch 713/1000\n",
            "1/1 [==============================] - 0s 12ms/step - loss: 0.6258 - inflam_loss: 0.5225 - nephr_loss: 0.5166 - inflam_acc: 0.8125 - nephr_acc: 0.8125\n",
            "Epoch 714/1000\n",
            "1/1 [==============================] - 0s 11ms/step - loss: 0.6253 - inflam_loss: 0.5221 - nephr_loss: 0.5162 - inflam_acc: 0.9000 - nephr_acc: 0.8125\n",
            "Epoch 715/1000\n",
            "1/1 [==============================] - 0s 14ms/step - loss: 0.6249 - inflam_loss: 0.5217 - nephr_loss: 0.5159 - inflam_acc: 0.8125 - nephr_acc: 0.8125\n",
            "Epoch 716/1000\n",
            "1/1 [==============================] - 0s 10ms/step - loss: 0.6245 - inflam_loss: 0.5214 - nephr_loss: 0.5155 - inflam_acc: 0.9000 - nephr_acc: 0.8125\n",
            "Epoch 717/1000\n",
            "1/1 [==============================] - 0s 11ms/step - loss: 0.6240 - inflam_loss: 0.5210 - nephr_loss: 0.5152 - inflam_acc: 0.8125 - nephr_acc: 0.8125\n",
            "Epoch 718/1000\n",
            "1/1 [==============================] - 0s 10ms/step - loss: 0.6236 - inflam_loss: 0.5206 - nephr_loss: 0.5148 - inflam_acc: 0.9000 - nephr_acc: 0.8125\n",
            "Epoch 719/1000\n",
            "1/1 [==============================] - 0s 10ms/step - loss: 0.6231 - inflam_loss: 0.5202 - nephr_loss: 0.5145 - inflam_acc: 0.8375 - nephr_acc: 0.8125\n",
            "Epoch 720/1000\n",
            "1/1 [==============================] - 0s 26ms/step - loss: 0.6227 - inflam_loss: 0.5199 - nephr_loss: 0.5141 - inflam_acc: 0.9000 - nephr_acc: 0.8125\n",
            "Epoch 721/1000\n",
            "1/1 [==============================] - 0s 7ms/step - loss: 0.6223 - inflam_loss: 0.5195 - nephr_loss: 0.5138 - inflam_acc: 0.8375 - nephr_acc: 0.8125\n",
            "Epoch 722/1000\n",
            "1/1 [==============================] - 0s 13ms/step - loss: 0.6218 - inflam_loss: 0.5191 - nephr_loss: 0.5135 - inflam_acc: 0.9000 - nephr_acc: 0.8125\n",
            "Epoch 723/1000\n",
            "1/1 [==============================] - 0s 13ms/step - loss: 0.6214 - inflam_loss: 0.5188 - nephr_loss: 0.5131 - inflam_acc: 0.8500 - nephr_acc: 0.8125\n",
            "Epoch 724/1000\n",
            "1/1 [==============================] - 0s 11ms/step - loss: 0.6209 - inflam_loss: 0.5184 - nephr_loss: 0.5128 - inflam_acc: 0.9000 - nephr_acc: 0.8125\n",
            "Epoch 725/1000\n",
            "1/1 [==============================] - 0s 13ms/step - loss: 0.6205 - inflam_loss: 0.5180 - nephr_loss: 0.5124 - inflam_acc: 0.8500 - nephr_acc: 0.8125\n",
            "Epoch 726/1000\n",
            "1/1 [==============================] - 0s 11ms/step - loss: 0.6200 - inflam_loss: 0.5176 - nephr_loss: 0.5120 - inflam_acc: 0.9000 - nephr_acc: 0.8125\n",
            "Epoch 727/1000\n",
            "1/1 [==============================] - 0s 11ms/step - loss: 0.6196 - inflam_loss: 0.5173 - nephr_loss: 0.5117 - inflam_acc: 0.8625 - nephr_acc: 0.8125\n",
            "Epoch 728/1000\n",
            "1/1 [==============================] - 0s 8ms/step - loss: 0.6192 - inflam_loss: 0.5169 - nephr_loss: 0.5113 - inflam_acc: 0.9000 - nephr_acc: 0.8125\n",
            "Epoch 729/1000\n",
            "1/1 [==============================] - 0s 10ms/step - loss: 0.6187 - inflam_loss: 0.5165 - nephr_loss: 0.5110 - inflam_acc: 0.9000 - nephr_acc: 0.8125\n",
            "Epoch 730/1000\n",
            "1/1 [==============================] - 0s 20ms/step - loss: 0.6183 - inflam_loss: 0.5162 - nephr_loss: 0.5106 - inflam_acc: 0.9000 - nephr_acc: 0.8125\n",
            "Epoch 731/1000\n",
            "1/1 [==============================] - 0s 7ms/step - loss: 0.6178 - inflam_loss: 0.5158 - nephr_loss: 0.5103 - inflam_acc: 0.9000 - nephr_acc: 0.8125\n",
            "Epoch 732/1000\n",
            "1/1 [==============================] - 0s 7ms/step - loss: 0.6174 - inflam_loss: 0.5154 - nephr_loss: 0.5099 - inflam_acc: 0.9000 - nephr_acc: 0.8125\n",
            "Epoch 733/1000\n",
            "1/1 [==============================] - 0s 15ms/step - loss: 0.6170 - inflam_loss: 0.5151 - nephr_loss: 0.5096 - inflam_acc: 0.9125 - nephr_acc: 0.8125\n",
            "Epoch 734/1000\n",
            "1/1 [==============================] - 0s 7ms/step - loss: 0.6165 - inflam_loss: 0.5147 - nephr_loss: 0.5092 - inflam_acc: 0.9000 - nephr_acc: 0.8125\n",
            "Epoch 735/1000\n",
            "1/1 [==============================] - 0s 17ms/step - loss: 0.6161 - inflam_loss: 0.5143 - nephr_loss: 0.5089 - inflam_acc: 0.9125 - nephr_acc: 0.8125\n",
            "Epoch 736/1000\n",
            "1/1 [==============================] - 0s 8ms/step - loss: 0.6157 - inflam_loss: 0.5140 - nephr_loss: 0.5086 - inflam_acc: 0.9000 - nephr_acc: 0.8125\n",
            "Epoch 737/1000\n",
            "1/1 [==============================] - 0s 7ms/step - loss: 0.6152 - inflam_loss: 0.5136 - nephr_loss: 0.5082 - inflam_acc: 0.9125 - nephr_acc: 0.8125\n",
            "Epoch 738/1000\n",
            "1/1 [==============================] - 0s 12ms/step - loss: 0.6148 - inflam_loss: 0.5132 - nephr_loss: 0.5079 - inflam_acc: 0.9000 - nephr_acc: 0.8125\n",
            "Epoch 739/1000\n",
            "1/1 [==============================] - 0s 12ms/step - loss: 0.6144 - inflam_loss: 0.5128 - nephr_loss: 0.5075 - inflam_acc: 0.9125 - nephr_acc: 0.8125\n",
            "Epoch 740/1000\n",
            "1/1 [==============================] - 0s 12ms/step - loss: 0.6139 - inflam_loss: 0.5125 - nephr_loss: 0.5072 - inflam_acc: 0.9000 - nephr_acc: 0.8125\n",
            "Epoch 741/1000\n",
            "1/1 [==============================] - 0s 7ms/step - loss: 0.6135 - inflam_loss: 0.5121 - nephr_loss: 0.5068 - inflam_acc: 0.9125 - nephr_acc: 0.8125\n",
            "Epoch 742/1000\n",
            "1/1 [==============================] - 0s 15ms/step - loss: 0.6130 - inflam_loss: 0.5118 - nephr_loss: 0.5065 - inflam_acc: 0.9000 - nephr_acc: 0.8125\n",
            "Epoch 743/1000\n",
            "1/1 [==============================] - 0s 6ms/step - loss: 0.6126 - inflam_loss: 0.5114 - nephr_loss: 0.5061 - inflam_acc: 0.9125 - nephr_acc: 0.8125\n",
            "Epoch 744/1000\n",
            "1/1 [==============================] - 0s 7ms/step - loss: 0.6122 - inflam_loss: 0.5110 - nephr_loss: 0.5058 - inflam_acc: 0.9000 - nephr_acc: 0.8125\n",
            "Epoch 745/1000\n",
            "1/1 [==============================] - 0s 10ms/step - loss: 0.6117 - inflam_loss: 0.5107 - nephr_loss: 0.5054 - inflam_acc: 0.9125 - nephr_acc: 0.8125\n",
            "Epoch 746/1000\n",
            "1/1 [==============================] - 0s 18ms/step - loss: 0.6113 - inflam_loss: 0.5103 - nephr_loss: 0.5051 - inflam_acc: 0.9000 - nephr_acc: 0.8125\n",
            "Epoch 747/1000\n",
            "1/1 [==============================] - 0s 9ms/step - loss: 0.6109 - inflam_loss: 0.5099 - nephr_loss: 0.5047 - inflam_acc: 0.9125 - nephr_acc: 0.8125\n",
            "Epoch 748/1000\n",
            "1/1 [==============================] - 0s 11ms/step - loss: 0.6104 - inflam_loss: 0.5096 - nephr_loss: 0.5044 - inflam_acc: 0.9250 - nephr_acc: 0.8125\n",
            "Epoch 749/1000\n",
            "1/1 [==============================] - 0s 12ms/step - loss: 0.6100 - inflam_loss: 0.5092 - nephr_loss: 0.5041 - inflam_acc: 0.9125 - nephr_acc: 0.8125\n",
            "Epoch 750/1000\n",
            "1/1 [==============================] - 0s 7ms/step - loss: 0.6096 - inflam_loss: 0.5088 - nephr_loss: 0.5037 - inflam_acc: 0.9250 - nephr_acc: 0.8125\n",
            "Epoch 751/1000\n",
            "1/1 [==============================] - 0s 15ms/step - loss: 0.6091 - inflam_loss: 0.5085 - nephr_loss: 0.5034 - inflam_acc: 0.9125 - nephr_acc: 0.8125\n",
            "Epoch 752/1000\n",
            "1/1 [==============================] - 0s 9ms/step - loss: 0.6087 - inflam_loss: 0.5081 - nephr_loss: 0.5030 - inflam_acc: 0.9375 - nephr_acc: 0.8125\n",
            "Epoch 753/1000\n",
            "1/1 [==============================] - 0s 5ms/step - loss: 0.6083 - inflam_loss: 0.5077 - nephr_loss: 0.5027 - inflam_acc: 0.9125 - nephr_acc: 0.8125\n",
            "Epoch 754/1000\n",
            "1/1 [==============================] - 0s 6ms/step - loss: 0.6078 - inflam_loss: 0.5074 - nephr_loss: 0.5023 - inflam_acc: 0.9375 - nephr_acc: 0.8125\n",
            "Epoch 755/1000\n",
            "1/1 [==============================] - 0s 9ms/step - loss: 0.6074 - inflam_loss: 0.5070 - nephr_loss: 0.5020 - inflam_acc: 0.9125 - nephr_acc: 0.8125\n",
            "Epoch 756/1000\n",
            "1/1 [==============================] - 0s 7ms/step - loss: 0.6070 - inflam_loss: 0.5067 - nephr_loss: 0.5016 - inflam_acc: 0.9500 - nephr_acc: 0.8125\n",
            "Epoch 757/1000\n",
            "1/1 [==============================] - 0s 4ms/step - loss: 0.6066 - inflam_loss: 0.5063 - nephr_loss: 0.5013 - inflam_acc: 0.9125 - nephr_acc: 0.8125\n",
            "Epoch 758/1000\n",
            "1/1 [==============================] - 0s 11ms/step - loss: 0.6061 - inflam_loss: 0.5059 - nephr_loss: 0.5010 - inflam_acc: 0.9625 - nephr_acc: 0.8125\n",
            "Epoch 759/1000\n",
            "1/1 [==============================] - 0s 6ms/step - loss: 0.6057 - inflam_loss: 0.5056 - nephr_loss: 0.5006 - inflam_acc: 0.9125 - nephr_acc: 0.8125\n",
            "Epoch 760/1000\n",
            "1/1 [==============================] - 0s 9ms/step - loss: 0.6053 - inflam_loss: 0.5052 - nephr_loss: 0.5003 - inflam_acc: 0.9750 - nephr_acc: 0.8125\n",
            "Epoch 761/1000\n",
            "1/1 [==============================] - 0s 4ms/step - loss: 0.6048 - inflam_loss: 0.5049 - nephr_loss: 0.4999 - inflam_acc: 0.9125 - nephr_acc: 0.8125\n",
            "Epoch 762/1000\n",
            "1/1 [==============================] - 0s 6ms/step - loss: 0.6044 - inflam_loss: 0.5045 - nephr_loss: 0.4996 - inflam_acc: 0.9875 - nephr_acc: 0.8125\n",
            "Epoch 763/1000\n",
            "1/1 [==============================] - 0s 4ms/step - loss: 0.6040 - inflam_loss: 0.5041 - nephr_loss: 0.4993 - inflam_acc: 0.9125 - nephr_acc: 0.8125\n",
            "Epoch 764/1000\n",
            "1/1 [==============================] - 0s 7ms/step - loss: 0.6036 - inflam_loss: 0.5038 - nephr_loss: 0.4989 - inflam_acc: 0.9875 - nephr_acc: 0.8125\n",
            "Epoch 765/1000\n",
            "1/1 [==============================] - 0s 6ms/step - loss: 0.6031 - inflam_loss: 0.5034 - nephr_loss: 0.4986 - inflam_acc: 0.9125 - nephr_acc: 0.8125\n",
            "Epoch 766/1000\n",
            "1/1 [==============================] - 0s 9ms/step - loss: 0.6027 - inflam_loss: 0.5031 - nephr_loss: 0.4982 - inflam_acc: 0.9875 - nephr_acc: 0.8125\n",
            "Epoch 767/1000\n",
            "1/1 [==============================] - 0s 21ms/step - loss: 0.6023 - inflam_loss: 0.5027 - nephr_loss: 0.4979 - inflam_acc: 0.9125 - nephr_acc: 0.8125\n",
            "Epoch 768/1000\n",
            "1/1 [==============================] - 0s 4ms/step - loss: 0.6018 - inflam_loss: 0.5023 - nephr_loss: 0.4975 - inflam_acc: 0.9875 - nephr_acc: 0.8125\n",
            "Epoch 769/1000\n",
            "1/1 [==============================] - 0s 5ms/step - loss: 0.6014 - inflam_loss: 0.5020 - nephr_loss: 0.4972 - inflam_acc: 0.9125 - nephr_acc: 0.8125\n",
            "Epoch 770/1000\n",
            "1/1 [==============================] - 0s 6ms/step - loss: 0.6010 - inflam_loss: 0.5016 - nephr_loss: 0.4969 - inflam_acc: 0.9875 - nephr_acc: 0.8125\n",
            "Epoch 771/1000\n",
            "1/1 [==============================] - 0s 7ms/step - loss: 0.6006 - inflam_loss: 0.5013 - nephr_loss: 0.4965 - inflam_acc: 0.9125 - nephr_acc: 0.8125\n",
            "Epoch 772/1000\n",
            "1/1 [==============================] - 0s 16ms/step - loss: 0.6001 - inflam_loss: 0.5009 - nephr_loss: 0.4962 - inflam_acc: 0.9875 - nephr_acc: 0.8125\n",
            "Epoch 773/1000\n",
            "1/1 [==============================] - 0s 13ms/step - loss: 0.5997 - inflam_loss: 0.5005 - nephr_loss: 0.4958 - inflam_acc: 0.9125 - nephr_acc: 0.8125\n",
            "Epoch 774/1000\n",
            "1/1 [==============================] - 0s 9ms/step - loss: 0.5993 - inflam_loss: 0.5002 - nephr_loss: 0.4955 - inflam_acc: 0.9875 - nephr_acc: 0.8125\n",
            "Epoch 775/1000\n",
            "1/1 [==============================] - 0s 11ms/step - loss: 0.5989 - inflam_loss: 0.4998 - nephr_loss: 0.4952 - inflam_acc: 0.9125 - nephr_acc: 0.8125\n",
            "Epoch 776/1000\n",
            "1/1 [==============================] - 0s 79ms/step - loss: 0.5984 - inflam_loss: 0.4995 - nephr_loss: 0.4948 - inflam_acc: 0.9875 - nephr_acc: 0.8125\n",
            "Epoch 777/1000\n",
            "1/1 [==============================] - 0s 7ms/step - loss: 0.5980 - inflam_loss: 0.4991 - nephr_loss: 0.4945 - inflam_acc: 0.9125 - nephr_acc: 0.8125\n",
            "Epoch 778/1000\n",
            "1/1 [==============================] - 0s 13ms/step - loss: 0.5976 - inflam_loss: 0.4988 - nephr_loss: 0.4942 - inflam_acc: 0.9875 - nephr_acc: 0.8125\n",
            "Epoch 779/1000\n",
            "1/1 [==============================] - 0s 15ms/step - loss: 0.5972 - inflam_loss: 0.4984 - nephr_loss: 0.4938 - inflam_acc: 0.9125 - nephr_acc: 0.8125\n",
            "Epoch 780/1000\n",
            "1/1 [==============================] - 0s 6ms/step - loss: 0.5967 - inflam_loss: 0.4980 - nephr_loss: 0.4935 - inflam_acc: 0.9750 - nephr_acc: 0.8125\n",
            "Epoch 781/1000\n",
            "1/1 [==============================] - 0s 10ms/step - loss: 0.5963 - inflam_loss: 0.4977 - nephr_loss: 0.4931 - inflam_acc: 0.9125 - nephr_acc: 0.8125\n",
            "Epoch 782/1000\n",
            "1/1 [==============================] - 0s 14ms/step - loss: 0.5959 - inflam_loss: 0.4973 - nephr_loss: 0.4928 - inflam_acc: 0.9750 - nephr_acc: 0.8125\n",
            "Epoch 783/1000\n",
            "1/1 [==============================] - 0s 12ms/step - loss: 0.5955 - inflam_loss: 0.4970 - nephr_loss: 0.4925 - inflam_acc: 0.9125 - nephr_acc: 0.8125\n",
            "Epoch 784/1000\n",
            "1/1 [==============================] - 0s 29ms/step - loss: 0.5951 - inflam_loss: 0.4966 - nephr_loss: 0.4921 - inflam_acc: 0.9750 - nephr_acc: 0.8125\n",
            "Epoch 785/1000\n",
            "1/1 [==============================] - 0s 12ms/step - loss: 0.5946 - inflam_loss: 0.4963 - nephr_loss: 0.4918 - inflam_acc: 0.9125 - nephr_acc: 0.8125\n",
            "Epoch 786/1000\n",
            "1/1 [==============================] - 0s 10ms/step - loss: 0.5942 - inflam_loss: 0.4959 - nephr_loss: 0.4915 - inflam_acc: 0.9750 - nephr_acc: 0.8125\n",
            "Epoch 787/1000\n",
            "1/1 [==============================] - 0s 7ms/step - loss: 0.5938 - inflam_loss: 0.4956 - nephr_loss: 0.4911 - inflam_acc: 0.9125 - nephr_acc: 0.8125\n",
            "Epoch 788/1000\n",
            "1/1 [==============================] - 0s 8ms/step - loss: 0.5934 - inflam_loss: 0.4952 - nephr_loss: 0.4908 - inflam_acc: 0.9750 - nephr_acc: 0.8125\n",
            "Epoch 789/1000\n",
            "1/1 [==============================] - 0s 7ms/step - loss: 0.5930 - inflam_loss: 0.4949 - nephr_loss: 0.4905 - inflam_acc: 0.9125 - nephr_acc: 0.8125\n",
            "Epoch 790/1000\n",
            "1/1 [==============================] - 0s 10ms/step - loss: 0.5925 - inflam_loss: 0.4945 - nephr_loss: 0.4901 - inflam_acc: 0.9750 - nephr_acc: 0.8125\n",
            "Epoch 791/1000\n",
            "1/1 [==============================] - 0s 9ms/step - loss: 0.5921 - inflam_loss: 0.4942 - nephr_loss: 0.4898 - inflam_acc: 0.9125 - nephr_acc: 0.8125\n",
            "Epoch 792/1000\n",
            "1/1 [==============================] - 0s 5ms/step - loss: 0.5917 - inflam_loss: 0.4938 - nephr_loss: 0.4895 - inflam_acc: 0.9750 - nephr_acc: 0.8125\n",
            "Epoch 793/1000\n",
            "1/1 [==============================] - 0s 17ms/step - loss: 0.5913 - inflam_loss: 0.4935 - nephr_loss: 0.4891 - inflam_acc: 0.9125 - nephr_acc: 0.8125\n",
            "Epoch 794/1000\n",
            "1/1 [==============================] - 0s 15ms/step - loss: 0.5909 - inflam_loss: 0.4931 - nephr_loss: 0.4888 - inflam_acc: 0.9750 - nephr_acc: 0.8125\n",
            "Epoch 795/1000\n",
            "1/1 [==============================] - 0s 9ms/step - loss: 0.5904 - inflam_loss: 0.4927 - nephr_loss: 0.4885 - inflam_acc: 0.9125 - nephr_acc: 0.8125\n",
            "Epoch 796/1000\n",
            "1/1 [==============================] - 0s 11ms/step - loss: 0.5900 - inflam_loss: 0.4924 - nephr_loss: 0.4881 - inflam_acc: 0.9750 - nephr_acc: 0.8125\n",
            "Epoch 797/1000\n",
            "1/1 [==============================] - 0s 4ms/step - loss: 0.5896 - inflam_loss: 0.4920 - nephr_loss: 0.4878 - inflam_acc: 0.9125 - nephr_acc: 0.8125\n",
            "Epoch 798/1000\n",
            "1/1 [==============================] - 0s 13ms/step - loss: 0.5892 - inflam_loss: 0.4917 - nephr_loss: 0.4875 - inflam_acc: 0.9750 - nephr_acc: 0.8125\n",
            "Epoch 799/1000\n",
            "1/1 [==============================] - 0s 12ms/step - loss: 0.5888 - inflam_loss: 0.4913 - nephr_loss: 0.4871 - inflam_acc: 0.9125 - nephr_acc: 0.8125\n",
            "Epoch 800/1000\n",
            "1/1 [==============================] - 0s 4ms/step - loss: 0.5884 - inflam_loss: 0.4910 - nephr_loss: 0.4868 - inflam_acc: 0.9750 - nephr_acc: 0.8125\n",
            "Epoch 801/1000\n",
            "1/1 [==============================] - 0s 12ms/step - loss: 0.5879 - inflam_loss: 0.4906 - nephr_loss: 0.4865 - inflam_acc: 0.9125 - nephr_acc: 0.8125\n",
            "Epoch 802/1000\n",
            "1/1 [==============================] - 0s 14ms/step - loss: 0.5875 - inflam_loss: 0.4903 - nephr_loss: 0.4861 - inflam_acc: 0.9750 - nephr_acc: 0.8125\n",
            "Epoch 803/1000\n",
            "1/1 [==============================] - 0s 8ms/step - loss: 0.5871 - inflam_loss: 0.4899 - nephr_loss: 0.4858 - inflam_acc: 0.9125 - nephr_acc: 0.8125\n",
            "Epoch 804/1000\n",
            "1/1 [==============================] - 0s 13ms/step - loss: 0.5867 - inflam_loss: 0.4896 - nephr_loss: 0.4855 - inflam_acc: 0.9750 - nephr_acc: 0.8125\n",
            "Epoch 805/1000\n",
            "1/1 [==============================] - 0s 13ms/step - loss: 0.5863 - inflam_loss: 0.4892 - nephr_loss: 0.4851 - inflam_acc: 0.9125 - nephr_acc: 0.8125\n",
            "Epoch 806/1000\n",
            "1/1 [==============================] - 0s 6ms/step - loss: 0.5859 - inflam_loss: 0.4889 - nephr_loss: 0.4848 - inflam_acc: 0.9750 - nephr_acc: 0.8125\n",
            "Epoch 807/1000\n",
            "1/1 [==============================] - 0s 11ms/step - loss: 0.5854 - inflam_loss: 0.4886 - nephr_loss: 0.4845 - inflam_acc: 0.9125 - nephr_acc: 0.8125\n",
            "Epoch 808/1000\n",
            "1/1 [==============================] - 0s 11ms/step - loss: 0.5850 - inflam_loss: 0.4882 - nephr_loss: 0.4841 - inflam_acc: 0.9625 - nephr_acc: 0.8125\n",
            "Epoch 809/1000\n",
            "1/1 [==============================] - 0s 12ms/step - loss: 0.5846 - inflam_loss: 0.4879 - nephr_loss: 0.4838 - inflam_acc: 0.9125 - nephr_acc: 0.8125\n",
            "Epoch 810/1000\n",
            "1/1 [==============================] - 0s 11ms/step - loss: 0.5842 - inflam_loss: 0.4875 - nephr_loss: 0.4835 - inflam_acc: 0.9625 - nephr_acc: 0.8125\n",
            "Epoch 811/1000\n",
            "1/1 [==============================] - 0s 12ms/step - loss: 0.5838 - inflam_loss: 0.4872 - nephr_loss: 0.4831 - inflam_acc: 0.9125 - nephr_acc: 0.8125\n",
            "Epoch 812/1000\n",
            "1/1 [==============================] - 0s 5ms/step - loss: 0.5834 - inflam_loss: 0.4868 - nephr_loss: 0.4828 - inflam_acc: 0.9625 - nephr_acc: 0.8125\n",
            "Epoch 813/1000\n",
            "1/1 [==============================] - 0s 9ms/step - loss: 0.5830 - inflam_loss: 0.4865 - nephr_loss: 0.4825 - inflam_acc: 0.9125 - nephr_acc: 0.8125\n",
            "Epoch 814/1000\n",
            "1/1 [==============================] - 0s 11ms/step - loss: 0.5826 - inflam_loss: 0.4861 - nephr_loss: 0.4822 - inflam_acc: 0.9625 - nephr_acc: 0.8125\n",
            "Epoch 815/1000\n",
            "1/1 [==============================] - 0s 11ms/step - loss: 0.5821 - inflam_loss: 0.4858 - nephr_loss: 0.4818 - inflam_acc: 0.9125 - nephr_acc: 0.8125\n",
            "Epoch 816/1000\n",
            "1/1 [==============================] - 0s 13ms/step - loss: 0.5817 - inflam_loss: 0.4854 - nephr_loss: 0.4815 - inflam_acc: 0.9625 - nephr_acc: 0.8125\n",
            "Epoch 817/1000\n",
            "1/1 [==============================] - 0s 16ms/step - loss: 0.5813 - inflam_loss: 0.4851 - nephr_loss: 0.4812 - inflam_acc: 0.9125 - nephr_acc: 0.8125\n",
            "Epoch 818/1000\n",
            "1/1 [==============================] - 0s 15ms/step - loss: 0.5809 - inflam_loss: 0.4847 - nephr_loss: 0.4808 - inflam_acc: 0.9625 - nephr_acc: 0.8125\n",
            "Epoch 819/1000\n",
            "1/1 [==============================] - 0s 11ms/step - loss: 0.5805 - inflam_loss: 0.4844 - nephr_loss: 0.4805 - inflam_acc: 0.9125 - nephr_acc: 0.8125\n",
            "Epoch 820/1000\n",
            "1/1 [==============================] - 0s 6ms/step - loss: 0.5801 - inflam_loss: 0.4840 - nephr_loss: 0.4802 - inflam_acc: 0.9625 - nephr_acc: 0.8125\n",
            "Epoch 821/1000\n",
            "1/1 [==============================] - 0s 15ms/step - loss: 0.5797 - inflam_loss: 0.4837 - nephr_loss: 0.4799 - inflam_acc: 0.9125 - nephr_acc: 0.8125\n",
            "Epoch 822/1000\n",
            "1/1 [==============================] - 0s 9ms/step - loss: 0.5793 - inflam_loss: 0.4834 - nephr_loss: 0.4795 - inflam_acc: 0.9625 - nephr_acc: 0.8125\n",
            "Epoch 823/1000\n",
            "1/1 [==============================] - 0s 11ms/step - loss: 0.5789 - inflam_loss: 0.4830 - nephr_loss: 0.4792 - inflam_acc: 0.9125 - nephr_acc: 0.8125\n",
            "Epoch 824/1000\n",
            "1/1 [==============================] - 0s 9ms/step - loss: 0.5784 - inflam_loss: 0.4827 - nephr_loss: 0.4789 - inflam_acc: 0.9625 - nephr_acc: 0.8125\n",
            "Epoch 825/1000\n",
            "1/1 [==============================] - 0s 7ms/step - loss: 0.5780 - inflam_loss: 0.4823 - nephr_loss: 0.4785 - inflam_acc: 0.9125 - nephr_acc: 0.8125\n",
            "Epoch 826/1000\n",
            "1/1 [==============================] - 0s 7ms/step - loss: 0.5776 - inflam_loss: 0.4820 - nephr_loss: 0.4782 - inflam_acc: 0.9625 - nephr_acc: 0.8125\n",
            "Epoch 827/1000\n",
            "1/1 [==============================] - 0s 10ms/step - loss: 0.5772 - inflam_loss: 0.4816 - nephr_loss: 0.4779 - inflam_acc: 0.9125 - nephr_acc: 0.8125\n",
            "Epoch 828/1000\n",
            "1/1 [==============================] - 0s 10ms/step - loss: 0.5768 - inflam_loss: 0.4813 - nephr_loss: 0.4776 - inflam_acc: 0.9625 - nephr_acc: 0.8125\n",
            "Epoch 829/1000\n",
            "1/1 [==============================] - 0s 8ms/step - loss: 0.5764 - inflam_loss: 0.4810 - nephr_loss: 0.4772 - inflam_acc: 0.9125 - nephr_acc: 0.8125\n",
            "Epoch 830/1000\n",
            "1/1 [==============================] - 0s 11ms/step - loss: 0.5760 - inflam_loss: 0.4806 - nephr_loss: 0.4769 - inflam_acc: 0.9625 - nephr_acc: 0.8125\n",
            "Epoch 831/1000\n",
            "1/1 [==============================] - 0s 6ms/step - loss: 0.5756 - inflam_loss: 0.4803 - nephr_loss: 0.4766 - inflam_acc: 0.9125 - nephr_acc: 0.8125\n",
            "Epoch 832/1000\n",
            "1/1 [==============================] - 0s 15ms/step - loss: 0.5752 - inflam_loss: 0.4799 - nephr_loss: 0.4763 - inflam_acc: 0.9625 - nephr_acc: 0.8125\n",
            "Epoch 833/1000\n",
            "1/1 [==============================] - 0s 8ms/step - loss: 0.5748 - inflam_loss: 0.4796 - nephr_loss: 0.4759 - inflam_acc: 0.9125 - nephr_acc: 0.8125\n",
            "Epoch 834/1000\n",
            "1/1 [==============================] - 0s 8ms/step - loss: 0.5744 - inflam_loss: 0.4792 - nephr_loss: 0.4756 - inflam_acc: 0.9625 - nephr_acc: 0.8125\n",
            "Epoch 835/1000\n",
            "1/1 [==============================] - 0s 11ms/step - loss: 0.5740 - inflam_loss: 0.4789 - nephr_loss: 0.4753 - inflam_acc: 0.9125 - nephr_acc: 0.8125\n",
            "Epoch 836/1000\n",
            "1/1 [==============================] - 0s 9ms/step - loss: 0.5736 - inflam_loss: 0.4786 - nephr_loss: 0.4750 - inflam_acc: 0.9625 - nephr_acc: 0.8125\n",
            "Epoch 837/1000\n",
            "1/1 [==============================] - 0s 7ms/step - loss: 0.5732 - inflam_loss: 0.4782 - nephr_loss: 0.4746 - inflam_acc: 0.9125 - nephr_acc: 0.8125\n",
            "Epoch 838/1000\n",
            "1/1 [==============================] - 0s 11ms/step - loss: 0.5727 - inflam_loss: 0.4779 - nephr_loss: 0.4743 - inflam_acc: 0.9625 - nephr_acc: 0.8125\n",
            "Epoch 839/1000\n",
            "1/1 [==============================] - 0s 11ms/step - loss: 0.5723 - inflam_loss: 0.4775 - nephr_loss: 0.4740 - inflam_acc: 0.9125 - nephr_acc: 0.8125\n",
            "Epoch 840/1000\n",
            "1/1 [==============================] - 0s 11ms/step - loss: 0.5719 - inflam_loss: 0.4772 - nephr_loss: 0.4737 - inflam_acc: 0.9500 - nephr_acc: 0.8125\n",
            "Epoch 841/1000\n",
            "1/1 [==============================] - 0s 10ms/step - loss: 0.5715 - inflam_loss: 0.4769 - nephr_loss: 0.4734 - inflam_acc: 0.9125 - nephr_acc: 0.8125\n",
            "Epoch 842/1000\n",
            "1/1 [==============================] - 0s 9ms/step - loss: 0.5711 - inflam_loss: 0.4765 - nephr_loss: 0.4730 - inflam_acc: 0.9500 - nephr_acc: 0.8125\n",
            "Epoch 843/1000\n",
            "1/1 [==============================] - 0s 10ms/step - loss: 0.5707 - inflam_loss: 0.4762 - nephr_loss: 0.4727 - inflam_acc: 0.9125 - nephr_acc: 0.8125\n",
            "Epoch 844/1000\n",
            "1/1 [==============================] - 0s 10ms/step - loss: 0.5703 - inflam_loss: 0.4758 - nephr_loss: 0.4724 - inflam_acc: 0.9500 - nephr_acc: 0.8125\n",
            "Epoch 845/1000\n",
            "1/1 [==============================] - 0s 12ms/step - loss: 0.5699 - inflam_loss: 0.4755 - nephr_loss: 0.4721 - inflam_acc: 0.9125 - nephr_acc: 0.8125\n",
            "Epoch 846/1000\n",
            "1/1 [==============================] - 0s 9ms/step - loss: 0.5695 - inflam_loss: 0.4752 - nephr_loss: 0.4717 - inflam_acc: 0.9500 - nephr_acc: 0.8125\n",
            "Epoch 847/1000\n",
            "1/1 [==============================] - 0s 4ms/step - loss: 0.5691 - inflam_loss: 0.4748 - nephr_loss: 0.4714 - inflam_acc: 0.9125 - nephr_acc: 0.8125\n",
            "Epoch 848/1000\n",
            "1/1 [==============================] - 0s 10ms/step - loss: 0.5687 - inflam_loss: 0.4745 - nephr_loss: 0.4711 - inflam_acc: 0.9500 - nephr_acc: 0.8125\n",
            "Epoch 849/1000\n",
            "1/1 [==============================] - 0s 9ms/step - loss: 0.5683 - inflam_loss: 0.4742 - nephr_loss: 0.4708 - inflam_acc: 0.9125 - nephr_acc: 0.8125\n",
            "Epoch 850/1000\n",
            "1/1 [==============================] - 0s 13ms/step - loss: 0.5679 - inflam_loss: 0.4738 - nephr_loss: 0.4705 - inflam_acc: 0.9500 - nephr_acc: 0.8125\n",
            "Epoch 851/1000\n",
            "1/1 [==============================] - 0s 9ms/step - loss: 0.5675 - inflam_loss: 0.4735 - nephr_loss: 0.4701 - inflam_acc: 0.9125 - nephr_acc: 0.8125\n",
            "Epoch 852/1000\n",
            "1/1 [==============================] - 0s 10ms/step - loss: 0.5671 - inflam_loss: 0.4731 - nephr_loss: 0.4698 - inflam_acc: 0.9500 - nephr_acc: 0.8125\n",
            "Epoch 853/1000\n",
            "1/1 [==============================] - 0s 8ms/step - loss: 0.5667 - inflam_loss: 0.4728 - nephr_loss: 0.4695 - inflam_acc: 0.9125 - nephr_acc: 0.8125\n",
            "Epoch 854/1000\n",
            "1/1 [==============================] - 0s 10ms/step - loss: 0.5663 - inflam_loss: 0.4725 - nephr_loss: 0.4692 - inflam_acc: 0.9500 - nephr_acc: 0.8125\n",
            "Epoch 855/1000\n",
            "1/1 [==============================] - 0s 13ms/step - loss: 0.5659 - inflam_loss: 0.4721 - nephr_loss: 0.4689 - inflam_acc: 0.9125 - nephr_acc: 0.8125\n",
            "Epoch 856/1000\n",
            "1/1 [==============================] - 0s 4ms/step - loss: 0.5655 - inflam_loss: 0.4718 - nephr_loss: 0.4685 - inflam_acc: 0.9500 - nephr_acc: 0.8125\n",
            "Epoch 857/1000\n",
            "1/1 [==============================] - 0s 10ms/step - loss: 0.5651 - inflam_loss: 0.4715 - nephr_loss: 0.4682 - inflam_acc: 0.9125 - nephr_acc: 0.8125\n",
            "Epoch 858/1000\n",
            "1/1 [==============================] - 0s 8ms/step - loss: 0.5647 - inflam_loss: 0.4711 - nephr_loss: 0.4679 - inflam_acc: 0.9375 - nephr_acc: 0.8125\n",
            "Epoch 859/1000\n",
            "1/1 [==============================] - 0s 8ms/step - loss: 0.5643 - inflam_loss: 0.4708 - nephr_loss: 0.4676 - inflam_acc: 0.9125 - nephr_acc: 0.8125\n",
            "Epoch 860/1000\n",
            "1/1 [==============================] - 0s 11ms/step - loss: 0.5639 - inflam_loss: 0.4705 - nephr_loss: 0.4673 - inflam_acc: 0.9375 - nephr_acc: 0.8125\n",
            "Epoch 861/1000\n",
            "1/1 [==============================] - 0s 11ms/step - loss: 0.5635 - inflam_loss: 0.4701 - nephr_loss: 0.4669 - inflam_acc: 0.9125 - nephr_acc: 0.8125\n",
            "Epoch 862/1000\n",
            "1/1 [==============================] - 0s 33ms/step - loss: 0.5631 - inflam_loss: 0.4698 - nephr_loss: 0.4666 - inflam_acc: 0.9375 - nephr_acc: 0.8125\n",
            "Epoch 863/1000\n",
            "1/1 [==============================] - 0s 11ms/step - loss: 0.5627 - inflam_loss: 0.4695 - nephr_loss: 0.4663 - inflam_acc: 0.9125 - nephr_acc: 0.8125\n",
            "Epoch 864/1000\n",
            "1/1 [==============================] - 0s 13ms/step - loss: 0.5623 - inflam_loss: 0.4691 - nephr_loss: 0.4660 - inflam_acc: 0.9375 - nephr_acc: 0.8125\n",
            "Epoch 865/1000\n",
            "1/1 [==============================] - 0s 7ms/step - loss: 0.5619 - inflam_loss: 0.4688 - nephr_loss: 0.4657 - inflam_acc: 0.9125 - nephr_acc: 0.8125\n",
            "Epoch 866/1000\n",
            "1/1 [==============================] - 0s 10ms/step - loss: 0.5615 - inflam_loss: 0.4685 - nephr_loss: 0.4654 - inflam_acc: 0.9375 - nephr_acc: 0.8125\n",
            "Epoch 867/1000\n",
            "1/1 [==============================] - 0s 11ms/step - loss: 0.5611 - inflam_loss: 0.4681 - nephr_loss: 0.4650 - inflam_acc: 0.9125 - nephr_acc: 0.8125\n",
            "Epoch 868/1000\n",
            "1/1 [==============================] - 0s 9ms/step - loss: 0.5607 - inflam_loss: 0.4678 - nephr_loss: 0.4647 - inflam_acc: 0.9375 - nephr_acc: 0.8125\n",
            "Epoch 869/1000\n",
            "1/1 [==============================] - 0s 12ms/step - loss: 0.5604 - inflam_loss: 0.4675 - nephr_loss: 0.4644 - inflam_acc: 0.9125 - nephr_acc: 0.8125\n",
            "Epoch 870/1000\n",
            "1/1 [==============================] - 0s 10ms/step - loss: 0.5600 - inflam_loss: 0.4671 - nephr_loss: 0.4641 - inflam_acc: 0.9375 - nephr_acc: 0.8125\n",
            "Epoch 871/1000\n",
            "1/1 [==============================] - 0s 13ms/step - loss: 0.5596 - inflam_loss: 0.4668 - nephr_loss: 0.4638 - inflam_acc: 0.9125 - nephr_acc: 0.8125\n",
            "Epoch 872/1000\n",
            "1/1 [==============================] - 0s 6ms/step - loss: 0.5592 - inflam_loss: 0.4665 - nephr_loss: 0.4635 - inflam_acc: 0.9375 - nephr_acc: 0.8125\n",
            "Epoch 873/1000\n",
            "1/1 [==============================] - 0s 18ms/step - loss: 0.5588 - inflam_loss: 0.4661 - nephr_loss: 0.4631 - inflam_acc: 0.9125 - nephr_acc: 0.8125\n",
            "Epoch 874/1000\n",
            "1/1 [==============================] - 0s 7ms/step - loss: 0.5584 - inflam_loss: 0.4658 - nephr_loss: 0.4628 - inflam_acc: 0.9375 - nephr_acc: 0.8125\n",
            "Epoch 875/1000\n",
            "1/1 [==============================] - 0s 13ms/step - loss: 0.5580 - inflam_loss: 0.4655 - nephr_loss: 0.4625 - inflam_acc: 0.9125 - nephr_acc: 0.8125\n",
            "Epoch 876/1000\n",
            "1/1 [==============================] - 0s 18ms/step - loss: 0.5576 - inflam_loss: 0.4652 - nephr_loss: 0.4622 - inflam_acc: 0.9375 - nephr_acc: 0.8125\n",
            "Epoch 877/1000\n",
            "1/1 [==============================] - 0s 5ms/step - loss: 0.5572 - inflam_loss: 0.4648 - nephr_loss: 0.4619 - inflam_acc: 0.9125 - nephr_acc: 0.8125\n",
            "Epoch 878/1000\n",
            "1/1 [==============================] - 0s 8ms/step - loss: 0.5568 - inflam_loss: 0.4645 - nephr_loss: 0.4616 - inflam_acc: 0.9375 - nephr_acc: 0.8125\n",
            "Epoch 879/1000\n",
            "1/1 [==============================] - 0s 4ms/step - loss: 0.5564 - inflam_loss: 0.4642 - nephr_loss: 0.4613 - inflam_acc: 0.9125 - nephr_acc: 0.8125\n",
            "Epoch 880/1000\n",
            "1/1 [==============================] - 0s 7ms/step - loss: 0.5560 - inflam_loss: 0.4638 - nephr_loss: 0.4609 - inflam_acc: 0.9375 - nephr_acc: 0.8125\n",
            "Epoch 881/1000\n",
            "1/1 [==============================] - 0s 17ms/step - loss: 0.5556 - inflam_loss: 0.4635 - nephr_loss: 0.4606 - inflam_acc: 0.9125 - nephr_acc: 0.8125\n",
            "Epoch 882/1000\n",
            "1/1 [==============================] - 0s 15ms/step - loss: 0.5552 - inflam_loss: 0.4632 - nephr_loss: 0.4603 - inflam_acc: 0.9375 - nephr_acc: 0.8125\n",
            "Epoch 883/1000\n",
            "1/1 [==============================] - 0s 14ms/step - loss: 0.5548 - inflam_loss: 0.4628 - nephr_loss: 0.4600 - inflam_acc: 0.9125 - nephr_acc: 0.8125\n",
            "Epoch 884/1000\n",
            "1/1 [==============================] - 0s 9ms/step - loss: 0.5545 - inflam_loss: 0.4625 - nephr_loss: 0.4597 - inflam_acc: 0.9375 - nephr_acc: 0.8125\n",
            "Epoch 885/1000\n",
            "1/1 [==============================] - 0s 9ms/step - loss: 0.5541 - inflam_loss: 0.4622 - nephr_loss: 0.4594 - inflam_acc: 0.9125 - nephr_acc: 0.8125\n",
            "Epoch 886/1000\n",
            "1/1 [==============================] - 0s 13ms/step - loss: 0.5537 - inflam_loss: 0.4619 - nephr_loss: 0.4591 - inflam_acc: 0.9375 - nephr_acc: 0.8125\n",
            "Epoch 887/1000\n",
            "1/1 [==============================] - 0s 13ms/step - loss: 0.5533 - inflam_loss: 0.4615 - nephr_loss: 0.4587 - inflam_acc: 0.9125 - nephr_acc: 0.8125\n",
            "Epoch 888/1000\n",
            "1/1 [==============================] - 0s 12ms/step - loss: 0.5529 - inflam_loss: 0.4612 - nephr_loss: 0.4584 - inflam_acc: 0.9375 - nephr_acc: 0.8125\n",
            "Epoch 889/1000\n",
            "1/1 [==============================] - 0s 10ms/step - loss: 0.5525 - inflam_loss: 0.4609 - nephr_loss: 0.4581 - inflam_acc: 0.9125 - nephr_acc: 0.8125\n",
            "Epoch 890/1000\n",
            "1/1 [==============================] - 0s 12ms/step - loss: 0.5521 - inflam_loss: 0.4606 - nephr_loss: 0.4578 - inflam_acc: 0.9375 - nephr_acc: 0.8125\n",
            "Epoch 891/1000\n",
            "1/1 [==============================] - 0s 22ms/step - loss: 0.5517 - inflam_loss: 0.4602 - nephr_loss: 0.4575 - inflam_acc: 0.9125 - nephr_acc: 0.8125\n",
            "Epoch 892/1000\n",
            "1/1 [==============================] - 0s 9ms/step - loss: 0.5513 - inflam_loss: 0.4599 - nephr_loss: 0.4572 - inflam_acc: 0.9375 - nephr_acc: 0.8125\n",
            "Epoch 893/1000\n",
            "1/1 [==============================] - 0s 10ms/step - loss: 0.5510 - inflam_loss: 0.4596 - nephr_loss: 0.4569 - inflam_acc: 0.9125 - nephr_acc: 0.8125\n",
            "Epoch 894/1000\n",
            "1/1 [==============================] - 0s 8ms/step - loss: 0.5506 - inflam_loss: 0.4593 - nephr_loss: 0.4566 - inflam_acc: 0.9375 - nephr_acc: 0.8125\n",
            "Epoch 895/1000\n",
            "1/1 [==============================] - 0s 11ms/step - loss: 0.5502 - inflam_loss: 0.4589 - nephr_loss: 0.4563 - inflam_acc: 0.9125 - nephr_acc: 0.8125\n",
            "Epoch 896/1000\n",
            "1/1 [==============================] - 0s 6ms/step - loss: 0.5498 - inflam_loss: 0.4586 - nephr_loss: 0.4559 - inflam_acc: 0.9375 - nephr_acc: 0.8125\n",
            "Epoch 897/1000\n",
            "1/1 [==============================] - 0s 11ms/step - loss: 0.5494 - inflam_loss: 0.4583 - nephr_loss: 0.4556 - inflam_acc: 0.9125 - nephr_acc: 0.8125\n",
            "Epoch 898/1000\n",
            "1/1 [==============================] - 0s 7ms/step - loss: 0.5490 - inflam_loss: 0.4580 - nephr_loss: 0.4553 - inflam_acc: 0.9375 - nephr_acc: 0.8125\n",
            "Epoch 899/1000\n",
            "1/1 [==============================] - 0s 10ms/step - loss: 0.5486 - inflam_loss: 0.4576 - nephr_loss: 0.4550 - inflam_acc: 0.9125 - nephr_acc: 0.8125\n",
            "Epoch 900/1000\n",
            "1/1 [==============================] - 0s 13ms/step - loss: 0.5482 - inflam_loss: 0.4573 - nephr_loss: 0.4547 - inflam_acc: 0.9375 - nephr_acc: 0.8125\n",
            "Epoch 901/1000\n",
            "1/1 [==============================] - 0s 14ms/step - loss: 0.5479 - inflam_loss: 0.4570 - nephr_loss: 0.4544 - inflam_acc: 0.9125 - nephr_acc: 0.8125\n",
            "Epoch 902/1000\n",
            "1/1 [==============================] - 0s 12ms/step - loss: 0.5475 - inflam_loss: 0.4567 - nephr_loss: 0.4541 - inflam_acc: 0.9375 - nephr_acc: 0.8125\n",
            "Epoch 903/1000\n",
            "1/1 [==============================] - 0s 30ms/step - loss: 0.5471 - inflam_loss: 0.4563 - nephr_loss: 0.4538 - inflam_acc: 0.9125 - nephr_acc: 0.8125\n",
            "Epoch 904/1000\n",
            "1/1 [==============================] - 0s 9ms/step - loss: 0.5467 - inflam_loss: 0.4560 - nephr_loss: 0.4535 - inflam_acc: 0.9375 - nephr_acc: 0.8125\n",
            "Epoch 905/1000\n",
            "1/1 [==============================] - 0s 15ms/step - loss: 0.5463 - inflam_loss: 0.4557 - nephr_loss: 0.4532 - inflam_acc: 0.9125 - nephr_acc: 0.8125\n",
            "Epoch 906/1000\n",
            "1/1 [==============================] - 0s 10ms/step - loss: 0.5459 - inflam_loss: 0.4554 - nephr_loss: 0.4529 - inflam_acc: 0.9375 - nephr_acc: 0.8125\n",
            "Epoch 907/1000\n",
            "1/1 [==============================] - 0s 7ms/step - loss: 0.5456 - inflam_loss: 0.4550 - nephr_loss: 0.4525 - inflam_acc: 0.9125 - nephr_acc: 0.8125\n",
            "Epoch 908/1000\n",
            "1/1 [==============================] - 0s 12ms/step - loss: 0.5452 - inflam_loss: 0.4547 - nephr_loss: 0.4522 - inflam_acc: 0.9375 - nephr_acc: 0.8125\n",
            "Epoch 909/1000\n",
            "1/1 [==============================] - 0s 7ms/step - loss: 0.5448 - inflam_loss: 0.4544 - nephr_loss: 0.4519 - inflam_acc: 0.9125 - nephr_acc: 0.8125\n",
            "Epoch 910/1000\n",
            "1/1 [==============================] - 0s 20ms/step - loss: 0.5444 - inflam_loss: 0.4541 - nephr_loss: 0.4516 - inflam_acc: 0.9375 - nephr_acc: 0.8125\n",
            "Epoch 911/1000\n",
            "1/1 [==============================] - 0s 5ms/step - loss: 0.5440 - inflam_loss: 0.4538 - nephr_loss: 0.4513 - inflam_acc: 0.9125 - nephr_acc: 0.8125\n",
            "Epoch 912/1000\n",
            "1/1 [==============================] - 0s 11ms/step - loss: 0.5436 - inflam_loss: 0.4534 - nephr_loss: 0.4510 - inflam_acc: 0.9375 - nephr_acc: 0.8125\n",
            "Epoch 913/1000\n",
            "1/1 [==============================] - 0s 18ms/step - loss: 0.5433 - inflam_loss: 0.4531 - nephr_loss: 0.4507 - inflam_acc: 0.9125 - nephr_acc: 0.8125\n",
            "Epoch 914/1000\n",
            "1/1 [==============================] - 0s 5ms/step - loss: 0.5429 - inflam_loss: 0.4528 - nephr_loss: 0.4504 - inflam_acc: 0.9375 - nephr_acc: 0.8125\n",
            "Epoch 915/1000\n",
            "1/1 [==============================] - 0s 8ms/step - loss: 0.5425 - inflam_loss: 0.4525 - nephr_loss: 0.4501 - inflam_acc: 0.9125 - nephr_acc: 0.8125\n",
            "Epoch 916/1000\n",
            "1/1 [==============================] - 0s 14ms/step - loss: 0.5421 - inflam_loss: 0.4522 - nephr_loss: 0.4498 - inflam_acc: 0.9375 - nephr_acc: 0.8125\n",
            "Epoch 917/1000\n",
            "1/1 [==============================] - 0s 8ms/step - loss: 0.5417 - inflam_loss: 0.4518 - nephr_loss: 0.4495 - inflam_acc: 0.9125 - nephr_acc: 0.8125\n",
            "Epoch 918/1000\n",
            "1/1 [==============================] - 0s 9ms/step - loss: 0.5414 - inflam_loss: 0.4515 - nephr_loss: 0.4492 - inflam_acc: 0.9375 - nephr_acc: 0.8125\n",
            "Epoch 919/1000\n",
            "1/1 [==============================] - 0s 12ms/step - loss: 0.5410 - inflam_loss: 0.4512 - nephr_loss: 0.4489 - inflam_acc: 0.9125 - nephr_acc: 0.8125\n",
            "Epoch 920/1000\n",
            "1/1 [==============================] - 0s 9ms/step - loss: 0.5406 - inflam_loss: 0.4509 - nephr_loss: 0.4486 - inflam_acc: 0.9375 - nephr_acc: 0.8125\n",
            "Epoch 921/1000\n",
            "1/1 [==============================] - 0s 14ms/step - loss: 0.5402 - inflam_loss: 0.4506 - nephr_loss: 0.4483 - inflam_acc: 0.9125 - nephr_acc: 0.8125\n",
            "Epoch 922/1000\n",
            "1/1 [==============================] - 0s 5ms/step - loss: 0.5398 - inflam_loss: 0.4502 - nephr_loss: 0.4480 - inflam_acc: 0.9375 - nephr_acc: 0.8125\n",
            "Epoch 923/1000\n",
            "1/1 [==============================] - 0s 4ms/step - loss: 0.5395 - inflam_loss: 0.4499 - nephr_loss: 0.4477 - inflam_acc: 0.9125 - nephr_acc: 0.8125\n",
            "Epoch 924/1000\n",
            "1/1 [==============================] - 0s 14ms/step - loss: 0.5391 - inflam_loss: 0.4496 - nephr_loss: 0.4473 - inflam_acc: 0.9375 - nephr_acc: 0.8125\n",
            "Epoch 925/1000\n",
            "1/1 [==============================] - 0s 9ms/step - loss: 0.5387 - inflam_loss: 0.4493 - nephr_loss: 0.4470 - inflam_acc: 0.9125 - nephr_acc: 0.8125\n",
            "Epoch 926/1000\n",
            "1/1 [==============================] - 0s 9ms/step - loss: 0.5383 - inflam_loss: 0.4490 - nephr_loss: 0.4467 - inflam_acc: 0.9375 - nephr_acc: 0.8125\n",
            "Epoch 927/1000\n",
            "1/1 [==============================] - 0s 16ms/step - loss: 0.5379 - inflam_loss: 0.4487 - nephr_loss: 0.4464 - inflam_acc: 0.9125 - nephr_acc: 0.8125\n",
            "Epoch 928/1000\n",
            "1/1 [==============================] - 0s 7ms/step - loss: 0.5376 - inflam_loss: 0.4483 - nephr_loss: 0.4461 - inflam_acc: 0.9375 - nephr_acc: 0.8125\n",
            "Epoch 929/1000\n",
            "1/1 [==============================] - 0s 17ms/step - loss: 0.5372 - inflam_loss: 0.4480 - nephr_loss: 0.4458 - inflam_acc: 0.9125 - nephr_acc: 0.8125\n",
            "Epoch 930/1000\n",
            "1/1 [==============================] - 0s 10ms/step - loss: 0.5368 - inflam_loss: 0.4477 - nephr_loss: 0.4455 - inflam_acc: 0.9375 - nephr_acc: 0.8125\n",
            "Epoch 931/1000\n",
            "1/1 [==============================] - 0s 10ms/step - loss: 0.5364 - inflam_loss: 0.4474 - nephr_loss: 0.4452 - inflam_acc: 0.9125 - nephr_acc: 0.8125\n",
            "Epoch 932/1000\n",
            "1/1 [==============================] - 0s 11ms/step - loss: 0.5361 - inflam_loss: 0.4471 - nephr_loss: 0.4449 - inflam_acc: 0.9375 - nephr_acc: 0.8125\n",
            "Epoch 933/1000\n",
            "1/1 [==============================] - 0s 16ms/step - loss: 0.5357 - inflam_loss: 0.4468 - nephr_loss: 0.4446 - inflam_acc: 0.9125 - nephr_acc: 0.8125\n",
            "Epoch 934/1000\n",
            "1/1 [==============================] - 0s 11ms/step - loss: 0.5353 - inflam_loss: 0.4464 - nephr_loss: 0.4443 - inflam_acc: 0.9375 - nephr_acc: 0.8125\n",
            "Epoch 935/1000\n",
            "1/1 [==============================] - 0s 16ms/step - loss: 0.5349 - inflam_loss: 0.4461 - nephr_loss: 0.4440 - inflam_acc: 0.9125 - nephr_acc: 0.8125\n",
            "Epoch 936/1000\n",
            "1/1 [==============================] - 0s 5ms/step - loss: 0.5346 - inflam_loss: 0.4458 - nephr_loss: 0.4437 - inflam_acc: 0.9375 - nephr_acc: 0.8125\n",
            "Epoch 937/1000\n",
            "1/1 [==============================] - 0s 5ms/step - loss: 0.5342 - inflam_loss: 0.4455 - nephr_loss: 0.4434 - inflam_acc: 0.9125 - nephr_acc: 0.8125\n",
            "Epoch 938/1000\n",
            "1/1 [==============================] - 0s 9ms/step - loss: 0.5338 - inflam_loss: 0.4452 - nephr_loss: 0.4431 - inflam_acc: 0.9250 - nephr_acc: 0.8125\n",
            "Epoch 939/1000\n",
            "1/1 [==============================] - 0s 12ms/step - loss: 0.5334 - inflam_loss: 0.4449 - nephr_loss: 0.4428 - inflam_acc: 0.9125 - nephr_acc: 0.8125\n",
            "Epoch 940/1000\n",
            "1/1 [==============================] - 0s 11ms/step - loss: 0.5331 - inflam_loss: 0.4446 - nephr_loss: 0.4425 - inflam_acc: 0.9250 - nephr_acc: 0.8125\n",
            "Epoch 941/1000\n",
            "1/1 [==============================] - 0s 9ms/step - loss: 0.5327 - inflam_loss: 0.4442 - nephr_loss: 0.4422 - inflam_acc: 0.9125 - nephr_acc: 0.8125\n",
            "Epoch 942/1000\n",
            "1/1 [==============================] - 0s 8ms/step - loss: 0.5323 - inflam_loss: 0.4439 - nephr_loss: 0.4419 - inflam_acc: 0.9250 - nephr_acc: 0.8125\n",
            "Epoch 943/1000\n",
            "1/1 [==============================] - 0s 11ms/step - loss: 0.5319 - inflam_loss: 0.4436 - nephr_loss: 0.4416 - inflam_acc: 0.9125 - nephr_acc: 0.8125\n",
            "Epoch 944/1000\n",
            "1/1 [==============================] - 0s 11ms/step - loss: 0.5316 - inflam_loss: 0.4433 - nephr_loss: 0.4413 - inflam_acc: 0.9250 - nephr_acc: 0.8125\n",
            "Epoch 945/1000\n",
            "1/1 [==============================] - 0s 11ms/step - loss: 0.5312 - inflam_loss: 0.4430 - nephr_loss: 0.4410 - inflam_acc: 0.9125 - nephr_acc: 0.8125\n",
            "Epoch 946/1000\n",
            "1/1 [==============================] - 0s 11ms/step - loss: 0.5308 - inflam_loss: 0.4427 - nephr_loss: 0.4407 - inflam_acc: 0.9250 - nephr_acc: 0.8125\n",
            "Epoch 947/1000\n",
            "1/1 [==============================] - 0s 9ms/step - loss: 0.5304 - inflam_loss: 0.4424 - nephr_loss: 0.4404 - inflam_acc: 0.9125 - nephr_acc: 0.8125\n",
            "Epoch 948/1000\n",
            "1/1 [==============================] - 0s 12ms/step - loss: 0.5301 - inflam_loss: 0.4420 - nephr_loss: 0.4401 - inflam_acc: 0.9250 - nephr_acc: 0.8125\n",
            "Epoch 949/1000\n",
            "1/1 [==============================] - 0s 4ms/step - loss: 0.5297 - inflam_loss: 0.4417 - nephr_loss: 0.4398 - inflam_acc: 0.9125 - nephr_acc: 0.8125\n",
            "Epoch 950/1000\n",
            "1/1 [==============================] - 0s 13ms/step - loss: 0.5293 - inflam_loss: 0.4414 - nephr_loss: 0.4395 - inflam_acc: 0.9250 - nephr_acc: 0.8125\n",
            "Epoch 951/1000\n",
            "1/1 [==============================] - 0s 23ms/step - loss: 0.5290 - inflam_loss: 0.4411 - nephr_loss: 0.4392 - inflam_acc: 0.9125 - nephr_acc: 0.8125\n",
            "Epoch 952/1000\n",
            "1/1 [==============================] - 0s 9ms/step - loss: 0.5286 - inflam_loss: 0.4408 - nephr_loss: 0.4389 - inflam_acc: 0.9250 - nephr_acc: 0.8125\n",
            "Epoch 953/1000\n",
            "1/1 [==============================] - 0s 15ms/step - loss: 0.5282 - inflam_loss: 0.4405 - nephr_loss: 0.4386 - inflam_acc: 0.9125 - nephr_acc: 0.8125\n",
            "Epoch 954/1000\n",
            "1/1 [==============================] - 0s 16ms/step - loss: 0.5278 - inflam_loss: 0.4402 - nephr_loss: 0.4383 - inflam_acc: 0.9250 - nephr_acc: 0.8125\n",
            "Epoch 955/1000\n",
            "1/1 [==============================] - 0s 6ms/step - loss: 0.5275 - inflam_loss: 0.4399 - nephr_loss: 0.4380 - inflam_acc: 0.9125 - nephr_acc: 0.8125\n",
            "Epoch 956/1000\n",
            "1/1 [==============================] - 0s 8ms/step - loss: 0.5271 - inflam_loss: 0.4396 - nephr_loss: 0.4377 - inflam_acc: 0.9250 - nephr_acc: 0.8125\n",
            "Epoch 957/1000\n",
            "1/1 [==============================] - 0s 8ms/step - loss: 0.5267 - inflam_loss: 0.4393 - nephr_loss: 0.4374 - inflam_acc: 0.9125 - nephr_acc: 0.8125\n",
            "Epoch 958/1000\n",
            "1/1 [==============================] - 0s 9ms/step - loss: 0.5264 - inflam_loss: 0.4389 - nephr_loss: 0.4371 - inflam_acc: 0.9250 - nephr_acc: 0.8125\n",
            "Epoch 959/1000\n",
            "1/1 [==============================] - 0s 4ms/step - loss: 0.5260 - inflam_loss: 0.4386 - nephr_loss: 0.4369 - inflam_acc: 0.9125 - nephr_acc: 0.8125\n",
            "Epoch 960/1000\n",
            "1/1 [==============================] - 0s 8ms/step - loss: 0.5256 - inflam_loss: 0.4383 - nephr_loss: 0.4366 - inflam_acc: 0.9250 - nephr_acc: 0.8125\n",
            "Epoch 961/1000\n",
            "1/1 [==============================] - 0s 9ms/step - loss: 0.5253 - inflam_loss: 0.4380 - nephr_loss: 0.4363 - inflam_acc: 0.9125 - nephr_acc: 0.8125\n",
            "Epoch 962/1000\n",
            "1/1 [==============================] - 0s 5ms/step - loss: 0.5249 - inflam_loss: 0.4377 - nephr_loss: 0.4360 - inflam_acc: 0.9250 - nephr_acc: 0.8375\n",
            "Epoch 963/1000\n",
            "1/1 [==============================] - 0s 8ms/step - loss: 0.5245 - inflam_loss: 0.4374 - nephr_loss: 0.4357 - inflam_acc: 0.9125 - nephr_acc: 0.8125\n",
            "Epoch 964/1000\n",
            "1/1 [==============================] - 0s 10ms/step - loss: 0.5242 - inflam_loss: 0.4371 - nephr_loss: 0.4354 - inflam_acc: 0.9250 - nephr_acc: 0.8375\n",
            "Epoch 965/1000\n",
            "1/1 [==============================] - 0s 9ms/step - loss: 0.5238 - inflam_loss: 0.4368 - nephr_loss: 0.4351 - inflam_acc: 0.9125 - nephr_acc: 0.8125\n",
            "Epoch 966/1000\n",
            "1/1 [==============================] - 0s 14ms/step - loss: 0.5234 - inflam_loss: 0.4365 - nephr_loss: 0.4348 - inflam_acc: 0.9250 - nephr_acc: 0.8500\n",
            "Epoch 967/1000\n",
            "1/1 [==============================] - 0s 5ms/step - loss: 0.5231 - inflam_loss: 0.4362 - nephr_loss: 0.4345 - inflam_acc: 0.9125 - nephr_acc: 0.8125\n",
            "Epoch 968/1000\n",
            "1/1 [==============================] - 0s 15ms/step - loss: 0.5227 - inflam_loss: 0.4359 - nephr_loss: 0.4342 - inflam_acc: 0.9250 - nephr_acc: 0.8500\n",
            "Epoch 969/1000\n",
            "1/1 [==============================] - 0s 7ms/step - loss: 0.5223 - inflam_loss: 0.4356 - nephr_loss: 0.4339 - inflam_acc: 0.9125 - nephr_acc: 0.8125\n",
            "Epoch 970/1000\n",
            "1/1 [==============================] - 0s 14ms/step - loss: 0.5220 - inflam_loss: 0.4352 - nephr_loss: 0.4336 - inflam_acc: 0.9250 - nephr_acc: 0.8500\n",
            "Epoch 971/1000\n",
            "1/1 [==============================] - 0s 14ms/step - loss: 0.5216 - inflam_loss: 0.4349 - nephr_loss: 0.4333 - inflam_acc: 0.9125 - nephr_acc: 0.8125\n",
            "Epoch 972/1000\n",
            "1/1 [==============================] - 0s 4ms/step - loss: 0.5212 - inflam_loss: 0.4346 - nephr_loss: 0.4330 - inflam_acc: 0.9250 - nephr_acc: 0.8625\n",
            "Epoch 973/1000\n",
            "1/1 [==============================] - 0s 11ms/step - loss: 0.5209 - inflam_loss: 0.4343 - nephr_loss: 0.4327 - inflam_acc: 0.9125 - nephr_acc: 0.8125\n",
            "Epoch 974/1000\n",
            "1/1 [==============================] - 0s 8ms/step - loss: 0.5205 - inflam_loss: 0.4340 - nephr_loss: 0.4324 - inflam_acc: 0.9250 - nephr_acc: 0.8625\n",
            "Epoch 975/1000\n",
            "1/1 [==============================] - 0s 14ms/step - loss: 0.5201 - inflam_loss: 0.4337 - nephr_loss: 0.4321 - inflam_acc: 0.9125 - nephr_acc: 0.8125\n",
            "Epoch 976/1000\n",
            "1/1 [==============================] - 0s 14ms/step - loss: 0.5198 - inflam_loss: 0.4334 - nephr_loss: 0.4319 - inflam_acc: 0.9250 - nephr_acc: 0.8750\n",
            "Epoch 977/1000\n",
            "1/1 [==============================] - 0s 13ms/step - loss: 0.5194 - inflam_loss: 0.4331 - nephr_loss: 0.4316 - inflam_acc: 0.9125 - nephr_acc: 0.8125\n",
            "Epoch 978/1000\n",
            "1/1 [==============================] - 0s 6ms/step - loss: 0.5191 - inflam_loss: 0.4328 - nephr_loss: 0.4313 - inflam_acc: 0.9250 - nephr_acc: 0.8750\n",
            "Epoch 979/1000\n",
            "1/1 [==============================] - 0s 12ms/step - loss: 0.5187 - inflam_loss: 0.4325 - nephr_loss: 0.4310 - inflam_acc: 0.9125 - nephr_acc: 0.8125\n",
            "Epoch 980/1000\n",
            "1/1 [==============================] - 0s 9ms/step - loss: 0.5183 - inflam_loss: 0.4322 - nephr_loss: 0.4307 - inflam_acc: 0.9250 - nephr_acc: 0.8750\n",
            "Epoch 981/1000\n",
            "1/1 [==============================] - 0s 13ms/step - loss: 0.5180 - inflam_loss: 0.4319 - nephr_loss: 0.4304 - inflam_acc: 0.9125 - nephr_acc: 0.8125\n",
            "Epoch 982/1000\n",
            "1/1 [==============================] - 0s 18ms/step - loss: 0.5176 - inflam_loss: 0.4316 - nephr_loss: 0.4301 - inflam_acc: 0.9250 - nephr_acc: 0.8750\n",
            "Epoch 983/1000\n",
            "1/1 [==============================] - 0s 15ms/step - loss: 0.5172 - inflam_loss: 0.4313 - nephr_loss: 0.4298 - inflam_acc: 0.9125 - nephr_acc: 0.8125\n",
            "Epoch 984/1000\n",
            "1/1 [==============================] - 0s 8ms/step - loss: 0.5169 - inflam_loss: 0.4310 - nephr_loss: 0.4295 - inflam_acc: 0.9250 - nephr_acc: 0.8750\n",
            "Epoch 985/1000\n",
            "1/1 [==============================] - 0s 19ms/step - loss: 0.5165 - inflam_loss: 0.4307 - nephr_loss: 0.4292 - inflam_acc: 0.9125 - nephr_acc: 0.8125\n",
            "Epoch 986/1000\n",
            "1/1 [==============================] - 0s 18ms/step - loss: 0.5162 - inflam_loss: 0.4304 - nephr_loss: 0.4289 - inflam_acc: 0.9250 - nephr_acc: 0.8750\n",
            "Epoch 987/1000\n",
            "1/1 [==============================] - 0s 17ms/step - loss: 0.5158 - inflam_loss: 0.4301 - nephr_loss: 0.4287 - inflam_acc: 0.9125 - nephr_acc: 0.8125\n",
            "Epoch 988/1000\n",
            "1/1 [==============================] - 0s 8ms/step - loss: 0.5154 - inflam_loss: 0.4298 - nephr_loss: 0.4284 - inflam_acc: 0.9250 - nephr_acc: 0.8875\n",
            "Epoch 989/1000\n",
            "1/1 [==============================] - 0s 16ms/step - loss: 0.5151 - inflam_loss: 0.4295 - nephr_loss: 0.4281 - inflam_acc: 0.9125 - nephr_acc: 0.8125\n",
            "Epoch 990/1000\n",
            "1/1 [==============================] - 0s 14ms/step - loss: 0.5147 - inflam_loss: 0.4292 - nephr_loss: 0.4278 - inflam_acc: 0.9250 - nephr_acc: 0.9000\n",
            "Epoch 991/1000\n",
            "1/1 [==============================] - 0s 24ms/step - loss: 0.5144 - inflam_loss: 0.4289 - nephr_loss: 0.4275 - inflam_acc: 0.9125 - nephr_acc: 0.8125\n",
            "Epoch 992/1000\n",
            "1/1 [==============================] - 0s 5ms/step - loss: 0.5140 - inflam_loss: 0.4286 - nephr_loss: 0.4272 - inflam_acc: 0.9250 - nephr_acc: 0.9000\n",
            "Epoch 993/1000\n",
            "1/1 [==============================] - 0s 11ms/step - loss: 0.5136 - inflam_loss: 0.4283 - nephr_loss: 0.4269 - inflam_acc: 0.9125 - nephr_acc: 0.8375\n",
            "Epoch 994/1000\n",
            "1/1 [==============================] - 0s 7ms/step - loss: 0.5133 - inflam_loss: 0.4280 - nephr_loss: 0.4266 - inflam_acc: 0.9250 - nephr_acc: 0.9000\n",
            "Epoch 995/1000\n",
            "1/1 [==============================] - 0s 17ms/step - loss: 0.5129 - inflam_loss: 0.4277 - nephr_loss: 0.4263 - inflam_acc: 0.9125 - nephr_acc: 0.8500\n",
            "Epoch 996/1000\n",
            "1/1 [==============================] - 0s 15ms/step - loss: 0.5126 - inflam_loss: 0.4274 - nephr_loss: 0.4261 - inflam_acc: 0.9250 - nephr_acc: 0.9000\n",
            "Epoch 997/1000\n",
            "1/1 [==============================] - 0s 9ms/step - loss: 0.5122 - inflam_loss: 0.4271 - nephr_loss: 0.4258 - inflam_acc: 0.9125 - nephr_acc: 0.8500\n",
            "Epoch 998/1000\n",
            "1/1 [==============================] - 0s 8ms/step - loss: 0.5119 - inflam_loss: 0.4268 - nephr_loss: 0.4255 - inflam_acc: 0.9250 - nephr_acc: 0.9000\n",
            "Epoch 999/1000\n",
            "1/1 [==============================] - 0s 13ms/step - loss: 0.5115 - inflam_loss: 0.4265 - nephr_loss: 0.4252 - inflam_acc: 0.9125 - nephr_acc: 0.8500\n",
            "Epoch 1000/1000\n",
            "1/1 [==============================] - 0s 8ms/step - loss: 0.5111 - inflam_loss: 0.4262 - nephr_loss: 0.4249 - inflam_acc: 0.9250 - nephr_acc: 0.9000\n"
          ],
          "name": "stdout"
        }
      ]
    },
    {
      "cell_type": "markdown",
      "metadata": {
        "id": "2D5WmZvkKURz"
      },
      "source": [
        "#### Plot the learning curves"
      ]
    },
    {
      "cell_type": "code",
      "metadata": {
        "scrolled": false,
        "id": "6GgUOXPPKUR0",
        "colab": {
          "base_uri": "https://localhost:8080/",
          "height": 573
        },
        "outputId": "48cd0742-65bb-41eb-b5d2-9dfe43fa9abb"
      },
      "source": [
        "# Plot the training accuracy\n",
        "\n",
        "acc_keys = [k for k in history.history.keys() if k in ('inflam_acc', 'nephr_acc')] \n",
        "loss_keys = [k for k in history.history.keys() if not k in acc_keys]\n",
        "\n",
        "for k, v in history.history.items():\n",
        "    if k in acc_keys:\n",
        "        plt.figure(1)\n",
        "        plt.plot(v)\n",
        "    else:\n",
        "        plt.figure(2)\n",
        "        plt.plot(v)\n",
        "\n",
        "plt.figure(1)\n",
        "plt.title('Accuracy vs. epochs')\n",
        "plt.ylabel('Accuracy')\n",
        "plt.xlabel('Epoch')\n",
        "plt.legend(acc_keys, loc='upper right')\n",
        "\n",
        "plt.figure(2)\n",
        "plt.title('Loss vs. epochs')\n",
        "plt.ylabel('Loss')\n",
        "plt.xlabel('Epoch')\n",
        "plt.legend(loss_keys, loc='upper right')\n",
        "\n",
        "plt.show()"
      ],
      "execution_count": 28,
      "outputs": [
        {
          "output_type": "display_data",
          "data": {
            "image/png": "[encoded data removed]",
            "text/plain": [
              "<Figure size 432x288 with 1 Axes>"
            ]
          },
          "metadata": {
            "tags": [],
            "needs_background": "light"
          }
        },
        {
          "output_type": "display_data",
          "data": {
            "image/png": "[encoded data removed]",
            "text/plain": [
              "<Figure size 432x288 with 1 Axes>"
            ]
          },
          "metadata": {
            "tags": [],
            "needs_background": "light"
          }
        }
      ]
    },
    {
      "cell_type": "code",
      "metadata": {
        "scrolled": false,
        "id": "gGnXQLRyKUR4",
        "colab": {
          "base_uri": "https://localhost:8080/"
        },
        "outputId": "dc3095d7-dff2-4113-eab3-b17a4310e5de"
      },
      "source": [
        "# Evaluate the model\n",
        "\n",
        "model.evaluate([temp_test, nocc_test, lumbp_test, up_test, mict_test, bis_test], \n",
        "               [inflam_test, nephr_test])"
      ],
      "execution_count": 31,
      "outputs": [
        {
          "output_type": "stream",
          "text": [
            "2/2 [==============================] - 0s 7ms/step - loss: 0.5167 - inflam_loss: 0.4323 - nephr_loss: 0.4221 - inflam_acc: 0.9250 - nephr_acc: 0.8500\n"
          ],
          "name": "stdout"
        },
        {
          "output_type": "execute_result",
          "data": {
            "text/plain": [
              "[0.5166634321212769,\n",
              " 0.4322507381439209,\n",
              " 0.42206376791000366,\n",
              " 0.925000011920929,\n",
              " 0.8500000238418579]"
            ]
          },
          "metadata": {
            "tags": []
          },
          "execution_count": 31
        }
      ]
    },
    {
      "cell_type": "markdown",
      "metadata": {
        "id": "G5xxvVY3KUR8"
      },
      "source": [
        "***\n",
        "<a id=\"coding_tutorial_2\"></a>\n",
        "## Tensors and Variables"
      ]
    },
    {
      "cell_type": "code",
      "metadata": {
        "scrolled": false,
        "id": "fTIe7EbMKUR9"
      },
      "source": [
        "import numpy as np"
      ],
      "execution_count": null,
      "outputs": []
    },
    {
      "cell_type": "markdown",
      "metadata": {
        "id": "XEKAybugKUSD"
      },
      "source": [
        "#### Create Variable objects"
      ]
    },
    {
      "cell_type": "code",
      "metadata": {
        "scrolled": false,
        "id": "PQnCI7UPKUSF"
      },
      "source": [
        "# Create Variable objects of different type with tf.Variable\n",
        "\n",
        "strings = tf.Variable([\"Hello world!\"], tf.string)\n",
        "floats  = tf.Variable([3.14159, 2.71828], tf.float64)\n",
        "ints = tf.Variable([1, 2, 3], tf.int32)\n",
        "complexs = tf.Variable([25.9 - 7.39j, 1.23 - 4.91j], tf.complex128)"
      ],
      "execution_count": null,
      "outputs": []
    },
    {
      "cell_type": "code",
      "metadata": {
        "scrolled": false,
        "id": "8st30T0kKUSJ"
      },
      "source": [
        "# Initialise a Variable value\n",
        "\n"
      ],
      "execution_count": null,
      "outputs": []
    },
    {
      "cell_type": "markdown",
      "metadata": {
        "id": "9rOpqQVNKUSO"
      },
      "source": [
        "#### Use and modify Variable values"
      ]
    },
    {
      "cell_type": "code",
      "metadata": {
        "scrolled": false,
        "id": "BM_P9WM1KUSP"
      },
      "source": [
        "# Use the value of a Variable\n",
        "\n",
        "v = tf.Variable(0.0)\n",
        "w = v + 1  # w is a tf.Tensor which is computed based on the value of v.\n",
        "\n",
        "print(type(w))"
      ],
      "execution_count": null,
      "outputs": []
    },
    {
      "cell_type": "code",
      "metadata": {
        "scrolled": false,
        "id": "ZphqbA9bKUSV"
      },
      "source": [
        "# Increment the value of a Variable\n",
        "\n"
      ],
      "execution_count": null,
      "outputs": []
    },
    {
      "cell_type": "code",
      "metadata": {
        "scrolled": false,
        "id": "bUTr5IMKKUSc"
      },
      "source": [
        "# Decrement the value of a Variable\n",
        "\n"
      ],
      "execution_count": null,
      "outputs": []
    },
    {
      "cell_type": "markdown",
      "metadata": {
        "id": "1fn43vXfKUSj"
      },
      "source": [
        "#### Create Tensor objects"
      ]
    },
    {
      "cell_type": "markdown",
      "metadata": {
        "id": "ydXIlRLVKUSk"
      },
      "source": [
        "Create a constant tensor and print its type as well as its shape:"
      ]
    },
    {
      "cell_type": "code",
      "metadata": {
        "scrolled": false,
        "id": "ynmKF5WBKUSn"
      },
      "source": [
        "# Create a constant Tensor\n",
        "\n",
        "x = tf.constant([[1, 2, 3], [4, 5, 6], [7, 8, 9]])\n",
        "print(x)\n",
        "print(\"dtype:\", x.dtype)\n",
        "print(\"shape:\", x.shape)"
      ],
      "execution_count": null,
      "outputs": []
    },
    {
      "cell_type": "code",
      "metadata": {
        "scrolled": false,
        "id": "ONzNFdvBKUSw"
      },
      "source": [
        "# Obtain the value as a numpy array\n",
        "\n"
      ],
      "execution_count": null,
      "outputs": []
    },
    {
      "cell_type": "code",
      "metadata": {
        "scrolled": false,
        "id": "Z_coR5e_KUS1"
      },
      "source": [
        "# Create a Tensor of type float32\n",
        "\n"
      ],
      "execution_count": null,
      "outputs": []
    },
    {
      "cell_type": "code",
      "metadata": {
        "scrolled": false,
        "id": "66vsJ2nDKUS6"
      },
      "source": [
        "# Create coefficients\n",
        "\n",
        "coeffs = np.arange(16)"
      ],
      "execution_count": null,
      "outputs": []
    },
    {
      "cell_type": "code",
      "metadata": {
        "id": "oklUSgBkKUS_"
      },
      "source": [
        "# Initialise shapes\n",
        "\n"
      ],
      "execution_count": null,
      "outputs": []
    },
    {
      "cell_type": "code",
      "metadata": {
        "id": "xDueGPOZKUTE"
      },
      "source": [
        "# Create Tensors of different shape\n",
        "\n",
        "a = tf.constant(coeffs, shape=shape1)\n",
        "print(\"\\n a:\\n \", a)\n",
        "\n",
        "b = tf.constant(coeffs, shape=shape2)\n",
        "print(\"\\n b:\\n \", b)\n",
        "\n",
        "c = tf.constant(coeffs, shape=shape3)\n",
        "print(\"\\n c:\\n \", c)"
      ],
      "execution_count": null,
      "outputs": []
    },
    {
      "cell_type": "markdown",
      "metadata": {
        "id": "wQunv2imKUTH"
      },
      "source": [
        "#### Useful Tensor operations"
      ]
    },
    {
      "cell_type": "code",
      "metadata": {
        "scrolled": false,
        "id": "ckoPBCdeKUTI"
      },
      "source": [
        "# Create a constant Tensor\n",
        "\n",
        "t = tf.constant(np.arange(80), shape=[5,2,8])"
      ],
      "execution_count": null,
      "outputs": []
    },
    {
      "cell_type": "code",
      "metadata": {
        "id": "QIgKN6x_KUTN"
      },
      "source": [
        "# Get the rank of a Tensor\n",
        "\n"
      ],
      "execution_count": null,
      "outputs": []
    },
    {
      "cell_type": "code",
      "metadata": {
        "id": "w1lcPqXbKUTU"
      },
      "source": [
        "# Display the rank\n",
        "\n",
        "print(\"rank: \", rank)"
      ],
      "execution_count": null,
      "outputs": []
    },
    {
      "cell_type": "code",
      "metadata": {
        "scrolled": false,
        "id": "bDZTFUpKKUTY"
      },
      "source": [
        "# Reshape a Tensor\n",
        "\n"
      ],
      "execution_count": null,
      "outputs": []
    },
    {
      "cell_type": "code",
      "metadata": {
        "id": "-Jh0xAmhKUTb"
      },
      "source": [
        "# Display the new shape\n",
        "\n",
        "print(\"t2.shape: \", t2.shape)"
      ],
      "execution_count": null,
      "outputs": []
    },
    {
      "cell_type": "code",
      "metadata": {
        "scrolled": false,
        "id": "LLGauT00KUTd"
      },
      "source": [
        "# Create ones, zeros, identity and constant Tensors\n",
        "\n"
      ],
      "execution_count": null,
      "outputs": []
    },
    {
      "cell_type": "code",
      "metadata": {
        "id": "rqVS1qx7KUTf"
      },
      "source": [
        "# Display the created tensors\n",
        "\n",
        "print(\"\\n Ones:\\n \", ones)\n",
        "print(\"\\n Zeros:\\n \", zeros)\n",
        "print(\"\\n Identity:\\n \", eye)\n",
        "print(\"\\n Tensor filled with 7: \", tensor7)"
      ],
      "execution_count": null,
      "outputs": []
    },
    {
      "cell_type": "code",
      "metadata": {
        "scrolled": false,
        "id": "HWrvSDxNKUTl"
      },
      "source": [
        "# Create a ones Tensor and a zeros Tensor\n",
        "\n",
        "t1 = tf.ones(shape=(2, 2))\n",
        "t2 = tf.zeros(shape=(2, 2))"
      ],
      "execution_count": null,
      "outputs": []
    },
    {
      "cell_type": "code",
      "metadata": {
        "scrolled": false,
        "id": "1j_bYOrhKUTq"
      },
      "source": [
        "# Concatentate two Tensors\n",
        "\n"
      ],
      "execution_count": null,
      "outputs": []
    },
    {
      "cell_type": "code",
      "metadata": {
        "id": "FtbFujr7KUTt"
      },
      "source": [
        "# Display the concatenated tensors\n",
        "\n",
        "print(concat0)\n",
        "print(concat1)"
      ],
      "execution_count": null,
      "outputs": []
    },
    {
      "cell_type": "code",
      "metadata": {
        "scrolled": false,
        "id": "M-WVtu8DKUTw"
      },
      "source": [
        "# Create a constant Tensor\n",
        "\n",
        "t = tf.constant(np.arange(24), shape=(3, 2, 4))\n",
        "print(\"\\n t shape: \", t.shape)"
      ],
      "execution_count": null,
      "outputs": []
    },
    {
      "cell_type": "code",
      "metadata": {
        "scrolled": false,
        "id": "RrN4aMQWKUT2"
      },
      "source": [
        "# Expanding the rank of Tensors\n",
        "\n"
      ],
      "execution_count": null,
      "outputs": []
    },
    {
      "cell_type": "code",
      "metadata": {
        "scrolled": false,
        "id": "kB-r55xiKUT5"
      },
      "source": [
        "# Display the shapes after tf.expand_dims\n",
        "\n",
        "print(\"\\n After expanding dims:\\n t1 shape: \", t1.shape, \"\\n t2 shape: \", t2.shape, \"\\n t3 shape: \", t3.shape)"
      ],
      "execution_count": null,
      "outputs": []
    },
    {
      "cell_type": "code",
      "metadata": {
        "scrolled": false,
        "id": "q1zKORaAKUT9"
      },
      "source": [
        "# Squeezing redundant dimensions\n",
        "\n"
      ],
      "execution_count": null,
      "outputs": []
    },
    {
      "cell_type": "code",
      "metadata": {
        "scrolled": false,
        "id": "94Uy3Y5GKUUB"
      },
      "source": [
        "# Display the shapes after tf.squeeze\n",
        "\n",
        "print(\"\\n After squeezing:\\n t1 shape: \", t1.shape, \"\\n t2 shape: \", t2.shape, \"\\n t3 shape: \", t3.shape)"
      ],
      "execution_count": null,
      "outputs": []
    },
    {
      "cell_type": "code",
      "metadata": {
        "scrolled": false,
        "id": "bSnXwk3YKUUE"
      },
      "source": [
        "# Slicing a Tensor\n",
        "\n"
      ],
      "execution_count": null,
      "outputs": []
    },
    {
      "cell_type": "markdown",
      "metadata": {
        "id": "lLnXno5vKUUH"
      },
      "source": [
        "#### Doing maths with Tensors"
      ]
    },
    {
      "cell_type": "code",
      "metadata": {
        "id": "8cvyLI90KUUH"
      },
      "source": [
        "# Create two constant Tensors\n",
        "\n",
        "c = tf.constant([[1.0, 2.0], [3.0, 4.0]])\n",
        "d = tf.constant([[1.0, 1.0], [0.0, 1.0]])"
      ],
      "execution_count": null,
      "outputs": []
    },
    {
      "cell_type": "code",
      "metadata": {
        "scrolled": false,
        "id": "zOr2CRcYKUUM"
      },
      "source": [
        "# Matrix multiplication\n",
        "\n"
      ],
      "execution_count": null,
      "outputs": []
    },
    {
      "cell_type": "code",
      "metadata": {
        "id": "MlBvG6UxKUUP"
      },
      "source": [
        "# Display the result\n",
        "\n",
        "print(\"\\n tf.matmul(c,d):\\n\", matmul_cd)"
      ],
      "execution_count": null,
      "outputs": []
    },
    {
      "cell_type": "code",
      "metadata": {
        "scrolled": false,
        "id": "lMJMXHoMKUUR"
      },
      "source": [
        "# Elementwise operations\n",
        "\n"
      ],
      "execution_count": null,
      "outputs": []
    },
    {
      "cell_type": "code",
      "metadata": {
        "id": "_eoHiulOKUUT"
      },
      "source": [
        "# Display the results\n",
        "\n",
        "print(\"\\n c*d:\\n\", c_times_d)\n",
        "print(\"\\n c+d:\\n\", c_plus_d)\n",
        "print(\"\\n c-d:\\n\", c_minus_d)\n",
        "print(\"\\n c/c:\\n\", c_div_c)"
      ],
      "execution_count": null,
      "outputs": []
    },
    {
      "cell_type": "code",
      "metadata": {
        "scrolled": false,
        "id": "UTjk8RmQKUUV"
      },
      "source": [
        "# Create Tensors\n",
        "\n",
        "a = tf.constant([[2, 3], [3, 3]])\n",
        "b = tf.constant([[8, 7], [2, 3]])\n",
        "x = tf.constant([[-6.89 + 1.78j], [-2.54 + 2.15j]])"
      ],
      "execution_count": null,
      "outputs": []
    },
    {
      "cell_type": "code",
      "metadata": {
        "id": "5fKpXUAWKUUY"
      },
      "source": [
        "# Absolute value of a Tensor\n",
        "\n"
      ],
      "execution_count": null,
      "outputs": []
    },
    {
      "cell_type": "code",
      "metadata": {
        "id": "8_slSXaBKUUa"
      },
      "source": [
        "# Power of a Tensor\n",
        "\n"
      ],
      "execution_count": null,
      "outputs": []
    },
    {
      "cell_type": "code",
      "metadata": {
        "scrolled": false,
        "id": "-XlewNGEKUUc"
      },
      "source": [
        "# Display the results\n",
        "\n",
        "print(\"\\n \", absx)\n",
        "print(\"\\n \", powab)"
      ],
      "execution_count": null,
      "outputs": []
    },
    {
      "cell_type": "markdown",
      "metadata": {
        "id": "hT_nP5czKUUe"
      },
      "source": [
        "#### Randomly sampled constant tensors"
      ]
    },
    {
      "cell_type": "code",
      "metadata": {
        "scrolled": false,
        "id": "BCYaFEZpKUUe"
      },
      "source": [
        "# Create a Tensor with samples from a Normal distribution\n",
        "\n"
      ],
      "execution_count": null,
      "outputs": []
    },
    {
      "cell_type": "code",
      "metadata": {
        "scrolled": false,
        "id": "TQuZhEUjKUUi"
      },
      "source": [
        "# Create a Tensor with samples from a Uniform distribution\n",
        "\n"
      ],
      "execution_count": null,
      "outputs": []
    },
    {
      "cell_type": "code",
      "metadata": {
        "scrolled": false,
        "id": "XJfvSj97KUUo"
      },
      "source": [
        "# Create a Tensor with samples from a Poisson distribution\n",
        "\n"
      ],
      "execution_count": null,
      "outputs": []
    },
    {
      "cell_type": "code",
      "metadata": {
        "scrolled": false,
        "id": "CdHl0f_AKUUq"
      },
      "source": [
        "# More maths operations\n",
        "\n",
        "d = tf.square(tn)\n",
        "e = tf.exp(d)\n",
        "f = tf.cos(c)"
      ],
      "execution_count": null,
      "outputs": []
    },
    {
      "cell_type": "markdown",
      "metadata": {
        "id": "P_y5iM-XKUUs"
      },
      "source": [
        "***\n",
        "<a id=\"coding_tutorial_3\"></a>\n",
        "## Accessing model layers"
      ]
    },
    {
      "cell_type": "code",
      "metadata": {
        "scrolled": false,
        "id": "x-XwASmfKUUt"
      },
      "source": [
        "import numpy as np\n",
        "import matplotlib.pyplot as plt\n",
        "%matplotlib inline"
      ],
      "execution_count": null,
      "outputs": []
    },
    {
      "cell_type": "markdown",
      "metadata": {
        "id": "gZ615uKaKUUv"
      },
      "source": [
        "#### Load the pre-trained model"
      ]
    },
    {
      "cell_type": "markdown",
      "metadata": {
        "id": "ZEnVLPANKUUv"
      },
      "source": [
        "In this section, we aim to demonstrate accessing layer attributes within a model.\n",
        "\n",
        "Let's get started by loading the `VGG19` pre-trained model from the `keras.applications` library, which is a very deep network trained on more than a million images from the ImageNet database. The network is trained to classify images into 1000 object categories."
      ]
    },
    {
      "cell_type": "code",
      "metadata": {
        "scrolled": false,
        "id": "_4qCBLtSKUUw"
      },
      "source": [
        "# Load the VGG19 model\n",
        "\n"
      ],
      "execution_count": null,
      "outputs": []
    },
    {
      "cell_type": "code",
      "metadata": {
        "id": "zFI6-6oJKUUy"
      },
      "source": [
        "# Get the inputs, layers and display the summary\n",
        "\n",
        "vgg_input = vgg_model.input\n",
        "vgg_layers = vgg_model.layers\n",
        "vgg_model.summary()"
      ],
      "execution_count": null,
      "outputs": []
    },
    {
      "cell_type": "markdown",
      "metadata": {
        "id": "yclV6KiFKUU3"
      },
      "source": [
        "#### Build a model to access the layer outputs"
      ]
    },
    {
      "cell_type": "code",
      "metadata": {
        "id": "Cov4lXwdKUU4"
      },
      "source": [
        "from tensorflow.keras.models import Model"
      ],
      "execution_count": null,
      "outputs": []
    },
    {
      "cell_type": "code",
      "metadata": {
        "scrolled": false,
        "id": "aQsJZr1YKUU6"
      },
      "source": [
        "# Build a model that returns the layer outputs\n",
        "\n"
      ],
      "execution_count": null,
      "outputs": []
    },
    {
      "cell_type": "code",
      "metadata": {
        "scrolled": true,
        "id": "78R_lcAwKUU7"
      },
      "source": [
        "# Plot the model\n",
        "\n"
      ],
      "execution_count": null,
      "outputs": []
    },
    {
      "cell_type": "code",
      "metadata": {
        "scrolled": false,
        "id": "j35hgDZZKUU9"
      },
      "source": [
        "# Test the model on a random input\n",
        "\n"
      ],
      "execution_count": null,
      "outputs": []
    },
    {
      "cell_type": "markdown",
      "metadata": {
        "id": "Ogh9UxE8KUU_"
      },
      "source": [
        "#### Load the 'cool cat' picture"
      ]
    },
    {
      "cell_type": "markdown",
      "metadata": {
        "id": "BUxx2lk0KUU_"
      },
      "source": [
        "In Zambia’s South Luangwa National Park, a photographer had been watching a pride of lions while they slept off a feast from a buffalo kill. When this female walked away, he anticipated that she might be going for a drink and so he positioned his vehicle on the opposite side of the waterhole. The `cool cat` picture is one of the highly commended 2018 Image from Wildlife Photographer of the Year."
      ]
    },
    {
      "cell_type": "markdown",
      "metadata": {
        "id": "rWLD97iOK5ut"
      },
      "source": [
        "#### Import the picture\n",
        "\n",
        "The dataset required for this tutorial can be downloaded from the following link:\n",
        "\n",
        "https://drive.google.com/open?id=1myXpP8QFvhATqg0bPYhCpVS48_OgAC0L\n",
        "\n",
        "You should store this file in Drive for use in this Colab notebook."
      ]
    },
    {
      "cell_type": "code",
      "metadata": {
        "scrolled": false,
        "id": "ylT-Kt65KUVA"
      },
      "source": [
        "# Display the original image\n",
        "\n",
        "import IPython.display as display\n",
        "from PIL import Image\n",
        "\n",
        "display.display(Image.open('path/to/cool_cat.jpg'))"
      ],
      "execution_count": null,
      "outputs": []
    },
    {
      "cell_type": "markdown",
      "metadata": {
        "id": "cMYjnJDIKUVC"
      },
      "source": [
        "#### Visualise network features from the input image"
      ]
    },
    {
      "cell_type": "code",
      "metadata": {
        "scrolled": false,
        "id": "96Z1V9XsKUVD"
      },
      "source": [
        "# Preprocess the image\n",
        "\n",
        "from tensorflow.keras.applications.vgg19 import preprocess_input\n",
        "from tensorflow.keras.preprocessing import image\n",
        "\n",
        "img_path = 'path/to/cool_cat.jpg'\n",
        "img = image.load_img(img_path, target_size=(224, 224))\n",
        "x = image.img_to_array(img)\n",
        "x = np.expand_dims(x, axis=0)\n",
        "x = preprocess_input(x)"
      ],
      "execution_count": null,
      "outputs": []
    },
    {
      "cell_type": "code",
      "metadata": {
        "scrolled": false,
        "id": "Bg74WXDCKUVF"
      },
      "source": [
        "# Extract the features\n",
        "\n"
      ],
      "execution_count": null,
      "outputs": []
    },
    {
      "cell_type": "code",
      "metadata": {
        "scrolled": false,
        "id": "eR_e_HmmKUVH"
      },
      "source": [
        "# Visualise the input channels\n",
        "\n"
      ],
      "execution_count": null,
      "outputs": []
    },
    {
      "cell_type": "code",
      "metadata": {
        "scrolled": false,
        "id": "Ke-6Vpj3KUVI"
      },
      "source": [
        "# Visualise some features in the first hidden layer\n",
        "\n"
      ],
      "execution_count": null,
      "outputs": []
    },
    {
      "cell_type": "code",
      "metadata": {
        "scrolled": false,
        "id": "eTV70KvoKUVK"
      },
      "source": [
        "# Build a model to extract features by layer name\n",
        "\n"
      ],
      "execution_count": null,
      "outputs": []
    },
    {
      "cell_type": "code",
      "metadata": {
        "scrolled": false,
        "id": "WQvb0OuUKUVM"
      },
      "source": [
        "# Visualise some features from the extracted layer output\n",
        "\n"
      ],
      "execution_count": null,
      "outputs": []
    },
    {
      "cell_type": "code",
      "metadata": {
        "scrolled": false,
        "id": "We6poZ7dKUVP"
      },
      "source": [
        "# Extract features from a layer deeper in the network\n",
        "\n"
      ],
      "execution_count": null,
      "outputs": []
    },
    {
      "cell_type": "code",
      "metadata": {
        "scrolled": false,
        "id": "8hOJSdVQKUVR"
      },
      "source": [
        "# Visualise some features from the extracted layer output\n",
        "\n"
      ],
      "execution_count": null,
      "outputs": []
    },
    {
      "cell_type": "markdown",
      "metadata": {
        "id": "0FV766ybKUVS"
      },
      "source": [
        "***\n",
        "<a id=\"coding_tutorial_4\"></a>\n",
        "## Freezing layers"
      ]
    },
    {
      "cell_type": "code",
      "metadata": {
        "scrolled": false,
        "id": "qvMmt0s5KUVS"
      },
      "source": [
        "import numpy as np\n",
        "import matplotlib.pyplot as plt\n",
        "%matplotlib inline"
      ],
      "execution_count": null,
      "outputs": []
    },
    {
      "cell_type": "markdown",
      "metadata": {
        "id": "muJ3y73wKUVU"
      },
      "source": [
        "#### Build the model"
      ]
    },
    {
      "cell_type": "code",
      "metadata": {
        "scrolled": false,
        "id": "a7XUKYHpKUVU"
      },
      "source": [
        "# Build a small Sequential model\n",
        "\n",
        "from tensorflow.keras.models import Sequential\n",
        "from tensorflow.keras import layers\n",
        "\n",
        "model = Sequential([\n",
        "    layers.Dense(4, input_shape=(4,), activation='relu', kernel_initializer='random_uniform',\n",
        "                 bias_initializer='ones'),\n",
        "    layers.Dense(2, activation='relu', kernel_initializer='lecun_normal', bias_initializer='ones'),\n",
        "    layers.Dense(4, activation='softmax'),\n",
        "])"
      ],
      "execution_count": null,
      "outputs": []
    },
    {
      "cell_type": "code",
      "metadata": {
        "scrolled": false,
        "id": "cl9gvwc_KUVV"
      },
      "source": [
        "# Display the model summary\n",
        "\n",
        "model.summary()"
      ],
      "execution_count": null,
      "outputs": []
    },
    {
      "cell_type": "markdown",
      "metadata": {
        "id": "oLZVUklBKUVX"
      },
      "source": [
        "#### Examine the weight matrix variation over training"
      ]
    },
    {
      "cell_type": "code",
      "metadata": {
        "scrolled": false,
        "id": "kLSwnr6IKUVX"
      },
      "source": [
        "# Retrieve the weights and biases\n",
        "\n"
      ],
      "execution_count": null,
      "outputs": []
    },
    {
      "cell_type": "code",
      "metadata": {
        "scrolled": false,
        "id": "vpxvNkMnKUVa"
      },
      "source": [
        "# Construct a synthetic dataset\n",
        "\n",
        "x_train = np.random.random((100, 4))\n",
        "y_train = x_train\n",
        "\n",
        "x_test = np.random.random((20, 4))\n",
        "y_test = x_test"
      ],
      "execution_count": null,
      "outputs": []
    },
    {
      "cell_type": "code",
      "metadata": {
        "scrolled": false,
        "id": "ZTNGzE9-KUVc"
      },
      "source": [
        "# Compile and fit the model\n",
        "\n",
        "model.compile(optimizer='adam',\n",
        "              loss='mse',\n",
        "              metrics=['acc'])\n",
        "\n",
        "model.fit(x_train, y_train, epochs=50, verbose=False);"
      ],
      "execution_count": null,
      "outputs": []
    },
    {
      "cell_type": "code",
      "metadata": {
        "scrolled": false,
        "id": "jjY6rOOkKUVd"
      },
      "source": [
        "# Retrieve weights and biases\n",
        "\n"
      ],
      "execution_count": null,
      "outputs": []
    },
    {
      "cell_type": "code",
      "metadata": {
        "scrolled": false,
        "id": "1ZDHstynKUVe"
      },
      "source": [
        "# Plot the variation\n",
        "\n",
        "plt.figure(figsize=(8,8))\n",
        "for n in range(3):\n",
        "    delta_l = W1_layers[n] - W0_layers[n]\n",
        "    print('Layer '+str(n)+': bias variation: ', np.linalg.norm(b1_layers[n] - b0_layers[n]))\n",
        "    ax = plt.subplot(1,3,n+1)\n",
        "    plt.imshow(delta_l)\n",
        "    plt.title('Layer '+str(n))\n",
        "    plt.axis('off')\n",
        "plt.colorbar()\n",
        "plt.suptitle('Weight matrices variation');"
      ],
      "execution_count": null,
      "outputs": []
    },
    {
      "cell_type": "markdown",
      "metadata": {
        "id": "hrhsfqdwKUVg"
      },
      "source": [
        "#### Freeze layers at build time"
      ]
    },
    {
      "cell_type": "code",
      "metadata": {
        "scrolled": false,
        "id": "xlxrMUF5KUVg"
      },
      "source": [
        "# Count the trainable and non trainable variables before the freezing\n",
        "\n"
      ],
      "execution_count": null,
      "outputs": []
    },
    {
      "cell_type": "code",
      "metadata": {
        "id": "dNpfvfSXKUVi"
      },
      "source": [
        "# Display the number of trainable and non trainable variables before the freezing\n",
        "\n",
        "print(\"\\n Before freezing:\\n\\t Number of trainable variables: \", n_trainable_variables,\n",
        "                         \"\\n\\t Number of non trainable variables: \", n_non_trainable_variables)"
      ],
      "execution_count": null,
      "outputs": []
    },
    {
      "cell_type": "code",
      "metadata": {
        "scrolled": false,
        "id": "AGpSC4ZAKUVn"
      },
      "source": [
        "# Build the model\n",
        "\n"
      ],
      "execution_count": null,
      "outputs": []
    },
    {
      "cell_type": "code",
      "metadata": {
        "scrolled": false,
        "id": "lWmPkL-pKUVo"
      },
      "source": [
        "# Count the trainable and non trainable variables after the freezing\n",
        "\n"
      ],
      "execution_count": null,
      "outputs": []
    },
    {
      "cell_type": "code",
      "metadata": {
        "id": "_Bzhnsr7KUVp"
      },
      "source": [
        "# Display the number of trainable and non trainable variables after the freezing\n",
        "\n",
        "print(\"\\n After freezing:\\n\\t Number of trainable variables: \", n_trainable_variables,\n",
        "                         \"\\n\\t Number of non trainable variables: \", n_non_trainable_variables)"
      ],
      "execution_count": null,
      "outputs": []
    },
    {
      "cell_type": "code",
      "metadata": {
        "scrolled": false,
        "id": "Kl6-nIeYKUVr"
      },
      "source": [
        "# Retrieve weights and biases\n",
        "\n"
      ],
      "execution_count": null,
      "outputs": []
    },
    {
      "cell_type": "code",
      "metadata": {
        "scrolled": false,
        "id": "aoOhSvdCKUVs"
      },
      "source": [
        "# Compile and fit the model\n",
        "\n",
        "model.compile(optimizer='adam',\n",
        "              loss='mse',\n",
        "              metrics=['acc'])\n",
        "\n",
        "model.fit(x_train, y_train, epochs=50, verbose=False);"
      ],
      "execution_count": null,
      "outputs": []
    },
    {
      "cell_type": "code",
      "metadata": {
        "scrolled": false,
        "id": "VW2Ij7rGKUVt"
      },
      "source": [
        "# Retrieve weights and biases\n",
        "\n"
      ],
      "execution_count": null,
      "outputs": []
    },
    {
      "cell_type": "code",
      "metadata": {
        "scrolled": false,
        "id": "SJv_yc34KUVv"
      },
      "source": [
        "# Plot the variation\n",
        "\n"
      ],
      "execution_count": null,
      "outputs": []
    },
    {
      "cell_type": "markdown",
      "metadata": {
        "id": "FkbrhuxUKUVw"
      },
      "source": [
        "#### Freeze layers of a pre-built model"
      ]
    },
    {
      "cell_type": "code",
      "metadata": {
        "scrolled": false,
        "id": "1EuSNnI1KUVx"
      },
      "source": [
        "# Count the trainable and non trainable variables before the freezing\n",
        "\n",
        "print(\"\\n Before freezing:\\n\\t Number of trainable variables: \", len(model.trainable_variables),\n",
        "                         \"\\n\\t Number of non trainable variables: \", len(model.non_trainable_variables))"
      ],
      "execution_count": null,
      "outputs": []
    },
    {
      "cell_type": "code",
      "metadata": {
        "scrolled": false,
        "id": "xKISfPTaKUVz"
      },
      "source": [
        "# Freeze the second layer\n",
        "\n"
      ],
      "execution_count": null,
      "outputs": []
    },
    {
      "cell_type": "code",
      "metadata": {
        "scrolled": false,
        "id": "lS1xI65tKUV0"
      },
      "source": [
        "# Count the trainable and non trainable variables after the freezing\n",
        "\n",
        "print(\"\\n After freezing:\\n\\t Number of trainable variables: \", len(model.trainable_variables),\n",
        "                        \"\\n\\t Number of non trainable variables: \", len(model.non_trainable_variables))"
      ],
      "execution_count": null,
      "outputs": []
    },
    {
      "cell_type": "code",
      "metadata": {
        "scrolled": false,
        "id": "e0yk7ZZoKUV3"
      },
      "source": [
        "# Compile and fit the model\n",
        "\n",
        "model.compile(optimizer='adam',\n",
        "              loss='mse',\n",
        "              metrics=['acc'])\n",
        "\n",
        "model.fit(x_train, y_train, epochs=50, verbose=False);"
      ],
      "execution_count": null,
      "outputs": []
    },
    {
      "cell_type": "code",
      "metadata": {
        "scrolled": false,
        "id": "2nlvj0k-KUV4"
      },
      "source": [
        "# Retrieve weights and biases\n",
        "\n"
      ],
      "execution_count": null,
      "outputs": []
    },
    {
      "cell_type": "code",
      "metadata": {
        "scrolled": false,
        "id": "O7LO4ZWvKUV5"
      },
      "source": [
        "# Plot the variation\n",
        "\n"
      ],
      "execution_count": null,
      "outputs": []
    }
  ]
}