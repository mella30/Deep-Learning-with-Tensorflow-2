{
  "nbformat": 4,
  "nbformat_minor": 0,
  "metadata": {
    "kernelspec": {
      "name": "python3",
      "display_name": "Python 3"
    },
    "colab": {
      "name": "Kopie von Capstone Project.ipynb",
      "provenance": [],
      "collapsed_sections": [],
      "include_colab_link": true
    },
    "language_info": {
      "name": "python"
    },
    "accelerator": "GPU"
  },
  "cells": [
    {
      "cell_type": "markdown",
      "metadata": {
        "id": "view-in-github",
        "colab_type": "text"
      },
      "source": [
        "<a href=\"https://colab.research.google.com/github/mella30/Deep-Learning-with-Tensorflow-2/blob/main/Course2-Customising_your_models_with_Tensorflow_2/Capstone_Project.ipynb\" target=\"_parent\"><img src=\"https://colab.research.google.com/assets/colab-badge.svg\" alt=\"Open In Colab\"/></a>"
      ]
    },
    {
      "cell_type": "markdown",
      "metadata": {
        "id": "vsX0L1sG1iZj"
      },
      "source": [
        "# Capstone Project\n",
        "## Neural translation model\n",
        "### Instructions\n",
        "\n",
        "In this notebook, you will create a neural network that translates from English to German. You will use concepts from throughout this course, including building more flexible model architectures, freezing layers, data processing pipeline and sequence modelling.\n",
        "\n",
        "This project is peer-assessed. Within this notebook you will find instructions in each section for how to complete the project. Pay close attention to the instructions as the peer review will be carried out according to a grading rubric that checks key parts of the project instructions. Feel free to add extra cells into the notebook as required.\n",
        "\n",
        "### How to submit\n",
        "\n",
        "When you have completed the Capstone project notebook, you will submit a pdf of the notebook for peer review. First ensure that the notebook has been fully executed from beginning to end, and all of the cell outputs are visible. This is important, as the grading rubric depends on the reviewer being able to view the outputs of your notebook. Save the notebook as a pdf (you could download the notebook with File -> Download .ipynb, open the notebook locally, and then File -> Download as -> PDF via LaTeX), and then submit this pdf for review.\n",
        "\n",
        "### Let's get started!\n",
        "\n",
        "We'll start by running some imports, and loading the dataset. For this project you are free to make further imports throughout the notebook as you wish. "
      ]
    },
    {
      "cell_type": "code",
      "metadata": {
        "id": "2VyTvxPN1iZn"
      },
      "source": [
        "import tensorflow as tf\n",
        "import tensorflow_hub as hub\n",
        "import unicodedata\n",
        "import re\n",
        "from IPython.display import Image\n",
        "\n",
        "# my imports\n",
        "import numpy as np\n",
        "import matplotlib.pyplot as plt\n",
        "import sklearn.model_selection\n",
        "from tensorflow.keras.layers import Layer, Input, LSTM, Masking, Dense, Embedding\n",
        "from prettytable import PrettyTable"
      ],
      "execution_count": 36,
      "outputs": []
    },
    {
      "cell_type": "markdown",
      "metadata": {
        "id": "wuIi4lAR1iZt"
      },
      "source": [
        "For the capstone project, you will use a language dataset from http://www.manythings.org/anki/ to build a neural translation model. This dataset consists of over 200,000 pairs of sentences in English and German. In order to make the training quicker, we will restrict to our dataset to 20,000 pairs. Feel free to change this if you wish - the size of the dataset used is not part of the grading rubric.\n",
        "\n",
        "Your goal is to develop a neural translation model from English to German, making use of a pre-trained English word embedding module."
      ]
    },
    {
      "cell_type": "markdown",
      "metadata": {
        "id": "pi9Dq6vv3FVO"
      },
      "source": [
        "#### Import the data\n",
        "\n",
        "The dataset is available for download as a zip file at the following link:\n",
        "\n",
        "https://drive.google.com/open?id=1KczOciG7sYY7SB9UlBeRP1T9659b121Q\n",
        "\n",
        "You should store the unzipped folder in Drive for use in this Colab notebook."
      ]
    },
    {
      "cell_type": "code",
      "metadata": {
        "id": "Nw99tEEQ3bKL",
        "colab": {
          "base_uri": "https://localhost:8080/"
        },
        "outputId": "c64afb50-e3f6-4b3f-8ac9-751600efb94e"
      },
      "source": [
        "\n",
        "# Run this cell to connect to your Drive folder\n",
        "\n",
        "from google.colab import drive\n",
        "drive.mount('/content/gdrive')"
      ],
      "execution_count": 2,
      "outputs": [
        {
          "output_type": "stream",
          "name": "stdout",
          "text": [
            "Drive already mounted at /content/gdrive; to attempt to forcibly remount, call drive.mount(\"/content/gdrive\", force_remount=True).\n"
          ]
        }
      ]
    },
    {
      "cell_type": "code",
      "metadata": {
        "id": "o8PetPpw1iZu"
      },
      "source": [
        "# Run this cell to load the dataset\n",
        "\n",
        "NUM_EXAMPLES = 20000\n",
        "data_examples = []\n",
        "with open('/content/gdrive/MyDrive/Datasets/deu.txt', 'r', encoding='utf8') as f:\n",
        "    for line in f.readlines():\n",
        "        if len(data_examples) < NUM_EXAMPLES:\n",
        "            data_examples.append(line)\n",
        "        else:\n",
        "            break"
      ],
      "execution_count": 3,
      "outputs": []
    },
    {
      "cell_type": "code",
      "metadata": {
        "id": "JumLjJ631iZy"
      },
      "source": [
        "# These functions preprocess English and German sentences\n",
        "\n",
        "def unicode_to_ascii(s):\n",
        "    return ''.join(c for c in unicodedata.normalize('NFD', s) if unicodedata.category(c) != 'Mn')\n",
        "\n",
        "def preprocess_sentence(sentence):\n",
        "    sentence = sentence.lower().strip()\n",
        "    sentence = re.sub(r\"ü\", 'ue', sentence)\n",
        "    sentence = re.sub(r\"ä\", 'ae', sentence)\n",
        "    sentence = re.sub(r\"ö\", 'oe', sentence)\n",
        "    sentence = re.sub(r'ß', 'ss', sentence)\n",
        "    \n",
        "    sentence = unicode_to_ascii(sentence)\n",
        "    sentence = re.sub(r\"([?.!,])\", r\" \\1 \", sentence)\n",
        "    sentence = re.sub(r\"[^a-z?.!,']+\", \" \", sentence)\n",
        "    sentence = re.sub(r'[\" \"]+', \" \", sentence)\n",
        "    \n",
        "    return sentence.strip()"
      ],
      "execution_count": 4,
      "outputs": []
    },
    {
      "cell_type": "markdown",
      "metadata": {
        "id": "XFJap-TW1iZ2"
      },
      "source": [
        "#### The custom translation model\n",
        "The following is a schematic of the custom translation model architecture you will develop in this project."
      ]
    },
    {
      "cell_type": "code",
      "metadata": {
        "id": "gBF1K2JN4RFJ",
        "colab": {
          "base_uri": "https://localhost:8080/",
          "height": 648
        },
        "outputId": "b55314e8-88d8-4c19-adfe-cfabfb03ab81"
      },
      "source": [
        "# Run this cell to download and view a schematic diagram for the neural translation model\n",
        "\n",
        "!wget -q -O neural_translation_model.png --no-check-certificate \"https://docs.google.com/uc?export=download&id=1XsS1VlXoaEo-RbYNilJ9jcscNZvsSPmd\"\n",
        "Image(\"neural_translation_model.png\")"
      ],
      "execution_count": 5,
      "outputs": [
        {
          "output_type": "execute_result",
          "data": {
            "image/png": "[encoded data removed]",
            "text/plain": [
              "<IPython.core.display.Image object>"
            ]
          },
          "metadata": {},
          "execution_count": 5
        }
      ]
    },
    {
      "cell_type": "markdown",
      "metadata": {
        "id": "0fP7P-yK4RS7"
      },
      "source": [
        "The custom model consists of an encoder RNN and a decoder RNN. The encoder takes words of an English sentence as input, and uses a pre-trained word embedding to embed the words into a 128-dimensional space. To indicate the end of the input sentence, a special end token (in the same 128-dimensional space) is passed in as an input. This token is a TensorFlow Variable that is learned in the training phase (unlike the pre-trained word embedding, which is frozen).\n",
        "\n",
        "The decoder RNN takes the internal state of the encoder network as its initial state. A start token is passed in as the first input, which is embedded using a learned German word embedding. The decoder RNN then makes a prediction for the next German word, which during inference is then passed in as the following input, and this process is repeated until the special `<end>` token is emitted from the decoder."
      ]
    },
    {
      "cell_type": "markdown",
      "metadata": {
        "id": "z70nu6_01iZ3"
      },
      "source": [
        "## 1. Text preprocessing\n",
        "* Create separate lists of English and German sentences, and preprocess them using the `preprocess_sentence` function provided for you above.\n",
        "* Add a special `\"<start>\"` and `\"<end>\"` token to the beginning and end of every German sentence.\n",
        "* Use the Tokenizer class from the `tf.keras.preprocessing.text` module to tokenize the German sentences, ensuring that no character filters are applied. _Hint: use the Tokenizer's \"filter\" keyword argument._\n",
        "* Print out at least 5 randomly chosen examples of (preprocessed) English and German sentence pairs. For the German sentence, print out the text (with start and end tokens) as well as the tokenized sequence.\n",
        "* Pad the end of the tokenized German sequences with zeros, and batch the complete set of sequences into one numpy array."
      ]
    },
    {
      "cell_type": "code",
      "metadata": {
        "scrolled": true,
        "id": "9G20C4bk1iZ4"
      },
      "source": [
        "# Create separate lists of English and German sentences, and preprocess them using the preprocess_sentence function provided for you above.\n",
        "# Add a special \"<start>\" and \"<end>\" token to the beginning and end of every German sentence.\n",
        "english_sentences = [sentence.split('\\t')[0] for sentence in data_examples]\n",
        "german_sentences = [sentence.split('\\t')[1] for sentence in data_examples]\n",
        "# process englisch\n",
        "processed_english = []\n",
        "for sentence in english_sentences:\n",
        "  processed_english.append(preprocess_sentence(sentence))\n",
        "# process german\n",
        "processed_german = []\n",
        "for sentence in german_sentences:\n",
        "  processed_german.append(\"<start> \" + preprocess_sentence(sentence) + \" <end>\")"
      ],
      "execution_count": 6,
      "outputs": []
    },
    {
      "cell_type": "code",
      "metadata": {
        "id": "Sxwl-1rB1iZ8"
      },
      "source": [
        "# Use the Tokenizer class from the tf.keras.preprocessing.text module to tokenize the German sentences, ensuring that no character filters are applied.\n",
        "tokenizer = tf.keras.preprocessing.text.Tokenizer(num_words=None,filters='',lower=False,char_level=False)\n",
        "tokenizer.fit_on_texts(processed_german)\n",
        "tokenized_german = tokenizer.texts_to_sequences(processed_german)"
      ],
      "execution_count": 7,
      "outputs": []
    },
    {
      "cell_type": "code",
      "metadata": {
        "id": "WnIdqZFk1iaA",
        "colab": {
          "base_uri": "https://localhost:8080/"
        },
        "outputId": "e7b1dc47-7e32-4bbd-bfd3-8bc275a30816"
      },
      "source": [
        "# Print out at least 5 randomly chosen examples of (preprocessed) English and German sentence pairs.\n",
        "# For the German sentence, print out the text (with start and end tokens) as well as the tokenized sequence.\n",
        "choice = np.random.choice(len(processed_german),5)\n",
        "for i in choice:\n",
        "  print(processed_english[i])\n",
        "  print(tokenized_german[i])\n",
        "  print(processed_german[i] + \"\\n\")"
      ],
      "execution_count": 8,
      "outputs": [
        {
          "output_type": "stream",
          "name": "stdout",
          "text": [
            "i cried , too .\n",
            "[1, 4, 18, 112, 544, 3, 2]\n",
            "<start> ich habe auch geweint . <end>\n",
            "\n",
            "it's very cheap .\n",
            "[1, 14, 6, 56, 1072, 3, 2]\n",
            "<start> er ist sehr billig . <end>\n",
            "\n",
            "you're the cook .\n",
            "[1, 13, 32, 47, 687, 3, 2]\n",
            "<start> du bist der koch . <end>\n",
            "\n",
            "my shoes squeak .\n",
            "[1, 60, 973, 4407, 3, 2]\n",
            "<start> meine schuhe quietschen . <end>\n",
            "\n",
            "what an ego !\n",
            "[1, 38, 77, 19, 3380, 9, 2]\n",
            "<start> was fuer ein ego ! <end>\n",
            "\n"
          ]
        }
      ]
    },
    {
      "cell_type": "code",
      "metadata": {
        "id": "5UlnBdIK1iaE"
      },
      "source": [
        "# Pad the end of the tokenized German sequences with zeros, and batch the complete set of sequences into one numpy array.\n",
        "padded_tokenized_german = tf.keras.preprocessing.sequence.pad_sequences(tokenized_german, maxlen = None, padding = \"post\")"
      ],
      "execution_count": 9,
      "outputs": []
    },
    {
      "cell_type": "markdown",
      "metadata": {
        "id": "foL7Ihs21iaP"
      },
      "source": [
        "## 2. Prepare the data"
      ]
    },
    {
      "cell_type": "markdown",
      "metadata": {
        "id": "-9rCEE4z1iaQ"
      },
      "source": [
        "#### Load the embedding layer\n",
        "As part of the dataset preproceessing for this project, you will use a pre-trained English word embedding module from TensorFlow Hub. The URL for the module is https://tfhub.dev/google/tf2-preview/nnlm-en-dim128-with-normalization/1.\n",
        "\n",
        "This embedding takes a batch of text tokens in a 1-D tensor of strings as input. It then embeds the separate tokens into a 128-dimensional space. \n",
        "\n",
        "The code to load and test the embedding layer is provided for you below.\n",
        "\n",
        "**NB:** this model can also be used as a sentence embedding module. The module will process each token by removing punctuation and splitting on spaces. It then averages the word embeddings over a sentence to give a single embedding vector. However, we will use it only as a word embedding module, and will pass each word in the input sentence as a separate token."
      ]
    },
    {
      "cell_type": "code",
      "metadata": {
        "id": "ywZgobCh1iaR"
      },
      "source": [
        "# Load embedding module from Tensorflow Hub\n",
        "\n",
        "embedding_layer = hub.KerasLayer(\"https://tfhub.dev/google/tf2-preview/nnlm-en-dim128/1\", \n",
        "                                 output_shape=[128], input_shape=[], dtype=tf.string)"
      ],
      "execution_count": 10,
      "outputs": []
    },
    {
      "cell_type": "code",
      "metadata": {
        "id": "TiY8QEDp1iaV",
        "colab": {
          "base_uri": "https://localhost:8080/"
        },
        "outputId": "effb6ada-a68c-43d0-b794-ed486e62a1fc"
      },
      "source": [
        "# Test the layer\n",
        "\n",
        "embedding_layer(tf.constant([\"these\", \"aren't\", \"the\", \"droids\", \"you're\", \"looking\", \"for\"])).shape"
      ],
      "execution_count": 11,
      "outputs": [
        {
          "output_type": "execute_result",
          "data": {
            "text/plain": [
              "TensorShape([7, 128])"
            ]
          },
          "metadata": {},
          "execution_count": 11
        }
      ]
    },
    {
      "cell_type": "markdown",
      "metadata": {
        "id": "KjuzXc-z1iaY"
      },
      "source": [
        "You should now prepare the training and validation Datasets.\n",
        "\n",
        "* Create a random training and validation set split of the data, reserving e.g. 20% of the data for validation (NB: each English dataset example is a single sentence string, and each German dataset example is a sequence of padded integer tokens).\n",
        "* Load the training and validation sets into a tf.data.Dataset object, passing in a tuple of English and German data for both training and validation sets.\n",
        "* Create a function to map over the datasets that splits each English sentence at spaces. Apply this function to both Dataset objects using the map method. _Hint: look at the tf.strings.split function._\n",
        "* Create a function to map over the datasets that embeds each sequence of English words using the loaded embedding layer/model. Apply this function to both Dataset objects using the map method.\n",
        "* Create a function to filter out dataset examples where the English sentence is greater than or equal to than 13 (embedded) tokens in length. Apply this function to both Dataset objects using the filter method.\n",
        "* Create a function to map over the datasets that pads each English sequence of embeddings with some distinct padding value before the sequence, so that each sequence is length 13. Apply this function to both Dataset objects using the map method. _Hint: look at the tf.pad function. You can extract a Tensor shape using tf.shape; you might also find the tf.math.maximum function useful._\n",
        "* Batch both training and validation Datasets with a batch size of 16.\n",
        "* Print the `element_spec` property for the training and validation Datasets. \n",
        "* Using the Dataset `.take(1)` method, print the shape of the English data example from the training Dataset.\n",
        "* Using the Dataset `.take(1)` method, print the German data example Tensor from the validation Dataset."
      ]
    },
    {
      "cell_type": "code",
      "metadata": {
        "id": "Q-BUJOl_1iaZ"
      },
      "source": [
        "# Create a random training and validation set split of the data, reserving e.g. 20% of the data for validation\n",
        "x_train, x_test, y_train, y_test = sklearn.model_selection.train_test_split(processed_english, padded_tokenized_german, test_size = 0.20)"
      ],
      "execution_count": 12,
      "outputs": []
    },
    {
      "cell_type": "code",
      "metadata": {
        "id": "4w6rM8Bl1iad"
      },
      "source": [
        "# oad the training and validation sets into a tf.data.Dataset object, passing in a tuple of English and German data for both training and validation sets.\n",
        "train_data = tf.data.Dataset.from_tensor_slices((x_train, y_train))\n",
        "test_data = tf.data.Dataset.from_tensor_slices((x_test, y_test))"
      ],
      "execution_count": 13,
      "outputs": []
    },
    {
      "cell_type": "code",
      "metadata": {
        "id": "D7bn3mRs1iaj"
      },
      "source": [
        "# Create a function to map over the datasets that splits each English sentence at spaces.\n",
        "# Apply this function to both Dataset objects using the map method.\n",
        "def map_split_strings(english, german):\n",
        "  english = tf.strings.split(english, sep = \" \")\n",
        "  return english, german\n",
        "  \n",
        "train_data = train_data.map(map_split_strings)\n",
        "test_data = test_data.map(map_split_strings)"
      ],
      "execution_count": 14,
      "outputs": []
    },
    {
      "cell_type": "code",
      "metadata": {
        "id": "q0Fdso381ian"
      },
      "source": [
        "# Create a function to map over the datasets that embeds each sequence of English words using the loaded embedding layer/model.\n",
        "# Apply this function to both Dataset objects using the map method.\n",
        "def map_embed_sequence(english, german):\n",
        "  english = embedding_layer(english)\n",
        "  return english, german\n",
        "  \n",
        "train_data = train_data.map(map_embed_sequence)\n",
        "test_data = test_data.map(map_embed_sequence)"
      ],
      "execution_count": 15,
      "outputs": []
    },
    {
      "cell_type": "code",
      "metadata": {
        "id": "bGqlxuqZ1ias"
      },
      "source": [
        "# Create a function to filter out dataset examples where the English sentence is greater than or equal to than 13 (embedded) tokens in length.\n",
        "# Apply this function to both Dataset objects using the filter method.\n",
        "def filter_long_sentences(english, german):\n",
        "  length = tf.constant(13, dtype = tf.int32)\n",
        "  return tf.math.greater_equal(length, tf.cast(len(english), tf.int32))\n",
        "  \n",
        "train_data = train_data.filter(filter_long_sentences)\n",
        "test_data = test_data.filter(filter_long_sentences)"
      ],
      "execution_count": 16,
      "outputs": []
    },
    {
      "cell_type": "code",
      "metadata": {
        "id": "MdqSXEoX1iav"
      },
      "source": [
        "# Create a function to map over the datasets that pads each English sequence of \n",
        "# embeddings with some distinct padding value before the sequence, so that each sequence is length 13.\n",
        "# Apply this function to both Dataset objects using the map method.\n",
        "def map_pad_english(english, german):\n",
        "  paddings = [[13-len(english),0],[0,0]]\n",
        "  english = tf.pad(english, paddings = paddings)\n",
        "  return english, german\n",
        "  \n",
        "train_data = train_data.map(map_pad_english)\n",
        "test_data = test_data.map(map_pad_english)"
      ],
      "execution_count": 17,
      "outputs": []
    },
    {
      "cell_type": "code",
      "metadata": {
        "id": "HI5bMAJjVkE2",
        "colab": {
          "base_uri": "https://localhost:8080/"
        },
        "outputId": "8be7259b-c2c3-41db-db2f-897efcf986d8"
      },
      "source": [
        "# Batch both training and validation Datasets with a batch size of 16.\n",
        "batch_size = 16\n",
        "train_data = train_data.batch(batch_size)\n",
        "test_data = test_data.batch(batch_size)\n",
        "\n",
        "# Print the element_spec property for the training and validation Datasets.\n",
        "print(train_data.element_spec)\n",
        "print(test_data.element_spec)\n",
        "\n",
        "# Using the Dataset .take(1) method, print the shape of the English data example from the training Dataset.\n",
        "# Using the Dataset .take(1) method, print the German data example Tensor from the validation Dataset.\n",
        "for element in train_data.take(1):\n",
        "  print(element[0].shape)\n",
        "for element in test_data.take(1):\n",
        "  print(element[1])"
      ],
      "execution_count": 18,
      "outputs": [
        {
          "output_type": "stream",
          "name": "stdout",
          "text": [
            "(TensorSpec(shape=(None, None, 128), dtype=tf.float32, name=None), TensorSpec(shape=(None, 14), dtype=tf.int32, name=None))\n",
            "(TensorSpec(shape=(None, None, 128), dtype=tf.float32, name=None), TensorSpec(shape=(None, 14), dtype=tf.int32, name=None))\n",
            "(16, 13, 128)\n",
            "tf.Tensor(\n",
            "[[   1    5    6 3104    3    2    0    0    0    0    0    0    0    0]\n",
            " [   1   10   24 2397    3    2    0    0    0    0    0    0    0    0]\n",
            " [   1  266  123  108    9    2    0    0    0    0    0    0    0    0]\n",
            " [   1    5    6   12  146  152    3    2    0    0    0    0    0    0]\n",
            " [   1   17   35  142    3    2    0    0    0    0    0    0    0    0]\n",
            " [   1 4421   10   55   47 1638    3    2    0    0    0    0    0    0]\n",
            " [   1  421  786    9    2    0    0    0    0    0    0    0    0    0]\n",
            " [   1    5 1737   34  479    3    2    0    0    0    0    0    0    0]\n",
            " [   1   13   32 1075    3    2    0    0    0    0    0    0    0    0]\n",
            " [   1    4   39 2859    3    2    0    0    0    0    0    0    0    0]\n",
            " [   1    5 1473   34   12    3    2    0    0    0    0    0    0    0]\n",
            " [   1    4   18   19 3133  572    3    2    0    0    0    0    0    0]\n",
            " [   1  731   21    9    2    0    0    0    0    0    0    0    0    0]\n",
            " [   1    4 2327   11    3    2    0    0    0    0    0    0    0    0]\n",
            " [   1   11    6 2897    3    2    0    0    0    0    0    0    0    0]\n",
            " [   1    8    6  103 1850    3    2    0    0    0    0    0    0    0]], shape=(16, 14), dtype=int32)\n"
          ]
        }
      ]
    },
    {
      "cell_type": "markdown",
      "metadata": {
        "id": "isIYhjq01iay"
      },
      "source": [
        "## 3. Create the custom layer\n",
        "You will now create a custom layer to add the learned end token embedding to the encoder model:"
      ]
    },
    {
      "cell_type": "code",
      "metadata": {
        "id": "e22f1Xyh6xvE",
        "colab": {
          "base_uri": "https://localhost:8080/",
          "height": 423
        },
        "outputId": "de56c391-170b-49cf-a077-a25e90bbd0ce"
      },
      "source": [
        "# Run this cell to download and view a schematic diagram for the encoder model\n",
        "\n",
        "!wget -q -O neural_translation_model.png --no-check-certificate \"https://docs.google.com/uc?export=download&id=1JrtNOzUJDaOWrK4C-xv-4wUuZaI12sQI\"\n",
        "Image(\"neural_translation_model.png\")"
      ],
      "execution_count": 19,
      "outputs": [
        {
          "output_type": "execute_result",
          "data": {
            "image/png": "[encoded data removed]",
            "text/plain": [
              "<IPython.core.display.Image object>"
            ]
          },
          "metadata": {},
          "execution_count": 19
        }
      ]
    },
    {
      "cell_type": "markdown",
      "metadata": {
        "id": "M6gLIHG81iaz"
      },
      "source": [
        "You should now build the custom layer.\n",
        "* Using layer subclassing, create a custom layer that takes a batch of English data examples from one of the Datasets, and adds a learned embedded ‘end’ token to the end of each sequence. \n",
        "* This layer should create a TensorFlow Variable (that will be learned during training) that is 128-dimensional (the size of the embedding space). _Hint: you may find it helpful in the call method to use the tf.tile function to replicate the end token embedding across every element in the batch._\n",
        "* Using the Dataset `.take(1)` method, extract a batch of English data examples from the training Dataset and print the shape. Test the custom layer by calling the layer on the English data batch Tensor and print the resulting Tensor shape (the layer should increase the sequence length by one)."
      ]
    },
    {
      "cell_type": "code",
      "metadata": {
        "id": "yg9hjZz11ia0"
      },
      "source": [
        "# Using layer subclassing, create a custom layer that takes a batch of English \n",
        "# data examples from one of the Datasets, and adds a learned embedded ‘end’ token to the end of each sequence.\n",
        "# This layer should create a TensorFlow Variable (that will be learned during training) that is 128-dimensional (the size of the embedding space).\n",
        "class EndTokenLayer(Layer):\n",
        "\n",
        "  def __init__(self, embedding_dim=128, **kwargs):\n",
        "    super(EndTokenLayer, self).__init__(**kwargs)\n",
        "    self.embedding_dim = embedding_dim\n",
        "\n",
        "  def build(self, input_shape):\n",
        "    self.embedding = self.add_weight(shape=(input_shape[-1],),\n",
        "                                     initializer='random_uniform',\n",
        "                                     trainable=True)\n",
        "\n",
        "  def call(self, inputs):\n",
        "    end_token = tf.tile(tf.reshape(self.embedding, shape=(1,1,self.embedding.shape[0])), [tf.shape(inputs)[0],1,1])\n",
        "    return tf.keras.layers.concatenate([inputs, end_token], axis=1)"
      ],
      "execution_count": 20,
      "outputs": []
    },
    {
      "cell_type": "code",
      "metadata": {
        "id": "4PwI32O11ia3",
        "colab": {
          "base_uri": "https://localhost:8080/"
        },
        "outputId": "b52fccb8-b130-4de0-e338-5cbe127450b8"
      },
      "source": [
        "# Using the Dataset .take(1) method, extract a batch of English data examples from the training Dataset and print the shape.\n",
        "# Test the custom layer by calling the layer on the English data batch Tensor and \n",
        "# print the resulting Tensor shape (the layer should increase the sequence length by one).\n",
        "layer = EndTokenLayer()\n",
        "for english, german in train_data.take(1):\n",
        "  temp_layer = layer(english)\n",
        "  print(english.shape)"
      ],
      "execution_count": 21,
      "outputs": [
        {
          "output_type": "stream",
          "name": "stdout",
          "text": [
            "(16, 13, 128)\n"
          ]
        }
      ]
    },
    {
      "cell_type": "markdown",
      "metadata": {
        "id": "OAd3i4_y1ia-"
      },
      "source": [
        "## 4. Build the encoder network\n",
        "The encoder network follows the schematic diagram above. You should now build the RNN encoder model.\n",
        "* Using the functional API, build the encoder network according to the following spec:\n",
        "    * The model will take a batch of sequences of embedded English words as input, as given by the Dataset objects.\n",
        "    * The next layer in the encoder will be the custom layer you created previously, to add a learned end token embedding to the end of the English sequence.\n",
        "    * This is followed by a Masking layer, with the `mask_value` set to the distinct padding value you used when you padded the English sequences with the Dataset preprocessing above.\n",
        "    * The final layer is an LSTM layer with 512 units, which also returns the hidden and cell states.\n",
        "    * The encoder is a multi-output model. There should be two output Tensors of this model: the hidden state and cell states of the LSTM layer. The output of the LSTM layer is unused.\n",
        "* Using the Dataset `.take(1)` method, extract a batch of English data examples from the training Dataset and test the encoder model by calling it on the English data Tensor, and print the shape of the resulting Tensor outputs.\n",
        "* Print the model summary for the encoder network."
      ]
    },
    {
      "cell_type": "code",
      "metadata": {
        "id": "6R2LqbfV1ia_"
      },
      "source": [
        "# Using the functional API, build the encoder network according to the following spec:\n",
        "def EncoderModel(input_shape):\n",
        "\n",
        "  # The model will take a batch of sequences of embedded English words as input, as given by the Dataset objects.\n",
        "  inputs = Input([13,input_shape])\n",
        "\n",
        "  # The next layer in the encoder will be the custom layer you created previously, to add a learned end token embedding to the end of the English sequence.\n",
        "  h = EndTokenLayer()(inputs)\n",
        "\n",
        "  # This is followed by a Masking layer, with the mask_value set to the distinct \n",
        "  # padding value you used when you padded the English sequences with the Dataset preprocessing above.\n",
        "  h = Masking([(lambda x: x*0)(x) for x in range(128)])(h)\n",
        "\n",
        "  # The final layer is an LSTM layer with 512 units, which also returns the hidden and cell states.\n",
        "  # The encoder is a multi-output model. There should be two output Tensors of this model: the hidden state and cell states of the LSTM layer.\n",
        "  lstm, hidden_state, cell_state = LSTM(512, return_sequences=True, return_state=True)(h)\n",
        "\n",
        "  # The output of the LSTM layer is unused.\n",
        "  return tf.keras.Model(inputs=inputs, outputs=[hidden_state, cell_state])\n",
        "\n",
        "encoder_model = EncoderModel(128)"
      ],
      "execution_count": 22,
      "outputs": []
    },
    {
      "cell_type": "code",
      "metadata": {
        "id": "e5XW6NxL1ibC",
        "colab": {
          "base_uri": "https://localhost:8080/"
        },
        "outputId": "ad872086-6d6e-4b0f-d296-6f0afb6bc030"
      },
      "source": [
        "# Using the Dataset .take(1) method, extract a batch of English data examples \n",
        "# from the training Dataset and test the encoder model by calling it on the English data Tensor, and print the shape of the resulting Tensor outputs.\n",
        "for english, german in train_data.take(1):\n",
        "  result_1,result_2 = encoder_model(english)\n",
        "  print(tf.shape(result_1))\n",
        "  print(tf.shape(result_2))"
      ],
      "execution_count": 23,
      "outputs": [
        {
          "output_type": "stream",
          "name": "stdout",
          "text": [
            "tf.Tensor([ 16 512], shape=(2,), dtype=int32)\n",
            "tf.Tensor([ 16 512], shape=(2,), dtype=int32)\n"
          ]
        }
      ]
    },
    {
      "cell_type": "code",
      "metadata": {
        "id": "jEk9ikVh1ibL",
        "colab": {
          "base_uri": "https://localhost:8080/"
        },
        "outputId": "2cffa0f0-0af0-41ac-f24f-e2881760cae2"
      },
      "source": [
        "# Print the model summary for the encoder network.\n",
        "encoder_model.summary()"
      ],
      "execution_count": 24,
      "outputs": [
        {
          "output_type": "stream",
          "name": "stdout",
          "text": [
            "Model: \"model\"\n",
            "_________________________________________________________________\n",
            "Layer (type)                 Output Shape              Param #   \n",
            "=================================================================\n",
            "input_1 (InputLayer)         [(None, 13, 128)]         0         \n",
            "_________________________________________________________________\n",
            "end_token_layer_1 (EndTokenL (None, 14, 128)           128       \n",
            "_________________________________________________________________\n",
            "masking (Masking)            (None, 14, 128)           0         \n",
            "_________________________________________________________________\n",
            "lstm (LSTM)                  [(None, 14, 512), (None,  1312768   \n",
            "=================================================================\n",
            "Total params: 1,312,896\n",
            "Trainable params: 1,312,896\n",
            "Non-trainable params: 0\n",
            "_________________________________________________________________\n"
          ]
        }
      ]
    },
    {
      "cell_type": "markdown",
      "metadata": {
        "id": "KvkzpCeZ1ibR"
      },
      "source": [
        "## 5. Build the decoder network\n",
        "The decoder network follows the schematic diagram below. "
      ]
    },
    {
      "cell_type": "code",
      "metadata": {
        "id": "yOjEb7cH7Y4S",
        "colab": {
          "base_uri": "https://localhost:8080/",
          "height": 501
        },
        "outputId": "87fd3b3b-502d-4752-b662-072820308380"
      },
      "source": [
        "# Run this cell to download and view a schematic diagram for the decoder model\n",
        "\n",
        "!wget -q -O neural_translation_model.png --no-check-certificate \"https://docs.google.com/uc?export=download&id=1DTeaXD8tA8RjkpVrB2mr9csSBOY4LQiW\"\n",
        "Image(\"neural_translation_model.png\")"
      ],
      "execution_count": 25,
      "outputs": [
        {
          "output_type": "execute_result",
          "data": {
            "image/png": "[encoded data removed]",
            "text/plain": [
              "<IPython.core.display.Image object>"
            ]
          },
          "metadata": {},
          "execution_count": 25
        }
      ]
    },
    {
      "cell_type": "markdown",
      "metadata": {
        "id": "VPBK8WGL1ibS"
      },
      "source": [
        "You should now build the RNN decoder model.\n",
        "* Using Model subclassing, build the decoder network according to the following spec:\n",
        "    * The initializer should create the following layers:\n",
        "        * An Embedding layer with vocabulary size set to the number of unique German tokens, embedding dimension 128, and set to mask zero values in the input.\n",
        "        * An LSTM layer with 512 units, that returns its hidden and cell states, and also returns sequences.\n",
        "        * A Dense layer with number of units equal to the number of unique German tokens, and no activation function.\n",
        "    * The call method should include the usual `inputs` argument, as well as the additional keyword arguments `hidden_state` and `cell_state`. The default value for these keyword arguments should be `None`.\n",
        "    * The call method should pass the inputs through the Embedding layer, and then through the LSTM layer. If the `hidden_state` and `cell_state` arguments are provided, these should be used for the initial state of the LSTM layer. _Hint: use the_ `initial_state` _keyword argument when calling the LSTM layer on its input._\n",
        "    * The call method should pass the LSTM output sequence through the Dense layer, and return the resulting Tensor, along with the hidden and cell states of the LSTM layer.\n",
        "* Using the Dataset `.take(1)` method, extract a batch of English and German data examples from the training Dataset. Test the decoder model by first calling the encoder model on the English data Tensor to get the hidden and cell states, and then call the decoder model on the German data Tensor and hidden and cell states, and print the shape of the resulting decoder Tensor outputs.\n",
        "* Print the model summary for the decoder network."
      ]
    },
    {
      "cell_type": "code",
      "metadata": {
        "id": "l50qhnXD1ibT"
      },
      "source": [
        "# Using Model subclassing, build the decoder network according to the following spec:\n",
        "class DecoderModel(tf.keras.Model):\n",
        "\n",
        "  # The initializer should create the following layers:\n",
        "  def __init__(self,initial_state=True,**kwargs):\n",
        "    super(DecoderModel, self).__init__(**kwargs)\n",
        "    # An Embedding layer with vocabulary size set to the number of unique German tokens, embedding dimension 128, and set to mask zero values in the input.\n",
        "    self.embedding = Embedding(input_dim=len(tokenizer.word_index)+1, output_dim=128, mask_zero=True)\n",
        "    # An LSTM layer with 512 units, that returns its hidden and cell states, and also returns sequences.\n",
        "    self.lstm = LSTM(512, return_sequences=True, return_state=True)\n",
        "    # A Dense layer with number of units equal to the number of unique German tokens, and no activation function.\n",
        "    self.dense = Dense(len(tokenizer.word_index)+1)\n",
        "    self.initial_state = initial_state\n",
        "\n",
        "  # The call method should include the usual inputs argument, as well as the additional keyword arguments hidden_state and cell_state.\n",
        "  # The call method should pass the inputs through the Embedding layer, and then through the LSTM layer.\n",
        "  def call(self, inputs, hidden_state=None, cell_state=None):\n",
        "    h = self.embedding(inputs)\n",
        "    # If the hidden_state and cell_state arguments are provided, these should be used for the initial state of the LSTM layer.\n",
        "    if hidden_state != None and cell_state != None:\n",
        "      lstm, hidden_1, cell_1 = self.lstm(h, initial_state=[hidden_state,cell_state])\n",
        "    else:\n",
        "      lstm, hidden_1, cell_1 = self.lstm(h)\n",
        "    \n",
        "    h = self.dense(lstm)\n",
        "    # The call method should pass the LSTM output sequence through the Dense layer, \n",
        "    # and return the resulting Tensor, along with the hidden and cell states of the LSTM layer.\n",
        "    return h, hidden_1, cell_1\n",
        "decoder_model = DecoderModel()"
      ],
      "execution_count": 26,
      "outputs": []
    },
    {
      "cell_type": "code",
      "metadata": {
        "id": "vG5CRIXV1ibi",
        "colab": {
          "base_uri": "https://localhost:8080/"
        },
        "outputId": "68f8ad4a-fa81-4ccb-e4a8-f78ac9464115"
      },
      "source": [
        "# Using the Dataset .take(1) method, extract a batch of English and German data examples from the training Dataset.\n",
        "# Test the decoder model by first calling the encoder model on the English data \n",
        "# Tensor to get the hidden and cell states, and then call the decoder model on \n",
        "# the German data Tensor and hidden and cell states, and print the shape of the resulting decoder Tensor outputs.\n",
        "for english, german in train_data.take(1):\n",
        "  temp, hidden_1, cell_1 = decoder_model(german)\n",
        "  print(tf.shape(temp))\n",
        "  print(tf.shape(hidden_1))\n",
        "  print(tf.shape(cell_1))"
      ],
      "execution_count": 27,
      "outputs": [
        {
          "output_type": "stream",
          "name": "stdout",
          "text": [
            "tf.Tensor([  16   14 5744], shape=(3,), dtype=int32)\n",
            "tf.Tensor([ 16 512], shape=(2,), dtype=int32)\n",
            "tf.Tensor([ 16 512], shape=(2,), dtype=int32)\n"
          ]
        }
      ]
    },
    {
      "cell_type": "code",
      "metadata": {
        "id": "SvqqT_ET1ibl",
        "colab": {
          "base_uri": "https://localhost:8080/"
        },
        "outputId": "12f1a54e-f9cd-4997-9de8-33ad6fb85b73"
      },
      "source": [
        "# Print the model summary for the decoder network.\n",
        "decoder_model.summary()"
      ],
      "execution_count": 28,
      "outputs": [
        {
          "output_type": "stream",
          "name": "stdout",
          "text": [
            "Model: \"decoder_model\"\n",
            "_________________________________________________________________\n",
            "Layer (type)                 Output Shape              Param #   \n",
            "=================================================================\n",
            "embedding (Embedding)        multiple                  735232    \n",
            "_________________________________________________________________\n",
            "lstm_1 (LSTM)                multiple                  1312768   \n",
            "_________________________________________________________________\n",
            "dense (Dense)                multiple                  2946672   \n",
            "=================================================================\n",
            "Total params: 4,994,672\n",
            "Trainable params: 4,994,672\n",
            "Non-trainable params: 0\n",
            "_________________________________________________________________\n"
          ]
        }
      ]
    },
    {
      "cell_type": "markdown",
      "metadata": {
        "id": "pST9XGJ81ibo"
      },
      "source": [
        "## 6. Make a custom training loop\n",
        "You should now write a custom training loop to train your custom neural translation model.\n",
        "* Define a function that takes a Tensor batch of German data (as extracted from the training Dataset), and returns a tuple containing German inputs and outputs for the decoder model (refer to schematic diagram above).\n",
        "* Define a function that computes the forward and backward pass for your translation model. This function should take an English input, German input and German output as arguments, and should do the following:\n",
        "    * Pass the English input into the encoder, to get the hidden and cell states of the encoder LSTM.\n",
        "    * These hidden and cell states are then passed into the decoder, along with the German inputs, which returns a sequence of outputs (the hidden and cell state outputs of the decoder LSTM are unused in this function).\n",
        "    * The loss should then be computed between the decoder outputs and the German output function argument.\n",
        "    * The function returns the loss and gradients with respect to the encoder and decoder’s trainable variables.\n",
        "    * Decorate the function with `@tf.function`\n",
        "* Define and run a custom training loop for a number of epochs (for you to choose) that does the following:\n",
        "    * Iterates through the training dataset, and creates decoder inputs and outputs from the German sequences.\n",
        "    * Updates the parameters of the translation model using the gradients of the function above and an optimizer object.\n",
        "    * Every epoch, compute the validation loss on a number of batches from the validation and save the epoch training and validation losses.\n",
        "* Plot the learning curves for loss vs epoch for both training and validation sets.\n",
        "\n",
        "_Hint: This model is computationally demanding to train. The quality of the model or length of training is not a factor in the grading rubric. However, to obtain a better model we recommend using the GPU accelerator hardware on Colab._"
      ]
    },
    {
      "cell_type": "code",
      "metadata": {
        "id": "7hJHbWqs1ibr"
      },
      "source": [
        "# Define a function that takes a Tensor batch of German data (as extracted from \n",
        "# the training Dataset), and returns a tuple containing German inputs and outputs for the decoder model (refer to schematic diagram above).\n",
        "def german_io(german_data):\n",
        "  input_data = german_data[:,0:tf.shape(german_data)[1]-1]\n",
        "  output_data = german_data[:,1:tf.shape(german_data)[1]]\n",
        "  return (input_data, output_data)"
      ],
      "execution_count": 29,
      "outputs": []
    },
    {
      "cell_type": "code",
      "metadata": {
        "id": "Jvu4J4-u1ibu"
      },
      "source": [
        "# Define a function that computes the forward and backward pass for your translation model.\n",
        "loss_object = tf.keras.losses.SparseCategoricalCrossentropy(from_logits=True)\n",
        "# Decorate the function with @tf.function\n",
        "@tf.function\n",
        "# This function should take an English input, German input and German output as arguments, and should do the following:\n",
        "def train_step(english_input, german_input, german_output):\n",
        "  with tf.GradientTape() as tape:\n",
        "    # Pass the English input into the encoder, to get the hidden and cell states of the encoder LSTM.\n",
        "    hidden_state, cell_state = encoder_model(english_input)\n",
        "    # These hidden and cell states are then passed into the decoder, along with \n",
        "    # the German inputs, which returns a sequence of outputs (the hidden and cell state outputs of the decoder LSTM are unused in this function). \n",
        "    dense_output, _, _ = decoder_model(german_input, hidden_state, cell_state)\n",
        "    # The loss should then be computed between the decoder outputs and the German output function argument.\n",
        "    loss = tf.math.reduce_mean(loss_object(german_output, dense_output))\n",
        "    trainable_variables = encoder_model.trainable_variables + decoder_model.trainable_variables\n",
        "    gradients = tape.gradient(loss, trainable_variables)\n",
        "  # The function returns the loss and gradients with respect to the encoder and decoder’s trainable variables.\n",
        "  return loss, gradients"
      ],
      "execution_count": 30,
      "outputs": []
    },
    {
      "cell_type": "code",
      "metadata": {
        "id": "Vl5H06811ibx",
        "colab": {
          "base_uri": "https://localhost:8080/"
        },
        "outputId": "ba68de59-dc5e-473e-c09d-784936b544e7"
      },
      "source": [
        "# Define and run a custom training loop for a number of epochs (for you to choose) that does the following:\n",
        "optimizer = tf.keras.optimizers.Adam(learning_rate=0.001)\n",
        "epochs = 5\n",
        "train_loss_results = []\n",
        "val_loss_results = []\n",
        "\n",
        "for epoch in range(epochs):\n",
        "  epoch_loss = 0\n",
        "  batch_no = 0\n",
        "\n",
        "  # Iterates through the training dataset, and creates decoder inputs and outputs from the German sequences.\n",
        "  for english, german in train_data:\n",
        "    german_input, german_output = german_io(german)\n",
        "    loss, gradients = train_step(english, german_input, german_output)\n",
        "    epoch_loss += loss\n",
        "    batch_no += 1\n",
        "    # Updates the parameters of the translation model using the gradients of the function above and an optimizer object.\n",
        "    optimizer.apply_gradients(zip(gradients, encoder_model.trainable_variables + decoder_model.trainable_variables))\n",
        "    epoch_avg_loss = epoch_loss / batch_no\n",
        "    train_loss_results.append(epoch_avg_loss)\n",
        "\n",
        "  # Every epoch, compute the validation loss on a number of batches from the validation and save the epoch training and validation losses.\n",
        "  epoch_val_loss = 0\n",
        "  val_batch_no = 0\n",
        "\n",
        "  for test_english, test_german in test_data:\n",
        "    german_input, german_output = german_io(test_german)\n",
        "    loss, _ = train_step(test_english, german_input, german_output)\n",
        "    epoch_val_loss += loss\n",
        "    val_batch_no += 1\n",
        "    epoch_avg_val_loss = epoch_val_loss / val_batch_no\n",
        "    val_loss_results.append(epoch_avg_val_loss)\n",
        "  print(\"Epoch {:02d}: Avg. training loss = {:.6f}, Avg. validation loss = {:.6f} \".format(epoch + 1, epoch_avg_loss, epoch_avg_val_loss))"
      ],
      "execution_count": 31,
      "outputs": [
        {
          "output_type": "stream",
          "name": "stdout",
          "text": [
            "Epoch 01: Avg. training loss = 5.452577, Avg. validation loss = 4.799268 \n",
            "Epoch 02: Avg. training loss = 4.285920, Avg. validation loss = 3.954605 \n",
            "Epoch 03: Avg. training loss = 3.392133, Avg. validation loss = 3.220758 \n",
            "Epoch 04: Avg. training loss = 2.569027, Avg. validation loss = 2.556319 \n",
            "Epoch 05: Avg. training loss = 1.822053, Avg. validation loss = 1.978318 \n"
          ]
        }
      ]
    },
    {
      "cell_type": "code",
      "metadata": {
        "id": "MVWOYJ3l1ib1",
        "colab": {
          "base_uri": "https://localhost:8080/",
          "height": 295
        },
        "outputId": "7db22dfe-649d-4264-c013-e2103d856774"
      },
      "source": [
        "# Plot the learning curves for loss vs epoch for both training and validation sets.\n",
        "plt.figure()\n",
        "plt.plot(train_loss_results)\n",
        "plt.plot(val_loss_results)\n",
        "plt.title('Loss vs. Steps')\n",
        "plt.ylabel('Loss')\n",
        "plt.xlabel('Steps')\n",
        "plt.legend(['Training', 'Validation'], loc='upper right')\n",
        "plt.show()"
      ],
      "execution_count": 32,
      "outputs": [
        {
          "output_type": "display_data",
          "data": {
            "image/png": "[encoded data removed]",
            "text/plain": [
              "<Figure size 432x288 with 1 Axes>"
            ]
          },
          "metadata": {
            "needs_background": "light"
          }
        }
      ]
    },
    {
      "cell_type": "markdown",
      "metadata": {
        "id": "xM2gvBM11ib-"
      },
      "source": [
        "## 7. Use the model to translate\n",
        "Now it's time to put your model into practice! You should run your translation for five randomly sampled English sentences from the dataset. For each sentence, the process is as follows:\n",
        "* Preprocess and embed the English sentence according to the model requirements.\n",
        "* Pass the embedded sentence through the encoder to get the encoder hidden and cell states.\n",
        "* Starting with the special  `\"<start>\"` token, use this token and the final encoder hidden and cell states to get the one-step prediction from the decoder, as well as the decoder’s updated hidden and cell states.\n",
        "* Create a loop to get the next step prediction and updated hidden and cell states from the decoder, using the most recent hidden and cell states. Terminate the loop when the `\"<end>\"` token is emitted, or when the sentence has reached a maximum length.\n",
        "* Decode the output token sequence into German text and print the English text and the model's German translation."
      ]
    },
    {
      "cell_type": "code",
      "metadata": {
        "id": "bGnQtE7L1icA"
      },
      "source": [
        "# You should run your translation for five randomly sampled English sentences from the dataset.\n",
        "samples = np.random.choice(20000,5)\n",
        "\n",
        "# For each sentence, the process is as follows:\n",
        "# Preprocess and embed the English sentence according to the model requirements.\n",
        "examples = []\n",
        "for i in samples:\n",
        "  examples.append(data_examples[i])\n",
        "  english_sentences = [sentence.split('\\t')[0] for sentence in examples]\n",
        "  processed_english = []\n",
        "\n",
        "for sentence in english_sentences:\n",
        "  processed_english.append(preprocess_sentence(sentence))"
      ],
      "execution_count": 46,
      "outputs": []
    },
    {
      "cell_type": "code",
      "metadata": {
        "id": "ohleJRcJ1icD"
      },
      "source": [
        "# Starting with the special \"<start>\" token, use this token and the final encoder \n",
        "# hidden and cell states to get the one-step prediction from the decoder, as well as the decoder’s updated hidden and cell states.\n",
        "# Create a loop to get the next step prediction and updated hidden and cell states \n",
        "# from the decoder, using the most recent hidden and cell states.\n",
        "# Terminate the loop when the \"<end>\" token is emitted, or when the sentence has reached a maximum length.\n",
        "start = tokenizer.word_index['<start>']\n",
        "end = tokenizer.word_index['<end>']\n",
        "examples_tokens = []\n",
        "for p_english in processed_english:\n",
        "  english = tf.strings.split(p_english,sep = \" \")\n",
        "  english = embedding_layer(english)\n",
        "  english = tf.pad(english, [[13-len(english), 0], [0, 0]], constant_values = 0)\n",
        "  english = tf.expand_dims(english, 0)\n",
        "  hidden_state, cell_state = encoder_model(english)\n",
        "  translated_tokens = []\n",
        "  tf_token = tf.Variable([[start]])\n",
        "  while True:\n",
        "    output_1,hidden_state, cell_state = decoder_model(tf_token, hidden_state, cell_state)\n",
        "    output_2 = tf.argmax(output_1, 2).numpy()[0,0]\n",
        "    tf_token = tf.Variable([[output_2]])\n",
        "    if output_2 == end:\n",
        "      break\n",
        "    else:\n",
        "      translated_tokens.append(output_2)\n",
        "  examples_tokens.append(translated_tokens)"
      ],
      "execution_count": 47,
      "outputs": []
    },
    {
      "cell_type": "code",
      "metadata": {
        "id": "Unk60cEy1icI",
        "colab": {
          "base_uri": "https://localhost:8080/"
        },
        "outputId": "66a270b2-b70d-4bd9-b32f-8d45e9c3e3c3"
      },
      "source": [
        "\n",
        "# Decode the output token sequence into German text and print the English text and the model's German translation.\n",
        "inv_german_index = {value:key for key,value in tokenizer.word_index.items()}\n",
        "german_sentences = []\n",
        "\n",
        "for example_token in examples_tokens:\n",
        "  output_words = []\n",
        "  for token in example_token:\n",
        "    output_words.append(inv_german_index[token])\n",
        "  output = \" \".join(output_words)\n",
        "  german_sentences.append(output)\n",
        "\n",
        "table = PrettyTable(['English sentences', 'German Translations'])\n",
        "for english,german in zip(english_sentences,german_sentences):\n",
        "  table.add_row([english,german])\n",
        "print(table)"
      ],
      "execution_count": 48,
      "outputs": [
        {
          "output_type": "stream",
          "name": "stdout",
          "text": [
            "+-------------------+---------------------------+\n",
            "| English sentences |    German Translations    |\n",
            "+-------------------+---------------------------+\n",
            "|  What do you say? |      was wissen sie ?     |\n",
            "|   Are you hurt?   |      bist du sauer ?      |\n",
            "|    He loves us.   |       er liebt uns .      |\n",
            "|  I voted for you. | ich habe mich angerufen . |\n",
            "|    We need you.   |    wir brauchen dich .    |\n",
            "+-------------------+---------------------------+\n"
          ]
        }
      ]
    }
  ]
}