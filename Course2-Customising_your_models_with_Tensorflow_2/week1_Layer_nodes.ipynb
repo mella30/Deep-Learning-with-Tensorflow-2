{
  "nbformat": 4,
  "nbformat_minor": 0,
  "metadata": {
    "kernelspec": {
      "display_name": "Python 3",
      "language": "python",
      "name": "python3"
    },
    "language_info": {
      "codemirror_mode": {
        "name": "ipython",
        "version": 3
      },
      "file_extension": ".py",
      "mimetype": "text/x-python",
      "name": "python",
      "nbconvert_exporter": "python",
      "pygments_lexer": "ipython3",
      "version": "3.7.1"
    },
    "colab": {
      "name": "Layer nodes.ipynb",
      "provenance": [],
      "include_colab_link": true
    }
  },
  "cells": [
    {
      "cell_type": "markdown",
      "metadata": {
        "id": "view-in-github",
        "colab_type": "text"
      },
      "source": [
        "<a href=\"https://colab.research.google.com/github/mella30/Deep-Learning-with-Tensorflow-2/blob/main/Course2-Customising_your_models_with_Tensorflow_2/week1_Layer_nodes.ipynb\" target=\"_parent\"><img src=\"https://colab.research.google.com/assets/colab-badge.svg\" alt=\"Open In Colab\"/></a>"
      ]
    },
    {
      "cell_type": "markdown",
      "metadata": {
        "id": "-vTqnNvdpWkW"
      },
      "source": [
        "# Layer nodes\n",
        "In this reading, we will be looking at the concept of layer nodes when creating a computational graph with shared layers."
      ]
    },
    {
      "cell_type": "code",
      "metadata": {
        "id": "7CDQKSOUpWkY",
        "outputId": "79adf2e8-ecc3-4777-f8fa-aadb0319f367",
        "colab": {
          "base_uri": "https://localhost:8080/"
        }
      },
      "source": [
        "import tensorflow as tf\n",
        "print(tf.__version__)"
      ],
      "execution_count": 11,
      "outputs": [
        {
          "output_type": "stream",
          "text": [
            "2.5.0\n"
          ],
          "name": "stdout"
        }
      ]
    },
    {
      "cell_type": "markdown",
      "metadata": {
        "id": "nD7_obADpWkZ"
      },
      "source": [
        "## Creating a simple computational graph"
      ]
    },
    {
      "cell_type": "markdown",
      "metadata": {
        "id": "P3q1p1UqpWka"
      },
      "source": [
        "You have previously seen how to construct multiple input or output models, and also how to access model layers. Let's start by creating two inputs:"
      ]
    },
    {
      "cell_type": "code",
      "metadata": {
        "id": "JDNMHuKOpWkb"
      },
      "source": [
        "# Create the input layers\n",
        "\n",
        "from tensorflow.keras.layers import Input\n",
        "\n",
        "a = Input(shape=(128, 128, 3), name=\"input_a\")\n",
        "b = Input(shape=(64, 64, 3), name=\"input_b\")"
      ],
      "execution_count": 12,
      "outputs": []
    },
    {
      "cell_type": "markdown",
      "metadata": {
        "id": "9aSu59tepWkb"
      },
      "source": [
        "Now, we create a 2D convolutional layer, and call it on one of the inputs."
      ]
    },
    {
      "cell_type": "code",
      "metadata": {
        "id": "0CqInKlapWkc",
        "outputId": "5b6036c6-d43e-4dd2-d265-14b623d28f03",
        "colab": {
          "base_uri": "https://localhost:8080/"
        }
      },
      "source": [
        "# Create and use the convolutional layer\n",
        "\n",
        "from tensorflow.keras.layers import Conv2D\n",
        "\n",
        "conv = Conv2D(32, (6, 6), padding='same')\n",
        "conv_out_a = conv(a)\n",
        "print(type(conv_out_a))"
      ],
      "execution_count": 13,
      "outputs": [
        {
          "output_type": "stream",
          "text": [
            "<class 'tensorflow.python.keras.engine.keras_tensor.KerasTensor'>\n"
          ],
          "name": "stdout"
        }
      ]
    },
    {
      "cell_type": "markdown",
      "metadata": {
        "id": "fWavtvHcpWkd"
      },
      "source": [
        "The output of the layer is now a new Tensor, which captures the operation of calling the layer `conv` on the input `a`.\n",
        "\n",
        "By defining this new operation in our computational graph, we have added a _node_ to the `conv` layer. This node relates the input tensor to the output tensor."
      ]
    },
    {
      "cell_type": "markdown",
      "metadata": {
        "id": "FsC1q4ufpWke"
      },
      "source": [
        "### Layer input and outputs"
      ]
    },
    {
      "cell_type": "markdown",
      "metadata": {
        "id": "QnUoxD49pWkf"
      },
      "source": [
        "We can retrieve the output of a layer using the `output` attribute, and we can also get the input by using the `input` attribute. \n",
        "\n",
        "Similarly, we can retrieve the input/output shape using `input_shape` and `output_shape`."
      ]
    },
    {
      "cell_type": "code",
      "metadata": {
        "id": "Zx4YSoGopWkg",
        "outputId": "8f5d5f83-4c94-4758-b965-b6562d215cc6",
        "colab": {
          "base_uri": "https://localhost:8080/"
        }
      },
      "source": [
        "# Print the input and output tensors\n",
        "\n",
        "print(conv.input)\n",
        "print(conv.output)"
      ],
      "execution_count": 14,
      "outputs": [
        {
          "output_type": "stream",
          "text": [
            "KerasTensor(type_spec=TensorSpec(shape=(None, 128, 128, 3), dtype=tf.float32, name='input_a'), name='input_a', description=\"created by layer 'input_a'\")\n",
            "KerasTensor(type_spec=TensorSpec(shape=(None, 128, 128, 32), dtype=tf.float32, name=None), name='conv2d_1/BiasAdd:0', description=\"created by layer 'conv2d_1'\")\n"
          ],
          "name": "stdout"
        }
      ]
    },
    {
      "cell_type": "code",
      "metadata": {
        "id": "rsJ0LlTipWkh"
      },
      "source": [
        "# Verify the input and output shapes\n",
        "\n",
        "assert conv.input_shape == (None, 128, 128, 3)\n",
        "assert conv.output_shape == (None, 128, 128, 32)"
      ],
      "execution_count": 15,
      "outputs": []
    },
    {
      "cell_type": "markdown",
      "metadata": {
        "id": "lVaY7JwfpWkh"
      },
      "source": [
        "## Creating a new layer node"
      ]
    },
    {
      "cell_type": "markdown",
      "metadata": {
        "id": "zR9WnUNWpWkh"
      },
      "source": [
        "Now, let's call this layer again on a different input:"
      ]
    },
    {
      "cell_type": "code",
      "metadata": {
        "id": "o4UCbWNEpWkj"
      },
      "source": [
        "# Call the layer a second time\n",
        "\n",
        "conv_out_b = conv(b)"
      ],
      "execution_count": 16,
      "outputs": []
    },
    {
      "cell_type": "markdown",
      "metadata": {
        "id": "8ogw5NCQpWkk"
      },
      "source": [
        "When we call the same layer multiple times, that layer owns multiple nodes indexed as 0, 1, 2...\n",
        "\n",
        "Now, what happens if we call `input` and `output` for this layer?"
      ]
    },
    {
      "cell_type": "code",
      "metadata": {
        "id": "2sD6ks-GpWkn"
      },
      "source": [
        "# Check the input and output attributes\n",
        "\n",
        "assert conv.input.name == a.name\n",
        "assert conv.output.name == conv_out_a.name"
      ],
      "execution_count": 17,
      "outputs": []
    },
    {
      "cell_type": "markdown",
      "metadata": {
        "id": "q_otbVg3pWkp"
      },
      "source": [
        "As you can see, the layer's input is identified as being `a` and its output as being `conved_a`, something is going wrong here. As long as a layer is only connected to one input, there is no confusion about what should be the input, and `.output` will return the one output of the layer, but when the layer is called on multiple inputs we end up in an ambiguous situation.\n",
        "\n",
        "Let's try to get the input/output shape:"
      ]
    },
    {
      "cell_type": "code",
      "metadata": {
        "id": "7l2_EPeepWks",
        "outputId": "5fb4ddb2-4146-472c-83f2-2c3aa1524c66",
        "colab": {
          "base_uri": "https://localhost:8080/",
          "height": 356
        }
      },
      "source": [
        "# Try accessing the input_shape\n",
        "\n",
        "print(conv.input_shape)"
      ],
      "execution_count": 18,
      "outputs": [
        {
          "output_type": "error",
          "ename": "AttributeError",
          "evalue": "ignored",
          "traceback": [
            "\u001b[0;31m---------------------------------------------------------------------------\u001b[0m",
            "\u001b[0;31mAttributeError\u001b[0m                            Traceback (most recent call last)",
            "\u001b[0;32m<ipython-input-18-3303fc9d23af>\u001b[0m in \u001b[0;36m<module>\u001b[0;34m()\u001b[0m\n\u001b[1;32m      1\u001b[0m \u001b[0;31m# Try accessing the input_shape\u001b[0m\u001b[0;34m\u001b[0m\u001b[0;34m\u001b[0m\u001b[0;34m\u001b[0m\u001b[0m\n\u001b[1;32m      2\u001b[0m \u001b[0;34m\u001b[0m\u001b[0m\n\u001b[0;32m----> 3\u001b[0;31m \u001b[0mprint\u001b[0m\u001b[0;34m(\u001b[0m\u001b[0mconv\u001b[0m\u001b[0;34m.\u001b[0m\u001b[0minput_shape\u001b[0m\u001b[0;34m)\u001b[0m\u001b[0;34m\u001b[0m\u001b[0;34m\u001b[0m\u001b[0m\n\u001b[0m",
            "\u001b[0;32m/usr/local/lib/python3.7/dist-packages/tensorflow/python/keras/engine/base_layer.py\u001b[0m in \u001b[0;36minput_shape\u001b[0;34m(self)\u001b[0m\n\u001b[1;32m   2091\u001b[0m     \u001b[0;32melse\u001b[0m\u001b[0;34m:\u001b[0m\u001b[0;34m\u001b[0m\u001b[0;34m\u001b[0m\u001b[0m\n\u001b[1;32m   2092\u001b[0m       raise AttributeError('The layer \"' + str(self.name) +\n\u001b[0;32m-> 2093\u001b[0;31m                            \u001b[0;34m' has multiple inbound nodes, '\u001b[0m\u001b[0;34m\u001b[0m\u001b[0;34m\u001b[0m\u001b[0m\n\u001b[0m\u001b[1;32m   2094\u001b[0m                            \u001b[0;34m'with different input shapes. Hence '\u001b[0m\u001b[0;34m\u001b[0m\u001b[0;34m\u001b[0m\u001b[0m\n\u001b[1;32m   2095\u001b[0m                            \u001b[0;34m'the notion of \"input shape\" is '\u001b[0m\u001b[0;34m\u001b[0m\u001b[0;34m\u001b[0m\u001b[0m\n",
            "\u001b[0;31mAttributeError\u001b[0m: The layer \"conv2d_1 has multiple inbound nodes, with different input shapes. Hence the notion of \"input shape\" is ill-defined for the layer. Use `get_input_shape_at(node_index)` instead."
          ]
        }
      ]
    },
    {
      "cell_type": "code",
      "metadata": {
        "id": "aFTro4I6pWkt",
        "outputId": "5a6b942f-88ce-451e-b91d-e7385f783490",
        "colab": {
          "base_uri": "https://localhost:8080/",
          "height": 356
        }
      },
      "source": [
        "# Try accessing the output_shape\n",
        "\n",
        "print(conv.output_shape)"
      ],
      "execution_count": 19,
      "outputs": [
        {
          "output_type": "error",
          "ename": "AttributeError",
          "evalue": "ignored",
          "traceback": [
            "\u001b[0;31m---------------------------------------------------------------------------\u001b[0m",
            "\u001b[0;31mAttributeError\u001b[0m                            Traceback (most recent call last)",
            "\u001b[0;32m<ipython-input-19-594acfcf2bc5>\u001b[0m in \u001b[0;36m<module>\u001b[0;34m()\u001b[0m\n\u001b[1;32m      1\u001b[0m \u001b[0;31m# Try accessing the output_shape\u001b[0m\u001b[0;34m\u001b[0m\u001b[0;34m\u001b[0m\u001b[0;34m\u001b[0m\u001b[0m\n\u001b[1;32m      2\u001b[0m \u001b[0;34m\u001b[0m\u001b[0m\n\u001b[0;32m----> 3\u001b[0;31m \u001b[0mprint\u001b[0m\u001b[0;34m(\u001b[0m\u001b[0mconv\u001b[0m\u001b[0;34m.\u001b[0m\u001b[0moutput_shape\u001b[0m\u001b[0;34m)\u001b[0m\u001b[0;34m\u001b[0m\u001b[0;34m\u001b[0m\u001b[0m\n\u001b[0m",
            "\u001b[0;32m/usr/local/lib/python3.7/dist-packages/tensorflow/python/keras/engine/base_layer.py\u001b[0m in \u001b[0;36moutput_shape\u001b[0;34m(self)\u001b[0m\n\u001b[1;32m   2149\u001b[0m                            \u001b[0;34m'ill-defined for the layer. '\u001b[0m\u001b[0;34m\u001b[0m\u001b[0;34m\u001b[0m\u001b[0m\n\u001b[1;32m   2150\u001b[0m                            \u001b[0;34m'Use `get_output_shape_at(node_index)` '\u001b[0m\u001b[0;34m\u001b[0m\u001b[0;34m\u001b[0m\u001b[0m\n\u001b[0;32m-> 2151\u001b[0;31m                            'instead.' % self.name)\n\u001b[0m\u001b[1;32m   2152\u001b[0m \u001b[0;34m\u001b[0m\u001b[0m\n\u001b[1;32m   2153\u001b[0m   \u001b[0;34m@\u001b[0m\u001b[0mproperty\u001b[0m\u001b[0;34m\u001b[0m\u001b[0;34m\u001b[0m\u001b[0m\n",
            "\u001b[0;31mAttributeError\u001b[0m: The layer \"conv2d_1\" has multiple inbound nodes, with different output shapes. Hence the notion of \"output shape\" is ill-defined for the layer. Use `get_output_shape_at(node_index)` instead."
          ]
        }
      ]
    },
    {
      "cell_type": "markdown",
      "metadata": {
        "id": "QptvgTtIpWkv"
      },
      "source": [
        "`input_shape` and `output_shape` did not return the shape of the two inputs and outputs, instead they returned an error."
      ]
    },
    {
      "cell_type": "markdown",
      "metadata": {
        "id": "ci7GoY9IpWkw"
      },
      "source": [
        "### Indexing layer nodes"
      ]
    },
    {
      "cell_type": "markdown",
      "metadata": {
        "id": "UdpPodfdpWkx"
      },
      "source": [
        "We have applied the same Conv2D layer to an input of shape (128, 128, 3), and then to an input of shape (64, 64, 3), therefore the layer has multiple input/output shapes, for this reason we now have to retrieve them by specifying the index of the node they belong to.\n",
        "\n",
        "To get the inputs/outputs shapes, we now have to use `get_input_shape_at` and `get_output_shape_at` with the correct index:"
      ]
    },
    {
      "cell_type": "code",
      "metadata": {
        "id": "7ZMRTlK9pWky"
      },
      "source": [
        "# Print the input and output shapes for each layer node\n",
        "\n",
        "assert conv.get_input_shape_at(0) == (None, 128, 128, 3)  # Tensor a\n",
        "assert conv.get_input_shape_at(1) == (None, 64, 64, 3)  # Tensor b\n",
        "\n",
        "assert conv.get_output_shape_at(0) == (None, 128, 128, 32)  # Tensor conv_out_a\n",
        "assert conv.get_output_shape_at(1) == (None, 64, 64, 32)  # Tensor conv_out_b"
      ],
      "execution_count": 20,
      "outputs": []
    },
    {
      "cell_type": "markdown",
      "metadata": {
        "id": "4lXDySGWpWkz"
      },
      "source": [
        "Likewise, we use `get_input_at` and `get_output_at` to fetch the inputs/outputs:"
      ]
    },
    {
      "cell_type": "code",
      "metadata": {
        "id": "9BYEIZf3pWk0"
      },
      "source": [
        "assert conv.get_input_at(0).name == a.name\n",
        "assert conv.get_input_at(1).name == b.name\n",
        "\n",
        "assert conv.get_output_at(0).name == conv_out_a.name\n",
        "assert conv.get_output_at(1).name == conv_out_b.name"
      ],
      "execution_count": 21,
      "outputs": []
    },
    {
      "cell_type": "markdown",
      "metadata": {
        "id": "50YeUCR7pWk2"
      },
      "source": [
        "## Further reading and resources \n",
        "* https://keras.io/getting-started/functional-api-guide/#the-concept-of-layer-node"
      ]
    }
  ]
}